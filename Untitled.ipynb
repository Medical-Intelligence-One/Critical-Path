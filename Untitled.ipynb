{
 "cells": [
  {
   "cell_type": "markdown",
   "id": "603d49da-151d-4a92-8f08-8e58abff1b78",
   "metadata": {},
   "source": [
    "# Mockup Version 1\n",
    "\n",
    "- Mock-up the workflow from MIS global summit in an environment like EvidenceCare's Epic App. Due January 1.\n",
    "    - ☑️ List content for our app (Due by Nov 23) TJM\n",
    "    - ☑️ Define the workflow between user, website, and service (Due by Nov 23) TJM & NS workshop session\n",
    "    - Define interface between UI and service (Due by Nov 30) TJM & NS workshop session\n",
    "    - Make a webpage that looks like an Epic screen (Due by Dec 7) TJM\n",
    "    - Flask configuration (due by Nov 30) TJM (Nikesh's static IP: 122:169:102:165)\n",
    "    - Port configuration (due by Dec 7) TJM & NS\n",
    "    - Write & test the code (Due by Dec 23) TJM & NS\n",
    "    - Provide instructions, documentation, supporting information to make it (Due by Dec 23) BED"
   ]
  },
  {
   "cell_type": "code",
   "execution_count": null,
   "id": "6cfb25f0-2aed-4fcc-87a8-b3f147f26c0d",
   "metadata": {},
   "outputs": [],
   "source": []
  }
 ],
 "metadata": {
  "kernelspec": {
   "display_name": "Python 3",
   "language": "python",
   "name": "python3"
  },
  "language_info": {
   "codemirror_mode": {
    "name": "ipython",
    "version": 3
   },
   "file_extension": ".py",
   "mimetype": "text/x-python",
   "name": "python",
   "nbconvert_exporter": "python",
   "pygments_lexer": "ipython3",
   "version": "3.9.4"
  }
 },
 "nbformat": 4,
 "nbformat_minor": 5
}
