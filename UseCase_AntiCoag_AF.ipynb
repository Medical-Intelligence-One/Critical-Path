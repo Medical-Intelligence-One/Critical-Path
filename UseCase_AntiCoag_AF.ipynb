{
 "cells": [
  {
   "cell_type": "markdown",
   "id": "741655a3-1122-4784-8364-92c8c6e36f37",
   "metadata": {},
   "source": [
    "# Use Case: Which patients with Afib to anticoagulate?"
   ]
  },
  {
   "cell_type": "markdown",
   "id": "ea823daf-4798-43d6-8fb4-56493d8cab3d",
   "metadata": {},
   "source": [
    "Potential approaches:\n",
    "- Integrate clinical practice guidelines into the graph with a way to traverse them based on patient data\n",
    "- Train a graph neural network to predict which patients with AF will go on to stroke without anticoagulation\n",
    "- Train a CNN to distinguish EKGs of patients who go on to cardioembolic stroke from EKGs of those who don't\n",
    "- "
   ]
  },
  {
   "cell_type": "code",
   "execution_count": 1,
   "id": "ee7c1f9c-bfd2-4aa3-9447-6f7235181d3d",
   "metadata": {},
   "outputs": [],
   "source": [
    "import pandas as pd\n",
    "from progressbar import ProgressBar\n",
    "import time"
   ]
  },
  {
   "cell_type": "code",
   "execution_count": 2,
   "id": "53c507b7-c9cd-4114-acc6-2cdec3f9a358",
   "metadata": {},
   "outputs": [
    {
     "name": "stdin",
     "output_type": "stream",
     "text": [
      "\n",
      "Please enter the Neo4j database password to continue \n",
      " ···············\n"
     ]
    }
   ],
   "source": [
    "import getpass\n",
    "password = getpass.getpass(\"\\nPlease enter the Neo4j database password to continue \\n\")"
   ]
  },
  {
   "cell_type": "code",
   "execution_count": 3,
   "id": "6eec0f3e-8d63-4a17-811d-e15b30380a85",
   "metadata": {},
   "outputs": [],
   "source": [
    "from neo4j import GraphDatabase\n",
    "driver=GraphDatabase.driver(uri=\"bolt://localhost:7687\", auth=('neo4j',password))\n",
    "session=driver.session()"
   ]
  },
  {
   "cell_type": "code",
   "execution_count": 31,
   "id": "06f8ee82-fd9a-4bbc-a018-60bb72252114",
   "metadata": {},
   "outputs": [
    {
     "data": {
      "text/plain": [
       "<neo4j.work.result.Result at 0x7fb15860be20>"
      ]
     },
     "execution_count": 31,
     "metadata": {},
     "output_type": "execute_result"
    }
   ],
   "source": [
    "# Create a full-text index that can search MIMIC-III ICD9 codes and Problem terms\n",
    "command = '''\n",
    "CREATE FULLTEXT INDEX Dx_in_UMLS_or_ICD9 IF NOT EXISTS\n",
    "FOR (d:D_Icd_Diagnoses|Problem) \n",
    "ON EACH [d.long_title, d.description]'''\n",
    "session.run(query)"
   ]
  },
  {
   "cell_type": "code",
   "execution_count": 4,
   "id": "eba0520a-8f4b-4055-b521-2cfc3d323f1c",
   "metadata": {},
   "outputs": [
    {
     "data": {
      "text/plain": [
       "144"
      ]
     },
     "execution_count": 4,
     "metadata": {},
     "output_type": "execute_result"
    }
   ],
   "source": [
    "# Find all the patients with stroke based on Problems extracted from notes, excluding hemorrhagic strokes\n",
    "query = '''\n",
    "CALL db.index.fulltext.queryNodes(\"Dx_in_UMLS_or_ICD9\", 'stroke NOT hemorrhagic') YIELD node, score\n",
    "WITH COLLECT(DISTINCT(node.aui)) AS nonhemo_stroke_AUIs\n",
    "MATCH (pt:Patients)-[:HAD_PROBLEM]->(prob:Problem)\n",
    "WHERE prob.aui IN nonhemo_stroke_AUIs\n",
    "RETURN COLLECT(DISTINCT(pt.subject_id)) AS nonhemo_stroke_pts\n",
    "'''\n",
    "data = session.run(query)\n",
    "nonhemo_stroke_pts = data.value()[0]\n",
    "len(nonhemo_stroke_pts)"
   ]
  },
  {
   "cell_type": "code",
   "execution_count": 5,
   "id": "a5141db3-c01a-42bc-a6f9-e3ff7cb601de",
   "metadata": {},
   "outputs": [
    {
     "name": "stdout",
     "output_type": "stream",
     "text": [
      "Included Diagnoses:\n",
      "-  Cerebral thrombosis without mention of cerebral infarction\n",
      "-  Cerebral thrombosis with cerebral infarction\n",
      "-  Cerebral embolism without mention of cerebral infarction\n",
      "-  Cerebral embolism with cerebral infarction\n",
      "-  Cerebral artery occlusion, unspecified without mention of cerebral infarction\n",
      "-  Cerebral artery occlusion, unspecified with cerebral infarction\n",
      "Total patients: 1452\n"
     ]
    }
   ],
   "source": [
    "# Find all the patients with stroke based on ICD9 codes starting with 434\n",
    "query = '''\n",
    "MATCH path = (n:D_Icd_Diagnoses)-[:DESCRIBES]->(dx:Diagnoses_Icd)<-[:HAD]-(pt:Patients)\n",
    "WHERE dx.icd9_code STARTS WITH '434'\n",
    "RETURN COLLECT(DISTINCT(pt.subject_id)) as ICD9_CVA_pts, COLLECT(DISTINCT(n.long_title)) AS Diagnoses\n",
    "'''\n",
    "data = session.run(query)\n",
    "Diagnoses = data.value('Diagnoses')[0]\n",
    "print(\"Included Diagnoses:\")\n",
    "for dx in Diagnoses:\n",
    "    print('- ',dx)\n",
    "\n",
    "query = '''\n",
    "MATCH path = (n:D_Icd_Diagnoses)-[:DESCRIBES]->(dx:Diagnoses_Icd)<-[:HAD]-(pt:Patients)\n",
    "WHERE dx.icd9_code STARTS WITH '434'\n",
    "RETURN COLLECT(DISTINCT(pt.subject_id)) as ICD9_CVA_pts, COLLECT(DISTINCT(n.long_title)) AS Diagnoses\n",
    "'''\n",
    "data = session.run(query)\n",
    "ICD9_CVA_pts = data.value('ICD9_CVA_pts')[0]\n",
    "print(\"Total patients:\",len(ICD9_CVA_pts))"
   ]
  },
  {
   "cell_type": "code",
   "execution_count": 6,
   "id": "c91087a0-5224-48af-825f-028a3b02491a",
   "metadata": {},
   "outputs": [
    {
     "name": "stdout",
     "output_type": "stream",
     "text": [
      "1596\n",
      "1525\n"
     ]
    }
   ],
   "source": [
    "# Change the stroke patient lists into sets and combine them\n",
    "all_stroke_pts = nonhemo_stroke_pts + ICD9_CVA_pts\n",
    "print(len(all_stroke_pts))\n",
    "all_stroke_pts =set(all_stroke_pts) # Remove any duplicates\n",
    "print(len(all_stroke_pts))"
   ]
  },
  {
   "cell_type": "code",
   "execution_count": 4,
   "id": "623cc0bf-cefd-4cfa-be87-4a8066c13db3",
   "metadata": {},
   "outputs": [],
   "source": [
    "# Find all the patients who received any anticoagulation\n",
    "query = '''\n",
    "MATCH path = (c1:Concept {aui: 'A12101446'})-[*..4]-(rx:Prescriptions)<-[:HAD]-(pt:Patients)\n",
    "RETURN collect(DISTINCT(pt.subject_id)) AS anticoagulated\n",
    "'''\n",
    "data = session.run(query)\n",
    "anticoagulated = data.value()[0]\n",
    "len(anticoagulated)"
   ]
  },
  {
   "cell_type": "code",
   "execution_count": 7,
   "id": "bfba2550-0f07-462d-88f1-1e63b5d266f2",
   "metadata": {},
   "outputs": [
    {
     "data": {
      "text/plain": [
       "20283"
      ]
     },
     "execution_count": 7,
     "metadata": {},
     "output_type": "execute_result"
    }
   ],
   "source": [
    "len(anticoagulated)"
   ]
  },
  {
   "cell_type": "code",
   "execution_count": 79,
   "id": "ff56cccb-3d67-442e-8d8c-6b70619fa73e",
   "metadata": {},
   "outputs": [
    {
     "name": "stdout",
     "output_type": "stream",
     "text": [
      "10271\n",
      "['1406', '94316', '86763']\n"
     ]
    }
   ],
   "source": [
    "# Find all the patients diagnosed with atrial fibrillation\n",
    "query = '''\n",
    "MATCH (dx_i:D_Icd_Diagnoses {short_title: 'Atrial fibrillation'})-[:DESCRIBES]-(dx:Diagnoses_Icd)<-[:HAD]-(pt:Patients)\n",
    "RETURN collect(DISTINCT(pt.subject_id))\n",
    "'''\n",
    "data = session.run(query)\n",
    "afib_pts = data.value()[0]\n",
    "print(len(afib_pts))\n",
    "print(afib_pts[:3])"
   ]
  },
  {
   "cell_type": "code",
   "execution_count": 78,
   "id": "4d589a8f-604c-4cf0-9665-a1c9224adc8b",
   "metadata": {},
   "outputs": [
    {
     "name": "stdout",
     "output_type": "stream",
     "text": [
      "7448\n"
     ]
    }
   ],
   "source": [
    "# Find all the patients with an ECG reporting atrial fibrillation\n",
    "query = '''\n",
    "MATCH (pt:Patients)-[:HAD]->(n:Noteevents {category:'ECG'})\n",
    "WHERE n.text CONTAINS \"trial fib\"\n",
    "RETURN COLLECT(DISTINCT(pt.subject_id)) AS afib_pts_by_ECG\n",
    "'''\n",
    "data = session.run(query)\n",
    "afib_pts_by_ECG = data.value()[0]\n",
    "print(len(afib_pts_by_ECG))"
   ]
  },
  {
   "cell_type": "code",
   "execution_count": 80,
   "id": "ca0c4f03-2509-403d-be61-45ad638db341",
   "metadata": {},
   "outputs": [
    {
     "data": {
      "text/plain": [
       "1147"
      ]
     },
     "execution_count": 80,
     "metadata": {},
     "output_type": "execute_result"
    }
   ],
   "source": [
    "# Find patients with ECG reporting atrial fibrillation but no ICD diagnosis\n",
    "AF_but_no_ICD = set(afib_pts_by_ECG) - set(afib_pts)\n",
    "len(AF_but_no_ICD)"
   ]
  },
  {
   "cell_type": "code",
   "execution_count": null,
   "id": "f83c005d-b3b0-4302-94bc-637cacfe593b",
   "metadata": {},
   "outputs": [],
   "source": [
    "# Find all the patients with thromboembolic stroke\n",
    "query = '''\n",
    "MATCH (dx_i:D_Icd_Diagnoses {short_title: 'Atrial fibrillation'})-[:DESCRIBES]-(dx:Diagnoses_Icd)<-[:HAD]-(pt:Patients)\n",
    "RETURN collect(DISTINCT(pt.subject_id))\n",
    "'''\n",
    "data = session.run(query)\n",
    "afib_pts = data.value()[0]\n",
    "print(len(afib_pts))\n",
    "print(afib_pts[:3])"
   ]
  },
  {
   "cell_type": "code",
   "execution_count": 73,
   "id": "a860d74e-e199-4aa5-a998-c752a534ece3",
   "metadata": {},
   "outputs": [
    {
     "name": "stdout",
     "output_type": "stream",
     "text": [
      "Total number of patients with Afib: 10271\n",
      "Total number of patients with stroke: 1525\n",
      "Total number of patients who were anticoagulated: 20283\n",
      "Count of patients with Afib who are NOT anticoagulated: 3415\n",
      "Count of patients with Afib who ARE anticoagulated: 6856\n",
      "Count of patients with Afib who did NOT have stroke: 9625\n",
      "Count of patients with Afib who DID have stroke: 646\n",
      "Count of patients with Afib and anticoagulation who did NOT have stroke: 6362\n",
      "Count of patients with Afib and anticoagulation who DID have stroke: 494\n",
      "Count of patients with Afib and NO anticoagulation who did NOT have stroke: 3263\n",
      "Count of patients with Afib and NO anticoagulation who DID have stroke: 152\n"
     ]
    }
   ],
   "source": [
    "# Print initial counts\n",
    "print('Total number of patients with Afib:', len(afib_pts))\n",
    "print('Total number of patients with stroke:', len(all_stroke_pts))\n",
    "print('Total number of patients who were anticoagulated:', len(anticoagulated))\n",
    "\n",
    "# Find all the patients with Afib who did not receive anticoagulation\n",
    "anticoagulated = set(anticoagulated)\n",
    "afib_pts = set(afib_pts)\n",
    "AF_no_AC = afib_pts - anticoagulated\n",
    "print('Count of patients with Afib who are NOT anticoagulated:',len(AF_no_AC))\n",
    "\n",
    "# Find all the patients with Afib who received anticoagulation\n",
    "AF_with_AC = afib_pts - AF_no_AC\n",
    "print('Count of patients with Afib who ARE anticoagulated:',len(AF_with_AC))\n",
    "\n",
    "# Find all patients with Afib who did not have stroke\n",
    "AF_no_stroke = afib_pts - all_stroke_pts\n",
    "print('Count of patients with Afib who did NOT have stroke:', len(AF_no_stroke))\n",
    "\n",
    "# Find all patients with Afib who DID have stroke\n",
    "AF_with_stroke = afib_pts - AF_no_stroke\n",
    "print('Count of patients with Afib who DID have stroke:', len(AF_with_stroke))\n",
    "\n",
    "# Find all the patients with Afib and anticoagulation who did NOT have stroke\n",
    "AF_AC_no_stroke = AF_with_AC - all_stroke_pts\n",
    "print('Count of patients with Afib and anticoagulation who did NOT have stroke:', len(AF_AC_no_stroke))\n",
    "\n",
    "# Find all the patients with Afib and anticoagulation who DID have stroke\n",
    "AF_AC_with_stroke = AF_with_AC - AF_AC_no_stroke\n",
    "print('Count of patients with Afib and anticoagulation who DID have stroke:', len(AF_AC_with_stroke))\n",
    "\n",
    "# Find all the patients with Afib and NO anticoagulation who did NOT have stroke\n",
    "AF_no_AC_no_stroke = AF_no_AC - all_stroke_pts\n",
    "print('Count of patients with Afib and NO anticoagulation who did NOT have stroke:', len(AF_no_AC_no_stroke))\n",
    "\n",
    "# Find all the patients with Afib and NO anticoagulation who DID have stroke\n",
    "AF_no_AC_with_stroke = AF_no_AC - AF_no_AC_no_stroke\n",
    "print('Count of patients with Afib and NO anticoagulation who DID have stroke:', len(AF_no_AC_with_stroke))"
   ]
  },
  {
   "cell_type": "code",
   "execution_count": 75,
   "id": "7a25fcb3-0d4e-4017-888d-4f6f3e599463",
   "metadata": {},
   "outputs": [],
   "source": [
    "# Change groups of patient IDs from set to list types\n",
    "AF_no_AC = list(AF_no_AC)\n",
    "AF_with_AC = list(AF_with_AC)\n",
    "afib_pts = list(afib_pts)\n",
    "all_stroke_pts = list(all_stroke_pts)\n",
    "AF_no_stroke = list(AF_no_stroke)\n",
    "AF_with_stroke = list(AF_with_stroke)\n",
    "AF_AC_no_stroke = list(AF_AC_no_stroke)\n",
    "AF_AC_with_stroke = list(AF_AC_with_stroke)\n",
    "AF_no_AC_no_stroke = list(AF_no_AC_no_stroke)\n",
    "AF_no_AC_with_stroke = list(AF_no_AC_with_stroke)"
   ]
  },
  {
   "cell_type": "code",
   "execution_count": 76,
   "id": "0357e8a0-9021-41fd-8a41-f8c80122dec6",
   "metadata": {},
   "outputs": [
    {
     "data": {
      "text/plain": [
       "['3522', '68245', '30902']"
      ]
     },
     "execution_count": 76,
     "metadata": {},
     "output_type": "execute_result"
    }
   ],
   "source": [
    "AF_no_AC_with_stroke[:3]"
   ]
  },
  {
   "cell_type": "code",
   "execution_count": 8,
   "id": "69a78701-9e57-4ab3-a669-f10f609f655b",
   "metadata": {},
   "outputs": [
    {
     "data": {
      "text/plain": [
       "<neo4j.work.result.Result at 0x7fb15d91f670>"
      ]
     },
     "execution_count": 8,
     "metadata": {},
     "output_type": "execute_result"
    }
   ],
   "source": [
    "query = '''CREATE INDEX Diagnoses_Icd_subject_ID FOR (d:Diagnoses_Icd) ON (d.subject_id)'''\n",
    "session.run(query)"
   ]
  },
  {
   "cell_type": "code",
   "execution_count": 27,
   "id": "2462fc2a-fbcf-4a37-be77-a698ea939b6c",
   "metadata": {},
   "outputs": [
    {
     "data": {
      "text/html": [
       "<div>\n",
       "<style scoped>\n",
       "    .dataframe tbody tr th:only-of-type {\n",
       "        vertical-align: middle;\n",
       "    }\n",
       "\n",
       "    .dataframe tbody tr th {\n",
       "        vertical-align: top;\n",
       "    }\n",
       "\n",
       "    .dataframe thead th {\n",
       "        text-align: right;\n",
       "    }\n",
       "</style>\n",
       "<table border=\"1\" class=\"dataframe\">\n",
       "  <thead>\n",
       "    <tr style=\"text-align: right;\">\n",
       "      <th></th>\n",
       "      <th>Description</th>\n",
       "      <th>ICD9_Code</th>\n",
       "      <th>Number</th>\n",
       "    </tr>\n",
       "  </thead>\n",
       "  <tbody>\n",
       "    <tr>\n",
       "      <th>0</th>\n",
       "      <td>Atrial fibrillation</td>\n",
       "      <td>42731</td>\n",
       "      <td>12891</td>\n",
       "    </tr>\n",
       "    <tr>\n",
       "      <th>1</th>\n",
       "      <td>Unspecified essential hypertension</td>\n",
       "      <td>4019</td>\n",
       "      <td>6591</td>\n",
       "    </tr>\n",
       "    <tr>\n",
       "      <th>2</th>\n",
       "      <td>Congestive heart failure, unspecified</td>\n",
       "      <td>4280</td>\n",
       "      <td>6568</td>\n",
       "    </tr>\n",
       "    <tr>\n",
       "      <th>3</th>\n",
       "      <td>Coronary atherosclerosis of native coronary ar...</td>\n",
       "      <td>41401</td>\n",
       "      <td>4897</td>\n",
       "    </tr>\n",
       "    <tr>\n",
       "      <th>4</th>\n",
       "      <td>Acute kidney failure, unspecified</td>\n",
       "      <td>5849</td>\n",
       "      <td>3390</td>\n",
       "    </tr>\n",
       "    <tr>\n",
       "      <th>...</th>\n",
       "      <td>...</td>\n",
       "      <td>...</td>\n",
       "      <td>...</td>\n",
       "    </tr>\n",
       "    <tr>\n",
       "      <th>3898</th>\n",
       "      <td>Antimalarials and drugs acting on other blood ...</td>\n",
       "      <td>E9314</td>\n",
       "      <td>1</td>\n",
       "    </tr>\n",
       "    <tr>\n",
       "      <th>3899</th>\n",
       "      <td>Ectropion, unspecified</td>\n",
       "      <td>37410</td>\n",
       "      <td>1</td>\n",
       "    </tr>\n",
       "    <tr>\n",
       "      <th>3900</th>\n",
       "      <td>Striking against or struck accidentally by obj...</td>\n",
       "      <td>E9170</td>\n",
       "      <td>1</td>\n",
       "    </tr>\n",
       "    <tr>\n",
       "      <th>3901</th>\n",
       "      <td>Mechanical failure of instrument or apparatus ...</td>\n",
       "      <td>E8742</td>\n",
       "      <td>1</td>\n",
       "    </tr>\n",
       "    <tr>\n",
       "      <th>3902</th>\n",
       "      <td>Hemarthrosis, lower leg</td>\n",
       "      <td>71916</td>\n",
       "      <td>1</td>\n",
       "    </tr>\n",
       "  </tbody>\n",
       "</table>\n",
       "<p>3903 rows × 3 columns</p>\n",
       "</div>"
      ],
      "text/plain": [
       "                                            Description ICD9_Code  Number\n",
       "0                                   Atrial fibrillation     42731   12891\n",
       "1                    Unspecified essential hypertension      4019    6591\n",
       "2                 Congestive heart failure, unspecified      4280    6568\n",
       "3     Coronary atherosclerosis of native coronary ar...     41401    4897\n",
       "4                     Acute kidney failure, unspecified      5849    3390\n",
       "...                                                 ...       ...     ...\n",
       "3898  Antimalarials and drugs acting on other blood ...     E9314       1\n",
       "3899                             Ectropion, unspecified     37410       1\n",
       "3900  Striking against or struck accidentally by obj...     E9170       1\n",
       "3901  Mechanical failure of instrument or apparatus ...     E8742       1\n",
       "3902                            Hemarthrosis, lower leg     71916       1\n",
       "\n",
       "[3903 rows x 3 columns]"
      ]
     },
     "execution_count": 27,
     "metadata": {},
     "output_type": "execute_result"
    }
   ],
   "source": [
    "# Get counts of all comorbidities for all patients with Afib\n",
    "query = '''\n",
    "MATCH (D_dx:D_Icd_Diagnoses)-[:DESCRIBES]->(dx:Diagnoses_Icd)\n",
    "WHERE dx.subject_id in {afib_pts}\n",
    "RETURN D_dx.long_title AS Description, dx.icd9_code AS ICD9_Code, count(dx) as Number\n",
    "ORDER BY Number DESC\n",
    "'''.format(afib_pts=afib_pts)\n",
    "afib_pts_df = session.run(query)\n",
    "afib_pts_df = pd.DataFrame([dict(record) for record in afib_pts_df])\n",
    "afib_pts_df"
   ]
  },
  {
   "cell_type": "code",
   "execution_count": 28,
   "id": "ddc42102-bf40-4bcf-9b58-7989afeb2d72",
   "metadata": {},
   "outputs": [
    {
     "data": {
      "text/html": [
       "<div>\n",
       "<style scoped>\n",
       "    .dataframe tbody tr th:only-of-type {\n",
       "        vertical-align: middle;\n",
       "    }\n",
       "\n",
       "    .dataframe tbody tr th {\n",
       "        vertical-align: top;\n",
       "    }\n",
       "\n",
       "    .dataframe thead th {\n",
       "        text-align: right;\n",
       "    }\n",
       "</style>\n",
       "<table border=\"1\" class=\"dataframe\">\n",
       "  <thead>\n",
       "    <tr style=\"text-align: right;\">\n",
       "      <th></th>\n",
       "      <th>Description</th>\n",
       "      <th>ICD9_Code</th>\n",
       "      <th>Number</th>\n",
       "    </tr>\n",
       "  </thead>\n",
       "  <tbody>\n",
       "    <tr>\n",
       "      <th>0</th>\n",
       "      <td>Atrial fibrillation</td>\n",
       "      <td>42731</td>\n",
       "      <td>9123</td>\n",
       "    </tr>\n",
       "    <tr>\n",
       "      <th>1</th>\n",
       "      <td>Congestive heart failure, unspecified</td>\n",
       "      <td>4280</td>\n",
       "      <td>5043</td>\n",
       "    </tr>\n",
       "    <tr>\n",
       "      <th>2</th>\n",
       "      <td>Unspecified essential hypertension</td>\n",
       "      <td>4019</td>\n",
       "      <td>4693</td>\n",
       "    </tr>\n",
       "    <tr>\n",
       "      <th>3</th>\n",
       "      <td>Coronary atherosclerosis of native coronary ar...</td>\n",
       "      <td>41401</td>\n",
       "      <td>3619</td>\n",
       "    </tr>\n",
       "    <tr>\n",
       "      <th>4</th>\n",
       "      <td>Other and unspecified hyperlipidemia</td>\n",
       "      <td>2724</td>\n",
       "      <td>2705</td>\n",
       "    </tr>\n",
       "    <tr>\n",
       "      <th>...</th>\n",
       "      <td>...</td>\n",
       "      <td>...</td>\n",
       "      <td>...</td>\n",
       "    </tr>\n",
       "    <tr>\n",
       "      <th>3597</th>\n",
       "      <td>Open wound of tongue and floor of mouth, witho...</td>\n",
       "      <td>87364</td>\n",
       "      <td>1</td>\n",
       "    </tr>\n",
       "    <tr>\n",
       "      <th>3598</th>\n",
       "      <td>Vascular disorders of penis</td>\n",
       "      <td>60782</td>\n",
       "      <td>1</td>\n",
       "    </tr>\n",
       "    <tr>\n",
       "      <th>3599</th>\n",
       "      <td>Other complications due to unspecified device,...</td>\n",
       "      <td>99670</td>\n",
       "      <td>1</td>\n",
       "    </tr>\n",
       "    <tr>\n",
       "      <th>3600</th>\n",
       "      <td>Need for prophylactic vaccination and inoculat...</td>\n",
       "      <td>V066</td>\n",
       "      <td>1</td>\n",
       "    </tr>\n",
       "    <tr>\n",
       "      <th>3601</th>\n",
       "      <td>Family history of other blood disorders</td>\n",
       "      <td>V183</td>\n",
       "      <td>1</td>\n",
       "    </tr>\n",
       "  </tbody>\n",
       "</table>\n",
       "<p>3602 rows × 3 columns</p>\n",
       "</div>"
      ],
      "text/plain": [
       "                                            Description ICD9_Code  Number\n",
       "0                                   Atrial fibrillation     42731    9123\n",
       "1                 Congestive heart failure, unspecified      4280    5043\n",
       "2                    Unspecified essential hypertension      4019    4693\n",
       "3     Coronary atherosclerosis of native coronary ar...     41401    3619\n",
       "4                  Other and unspecified hyperlipidemia      2724    2705\n",
       "...                                                 ...       ...     ...\n",
       "3597  Open wound of tongue and floor of mouth, witho...     87364       1\n",
       "3598                        Vascular disorders of penis     60782       1\n",
       "3599  Other complications due to unspecified device,...     99670       1\n",
       "3600  Need for prophylactic vaccination and inoculat...      V066       1\n",
       "3601            Family history of other blood disorders      V183       1\n",
       "\n",
       "[3602 rows x 3 columns]"
      ]
     },
     "execution_count": 28,
     "metadata": {},
     "output_type": "execute_result"
    }
   ],
   "source": [
    "# Get counts of all comorbidities for patients with Afib who ARE anticoagulated\n",
    "query = '''\n",
    "MATCH (D_dx:D_Icd_Diagnoses)-[:DESCRIBES]->(dx:Diagnoses_Icd)\n",
    "WHERE dx.subject_id in {AF_with_AC}\n",
    "RETURN D_dx.long_title AS Description, dx.icd9_code AS ICD9_Code, count(dx) as Number\n",
    "ORDER BY Number DESC\n",
    "'''.format(AF_with_AC=AF_with_AC)\n",
    "AF_with_AC_df = session.run(query)\n",
    "AF_with_AC_df = pd.DataFrame([dict(record) for record in AF_with_AC_df])\n",
    "AF_with_AC_df"
   ]
  },
  {
   "cell_type": "code",
   "execution_count": 29,
   "id": "a624071b-2557-4a3c-9123-44881df6733a",
   "metadata": {},
   "outputs": [
    {
     "data": {
      "text/html": [
       "<div>\n",
       "<style scoped>\n",
       "    .dataframe tbody tr th:only-of-type {\n",
       "        vertical-align: middle;\n",
       "    }\n",
       "\n",
       "    .dataframe tbody tr th {\n",
       "        vertical-align: top;\n",
       "    }\n",
       "\n",
       "    .dataframe thead th {\n",
       "        text-align: right;\n",
       "    }\n",
       "</style>\n",
       "<table border=\"1\" class=\"dataframe\">\n",
       "  <thead>\n",
       "    <tr style=\"text-align: right;\">\n",
       "      <th></th>\n",
       "      <th>Description</th>\n",
       "      <th>ICD9_Code</th>\n",
       "      <th>Number</th>\n",
       "    </tr>\n",
       "  </thead>\n",
       "  <tbody>\n",
       "    <tr>\n",
       "      <th>0</th>\n",
       "      <td>Atrial fibrillation</td>\n",
       "      <td>42731</td>\n",
       "      <td>9123</td>\n",
       "    </tr>\n",
       "    <tr>\n",
       "      <th>1</th>\n",
       "      <td>Congestive heart failure, unspecified</td>\n",
       "      <td>4280</td>\n",
       "      <td>5043</td>\n",
       "    </tr>\n",
       "    <tr>\n",
       "      <th>2</th>\n",
       "      <td>Unspecified essential hypertension</td>\n",
       "      <td>4019</td>\n",
       "      <td>4693</td>\n",
       "    </tr>\n",
       "    <tr>\n",
       "      <th>3</th>\n",
       "      <td>Coronary atherosclerosis of native coronary ar...</td>\n",
       "      <td>41401</td>\n",
       "      <td>3619</td>\n",
       "    </tr>\n",
       "    <tr>\n",
       "      <th>4</th>\n",
       "      <td>Other and unspecified hyperlipidemia</td>\n",
       "      <td>2724</td>\n",
       "      <td>2705</td>\n",
       "    </tr>\n",
       "    <tr>\n",
       "      <th>...</th>\n",
       "      <td>...</td>\n",
       "      <td>...</td>\n",
       "      <td>...</td>\n",
       "    </tr>\n",
       "    <tr>\n",
       "      <th>3597</th>\n",
       "      <td>Open wound of tongue and floor of mouth, witho...</td>\n",
       "      <td>87364</td>\n",
       "      <td>1</td>\n",
       "    </tr>\n",
       "    <tr>\n",
       "      <th>3598</th>\n",
       "      <td>Vascular disorders of penis</td>\n",
       "      <td>60782</td>\n",
       "      <td>1</td>\n",
       "    </tr>\n",
       "    <tr>\n",
       "      <th>3599</th>\n",
       "      <td>Other complications due to unspecified device,...</td>\n",
       "      <td>99670</td>\n",
       "      <td>1</td>\n",
       "    </tr>\n",
       "    <tr>\n",
       "      <th>3600</th>\n",
       "      <td>Need for prophylactic vaccination and inoculat...</td>\n",
       "      <td>V066</td>\n",
       "      <td>1</td>\n",
       "    </tr>\n",
       "    <tr>\n",
       "      <th>3601</th>\n",
       "      <td>Family history of other blood disorders</td>\n",
       "      <td>V183</td>\n",
       "      <td>1</td>\n",
       "    </tr>\n",
       "  </tbody>\n",
       "</table>\n",
       "<p>3602 rows × 3 columns</p>\n",
       "</div>"
      ],
      "text/plain": [
       "                                            Description ICD9_Code  Number\n",
       "0                                   Atrial fibrillation     42731    9123\n",
       "1                 Congestive heart failure, unspecified      4280    5043\n",
       "2                    Unspecified essential hypertension      4019    4693\n",
       "3     Coronary atherosclerosis of native coronary ar...     41401    3619\n",
       "4                  Other and unspecified hyperlipidemia      2724    2705\n",
       "...                                                 ...       ...     ...\n",
       "3597  Open wound of tongue and floor of mouth, witho...     87364       1\n",
       "3598                        Vascular disorders of penis     60782       1\n",
       "3599  Other complications due to unspecified device,...     99670       1\n",
       "3600  Need for prophylactic vaccination and inoculat...      V066       1\n",
       "3601            Family history of other blood disorders      V183       1\n",
       "\n",
       "[3602 rows x 3 columns]"
      ]
     },
     "execution_count": 29,
     "metadata": {},
     "output_type": "execute_result"
    }
   ],
   "source": [
    "# Get all patients with thromboembolic stroke\n"
   ]
  },
  {
   "cell_type": "code",
   "execution_count": 30,
   "id": "00940f51-9999-4d84-bdce-7329e67c2935",
   "metadata": {},
   "outputs": [
    {
     "data": {
      "text/html": [
       "<div>\n",
       "<style scoped>\n",
       "    .dataframe tbody tr th:only-of-type {\n",
       "        vertical-align: middle;\n",
       "    }\n",
       "\n",
       "    .dataframe tbody tr th {\n",
       "        vertical-align: top;\n",
       "    }\n",
       "\n",
       "    .dataframe thead th {\n",
       "        text-align: right;\n",
       "    }\n",
       "</style>\n",
       "<table border=\"1\" class=\"dataframe\">\n",
       "  <thead>\n",
       "    <tr style=\"text-align: right;\">\n",
       "      <th></th>\n",
       "      <th>Description</th>\n",
       "      <th>Odds_Ratio</th>\n",
       "    </tr>\n",
       "  </thead>\n",
       "  <tbody>\n",
       "    <tr>\n",
       "      <th>152</th>\n",
       "      <td>Ventilator associated pneumonia</td>\n",
       "      <td>1.254416</td>\n",
       "    </tr>\n",
       "    <tr>\n",
       "      <th>126</th>\n",
       "      <td>Renal dialysis status</td>\n",
       "      <td>1.249336</td>\n",
       "    </tr>\n",
       "    <tr>\n",
       "      <th>323</th>\n",
       "      <td>Other and unspecified Escherichia coli [E. coli]</td>\n",
       "      <td>1.247693</td>\n",
       "    </tr>\n",
       "    <tr>\n",
       "      <th>358</th>\n",
       "      <td>Personal history of Methicillin resistant Stap...</td>\n",
       "      <td>1.243835</td>\n",
       "    </tr>\n",
       "    <tr>\n",
       "      <th>385</th>\n",
       "      <td>Other acquired absence of organ</td>\n",
       "      <td>1.239643</td>\n",
       "    </tr>\n",
       "    <tr>\n",
       "      <th>384</th>\n",
       "      <td>Acquired absence of intestine (large) (small)</td>\n",
       "      <td>1.239643</td>\n",
       "    </tr>\n",
       "    <tr>\n",
       "      <th>411</th>\n",
       "      <td>Other specified forms of effusion, except tube...</td>\n",
       "      <td>1.236019</td>\n",
       "    </tr>\n",
       "    <tr>\n",
       "      <th>300</th>\n",
       "      <td>Acute edema of lung, unspecified</td>\n",
       "      <td>1.235754</td>\n",
       "    </tr>\n",
       "    <tr>\n",
       "      <th>427</th>\n",
       "      <td>Personal history of pulmonary embolism</td>\n",
       "      <td>1.234384</td>\n",
       "    </tr>\n",
       "    <tr>\n",
       "      <th>432</th>\n",
       "      <td>Chronic kidney disease, Stage II (mild)</td>\n",
       "      <td>1.233522</td>\n",
       "    </tr>\n",
       "    <tr>\n",
       "      <th>442</th>\n",
       "      <td>Pressure ulcer, unstageable</td>\n",
       "      <td>1.233522</td>\n",
       "    </tr>\n",
       "    <tr>\n",
       "      <th>148</th>\n",
       "      <td>Dysphagia, unspecified</td>\n",
       "      <td>1.229981</td>\n",
       "    </tr>\n",
       "    <tr>\n",
       "      <th>357</th>\n",
       "      <td>Pressure ulcer, stage III</td>\n",
       "      <td>1.226066</td>\n",
       "    </tr>\n",
       "    <tr>\n",
       "      <th>283</th>\n",
       "      <td>Methicillin resistant Staphylococcus aureus in...</td>\n",
       "      <td>1.224659</td>\n",
       "    </tr>\n",
       "    <tr>\n",
       "      <th>371</th>\n",
       "      <td>Acute respiratory failure following trauma and...</td>\n",
       "      <td>1.224452</td>\n",
       "    </tr>\n",
       "    <tr>\n",
       "      <th>378</th>\n",
       "      <td>Glucocorticoid deficiency</td>\n",
       "      <td>1.222739</td>\n",
       "    </tr>\n",
       "    <tr>\n",
       "      <th>155</th>\n",
       "      <td>Pressure ulcer, stage II</td>\n",
       "      <td>1.215609</td>\n",
       "    </tr>\n",
       "    <tr>\n",
       "      <th>150</th>\n",
       "      <td>Acute on chronic combined systolic and diastol...</td>\n",
       "      <td>1.211893</td>\n",
       "    </tr>\n",
       "    <tr>\n",
       "      <th>346</th>\n",
       "      <td>Dementia, unspecified, without behavioral dist...</td>\n",
       "      <td>1.211723</td>\n",
       "    </tr>\n",
       "    <tr>\n",
       "      <th>433</th>\n",
       "      <td>Carrier or suspected carrier of Methicillin re...</td>\n",
       "      <td>1.211094</td>\n",
       "    </tr>\n",
       "  </tbody>\n",
       "</table>\n",
       "</div>"
      ],
      "text/plain": [
       "                                           Description  Odds_Ratio\n",
       "152                    Ventilator associated pneumonia    1.254416\n",
       "126                              Renal dialysis status    1.249336\n",
       "323   Other and unspecified Escherichia coli [E. coli]    1.247693\n",
       "358  Personal history of Methicillin resistant Stap...    1.243835\n",
       "385                    Other acquired absence of organ    1.239643\n",
       "384      Acquired absence of intestine (large) (small)    1.239643\n",
       "411  Other specified forms of effusion, except tube...    1.236019\n",
       "300                   Acute edema of lung, unspecified    1.235754\n",
       "427             Personal history of pulmonary embolism    1.234384\n",
       "432            Chronic kidney disease, Stage II (mild)    1.233522\n",
       "442                        Pressure ulcer, unstageable    1.233522\n",
       "148                             Dysphagia, unspecified    1.229981\n",
       "357                          Pressure ulcer, stage III    1.226066\n",
       "283  Methicillin resistant Staphylococcus aureus in...    1.224659\n",
       "371  Acute respiratory failure following trauma and...    1.224452\n",
       "378                          Glucocorticoid deficiency    1.222739\n",
       "155                           Pressure ulcer, stage II    1.215609\n",
       "150  Acute on chronic combined systolic and diastol...    1.211893\n",
       "346  Dementia, unspecified, without behavioral dist...    1.211723\n",
       "433  Carrier or suspected carrier of Methicillin re...    1.211094"
      ]
     },
     "execution_count": 30,
     "metadata": {},
     "output_type": "execute_result"
    }
   ],
   "source": [
    "gen_pop_total = sum(afib_pts_df['Number'])\n",
    "afib_pts_df['Gen_pop_proportion'] = afib_pts_df['Number']/gen_pop_total\n",
    "\n",
    "afib_pts_df = afib_pts_df[afib_pts_df['Number'] > 50]\n",
    "\n",
    "comorb_total = sum(AF_with_AC_df['Number'])\n",
    "AF_with_AC_df['Comorbidities_proportion'] = AF_with_AC_df['Number']/comorb_total\n",
    "\n",
    "AF_with_AC_df = AF_with_AC_df[AF_with_AC_df['Number'] > 50]\n",
    "\n",
    "# Merge the \"Gen_pop_proportion\" column from afib_pts_df into AF_with_AC_df\n",
    "AF_with_AC_df = pd.merge(AF_with_AC_df, afib_pts_df, on=['ICD9_Code', 'Description'])\n",
    "\n",
    "AF_with_AC_df['Odds_Ratio'] = (AF_with_AC_df['Comorbidities_proportion']/AF_with_AC_df['Gen_pop_proportion'])\n",
    "AF_with_AC_df.sort_values(by='Odds_Ratio', ascending=False, inplace=True)\n",
    "\n",
    "AF_with_AC_df.loc[:,['Description', 'Odds_Ratio']].head(20)"
   ]
  },
  {
   "cell_type": "markdown",
   "id": "2f9ef368-2292-4a56-8ec2-8b480acedc6e",
   "metadata": {},
   "source": [
    "## Get the relevant literature"
   ]
  },
  {
   "cell_type": "code",
   "execution_count": 49,
   "id": "0df01746-61f2-4e96-a821-bb0ca417b512",
   "metadata": {},
   "outputs": [],
   "source": [
    "from progressbar import ProgressBar\n",
    "import requests\n",
    "from bs4 import BeautifulSoup\n",
    "import json\n",
    "import re\n",
    "import urllib.parse\n",
    "import pandas as pd\n",
    "import time\n",
    "from datetime import datetime\n",
    "import requests"
   ]
  },
  {
   "cell_type": "code",
   "execution_count": 2,
   "id": "eab0795c-6379-4e73-8cd6-209372feeea0",
   "metadata": {},
   "outputs": [],
   "source": [
    "# Define a function that takes a term, searches PubMed for that term, and returns a list of the \n",
    "# PMIDs of the articles found\n",
    "def find_pmid_list_for(term, max_result_count=1000):\n",
    "    esearch_query_url = 'https://eutils.ncbi.nlm.nih.gov/entrez/eutils/esearch.fcgi?db=pubmed&retmax={retmax}&term={term}'.format(retmax=max_result_count, term=term)\n",
    "    response = requests.get(esearch_query_url)\n",
    "    content = response.content\n",
    "    soup = BeautifulSoup(content, 'html.parser')\n",
    "    try:\n",
    "        ids_str = soup.idlist.get_text()\n",
    "        ids_str = ids_str.replace('\\n',',')\n",
    "        ids_str = ids_str[1:-1] \n",
    "        ids_str = ids_str.split(',')\n",
    "        return ids_str\n",
    "    \n",
    "    except:\n",
    "        return []"
   ]
  },
  {
   "cell_type": "code",
   "execution_count": 3,
   "id": "0138f29f-946e-41de-be3e-540808fae71a",
   "metadata": {},
   "outputs": [],
   "source": [
    "# Identify search terms of interest\n",
    "pubmed_query_list = ['atrial fibrillation', 'ischemic stroke', 'cardioembolic stroke', 'anticoagulation', 'anticoagulant', 'bleeding risk', 'hemorrhage', 'cardioversion','cha2ds2-vasc','stroke risk','rhythm control','rate control']"
   ]
  },
  {
   "cell_type": "code",
   "execution_count": 96,
   "id": "a952ec06-434c-474f-9fce-20dc7b61b20c",
   "metadata": {},
   "outputs": [
    {
     "name": "stderr",
     "output_type": "stream",
     "text": [
      "100% |########################################################################|\r"
     ]
    },
    {
     "name": "stdout",
     "output_type": "stream",
     "text": [
      "Number of items in list:  9755\n"
     ]
    },
    {
     "name": "stderr",
     "output_type": "stream",
     "text": [
      "\n"
     ]
    },
    {
     "data": {
      "text/plain": [
       "['33833839', '34063361', '33549807']"
      ]
     },
     "execution_count": 96,
     "metadata": {},
     "output_type": "execute_result"
    }
   ],
   "source": [
    "# Perform a pubmed search for each term that returns at most 1000 articles per query and add them to a set of PMIDs\n",
    "PMIDs_list = set()\n",
    "pbar = ProgressBar()\n",
    "for term in pbar(pubmed_query_list):\n",
    "    PMIDs_list.update(find_pmid_list_for(term, max_result_count=1000))\n",
    "print(\"Number of items in list: \",len(PMIDs_list))\n",
    "\n",
    "PMIDs_list = list(PMIDs_list) # change pmid_list from a set to a list\n",
    "PMIDs_list = PMIDs_list[1:] # remove the item in the list, which is blank\n",
    "PMIDs_list[:3] # check to be sure the blank item was removed properly"
   ]
  },
  {
   "cell_type": "code",
   "execution_count": 94,
   "id": "6fce314f-3513-41be-96ef-5e89640339ab",
   "metadata": {},
   "outputs": [],
   "source": [
    "# Fetch a batch of articles\n",
    "def get_articles(PMID_batch):\n",
    "    url = 'https://eutils.ncbi.nlm.nih.gov/entrez/eutils/efetch.fcgi?db=pubmed&id={PMID_batch}&retmode=xml&rettype=abstract'\n",
    "    url = url.format(PMID_batch=PMID_batch)\n",
    "    response = requests.get(url)\n",
    "    content = response.content\n",
    "    soup = BeautifulSoup(content, 'html.parser')\n",
    "    return soup\n",
    "\n",
    "def causality_search(pmid):\n",
    "    \n",
    "    regex_cause = r\"([^.\\n]*?[^-]caus*[^.]*\\.[^0-9])\"\n",
    "    regex_due = r\"([^.\\n]*?[^-]due to[^.]*\\.[^0-9])\"\n",
    "    regex_result = r\"([^.\\n]*?[^-]result*[^.]*\\.[^0-9])\"\n",
    "    \n",
    "    sentence_list = []\n",
    "    \n",
    "    article = soup.find(text=pmid)\n",
    "    try:\n",
    "        title = article.findNext('articletitle').get_text()\n",
    "    except:\n",
    "        title = \"\"\n",
    "    try:\n",
    "        abstract = article.findNext('abstracttext').get_text()\n",
    "    except:\n",
    "        abstract = \"\"\n",
    "    if len(title+abstract) == 0:\n",
    "        pass\n",
    "    else:\n",
    "        title_abstract = title.upper()+' '+abstract\n",
    "        sentence_list+=re.findall(regex_cause, title_abstract)\n",
    "        sentence_list+=re.findall(regex_due, title_abstract)\n",
    "        sentence_list+=re.findall(regex_result, title_abstract)\n",
    "    if type(sentence_list) == None:\n",
    "        pass\n",
    "    elif len(sentence_list) == 0:\n",
    "        pass\n",
    "    else:\n",
    "        data = ['causes', pmid, sentence_list, title_abstract]\n",
    "        return data"
   ]
  },
  {
   "cell_type": "code",
   "execution_count": 97,
   "id": "7e627c68-3aaa-443f-a3f2-56e80e5ea2cc",
   "metadata": {},
   "outputs": [
    {
     "name": "stdout",
     "output_type": "stream",
     "text": [
      "<class 'pandas.core.frame.DataFrame'>\n",
      "RangeIndex: 2646 entries, 0 to 2645\n",
      "Data columns (total 4 columns):\n",
      " #   Column             Non-Null Count  Dtype \n",
      "---  ------             --------------  ----- \n",
      " 0   term               2646 non-null   object\n",
      " 1   pmid               2646 non-null   object\n",
      " 2   focused_sentences  2646 non-null   object\n",
      " 3   text               2646 non-null   object\n",
      "dtypes: object(4)\n",
      "memory usage: 82.8+ KB\n"
     ]
    }
   ],
   "source": [
    "data = []\n",
    "next_batch_start = 0\n",
    "batch_size = 200\n",
    "for i in range(0, len(PMIDs_list), batch_size):\n",
    "    \n",
    "    # Get a batch of 200 PMIDs\n",
    "    if next_batch_start + batch_size < len(PMIDs_list):\n",
    "        next_batch_start += batch_size\n",
    "        PMID_batch = PMIDs_list[i:next_batch_start]\n",
    "    else:\n",
    "        next_batch_start += batch_size\n",
    "        PMID_batch = PMIDs_list[i:]\n",
    "    \n",
    "    # Fetch the articles for the batch of PMIDs\n",
    "    soup = get_articles(PMID_batch)\n",
    "    \n",
    "    # For each article, do a causality search and return the data extracted for the article\n",
    "    for pmid in PMID_batch:\n",
    "        results = causality_search(pmid)\n",
    "        if results == None:\n",
    "            pass\n",
    "        else:\n",
    "            data.append(results)\n",
    "    \n",
    "df = pd.DataFrame(data, columns=['term', 'pmid', 'focused_sentences', 'text'])\n",
    "df.info()"
   ]
  },
  {
   "cell_type": "code",
   "execution_count": 98,
   "id": "2344b17a-f2c7-493a-828f-c556fab4d52e",
   "metadata": {},
   "outputs": [
    {
     "data": {
      "text/html": [
       "<div>\n",
       "<style scoped>\n",
       "    .dataframe tbody tr th:only-of-type {\n",
       "        vertical-align: middle;\n",
       "    }\n",
       "\n",
       "    .dataframe tbody tr th {\n",
       "        vertical-align: top;\n",
       "    }\n",
       "\n",
       "    .dataframe thead th {\n",
       "        text-align: right;\n",
       "    }\n",
       "</style>\n",
       "<table border=\"1\" class=\"dataframe\">\n",
       "  <thead>\n",
       "    <tr style=\"text-align: right;\">\n",
       "      <th></th>\n",
       "      <th>term</th>\n",
       "      <th>pmid</th>\n",
       "      <th>focused_sentences</th>\n",
       "      <th>text</th>\n",
       "    </tr>\n",
       "  </thead>\n",
       "  <tbody>\n",
       "    <tr>\n",
       "      <th>0</th>\n",
       "      <td>causes</td>\n",
       "      <td>33833839</td>\n",
       "      <td>Patient and Methods: An 85-year-old man was t...</td>\n",
       "      <td>A CASE OF ACUTE CEREBRAL INFARCTION WITH A FAV...</td>\n",
       "    </tr>\n",
       "    <tr>\n",
       "      <th>1</th>\n",
       "      <td>causes</td>\n",
       "      <td>34063361</td>\n",
       "      <td>Cerebral embolism due to infective endocardit...</td>\n",
       "      <td>IMPACT OF OPERATIVE TIMING IN INFECTIVE ENDOCA...</td>\n",
       "    </tr>\n",
       "    <tr>\n",
       "      <th>2</th>\n",
       "      <td>causes</td>\n",
       "      <td>34621588</td>\n",
       "      <td>An elongated styloid process is known to caus...</td>\n",
       "      <td>RECURRENCE OF INTERNAL CAROTID ARTERY DISSECTI...</td>\n",
       "    </tr>\n",
       "    <tr>\n",
       "      <th>3</th>\n",
       "      <td>causes</td>\n",
       "      <td>34621588</td>\n",
       "      <td>Previous reports claim that internal carotid ...</td>\n",
       "      <td>RECURRENCE OF INTERNAL CAROTID ARTERY DISSECTI...</td>\n",
       "    </tr>\n",
       "    <tr>\n",
       "      <th>4</th>\n",
       "      <td>causes</td>\n",
       "      <td>34594298</td>\n",
       "      <td>Background: Mechanical thrombectomy (MT) has ...</td>\n",
       "      <td>INITIAL EXPERIENCE PERFORMING MECHANICAL THROM...</td>\n",
       "    </tr>\n",
       "  </tbody>\n",
       "</table>\n",
       "</div>"
      ],
      "text/plain": [
       "     term      pmid                                  focused_sentences  \\\n",
       "0  causes  33833839   Patient and Methods: An 85-year-old man was t...   \n",
       "1  causes  34063361   Cerebral embolism due to infective endocardit...   \n",
       "2  causes  34621588   An elongated styloid process is known to caus...   \n",
       "3  causes  34621588   Previous reports claim that internal carotid ...   \n",
       "4  causes  34594298   Background: Mechanical thrombectomy (MT) has ...   \n",
       "\n",
       "                                                text  \n",
       "0  A CASE OF ACUTE CEREBRAL INFARCTION WITH A FAV...  \n",
       "1  IMPACT OF OPERATIVE TIMING IN INFECTIVE ENDOCA...  \n",
       "2  RECURRENCE OF INTERNAL CAROTID ARTERY DISSECTI...  \n",
       "3  RECURRENCE OF INTERNAL CAROTID ARTERY DISSECTI...  \n",
       "4  INITIAL EXPERIENCE PERFORMING MECHANICAL THROM...  "
      ]
     },
     "execution_count": 98,
     "metadata": {},
     "output_type": "execute_result"
    }
   ],
   "source": [
    "df = df.explode('focused_sentences', ignore_index=True)\n",
    "df.head()"
   ]
  },
  {
   "cell_type": "code",
   "execution_count": 99,
   "id": "d54b6665-74ae-42cc-932e-b26d99007f7f",
   "metadata": {},
   "outputs": [
    {
     "name": "stdout",
     "output_type": "stream",
     "text": [
      "<class 'pandas.core.frame.DataFrame'>\n",
      "RangeIndex: 3853 entries, 0 to 3852\n",
      "Data columns (total 4 columns):\n",
      " #   Column             Non-Null Count  Dtype \n",
      "---  ------             --------------  ----- \n",
      " 0   term               3853 non-null   object\n",
      " 1   pmid               3853 non-null   object\n",
      " 2   focused_sentences  3853 non-null   object\n",
      " 3   text               3853 non-null   object\n",
      "dtypes: object(4)\n",
      "memory usage: 120.5+ KB\n"
     ]
    }
   ],
   "source": [
    "df.info()"
   ]
  },
  {
   "cell_type": "code",
   "execution_count": 100,
   "id": "5276a5da-56e1-4e1d-8660-2eeec438baab",
   "metadata": {},
   "outputs": [],
   "source": [
    "df.to_csv('Afib_fine-tuning_dataset.csv', index=False)"
   ]
  },
  {
   "cell_type": "markdown",
   "id": "aca26436-54f7-4a59-afe0-7b1bd5e9718d",
   "metadata": {},
   "source": [
    "Use [Annotation_Tool.ipynb](Annotation_Tool.ipynb) to extract relationships for Afib_fine-tuning_dataset.csv and further fine-tune the GPT3 model."
   ]
  }
 ],
 "metadata": {
  "kernelspec": {
   "display_name": "Python 3",
   "language": "python",
   "name": "python3"
  },
  "language_info": {
   "codemirror_mode": {
    "name": "ipython",
    "version": 3
   },
   "file_extension": ".py",
   "mimetype": "text/x-python",
   "name": "python",
   "nbconvert_exporter": "python",
   "pygments_lexer": "ipython3",
   "version": "3.9.4"
  }
 },
 "nbformat": 4,
 "nbformat_minor": 5
}
