{
 "cells": [
  {
   "cell_type": "markdown",
   "id": "2f74f1df-d900-42a1-93c9-0ed25cfee298",
   "metadata": {},
   "source": [
    "# UMLS Import\n",
    "This notebook will load all UMLS concepts as nodes into a graph, connect them with all relationships defined by the UMLS sources, and provide the means to update the graph with updated versions of UMLS.\n",
    "  \n",
    "1. Load all UMLS concepts\n",
    "2. Load all UMLS relationships\n",
    "3. Connect UMLS concepts to MIMIC-III entities\n",
    "4. Update concepts and relationships from a new UMLS version"
   ]
  },
  {
   "cell_type": "markdown",
   "id": "80b113fe-16c3-4d1d-b99c-6ce0db3b1ce9",
   "metadata": {},
   "source": [
    "## 1. Load all UMLS concepts"
   ]
  },
  {
   "cell_type": "code",
   "execution_count": 12,
   "id": "5ac48c49-d8a8-4557-b408-b82efc84fbd2",
   "metadata": {},
   "outputs": [],
   "source": [
    "import pandas as pd\n",
    "import dask.dataframe as dd\n",
    "from progressbar import ProgressBar\n",
    "import subprocess"
   ]
  },
  {
   "cell_type": "code",
   "execution_count": 13,
   "id": "0473cd69-a41d-454f-8b01-d33ab9b6fd0b",
   "metadata": {},
   "outputs": [
    {
     "name": "stdin",
     "output_type": "stream",
     "text": [
      "\n",
      "Please enter the Neo4j database password to continue \n",
      " ···············\n"
     ]
    }
   ],
   "source": [
    "import getpass\n",
    "password = getpass.getpass(\"\\nPlease enter the Neo4j database password to continue \\n\")"
   ]
  },
  {
   "cell_type": "code",
   "execution_count": 14,
   "id": "3db83355-a0d0-4eb8-871f-0cf4ae48781f",
   "metadata": {},
   "outputs": [],
   "source": [
    "from neo4j import GraphDatabase\n",
    "driver=GraphDatabase.driver(uri=\"bolt://localhost:7687\", auth=('neo4j',password))\n",
    "session=driver.session()"
   ]
  },
  {
   "cell_type": "code",
   "execution_count": 3,
   "id": "0fd09cea-68f7-450a-983f-b617ecd17de9",
   "metadata": {},
   "outputs": [
    {
     "data": {
      "text/html": [
       "<div>\n",
       "<style scoped>\n",
       "    .dataframe tbody tr th:only-of-type {\n",
       "        vertical-align: middle;\n",
       "    }\n",
       "\n",
       "    .dataframe tbody tr th {\n",
       "        vertical-align: top;\n",
       "    }\n",
       "\n",
       "    .dataframe thead th {\n",
       "        text-align: right;\n",
       "    }\n",
       "</style>\n",
       "<table border=\"1\" class=\"dataframe\">\n",
       "  <thead>\n",
       "    <tr style=\"text-align: right;\">\n",
       "      <th></th>\n",
       "      <th>CUI</th>\n",
       "      <th>LAT</th>\n",
       "      <th>AUI</th>\n",
       "      <th>STR</th>\n",
       "    </tr>\n",
       "  </thead>\n",
       "  <tbody>\n",
       "    <tr>\n",
       "      <th>0</th>\n",
       "      <td>C0000005</td>\n",
       "      <td>ENG</td>\n",
       "      <td>A26634265</td>\n",
       "      <td>(131)I-Macroaggregated Albumin</td>\n",
       "    </tr>\n",
       "    <tr>\n",
       "      <th>1</th>\n",
       "      <td>C0000005</td>\n",
       "      <td>ENG</td>\n",
       "      <td>A26634266</td>\n",
       "      <td>(131)I-MAA</td>\n",
       "    </tr>\n",
       "    <tr>\n",
       "      <th>2</th>\n",
       "      <td>C0000005</td>\n",
       "      <td>FRE</td>\n",
       "      <td>A13433185</td>\n",
       "      <td>Macroagrégats d'albumine marquée à l'iode 131</td>\n",
       "    </tr>\n",
       "    <tr>\n",
       "      <th>3</th>\n",
       "      <td>C0000005</td>\n",
       "      <td>FRE</td>\n",
       "      <td>A27488794</td>\n",
       "      <td>MAA-I 131</td>\n",
       "    </tr>\n",
       "    <tr>\n",
       "      <th>4</th>\n",
       "      <td>C0000005</td>\n",
       "      <td>FRE</td>\n",
       "      <td>A27614225</td>\n",
       "      <td>Macroagrégats d'albumine humaine marquée à l'i...</td>\n",
       "    </tr>\n",
       "  </tbody>\n",
       "</table>\n",
       "</div>"
      ],
      "text/plain": [
       "        CUI  LAT        AUI                                                STR\n",
       "0  C0000005  ENG  A26634265                     (131)I-Macroaggregated Albumin\n",
       "1  C0000005  ENG  A26634266                                         (131)I-MAA\n",
       "2  C0000005  FRE  A13433185      Macroagrégats d'albumine marquée à l'iode 131\n",
       "3  C0000005  FRE  A27488794                                          MAA-I 131\n",
       "4  C0000005  FRE  A27614225  Macroagrégats d'albumine humaine marquée à l'i..."
      ]
     },
     "execution_count": 3,
     "metadata": {},
     "output_type": "execute_result"
    }
   ],
   "source": [
    "# Load MRCONSO.RRF into a dataframe\n",
    "path = '/media/sata_1TB_internal/umls-2020AB-full/2020AB/META/'\n",
    "mrconso = pd.read_csv(path + 'MRCONSO.RRF', sep='|', usecols=[0,1,7,14], header=None, encoding='utf-8')\n",
    "mrconso.columns = ['CUI', 'LAT', 'AUI', 'STR']\n",
    "mrconso.head()"
   ]
  },
  {
   "cell_type": "code",
   "execution_count": 4,
   "id": "74b863a3-499b-4508-b9f7-11ad2e1f88ff",
   "metadata": {},
   "outputs": [
    {
     "data": {
      "text/html": [
       "<div>\n",
       "<style scoped>\n",
       "    .dataframe tbody tr th:only-of-type {\n",
       "        vertical-align: middle;\n",
       "    }\n",
       "\n",
       "    .dataframe tbody tr th {\n",
       "        vertical-align: top;\n",
       "    }\n",
       "\n",
       "    .dataframe thead th {\n",
       "        text-align: right;\n",
       "    }\n",
       "</style>\n",
       "<table border=\"1\" class=\"dataframe\">\n",
       "  <thead>\n",
       "    <tr style=\"text-align: right;\">\n",
       "      <th></th>\n",
       "      <th>CUI</th>\n",
       "      <th>STY</th>\n",
       "    </tr>\n",
       "  </thead>\n",
       "  <tbody>\n",
       "    <tr>\n",
       "      <th>0</th>\n",
       "      <td>C0000005</td>\n",
       "      <td>Amino Acid, Peptide, or Protein</td>\n",
       "    </tr>\n",
       "    <tr>\n",
       "      <th>1</th>\n",
       "      <td>C0000005</td>\n",
       "      <td>Pharmacologic Substance</td>\n",
       "    </tr>\n",
       "    <tr>\n",
       "      <th>2</th>\n",
       "      <td>C0000005</td>\n",
       "      <td>Indicator, Reagent, or Diagnostic Aid</td>\n",
       "    </tr>\n",
       "    <tr>\n",
       "      <th>3</th>\n",
       "      <td>C0000039</td>\n",
       "      <td>Organic Chemical</td>\n",
       "    </tr>\n",
       "    <tr>\n",
       "      <th>4</th>\n",
       "      <td>C0000039</td>\n",
       "      <td>Pharmacologic Substance</td>\n",
       "    </tr>\n",
       "  </tbody>\n",
       "</table>\n",
       "</div>"
      ],
      "text/plain": [
       "        CUI                                    STY\n",
       "0  C0000005        Amino Acid, Peptide, or Protein\n",
       "1  C0000005                Pharmacologic Substance\n",
       "2  C0000005  Indicator, Reagent, or Diagnostic Aid\n",
       "3  C0000039                       Organic Chemical\n",
       "4  C0000039                Pharmacologic Substance"
      ]
     },
     "execution_count": 4,
     "metadata": {},
     "output_type": "execute_result"
    }
   ],
   "source": [
    "mrsty = pd.read_csv(path + 'MRSTY.RRF', usecols=[0,3], sep='|', header=None)\n",
    "mrsty.columns = ['CUI', 'STY']\n",
    "mrsty.head()"
   ]
  },
  {
   "cell_type": "code",
   "execution_count": 5,
   "id": "e434dc57-e967-4481-81e6-72a94276dd40",
   "metadata": {},
   "outputs": [
    {
     "data": {
      "text/html": [
       "<div>\n",
       "<style scoped>\n",
       "    .dataframe tbody tr th:only-of-type {\n",
       "        vertical-align: middle;\n",
       "    }\n",
       "\n",
       "    .dataframe tbody tr th {\n",
       "        vertical-align: top;\n",
       "    }\n",
       "\n",
       "    .dataframe thead th {\n",
       "        text-align: right;\n",
       "    }\n",
       "</style>\n",
       "<table border=\"1\" class=\"dataframe\">\n",
       "  <thead>\n",
       "    <tr style=\"text-align: right;\">\n",
       "      <th></th>\n",
       "      <th>CUI</th>\n",
       "      <th>LAT</th>\n",
       "      <th>AUI</th>\n",
       "      <th>STR</th>\n",
       "      <th>STY</th>\n",
       "    </tr>\n",
       "  </thead>\n",
       "  <tbody>\n",
       "    <tr>\n",
       "      <th>0</th>\n",
       "      <td>C0000005</td>\n",
       "      <td>ENG</td>\n",
       "      <td>A26634265</td>\n",
       "      <td>(131)I-Macroaggregated Albumin</td>\n",
       "      <td>Amino Acid, Peptide, or Protein</td>\n",
       "    </tr>\n",
       "    <tr>\n",
       "      <th>1</th>\n",
       "      <td>C0000005</td>\n",
       "      <td>ENG</td>\n",
       "      <td>A26634265</td>\n",
       "      <td>(131)I-Macroaggregated Albumin</td>\n",
       "      <td>Pharmacologic Substance</td>\n",
       "    </tr>\n",
       "    <tr>\n",
       "      <th>2</th>\n",
       "      <td>C0000005</td>\n",
       "      <td>ENG</td>\n",
       "      <td>A26634265</td>\n",
       "      <td>(131)I-Macroaggregated Albumin</td>\n",
       "      <td>Indicator, Reagent, or Diagnostic Aid</td>\n",
       "    </tr>\n",
       "    <tr>\n",
       "      <th>3</th>\n",
       "      <td>C0000005</td>\n",
       "      <td>ENG</td>\n",
       "      <td>A26634266</td>\n",
       "      <td>(131)I-MAA</td>\n",
       "      <td>Amino Acid, Peptide, or Protein</td>\n",
       "    </tr>\n",
       "    <tr>\n",
       "      <th>4</th>\n",
       "      <td>C0000005</td>\n",
       "      <td>ENG</td>\n",
       "      <td>A26634266</td>\n",
       "      <td>(131)I-MAA</td>\n",
       "      <td>Pharmacologic Substance</td>\n",
       "    </tr>\n",
       "  </tbody>\n",
       "</table>\n",
       "</div>"
      ],
      "text/plain": [
       "        CUI  LAT        AUI                             STR  \\\n",
       "0  C0000005  ENG  A26634265  (131)I-Macroaggregated Albumin   \n",
       "1  C0000005  ENG  A26634265  (131)I-Macroaggregated Albumin   \n",
       "2  C0000005  ENG  A26634265  (131)I-Macroaggregated Albumin   \n",
       "3  C0000005  ENG  A26634266                      (131)I-MAA   \n",
       "4  C0000005  ENG  A26634266                      (131)I-MAA   \n",
       "\n",
       "                                     STY  \n",
       "0        Amino Acid, Peptide, or Protein  \n",
       "1                Pharmacologic Substance  \n",
       "2  Indicator, Reagent, or Diagnostic Aid  \n",
       "3        Amino Acid, Peptide, or Protein  \n",
       "4                Pharmacologic Substance  "
      ]
     },
     "execution_count": 5,
     "metadata": {},
     "output_type": "execute_result"
    }
   ],
   "source": [
    "# Merge semantic type (\"STY\") into the mrconso dataframe\n",
    "mrconso = pd.merge(mrconso, mrsty, on=['CUI'], how='outer')\n",
    "mrconso.head()"
   ]
  },
  {
   "cell_type": "code",
   "execution_count": 12,
   "id": "f43a49e3-5831-4c34-bc1b-eb700340b832",
   "metadata": {},
   "outputs": [
    {
     "data": {
      "text/html": [
       "<div>\n",
       "<style scoped>\n",
       "    .dataframe tbody tr th:only-of-type {\n",
       "        vertical-align: middle;\n",
       "    }\n",
       "\n",
       "    .dataframe tbody tr th {\n",
       "        vertical-align: top;\n",
       "    }\n",
       "\n",
       "    .dataframe thead th {\n",
       "        text-align: right;\n",
       "    }\n",
       "</style>\n",
       "<table border=\"1\" class=\"dataframe\">\n",
       "  <thead>\n",
       "    <tr style=\"text-align: right;\">\n",
       "      <th></th>\n",
       "      <th>CUI</th>\n",
       "      <th>LAT</th>\n",
       "      <th>AUI</th>\n",
       "      <th>STR</th>\n",
       "      <th>STY</th>\n",
       "    </tr>\n",
       "  </thead>\n",
       "  <tbody>\n",
       "    <tr>\n",
       "      <th>16724383</th>\n",
       "      <td>C5399740</td>\n",
       "      <td>ENG</td>\n",
       "      <td>A32339932</td>\n",
       "      <td>Bavarian Nordic A/S</td>\n",
       "      <td>Health Care Related Organization</td>\n",
       "    </tr>\n",
       "    <tr>\n",
       "      <th>16724384</th>\n",
       "      <td>C5399741</td>\n",
       "      <td>ENG</td>\n",
       "      <td>A32340032</td>\n",
       "      <td>Medication Reference Terminology, 2020_09_08</td>\n",
       "      <td>Intellectual Product</td>\n",
       "    </tr>\n",
       "    <tr>\n",
       "      <th>16724385</th>\n",
       "      <td>C5399741</td>\n",
       "      <td>ENG</td>\n",
       "      <td>A32340033</td>\n",
       "      <td>MED-RT_2020_09_08</td>\n",
       "      <td>Intellectual Product</td>\n",
       "    </tr>\n",
       "    <tr>\n",
       "      <th>16724386</th>\n",
       "      <td>C5399742</td>\n",
       "      <td>ENG</td>\n",
       "      <td>A32340042</td>\n",
       "      <td>Inactive Preparations by FDA Established Pharm...</td>\n",
       "      <td>Pharmacologic Substance</td>\n",
       "    </tr>\n",
       "    <tr>\n",
       "      <th>16724387</th>\n",
       "      <td>C5399742</td>\n",
       "      <td>ENG</td>\n",
       "      <td>A32340102</td>\n",
       "      <td>Inactive Preparations by FDA Established Pharm...</td>\n",
       "      <td>Pharmacologic Substance</td>\n",
       "    </tr>\n",
       "  </tbody>\n",
       "</table>\n",
       "</div>"
      ],
      "text/plain": [
       "               CUI  LAT        AUI  \\\n",
       "16724383  C5399740  ENG  A32339932   \n",
       "16724384  C5399741  ENG  A32340032   \n",
       "16724385  C5399741  ENG  A32340033   \n",
       "16724386  C5399742  ENG  A32340042   \n",
       "16724387  C5399742  ENG  A32340102   \n",
       "\n",
       "                                                        STR  \\\n",
       "16724383                                Bavarian Nordic A/S   \n",
       "16724384       Medication Reference Terminology, 2020_09_08   \n",
       "16724385                                  MED-RT_2020_09_08   \n",
       "16724386  Inactive Preparations by FDA Established Pharm...   \n",
       "16724387  Inactive Preparations by FDA Established Pharm...   \n",
       "\n",
       "                                       STY  \n",
       "16724383  Health Care Related Organization  \n",
       "16724384              Intellectual Product  \n",
       "16724385              Intellectual Product  \n",
       "16724386           Pharmacologic Substance  \n",
       "16724387           Pharmacologic Substance  "
      ]
     },
     "execution_count": 12,
     "metadata": {},
     "output_type": "execute_result"
    }
   ],
   "source": [
    "mrconso.tail()"
   ]
  },
  {
   "cell_type": "code",
   "execution_count": 6,
   "id": "768cbdde-a156-4846-8808-36a5979f9994",
   "metadata": {},
   "outputs": [],
   "source": [
    "mrconso = mrconso[mrconso['LAT'] == 'ENG']"
   ]
  },
  {
   "cell_type": "code",
   "execution_count": 7,
   "id": "371e5765-2960-46f5-a90a-9db133eafec3",
   "metadata": {},
   "outputs": [
    {
     "name": "stdout",
     "output_type": "stream",
     "text": [
      "GELATIN,ABSORB PROSTATECTOMY CONE,SZ 18\n",
      "Oryctolagus cuniculus f. domestica \"\"CC\n",
      "Oryctolagus cuniculus f. domestica\n",
      "\"\"ff\n",
      "Morning after pill\n",
      "\\\\\n"
     ]
    }
   ],
   "source": [
    "# Delete rows that cause problems with Neo4j csv import\n",
    "mrconso.dropna(inplace=True, subset=['STR'])\n",
    "\n",
    "bad_list = [\n",
    "    'GELATIN,ABSORB PROSTATECTOMY CONE,SZ 18', \n",
    "    'Oryctolagus cuniculus f. domestica \"\"CC',\n",
    "    'Oryctolagus cuniculus f. domestica',\n",
    "    '\"\"ff',\n",
    "    'Morning after pill',\n",
    "    '\\\\\\\\'\n",
    "]\n",
    "\n",
    "for term in bad_list:\n",
    "    mrconso.drop(mrconso[mrconso['STR'].str.contains(term)].index, inplace=True)\n",
    "    print(term)"
   ]
  },
  {
   "cell_type": "code",
   "execution_count": 10,
   "id": "06146d65-b954-42d7-a329-4d052e575920",
   "metadata": {},
   "outputs": [
    {
     "name": "stdout",
     "output_type": "stream",
     "text": [
      "<class 'pandas.core.frame.DataFrame'>\n",
      "Int64Index: 11679703 entries, 0 to 16724387\n",
      "Data columns (total 5 columns):\n",
      " #   Column  Dtype \n",
      "---  ------  ----- \n",
      " 0   CUI     object\n",
      " 1   LAT     object\n",
      " 2   AUI     object\n",
      " 3   STR     object\n",
      " 4   STY     object\n",
      "dtypes: object(5)\n",
      "memory usage: 534.7+ MB\n"
     ]
    }
   ],
   "source": [
    "mrconso.info()"
   ]
  },
  {
   "cell_type": "code",
   "execution_count": 8,
   "id": "1dc28dfc-af64-4c83-8732-b66a64c24e09",
   "metadata": {},
   "outputs": [],
   "source": [
    "# Write the dataframe out to CSV\n",
    "# mrconso.to_csv('MRCONSO_for_import.csv', sep='|', index=False, encoding='utf-8')\n",
    "mrconso.to_csv('MRCONSO_for_import.csv', index=False, encoding='utf-8')"
   ]
  },
  {
   "cell_type": "markdown",
   "id": "01e2dfee-1db3-45b1-aeef-4abe0adfa097",
   "metadata": {},
   "source": [
    "Move `MRCONSO_for_import.csv` into the database's import folder"
   ]
  },
  {
   "cell_type": "code",
   "execution_count": 15,
   "id": "7698d58c-b059-4b87-82a9-643cdd76e3db",
   "metadata": {},
   "outputs": [
    {
     "data": {
      "text/plain": [
       "<neo4j.work.result.Result at 0x7f32e75461c0>"
      ]
     },
     "execution_count": 15,
     "metadata": {},
     "output_type": "execute_result"
    }
   ],
   "source": [
    "# Create the Concept nodes from UMLS\n",
    "command = '''USING PERIODIC COMMIT 100000 LOAD CSV WITH HEADERS FROM \"file:///MRCONSO_for_import.csv\" AS COLUMN CREATE (:Concept {term:COLUMN.STR, semantic_type:COLUMN.STY, language:COLUMN.LAT, source: 'UMLS', version: '2020AB', cui:COLUMN.CUI, aui:COLUMN.AUI})'''\n",
    "session.run(command)"
   ]
  },
  {
   "cell_type": "code",
   "execution_count": 16,
   "id": "dd2f7aec-4484-4f9c-b977-8c93809179f6",
   "metadata": {},
   "outputs": [
    {
     "data": {
      "text/plain": [
       "<neo4j.work.result.Result at 0x7f32e75464c0>"
      ]
     },
     "execution_count": 16,
     "metadata": {},
     "output_type": "execute_result"
    }
   ],
   "source": [
    "# Set an index for aui\n",
    "command = '''\n",
    "CREATE BTREE INDEX aui_index FOR (n:Concept) ON (n.aui)\n",
    "'''\n",
    "session.run(command)"
   ]
  },
  {
   "cell_type": "markdown",
   "id": "c17de4e6-8301-41c3-ab10-752f7fa6ebd0",
   "metadata": {},
   "source": [
    "## 2. Load all UMLS relationships"
   ]
  },
  {
   "cell_type": "code",
   "execution_count": 18,
   "id": "0df1fd88-e383-47c8-a1ac-0fb9c28ef0df",
   "metadata": {},
   "outputs": [
    {
     "name": "stderr",
     "output_type": "stream",
     "text": [
      "/home/tim/anaconda3/envs/jupyter_env/lib/python3.9/site-packages/IPython/core/interactiveshell.py:3165: DtypeWarning: Columns (7) have mixed types.Specify dtype option on import or set low_memory=False.\n",
      "  has_raised = await self.run_ast_nodes(code_ast.body, cell_name,\n"
     ]
    },
    {
     "name": "stdout",
     "output_type": "stream",
     "text": [
      "<class 'pandas.core.frame.DataFrame'>\n",
      "Int64Index: 37266704 entries, 2 to 87766309\n",
      "Data columns (total 3 columns):\n",
      " #   Column  Dtype \n",
      "---  ------  ----- \n",
      " 0   AUI1    object\n",
      " 1   AUI2    object\n",
      " 2   RELA    object\n",
      "dtypes: object(3)\n",
      "memory usage: 1.1+ GB\n"
     ]
    }
   ],
   "source": [
    "# Load MRREL.RRF into a dataframe \n",
    "path = '/media/sata_1TB_internal/umls-2020AB-full/2020AB/META/'\n",
    "mrrel = pd.read_csv(path + 'MRREL.RRF', sep='|', usecols=[1,5,7], header=None, encoding='utf-8') \n",
    "mrrel.columns = ['AUI1', 'AUI2', 'RELA']\n",
    "# mrrel.columns = ['CUI1', 'AUI1', 'STYPE1', 'REL', 'CUI2', 'AUI2', 'STYPE2', 'RELA', 'RUI', 'SRUI', 'SAB', 'SL', 'RG', 'DIR', 'SUPPRESS', 'CVF', '']\n",
    "mrrel.dropna(inplace = True)\n",
    "mrrel.drop_duplicates(inplace=True)\n",
    "mrrel.info()"
   ]
  },
  {
   "cell_type": "code",
   "execution_count": 19,
   "id": "3967ace0-69b0-4a1f-82dc-b540a44af653",
   "metadata": {},
   "outputs": [
    {
     "data": {
      "text/html": [
       "<div>\n",
       "<style scoped>\n",
       "    .dataframe tbody tr th:only-of-type {\n",
       "        vertical-align: middle;\n",
       "    }\n",
       "\n",
       "    .dataframe tbody tr th {\n",
       "        vertical-align: top;\n",
       "    }\n",
       "\n",
       "    .dataframe thead th {\n",
       "        text-align: right;\n",
       "    }\n",
       "</style>\n",
       "<table border=\"1\" class=\"dataframe\">\n",
       "  <thead>\n",
       "    <tr style=\"text-align: right;\">\n",
       "      <th></th>\n",
       "      <th>RELA</th>\n",
       "      <th>Description</th>\n",
       "    </tr>\n",
       "  </thead>\n",
       "  <tbody>\n",
       "    <tr>\n",
       "      <th>0</th>\n",
       "      <td>abnormal_cell_affected_by_chemical_or_drug</td>\n",
       "      <td>abnormal cell affected by chemical or drug</td>\n",
       "    </tr>\n",
       "    <tr>\n",
       "      <th>1</th>\n",
       "      <td>abnormality_associated_with_allele</td>\n",
       "      <td>abnormality associated with allele</td>\n",
       "    </tr>\n",
       "    <tr>\n",
       "      <th>2</th>\n",
       "      <td>access_device_used_by</td>\n",
       "      <td>Access device used by</td>\n",
       "    </tr>\n",
       "    <tr>\n",
       "      <th>3</th>\n",
       "      <td>access_instrument_of</td>\n",
       "      <td>Access instrument of</td>\n",
       "    </tr>\n",
       "    <tr>\n",
       "      <th>4</th>\n",
       "      <td>access_of</td>\n",
       "      <td>Access of</td>\n",
       "    </tr>\n",
       "  </tbody>\n",
       "</table>\n",
       "</div>"
      ],
      "text/plain": [
       "                                         RELA  \\\n",
       "0  abnormal_cell_affected_by_chemical_or_drug   \n",
       "1          abnormality_associated_with_allele   \n",
       "2                       access_device_used_by   \n",
       "3                        access_instrument_of   \n",
       "4                                   access_of   \n",
       "\n",
       "                                  Description  \n",
       "0  abnormal cell affected by chemical or drug  \n",
       "1          abnormality associated with allele  \n",
       "2                       Access device used by  \n",
       "3                        Access instrument of  \n",
       "4                                   Access of  "
      ]
     },
     "execution_count": 19,
     "metadata": {},
     "output_type": "execute_result"
    }
   ],
   "source": [
    "# Identify redundant relationship types which exist as an artifact of the former relational database schema, which \n",
    "# required separate relationships in order to point backward and forward between concepts\n",
    "mr_rela = pd.read_csv('MRREL_2020AB_RELA.csv', encoding='utf-8')\n",
    "mr_rela.head()"
   ]
  },
  {
   "cell_type": "code",
   "execution_count": 20,
   "id": "f77d2b7a-52ca-45e6-91bd-909f53d44e8d",
   "metadata": {},
   "outputs": [],
   "source": [
    "mr_rela[['blank_has','has_rel']] = mr_rela['RELA'].str.split('^has_', expand=True)"
   ]
  },
  {
   "cell_type": "code",
   "execution_count": 21,
   "id": "aeba03e9-73ec-479f-811d-eab1bcd46cd0",
   "metadata": {},
   "outputs": [
    {
     "data": {
      "text/html": [
       "<div>\n",
       "<style scoped>\n",
       "    .dataframe tbody tr th:only-of-type {\n",
       "        vertical-align: middle;\n",
       "    }\n",
       "\n",
       "    .dataframe tbody tr th {\n",
       "        vertical-align: top;\n",
       "    }\n",
       "\n",
       "    .dataframe thead th {\n",
       "        text-align: right;\n",
       "    }\n",
       "</style>\n",
       "<table border=\"1\" class=\"dataframe\">\n",
       "  <thead>\n",
       "    <tr style=\"text-align: right;\">\n",
       "      <th></th>\n",
       "      <th>RELA</th>\n",
       "      <th>Description</th>\n",
       "      <th>blank_has</th>\n",
       "      <th>has_rel</th>\n",
       "    </tr>\n",
       "  </thead>\n",
       "  <tbody>\n",
       "    <tr>\n",
       "      <th>296</th>\n",
       "      <td>has_access_instrument</td>\n",
       "      <td>Has access instrument</td>\n",
       "      <td></td>\n",
       "      <td>access_instrument</td>\n",
       "    </tr>\n",
       "    <tr>\n",
       "      <th>297</th>\n",
       "      <td>has_access</td>\n",
       "      <td>Has access</td>\n",
       "      <td></td>\n",
       "      <td>access</td>\n",
       "    </tr>\n",
       "    <tr>\n",
       "      <th>298</th>\n",
       "      <td>has_action_guidance</td>\n",
       "      <td>Has action guidance</td>\n",
       "      <td></td>\n",
       "      <td>action_guidance</td>\n",
       "    </tr>\n",
       "    <tr>\n",
       "      <th>299</th>\n",
       "      <td>has_active_ingredient</td>\n",
       "      <td>Has active ingredient</td>\n",
       "      <td></td>\n",
       "      <td>active_ingredient</td>\n",
       "    </tr>\n",
       "    <tr>\n",
       "      <th>300</th>\n",
       "      <td>has_active_metabolites</td>\n",
       "      <td>Has active metabolites</td>\n",
       "      <td></td>\n",
       "      <td>active_metabolites</td>\n",
       "    </tr>\n",
       "    <tr>\n",
       "      <th>...</th>\n",
       "      <td>...</td>\n",
       "      <td>...</td>\n",
       "      <td>...</td>\n",
       "      <td>...</td>\n",
       "    </tr>\n",
       "    <tr>\n",
       "      <th>579</th>\n",
       "      <td>has_unit_of_presentation</td>\n",
       "      <td>Has unit of presentation</td>\n",
       "      <td></td>\n",
       "      <td>unit_of_presentation</td>\n",
       "    </tr>\n",
       "    <tr>\n",
       "      <th>580</th>\n",
       "      <td>has_units</td>\n",
       "      <td>Has units</td>\n",
       "      <td></td>\n",
       "      <td>units</td>\n",
       "    </tr>\n",
       "    <tr>\n",
       "      <th>581</th>\n",
       "      <td>has_venous_drainage</td>\n",
       "      <td>Has venous drainage</td>\n",
       "      <td></td>\n",
       "      <td>venous_drainage</td>\n",
       "    </tr>\n",
       "    <tr>\n",
       "      <th>582</th>\n",
       "      <td>has_version</td>\n",
       "      <td>Has version</td>\n",
       "      <td></td>\n",
       "      <td>version</td>\n",
       "    </tr>\n",
       "    <tr>\n",
       "      <th>583</th>\n",
       "      <td>has_view_type</td>\n",
       "      <td>Has view type</td>\n",
       "      <td></td>\n",
       "      <td>view_type</td>\n",
       "    </tr>\n",
       "  </tbody>\n",
       "</table>\n",
       "<p>288 rows × 4 columns</p>\n",
       "</div>"
      ],
      "text/plain": [
       "                         RELA               Description blank_has  \\\n",
       "296     has_access_instrument     Has access instrument             \n",
       "297                has_access                Has access             \n",
       "298       has_action_guidance       Has action guidance             \n",
       "299     has_active_ingredient     Has active ingredient             \n",
       "300    has_active_metabolites    Has active metabolites             \n",
       "..                        ...                       ...       ...   \n",
       "579  has_unit_of_presentation  Has unit of presentation             \n",
       "580                 has_units                 Has units             \n",
       "581       has_venous_drainage       Has venous drainage             \n",
       "582               has_version               Has version             \n",
       "583             has_view_type             Has view type             \n",
       "\n",
       "                  has_rel  \n",
       "296     access_instrument  \n",
       "297                access  \n",
       "298       action_guidance  \n",
       "299     active_ingredient  \n",
       "300    active_metabolites  \n",
       "..                    ...  \n",
       "579  unit_of_presentation  \n",
       "580                 units  \n",
       "581       venous_drainage  \n",
       "582               version  \n",
       "583             view_type  \n",
       "\n",
       "[288 rows x 4 columns]"
      ]
     },
     "execution_count": 21,
     "metadata": {},
     "output_type": "execute_result"
    }
   ],
   "source": [
    "mr_rela[mr_rela.has_rel.notnull()]"
   ]
  },
  {
   "cell_type": "code",
   "execution_count": 22,
   "id": "b0271583-b5af-4c33-b2c9-16149199c39f",
   "metadata": {
    "tags": []
   },
   "outputs": [],
   "source": [
    "mr_rela[['rel_of','blank_of']] = mr_rela['RELA'].str.split('_of$', expand=True)"
   ]
  },
  {
   "cell_type": "code",
   "execution_count": 23,
   "id": "115c29a7-6971-4d6b-ad84-877d634db54b",
   "metadata": {},
   "outputs": [],
   "source": [
    "has_things = mr_rela[mr_rela.blank_has.notnull()].has_rel.to_list()"
   ]
  },
  {
   "cell_type": "code",
   "execution_count": 24,
   "id": "3e09f1aa-2369-4b3d-a7c5-4fb5621adcef",
   "metadata": {
    "tags": []
   },
   "outputs": [
    {
     "name": "stdout",
     "output_type": "stream",
     "text": [
      "['time_aspect_of', 'time_modifier_of', 'tradename_of', 'translation_of', 'transliterated_form_of', 'tributary_of', 'unit_of_presentation_of', 'units_of', 'venous_drainage_of', 'version_of']\n"
     ]
    }
   ],
   "source": [
    "# Find all the relationship_of types of relationships which mirror the has_relationship types\n",
    "mr_rela['duplicate_term'] = mr_rela.rel_of.isin(has_things)\n",
    "redundant_terms = mr_rela[mr_rela.duplicate_term == True].RELA.to_list()\n",
    "print(redundant_terms[-10:])"
   ]
  },
  {
   "cell_type": "code",
   "execution_count": 25,
   "id": "463b8972-dffb-42b1-a079-23954c0b4c2b",
   "metadata": {},
   "outputs": [
    {
     "name": "stdout",
     "output_type": "stream",
     "text": [
      "['gene_involved_in_molecular_abnormality', 'gene_involved_in_pathogenesis_of_disease', 'cdrh_parent_of', 'mapped_from', 'contraindicated_with_disease', 'is_associated_anatomic_site_of', 'subset_includes_concept', 'classified_as', 'has_permuted_term', 'same_as']\n"
     ]
    }
   ],
   "source": [
    "# Remove all the inverse_relationship and by_relationship types\n",
    "inverse_terms = mr_rela[mr_rela.RELA.str.contains('inverse')].RELA.to_list()\n",
    "by_terms = mr_rela[mr_rela.RELA.str.contains('by')].RELA.to_list()\n",
    "\n",
    "# Manually inspected a list of relationships that contain '_of_'. Most, but not all, of these are redundant. \n",
    "contains_of_ = ['activity_of_allele', 'allele_plays_role_in_metabolism_of_chemical_or_drug', 'approach_of_excluded', 'approach_of_possibly_included', 'associated_finding_of_excluded', 'associated_finding_of_possibly_included', 'associated_procedure_of_excluded', 'associated_procedure_of_possibly_included', 'associated_with_malfunction_of_gene_product', 'basis_of_strength_substance_of', 'biological_process_is_part_of_process', 'chemical_or_drug_is_product_of_biological_process', 'chromosomal_location_of_allele', 'chromosomal_location_of_wild-type_gene', 'component_of_excluded', 'component_of_possibly_included', 'contraindicated_mechanism_of_action_of', 'count_of_active_ingredient_of', 'count_of_base_of_active_ingredient_of', 'gene_involved_in_pathogenesis_of_disease', 'gene_product_variant_of_gene_product', 'is_abnormal_cell_of_disease', 'is_abnormality_of_gene_product', 'is_abnormality_of_gene', 'is_associated_anatomy_of_gene_product', 'is_biochemical_function_of_gene_product', 'is_chemical_classification_of_gene_product', 'is_chromosomal_location_of_gene', 'is_component_of_chemotherapy_regimen', 'is_cytogenetic_abnormality_of_disease', 'is_finding_of_disease', 'is_grade_of_disease', 'is_location_of_anatomic_structure', 'is_location_of_biological_process', 'is_mechanism_of_action_of_chemical_or_drug', 'is_metastatic_anatomic_site_of_disease', 'is_molecular_abnormality_of_disease', 'is_normal_cell_origin_of_disease', 'is_normal_tissue_origin_of_disease', 'is_not_abnormal_cell_of_disease', 'is_not_cytogenetic_abnormality_of_disease', 'is_not_finding_of_disease', 'is_not_metastatic_anatomic_site_of_disease', 'is_not_molecular_abnormality_of_disease', 'is_not_normal_cell_origin_of_disease', 'is_not_normal_tissue_origin_of_disease', 'is_not_primary_anatomic_site_of_disease', 'is_organism_source_of_gene_product', 'is_physical_location_of_gene', 'is_physiologic_effect_of_chemical_or_drug', 'is_presence_of_lateral_location', 'is_primary_anatomic_site_of_disease', 'is_property_or_attribute_of_eo_disease', 'is_stage_of_disease', 'is_structural_domain_or_motif_of_gene_product', 'locale_of_excluded', 'may_be_abnormal_cell_of_disease', 'may_be_associated_disease_of_disease', 'may_be_cytogenetic_abnormality_of_disease', 'may_be_finding_of_disease', 'may_be_molecular_abnormality_of_disease', 'may_be_normal_cell_origin_of_disease', 'mechanism_of_action_of', 'method_of_excluded', 'method_of_possibly_included', 'panel_element_of_possibly_included', 'pathology_of_excluded', 'pathology_of_possibly_included', 'patient_type_of_excluded', 'patient_type_of_possibly_included', 'pharmaceutical_state_of_matter_of', 'procedure_device_of_excluded', 'procedure_device_of_possibly_included', 'procedure_site_of_excluded', 'procedure_site_of_possibly_included', 'route_of_administration_of_excluded', 'route_of_administration_of_possibly_included', 'route_of_administration_of', 'specimen_of_excluded', 'state_of_matter_of', 'subject_of_information_of', 'surgical_extent_of_excluded', 'surgical_extent_of_possibly_included', 'tissue_is_expression_site_of_gene_product', 'unit_of_presentation_of']\n",
    "\n",
    "# Manually inspected a list of relationships that contain 'plays'. Most, but not all, of these are redundant.\n",
    "plays_terms = ['allele_plays_altered_role_in_process', 'allele_plays_role_in_metabolism_of_chemical_or_drug', 'chemical_or_drug_plays_role_in_biological_process', 'gene_plays_role_in_process', 'gene_product_plays_role_in_biological_process']\n",
    "\n",
    "# Manually inspected a list of relationships that start with 'may_be_'. All of these are redundant.\n",
    "may_be_terms = ['may_be_abnormal_cell_of_disease', 'may_be_associated_disease_of_disease', 'may_be_cytogenetic_abnormality_of_disease', 'may_be_diagnosed_by', 'may_be_finding_of_disease', 'may_be_molecular_abnormality_of_disease', 'may_be_normal_cell_origin_of_disease', 'may_be_prevented_by', 'may_be_qualified_by', 'may_be_treated_by']\n",
    "\n",
    "# Manually inspected a list of relationships that contain 'involved_in'. All of these are redundant.\n",
    "involved_in_terms = ['chromosome_involved_in_cytogenetic_abnormality', 'gene_involved_in_molecular_abnormality', 'gene_involved_in_pathogenesis_of_disease']\n",
    "\n",
    "# Additional redundant terms discovered while exploring the graph\n",
    "discovered = ['has_adherent', 'cdrh_parent_of', 'mapped_from', 'contraindicated_with_disease', 'is_associated_anatomic_site_of', 'subset_includes_concept', 'classified_as', 'has_permuted_term', 'same_as']\n",
    "\n",
    "redundant_terms = redundant_terms + inverse_terms + by_terms + contains_of_ + plays_terms + may_be_terms + involved_in_terms + discovered\n",
    "print(redundant_terms[-10:])"
   ]
  },
  {
   "cell_type": "code",
   "execution_count": 26,
   "id": "6c8db703-79d7-44d1-a4a0-01291f0d8fd7",
   "metadata": {},
   "outputs": [],
   "source": [
    "# Also remove terms which cause extreneous connections between concepts, such as terminologies which connect\n",
    "# to many concepts in a way that is not meaningful\n",
    "extraneous = ['concept_in_subset', 'has_cdrh_parent']\n",
    "redundant_terms = redundant_terms + extraneous # For convenience, we'll just add them to the redundant_terms list"
   ]
  },
  {
   "cell_type": "code",
   "execution_count": 27,
   "id": "5f3b0740-6e0b-4764-8b69-ee2282c3f7ea",
   "metadata": {},
   "outputs": [
    {
     "name": "stdout",
     "output_type": "stream",
     "text": [
      "388\n",
      "366\n"
     ]
    }
   ],
   "source": [
    "print(len(redundant_terms))\n",
    "redundant_terms = list(set(redundant_terms))\n",
    "print(len(redundant_terms))"
   ]
  },
  {
   "cell_type": "code",
   "execution_count": 28,
   "id": "8e46978f-b338-4abd-9208-f7cd61209c5f",
   "metadata": {},
   "outputs": [
    {
     "name": "stdout",
     "output_type": "stream",
     "text": [
      "<class 'pandas.core.frame.DataFrame'>\n",
      "Int64Index: 19261442 entries, 44 to 87766309\n",
      "Data columns (total 4 columns):\n",
      " #   Column     Dtype \n",
      "---  ------     ----- \n",
      " 0   AUI1       object\n",
      " 1   AUI2       object\n",
      " 2   RELA       object\n",
      " 3   redundant  bool  \n",
      "dtypes: bool(1), object(3)\n",
      "memory usage: 606.2+ MB\n"
     ]
    }
   ],
   "source": [
    "# Find and drop all the rows in MRREL which have redundant relationship_of types\n",
    "mrrel['redundant'] = mrrel.RELA.isin(redundant_terms)\n",
    "redundant_relationships = mrrel[mrrel.redundant == True].index\n",
    "mrrel.drop(redundant_relationships, inplace=True)\n",
    "mrrel.info()"
   ]
  },
  {
   "cell_type": "code",
   "execution_count": 29,
   "id": "a22b5d13-9ab8-4d1b-b29f-7edb17f60e48",
   "metadata": {
    "tags": []
   },
   "outputs": [
    {
     "data": {
      "text/html": [
       "<div>\n",
       "<style scoped>\n",
       "    .dataframe tbody tr th:only-of-type {\n",
       "        vertical-align: middle;\n",
       "    }\n",
       "\n",
       "    .dataframe tbody tr th {\n",
       "        vertical-align: top;\n",
       "    }\n",
       "\n",
       "    .dataframe thead th {\n",
       "        text-align: right;\n",
       "    }\n",
       "</style>\n",
       "<table border=\"1\" class=\"dataframe\">\n",
       "  <thead>\n",
       "    <tr style=\"text-align: right;\">\n",
       "      <th></th>\n",
       "      <th>AUI1</th>\n",
       "      <th>AUI2</th>\n",
       "      <th>RELA</th>\n",
       "    </tr>\n",
       "  </thead>\n",
       "  <tbody>\n",
       "    <tr>\n",
       "      <th>44</th>\n",
       "      <td>A0016515</td>\n",
       "      <td>A0137399</td>\n",
       "      <td>MAPPED_TO</td>\n",
       "    </tr>\n",
       "    <tr>\n",
       "      <th>45</th>\n",
       "      <td>A0016515</td>\n",
       "      <td>A0376033</td>\n",
       "      <td>MAPPED_TO</td>\n",
       "    </tr>\n",
       "    <tr>\n",
       "      <th>46</th>\n",
       "      <td>A0016515</td>\n",
       "      <td>A0683149</td>\n",
       "      <td>MAPPED_TO</td>\n",
       "    </tr>\n",
       "    <tr>\n",
       "      <th>47</th>\n",
       "      <td>A0016515</td>\n",
       "      <td>A1316792</td>\n",
       "      <td>MAPPED_TO</td>\n",
       "    </tr>\n",
       "    <tr>\n",
       "      <th>48</th>\n",
       "      <td>A0016515</td>\n",
       "      <td>A1321548</td>\n",
       "      <td>MAPPED_TO</td>\n",
       "    </tr>\n",
       "  </tbody>\n",
       "</table>\n",
       "</div>"
      ],
      "text/plain": [
       "        AUI1      AUI2       RELA\n",
       "44  A0016515  A0137399  MAPPED_TO\n",
       "45  A0016515  A0376033  MAPPED_TO\n",
       "46  A0016515  A0683149  MAPPED_TO\n",
       "47  A0016515  A1316792  MAPPED_TO\n",
       "48  A0016515  A1321548  MAPPED_TO"
      ]
     },
     "execution_count": 29,
     "metadata": {},
     "output_type": "execute_result"
    }
   ],
   "source": [
    "mrrel.RELA = mrrel.RELA.str.upper()\n",
    "mrrel[['AUI1', 'AUI2', 'RELA']].head()"
   ]
  },
  {
   "cell_type": "code",
   "execution_count": 30,
   "id": "00a23670-dff4-4077-b84e-54bb87184b7e",
   "metadata": {},
   "outputs": [],
   "source": [
    "mrrel[['AUI1', 'AUI2', 'RELA']].to_csv('MRREL_for_import.csv', index=False, encoding='utf-8')"
   ]
  },
  {
   "cell_type": "code",
   "execution_count": 17,
   "id": "e0f9447c-228d-4d18-80b7-7b78149c5bf5",
   "metadata": {},
   "outputs": [
    {
     "data": {
      "text/plain": [
       "<neo4j.work.result.Result at 0x7f32e75467c0>"
      ]
     },
     "execution_count": 17,
     "metadata": {},
     "output_type": "execute_result"
    }
   ],
   "source": [
    "# Import relationships from MRREL_for_import.csv into the graph. Note that the csv file must be placed in the\n",
    "# database's import folder first\n",
    "command = '''\n",
    "USING PERIODIC COMMIT 100000 LOAD CSV WITH HEADERS FROM \"file:///MRREL_for_import.csv\" AS COLUMN\n",
    "MATCH (c1:Concept {aui:COLUMN.AUI1})\n",
    "MATCH (c2:Concept {aui:COLUMN.AUI2})\n",
    "CALL apoc.create.relationship(c2, COLUMN.RELA, {source:'UMLS', version:'2020AB'}, c1) YIELD rel\n",
    "REMOVE rel.noOp;\n",
    "'''\n",
    "session.run(command)"
   ]
  },
  {
   "cell_type": "code",
   "execution_count": 18,
   "id": "c47d5211-c073-45e1-b43d-7dde3daa6ed0",
   "metadata": {},
   "outputs": [
    {
     "data": {
      "text/plain": [
       "<neo4j.work.result.Result at 0x7f32e75469a0>"
      ]
     },
     "execution_count": 18,
     "metadata": {},
     "output_type": "execute_result"
    }
   ],
   "source": [
    "# Create an index on cui\n",
    "command = 'CREATE INDEX cui FOR (n:Concept) ON (n.cui)'\n",
    "session.run(command)"
   ]
  },
  {
   "cell_type": "code",
   "execution_count": 19,
   "id": "6cb0026a-4cfa-443e-a65b-03ab1eef75e2",
   "metadata": {},
   "outputs": [
    {
     "data": {
      "text/plain": [
       "<neo4j.work.result.Result at 0x7f32e7546c10>"
      ]
     },
     "execution_count": 19,
     "metadata": {},
     "output_type": "execute_result"
    }
   ],
   "source": [
    "# Create undirected 'SYNONYMOUS' relationships among all terms that share the same CUI\n",
    "command = '''\n",
    "CALL apoc.periodic.iterate(\n",
    "\"MATCH (c1: Concept) MATCH (c2: Concept {cui: c1.cui}) WHERE NOT c1.aui = c2.aui RETURN c1,c2\",\n",
    "\"MERGE (c1)-[:SYNONYM {source:'UMLS', version:'2020AB'}]-(c2)\",\n",
    "{batchSize:10000, parallel:true})'''\n",
    "session.run(command)"
   ]
  },
  {
   "cell_type": "markdown",
   "id": "633398b1-c9ea-4ea5-83b4-91258489bc36",
   "metadata": {},
   "source": [
    "## 3. Connect UMLS concepts to MIMIC-III entities\n",
    "See [MIMIC-III_v1.4_MI1_import.ipynb](MIMIC-III_v1.4_MI1_import.ipynb)"
   ]
  },
  {
   "cell_type": "markdown",
   "id": "bfab5979-e197-4afc-8769-68350d7d9480",
   "metadata": {},
   "source": [
    "## 4. Update concepts and relationships from a new UMLS version\n",
    "- If there is no difference between the current version and the updated version for a concept or relationship, simply set the version property with the latest UMLS version.\n",
    "- If the entity or relationship was added in the updated version, merge it into the graph.\n",
    "- If the entity or relationship was removed in the updated version, set a \"deprecated in UMLS_version\" flag on the current version. "
   ]
  },
  {
   "cell_type": "code",
   "execution_count": null,
   "id": "1d608af5-f3c4-4fee-9a90-6a9007ceb856",
   "metadata": {},
   "outputs": [],
   "source": []
  }
 ],
 "metadata": {
  "kernelspec": {
   "display_name": "Python 3",
   "language": "python",
   "name": "python3"
  },
  "language_info": {
   "codemirror_mode": {
    "name": "ipython",
    "version": 3
   },
   "file_extension": ".py",
   "mimetype": "text/x-python",
   "name": "python",
   "nbconvert_exporter": "python",
   "pygments_lexer": "ipython3",
   "version": "3.9.4"
  }
 },
 "nbformat": 4,
 "nbformat_minor": 5
}
