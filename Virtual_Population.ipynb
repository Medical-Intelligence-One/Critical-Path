{
 "cells": [
  {
   "cell_type": "markdown",
   "id": "2b52634a-f573-4d72-a5d1-a2c241283757",
   "metadata": {},
   "source": [
    "# Virtualized Patient Population"
   ]
  },
  {
   "cell_type": "markdown",
   "id": "5701f88b-c58b-469a-9da6-1055e6b93639",
   "metadata": {},
   "source": [
    "To-Do:\n",
    "- re-import 'INSTANCE_OF' relationships between concepts, labs, and prescriptions\n",
    "- Create OCCURS_WITH relationships between entities of interest that have z-scores or odds ratios\n",
    "- Figure out how to add timedeltas between problems and the change in z-scores for labs or the occurrance of prescriptions"
   ]
  },
  {
   "cell_type": "markdown",
   "id": "77e3cdb0-c2d8-4b28-b720-5d5e390d0f95",
   "metadata": {},
   "source": [
    "Entities of interest:\n",
    "- Caregivers\n",
    "- Patients\n",
    "- Problem\n",
    "- Prescriptions -> Concept\n",
    "- Labevents -> D_Labitems -> Concept\n",
    "- Diagnoses_Icd -> D_Icd_Diagnoses -> Concept (timedelta of limited utility, since ICD codes pertain to entire admission)\n",
    "- Procedures_Icd -> D_Icd_Procedures -> Concept (timedelta of limited utility, since ICD codes pertain to entire admission)"
   ]
  },
  {
   "cell_type": "markdown",
   "id": "9507212d-6d21-4e00-8f5d-a46622915002",
   "metadata": {},
   "source": [
    "Relationships to create between entities of interest:\n",
    "![virtualized relationships](images/Virtual_relationship_schema.png)"
   ]
  },
  {
   "cell_type": "markdown",
   "id": "f7e1d71c-440a-459b-8b5e-c00c4cd01f81",
   "metadata": {},
   "source": [
    "We'll start with these relationships to improve performance on our current use cases:  \n",
    "(:Problem) - [:INSTANCE_OF] -> (:Concept) - [:OCCURS_WITH {odds_ratio: __, source: 'MIMIC-III v1.4', updated: timestamp}] - (:Concept) <- [:INSTANCE_OF] - (:Prescriptions)  \n",
    "(:Problem) - [:INSTANCE_OF] -> (:Concept) - [:OCCURS_WITH {odds_ratio: __, z_score: __, source: 'MIMIC-III v1.4', updated: timestamp}] - (:Concept) <- [:INSTANCE_OF] - (:Labevents)  \n",
    "  \n",
    "Looking ahead to how we'll use these algorithms, here are the queries I would like to write:\n"
   ]
  },
  {
   "cell_type": "code",
   "execution_count": null,
   "id": "b0c98bf9-a011-467c-979a-96eff1b43d6f",
   "metadata": {},
   "outputs": [],
   "source": [
    "def LikelyPrescriptions(cui_prob_list):\n",
    "        \n",
    "    query = '''\n",
    "    MATCH (prob1:Problem)-[:INSTANCE_OF]->(:Concept)-[r:OCCURS_WITH]-(c:Concept)<-[:INSTANCE_OF]-(:Prescriptions)\n",
    "    WHERE prob1.cui in {cui_prob_list} AND r.odds_ratio > 1.5\n",
    "    RETURN c.term as Prescription, r.odds_ratio as `OddsRatio`\n",
    "    ORDER BY OddsRatio DESC\n",
    "    LIMIT 10\n",
    "    '''.format(cui_prob_list=cui_prob_list)\n",
    "    LikelyPrescriptions = session.run(query)\n",
    "    LikelyPrescriptions = pd.DataFrame([dict(record) for record in LikelyPrescriptions])\n",
    "    \n",
    "    return LikelyPrescriptions"
   ]
  },
  {
   "cell_type": "code",
   "execution_count": null,
   "id": "9a7c190c-a4b3-4f8c-b483-e03c8ea6deb4",
   "metadata": {},
   "outputs": [],
   "source": [
    "def LikelyAbnormalLabs(cui_prob_list):\n",
    "        \n",
    "    query = '''\n",
    "    MATCH (prob1:Problem)-[:INSTANCE_OF]->(:Concept)-[r:OCCURS_WITH]-(c:Concept)<-[:INSTANCE_OF]-(:Labevents)\n",
    "    WHERE prob1.cui in {cui_prob_list} AND OddsRatio > 1.5\n",
    "    RETURN c.term as Lab, r.odds_ratio as `OddsAbnormal`, r.z_score as `ZScore`\n",
    "    ORDER BY OddsAbnormal DESC\n",
    "    LIMIT 10\n",
    "    '''.format(cui_prob_list=cui_prob_list)\n",
    "    LikelyAbnormalLabs = session.run(query)\n",
    "    LikelyAbnormalLabs = pd.DataFrame([dict(record) for record in LikelyAbnormalLabs])\n",
    "    \n",
    "    return LikelyAbnormalLabs"
   ]
  }
 ],
 "metadata": {
  "kernelspec": {
   "display_name": "Python 3",
   "language": "python",
   "name": "python3"
  },
  "language_info": {
   "codemirror_mode": {
    "name": "ipython",
    "version": 3
   },
   "file_extension": ".py",
   "mimetype": "text/x-python",
   "name": "python",
   "nbconvert_exporter": "python",
   "pygments_lexer": "ipython3",
   "version": "3.9.4"
  }
 },
 "nbformat": 4,
 "nbformat_minor": 5
}
