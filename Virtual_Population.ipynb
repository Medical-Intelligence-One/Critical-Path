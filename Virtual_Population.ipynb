{
 "cells": [
  {
   "cell_type": "markdown",
   "id": "2b52634a-f573-4d72-a5d1-a2c241283757",
   "metadata": {},
   "source": [
    "# Virtualized Patient Population"
   ]
  },
  {
   "cell_type": "markdown",
   "id": "5701f88b-c58b-469a-9da6-1055e6b93639",
   "metadata": {},
   "source": [
    "To-Do:\n",
    "- Incorporate ICD diagnoses into problems\n",
    "- Change the 2-way co-occurence relationship into a node\n",
    "- Iteratively create co-occurence nodes between primary features and co-occurence nodes until no higher layers yield results that reach a signficance threshold\n",
    "- Create OCCURS_WITH relationships with z-scores between continuous variables of interest\n",
    "- Figure out how to add timedeltas between problems and the change in z-scores for labs or the occurrence of prescriptions"
   ]
  },
  {
   "cell_type": "code",
   "execution_count": 1,
   "id": "1f733621-b233-4472-9966-28bc7dd1215b",
   "metadata": {},
   "outputs": [],
   "source": [
    "from datetime import datetime\n",
    "from progressbar import ProgressBar\n",
    "import pandas as pd\n",
    "import time"
   ]
  },
  {
   "cell_type": "code",
   "execution_count": 2,
   "id": "93bbac78-1362-4ee4-b6ed-bd6e111e9da3",
   "metadata": {},
   "outputs": [],
   "source": [
    "from neo4j import GraphDatabase\n",
    "driver=GraphDatabase.driver(uri=\"bolt://localhost:7687\", auth=('neo4j','NikeshIsCool'))\n",
    "session=driver.session()"
   ]
  },
  {
   "cell_type": "markdown",
   "id": "77e3cdb0-c2d8-4b28-b720-5d5e390d0f95",
   "metadata": {},
   "source": [
    "Entities of interest:\n",
    "- Problem\n",
    "- Prescriptions -> Concept\n",
    "- Labevents -> D_Labitems -> Concept\n",
    "- Diagnoses_Icd -> D_Icd_Diagnoses -> Concept (timedelta of limited utility, since ICD codes pertain to entire admission)\n",
    "- Procedures_Icd -> D_Icd_Procedures -> Concept (timedelta of limited utility, since ICD codes pertain to entire admission)"
   ]
  },
  {
   "cell_type": "markdown",
   "id": "9507212d-6d21-4e00-8f5d-a46622915002",
   "metadata": {},
   "source": [
    "Relationships to create between entities of interest:\n",
    "![virtualized relationships](images/Virtual_relationship_schema.png)"
   ]
  },
  {
   "cell_type": "markdown",
   "id": "f7e1d71c-440a-459b-8b5e-c00c4cd01f81",
   "metadata": {},
   "source": [
    "We'll start with these relationships to improve performance on our current use cases:  \n",
    "(:Problem) - [:INSTANCE_OF] -> (:Concept) - [:OCCURS_WITH {co_occurrence_probability: __, source: 'MIMIC-III v1.4', updated: timestamp}] - (:Concept) <- [:INSTANCE_OF] - (:Prescriptions)  \n",
    "(:Problem) - [:INSTANCE_OF] -> (:Concept) - [:OCCURS_WITH {co_occurrence_probability: __, z_score: __, source: 'MIMIC-III v1.4', updated: timestamp}] - (:Concept) <- [:INSTANCE_OF] - (:Labevents)  \n",
    "\n",
    "The essential equation used to determine co-occurence probability for our purposes is:  \n",
    "(Probability of A and B co-occuring during an admission) / (Probability of A + Probability of B)  \n",
    "\n",
    "I initially considered using the probability of A given B (i.e. the conditional probability), which is:  \n",
    "(Probability of A and B co-occuring during an admission) / (Probability of A occurring during an admission)  \n",
    "The problem with this approach is that you get a lot of stuff that is likely to occur just because the patient is in the ICU, which has nothing to do with the given condition. For example, almost everyone in the ICU gets an IV, so medications used to flush the IVs come up as highly associated with any given condition. The co-occurence probability doesn't have this issue, so we're going with that.  \n",
    "  \n",
    "For labs, we calculate the probability that the lab will be flagged as abnormal, not the probability that it will be ordered. For prescriptions and procedures, we calculate the probability that they will be ordered."
   ]
  },
  {
   "cell_type": "markdown",
   "id": "8bf55522-8487-41e3-8c74-c1848dc079ff",
   "metadata": {},
   "source": [
    "## Find the probability of each individual entity of interest occurring during an admission"
   ]
  },
  {
   "cell_type": "code",
   "execution_count": 3,
   "id": "c89cc1d2-e7ea-44d4-af68-c1d8a443a39d",
   "metadata": {},
   "outputs": [],
   "source": [
    "# Get the probability of each problem in the general population\n",
    "query = '''\n",
    "MATCH (ptTotal:Admissions)\n",
    "WITH count(ptTotal) AS ptTotal\n",
    "MATCH (ad:Admissions)<-[:HAD]-(Pt:Patients)-[:HAD_PROBLEM]->(b:Problem)\n",
    "WITH b.cui AS Problem_CUI, count(distinct(ad)) AS probTotal, ptTotal, count(distinct(Pt)) AS Pt\n",
    "WITH Problem_CUI, toFloat(probTotal)/ptTotal AS Probability_Entity, Pt\n",
    "WHERE Pt > 20\n",
    "RETURN Problem_CUI, Probability_Entity\n",
    "'''\n",
    "data = session.run(query)\n",
    "problem_probabilities = pd.DataFrame([dict(record) for record in data])"
   ]
  },
  {
   "cell_type": "code",
   "execution_count": 4,
   "id": "50dc6a01-e487-45cb-a172-9b3c78174eb7",
   "metadata": {
    "tags": []
   },
   "outputs": [],
   "source": [
    "# Get the probability of each ICD diagnosis in the general population\n",
    "query = '''\n",
    "MATCH (ptTotal:Admissions)\n",
    "WITH count(ptTotal) AS ptTotal\n",
    "MATCH (ad:Admissions)<-[:HAD]-(Pt:Patients)-[:HAD]->(dx:Diagnoses_Icd)\n",
    "WITH dx.icd9_code AS dx_icd9_code, count(distinct(ad)) AS ProcTotal, ptTotal, count(distinct(Pt)) AS Pt\n",
    "WHERE Pt > 20\n",
    "RETURN dx_icd9_code, toFloat(ProcTotal)/ptTotal AS Probability_Entity\n",
    "'''\n",
    "data = session.run(query)\n",
    "diagnosis_probabilities = pd.DataFrame([dict(record) for record in data])"
   ]
  },
  {
   "cell_type": "code",
   "execution_count": 5,
   "id": "41300942-d254-4d01-a365-0d9504d8a993",
   "metadata": {},
   "outputs": [],
   "source": [
    "# Get the probability of each prescription in the general population\n",
    "query = '''\n",
    "MATCH (ptTotal:Admissions)\n",
    "WITH count(ptTotal) AS ptTotal\n",
    "MATCH (ad:Admissions)<-[:HAD]-(Pt:Patients)-[:HAD]-(rx:Prescriptions)-[:INSTANCE_OF]->(b:Concept)\n",
    "WITH b.cui AS Rx_CUI, count(distinct(ad)) AS RxTotal, ptTotal, count(distinct(Pt)) AS Pt\n",
    "WHERE Pt > 20\n",
    "RETURN Rx_CUI, toFloat(RxTotal)/ptTotal AS Probability_Entity\n",
    "'''\n",
    "data = session.run(query)\n",
    "rx_probabilities = pd.DataFrame([dict(record) for record in data])"
   ]
  },
  {
   "cell_type": "code",
   "execution_count": 6,
   "id": "777cd618-dfea-45fc-bec4-be584008394c",
   "metadata": {},
   "outputs": [],
   "source": [
    "# Get the probability of each abnormal lab in the general population\n",
    "query = '''\n",
    "MATCH (ptTotal:Admissions)\n",
    "WITH count(ptTotal) AS ptTotal\n",
    "MATCH (ad:Admissions)<-[:HAD]-(Pt:Patients)-[:HAD]-(lab:Labevents)-[:INSTANCE_OF]->(b:Concept)\n",
    "WHERE lab.flag IS NOT NULL\n",
    "WITH b.cui AS Lab_CUI, count(distinct(ad)) AS LabTotal, ptTotal, count(distinct(Pt)) AS Pt\n",
    "WHERE Pt > 20\n",
    "RETURN Lab_CUI, toFloat(LabTotal)/ptTotal AS Probability_Entity\n",
    "'''\n",
    "data = session.run(query)\n",
    "abnormal_lab_probabilities = pd.DataFrame([dict(record) for record in data])"
   ]
  },
  {
   "cell_type": "code",
   "execution_count": 7,
   "id": "dc2ca561-68f9-48b4-84ed-12be448e4935",
   "metadata": {},
   "outputs": [],
   "source": [
    "# Get the probability of each procedure in the general population\n",
    "query = '''\n",
    "MATCH (ptTotal:Admissions)\n",
    "WITH count(ptTotal) AS ptTotal\n",
    "MATCH (ad:Admissions)<-[:HAD]-(Pt:Patients)-[:HAD]->(proc:Procedures_Icd)\n",
    "WITH proc.icd9_code AS procedure_icd9_code, count(distinct(ad)) AS ProcTotal, ptTotal, count(distinct(Pt)) AS Pt\n",
    "WHERE Pt > 20\n",
    "RETURN procedure_icd9_code, toFloat(ProcTotal)/ptTotal AS Probability_Entity\n",
    "'''\n",
    "data = session.run(query)\n",
    "procedure_probabilities = pd.DataFrame([dict(record) for record in data])"
   ]
  },
  {
   "cell_type": "markdown",
   "id": "98a3f284-1e7c-493d-934c-8ced6cb0e6a1",
   "metadata": {},
   "source": [
    "## Find the probability of each pair of different entities of interest occuring together"
   ]
  },
  {
   "cell_type": "code",
   "execution_count": 8,
   "id": "ec08fda6-6d2a-4fc4-b3cf-a1f2f476f8c0",
   "metadata": {},
   "outputs": [],
   "source": [
    "def two_different_entities_conditional_probability_normalized(P_B_df, B_id, A_id, significance_threshold):\n",
    "    \n",
    "    # Calculate the co-occurance probability\n",
    "    P_A_given_B_df = pd.merge(combined_entities_df, P_B_df, on=B_id)\n",
    "    P_A_given_B_df['P_A_given_B'] = P_A_given_B_df.combined_entities_probability / (P_A_given_B_df.Probability_Entity)\n",
    "\n",
    "    # Normalize the co-occurance probability using the min-max method\n",
    "    P_A_given_B_df['normalized_P_A_given_B'] = (P_A_given_B_df.P_A_given_B-P_A_given_B_df.P_A_given_B.min())/(P_A_given_B_df.P_A_given_B.max()-P_A_given_B_df.P_A_given_B.min())\n",
    "\n",
    "    # Sort the dataframe\n",
    "    P_A_given_B_df.sort_values(by='normalized_P_A_given_B', ascending=False, inplace=True)\n",
    "    \n",
    "    # Keep only values with a conditional probability greater than a given significance threshold\n",
    "    P_A_given_B_df = P_A_given_B_df[P_A_given_B_df.normalized_P_A_given_B > significance_threshold]\n",
    "    \n",
    "    # Write out to CSV\n",
    "    timestamp = datetime.now().strftime(\"%Y-%m-%d_%H-%M-%S\")\n",
    "    filename = 'normalized_probability_of_'+A_id+'_given_'+B_id+'_'+timestamp+'.csv'\n",
    "    P_A_given_B_df.loc[:,[B_id, A_id, 'normalized_P_A_given_B']].to_csv(filename, index=False, header=False)\n",
    "    \n",
    "    return 'Saved results as '+filename"
   ]
  },
  {
   "cell_type": "code",
   "execution_count": 34,
   "id": "c3ce9c4a-cfc2-4d23-a2e7-dd829d0b6dd7",
   "metadata": {},
   "outputs": [],
   "source": [
    "def two_different_entities_co_occurrence_normalized(entity1_df, entity2_df, entity1_id, entity2_id, significance_threshold=0.2):\n",
    "    \n",
    "    # Calculate the co-occurance probability\n",
    "    co_occurrence_df = pd.merge(combined_entities_df, entity1_df, on=entity1_id)\n",
    "    co_occurrence_df = pd.merge(co_occurrence_df, entity2_df, on=entity2_id, suffixes=['_1', '_2'])\n",
    "    co_occurrence_df['co_occurrence_probability'] = co_occurrence_df.combined_entities_probability / (co_occurrence_df.Probability_Entity_1 + co_occurrence_df.Probability_Entity_2)\n",
    "\n",
    "    # Normalize the co-occurance probability using the min-max method\n",
    "    co_occurrence_df['normalized_co_occurrence_probability'] = (co_occurrence_df.co_occurrence_probability-co_occurrence_df.co_occurrence_probability.min())/(co_occurrence_df.co_occurrence_probability.max()-co_occurrence_df.co_occurrence_probability.min())\n",
    "\n",
    "    # Sort the dataframe\n",
    "    co_occurrence_df.sort_values(by='normalized_co_occurrence_probability', ascending=False, inplace=True)\n",
    "    \n",
    "    # Keep only rows with a co-occurence probability greater than a given significance threshold\n",
    "    co_occurrence_df = co_occurrence_df[co_occurrence_df.normalized_co_occurrence_probability > significance_threshold]\n",
    "    \n",
    "    # Write out to CSV\n",
    "    timestamp = datetime.now().strftime(\"%Y-%m-%d_%H-%M-%S\")\n",
    "    filename = 'normalized_co_occurrence_probability_'+entity1_id+'_'+entity2_id+'_'+timestamp+'.csv'\n",
    "    co_occurrence_df.loc[:,[entity1_id, entity2_id, 'normalized_co_occurrence_probability']].to_csv(filename, index=False, header=False)\n",
    "    \n",
    "    return 'Saved results as '+filename"
   ]
  },
  {
   "cell_type": "code",
   "execution_count": 63,
   "id": "d2e6e089-9047-41a2-9728-51766263ab17",
   "metadata": {},
   "outputs": [
    {
     "data": {
      "text/plain": [
       "'Saved results as normalized_co_occurrence_probability_Problem_CUI_Lab_CUI_2021-12-16_16-23-07.csv'"
      ]
     },
     "execution_count": 63,
     "metadata": {},
     "output_type": "execute_result"
    }
   ],
   "source": [
    "# Get the probability of each pair of abnormal lab and problem\n",
    "query = '''\n",
    "MATCH (ptTotal:Admissions)\n",
    "WITH count(ptTotal) AS ptTotal\n",
    "MATCH (ad:Admissions)<-[:HAD]-(Pt:Patients), (p:Problem)<-[:HAD_PROBLEM]-(Pt)-[:HAD]->(lab:Labevents)-[:INSTANCE_OF]->(c:Concept)\n",
    "WHERE lab.flag IS NOT NULL\n",
    "WITH p.cui AS Problem_CUI, c.cui AS Lab_CUI, count(distinct(ad)) AS combinedTotal, ptTotal, count(distinct(Pt)) AS Pts\n",
    "WHERE Pts > 20\n",
    "RETURN Problem_CUI, Lab_CUI, toFloat(combinedTotal)/ptTotal AS combined_entities_probability\n",
    "'''\n",
    "data = session.run(query)\n",
    "combined_entities_df = pd.DataFrame([dict(record) for record in data])\n",
    "\n",
    "two_different_entities_co_occurrence_normalized(\n",
    "    entity1_df=problem_probabilities, \n",
    "    entity2_df=abnormal_lab_probabilities, \n",
    "    entity1_id='Problem_CUI', \n",
    "    entity2_id='Lab_CUI')"
   ]
  },
  {
   "cell_type": "code",
   "execution_count": 9,
   "id": "113d11d5-b1ea-4ddb-9abd-b784405401c8",
   "metadata": {
    "tags": []
   },
   "outputs": [
    {
     "data": {
      "text/plain": [
       "'Saved results as normalized_probability_of_Rx_CUI_given_Problem_CUI_2022-01-27_06-49-01.csv'"
      ]
     },
     "execution_count": 9,
     "metadata": {},
     "output_type": "execute_result"
    }
   ],
   "source": [
    "# Get the probability of each pair of prescription and problem\n",
    "query = '''\n",
    "MATCH (ptTotal:Admissions)\n",
    "WITH count(ptTotal) AS ptTotal\n",
    "MATCH (ad:Admissions)<-[:HAD]-(Pt:Patients), (p:Problem)<-[:HAD_PROBLEM]-(Pt)-[:HAD]-(rx:Prescriptions)-[:INSTANCE_OF]->(c:Concept)\n",
    "WITH p.cui AS Problem_CUI, c.cui AS Rx_CUI, count(distinct(ad)) AS combinedTotal, ptTotal, count(distinct(Pt)) AS Pts\n",
    "WHERE Pts > 20\n",
    "RETURN Problem_CUI, Rx_CUI, toFloat(combinedTotal)/ptTotal AS combined_entities_probability\n",
    "'''\n",
    "data = session.run(query)\n",
    "combined_entities_df = pd.DataFrame([dict(record) for record in data])\n",
    "\n",
    "two_different_entities_co_occurrence_normalized(\n",
    "    entity1_df=problem_probabilities, \n",
    "    entity2_df=rx_probabilities, \n",
    "    entity1_id='Problem_CUI', \n",
    "    entity2_id='Rx_CUI')"
   ]
  },
  {
   "cell_type": "code",
   "execution_count": 35,
   "id": "385f92cc-2cd4-4c40-ac90-34a34d1fd790",
   "metadata": {},
   "outputs": [
    {
     "data": {
      "text/plain": [
       "'Saved results as normalized_co_occurrence_probability_Problem_CUI_procedure_icd9_code_2022-01-08_13-45-53.csv'"
      ]
     },
     "execution_count": 35,
     "metadata": {},
     "output_type": "execute_result"
    }
   ],
   "source": [
    "# Get the probability of each pair of procedure and problem\n",
    "query = '''\n",
    "MATCH (ptTotal:Admissions)\n",
    "WITH count(ptTotal) AS ptTotal\n",
    "MATCH (ad:Admissions)<-[:HAD]-(Pt:Patients), (p:Problem)<-[:HAD_PROBLEM]-(Pt)-[:HAD]->(proc:Procedures_Icd)\n",
    "WITH p.cui AS Problem_CUI, proc.icd9_code AS procedure_icd9_code, count(distinct(ad)) AS combinedTotal, ptTotal, count(distinct(Pt)) AS Pts\n",
    "WHERE Pts > 20\n",
    "RETURN Problem_CUI, procedure_icd9_code, toFloat(combinedTotal)/ptTotal AS combined_entities_probability\n",
    "'''\n",
    "data = session.run(query)\n",
    "combined_entities_df = pd.DataFrame([dict(record) for record in data])\n",
    "\n",
    "two_different_entities_co_occurrence_normalized(\n",
    "    entity1_df=problem_probabilities, \n",
    "    entity2_df=procedure_probabilities, \n",
    "    entity1_id='Problem_CUI', \n",
    "    entity2_id='procedure_icd9_code')"
   ]
  },
  {
   "cell_type": "code",
   "execution_count": 12,
   "id": "c3784e74-d5cc-4866-ac62-03c9aabb7b8c",
   "metadata": {},
   "outputs": [
    {
     "data": {
      "text/plain": [
       "'Saved results as normalized_co_occurrence_probability_Problem_CUI_dx_icd9_code_2022-01-08_10-59-40.csv'"
      ]
     },
     "execution_count": 12,
     "metadata": {},
     "output_type": "execute_result"
    }
   ],
   "source": [
    "# Get the probability of each pair of ICD diagnosis and problem\n",
    "query = '''\n",
    "MATCH (ptTotal:Admissions)\n",
    "WITH count(ptTotal) AS ptTotal\n",
    "MATCH (ad:Admissions)<-[:HAD]-(Pt:Patients), (p:Problem)<-[:HAD_PROBLEM]-(Pt)-[:HAD]->(dx:Diagnoses_Icd)\n",
    "WITH p.cui AS Problem_CUI, dx.icd9_code AS dx_icd9_code, count(distinct(ad)) AS combinedTotal, ptTotal, count(distinct(Pt)) AS Pts\n",
    "WHERE Pts > 20\n",
    "RETURN Problem_CUI, dx_icd9_code, toFloat(combinedTotal)/ptTotal AS combined_entities_probability\n",
    "'''\n",
    "data = session.run(query)\n",
    "combined_entities_df = pd.DataFrame([dict(record) for record in data])\n",
    "\n",
    "two_different_entities_co_occurrence_normalized(\n",
    "    entity1_df=problem_probabilities, \n",
    "    entity2_df=diagnosis_probabilities, \n",
    "    entity1_id='Problem_CUI', \n",
    "    entity2_id='dx_icd9_code')"
   ]
  },
  {
   "cell_type": "code",
   "execution_count": 14,
   "id": "f8cbafe3-833d-4abf-b5f6-1687675b0cff",
   "metadata": {},
   "outputs": [
    {
     "data": {
      "text/plain": [
       "'Saved results as normalized_co_occurrence_probability_dx_icd9_code_Lab_CUI_2022-01-08_13-16-29.csv'"
      ]
     },
     "execution_count": 14,
     "metadata": {},
     "output_type": "execute_result"
    }
   ],
   "source": [
    "# Get the probability of each pair of ICD diagnosis and abnormal lab\n",
    "query = '''\n",
    "MATCH (ptTotal:Admissions)\n",
    "WITH count(ptTotal) AS ptTotal\n",
    "MATCH (ad:Admissions)<-[:HAD]-(Pt:Patients), (dx:Diagnoses_Icd)<-[:HAD]-(Pt)-[:HAD]->(lab:Labevents)-[:INSTANCE_OF]->(c:Concept)\n",
    "WHERE lab.flag IS NOT NULL\n",
    "WITH dx.icd9_code AS dx_icd9_code, c.cui AS Lab_CUI, count(distinct(ad)) AS combinedTotal, ptTotal, count(distinct(Pt)) AS Pts\n",
    "WHERE Pts > 20\n",
    "RETURN dx_icd9_code, Lab_CUI, toFloat(combinedTotal)/ptTotal AS combined_entities_probability\n",
    "'''\n",
    "data = session.run(query)\n",
    "combined_entities_df = pd.DataFrame([dict(record) for record in data])\n",
    "\n",
    "two_different_entities_co_occurrence_normalized(\n",
    "    entity1_df=diagnosis_probabilities, \n",
    "    entity2_df=abnormal_lab_probabilities, \n",
    "    entity1_id='dx_icd9_code', \n",
    "    entity2_id='Lab_CUI')"
   ]
  },
  {
   "cell_type": "code",
   "execution_count": 36,
   "id": "e1001ca9-89cc-4f52-b35f-302bc0ab9dff",
   "metadata": {},
   "outputs": [
    {
     "data": {
      "text/plain": [
       "'Saved results as normalized_co_occurrence_probability_procedure_icd9_code_Lab_CUI_2022-01-08_13-48-13.csv'"
      ]
     },
     "execution_count": 36,
     "metadata": {},
     "output_type": "execute_result"
    }
   ],
   "source": [
    "# Get the probability of each pair of procedure and abnormal lab\n",
    "query = '''\n",
    "MATCH (ptTotal:Admissions)\n",
    "WITH count(ptTotal) AS ptTotal\n",
    "MATCH (ad:Admissions)<-[:HAD]-(Pt:Patients), (proc:Procedures_Icd)<-[:HAD]-(Pt)-[:HAD]->(lab:Labevents)-[:INSTANCE_OF]->(c:Concept)\n",
    "WHERE lab.flag IS NOT NULL\n",
    "WITH proc.icd9_code AS procedure_icd9_code, c.cui AS Lab_CUI, count(distinct(ad)) AS combinedTotal, ptTotal, count(distinct(Pt)) AS Pts\n",
    "WHERE Pts > 20\n",
    "RETURN procedure_icd9_code, Lab_CUI, toFloat(combinedTotal)/ptTotal AS combined_entities_probability\n",
    "'''\n",
    "data = session.run(query)\n",
    "combined_entities_df = pd.DataFrame([dict(record) for record in data])\n",
    "\n",
    "two_different_entities_co_occurrence_normalized(\n",
    "    entity1_df=procedure_probabilities, \n",
    "    entity2_df=abnormal_lab_probabilities, \n",
    "    entity1_id='procedure_icd9_code', \n",
    "    entity2_id='Lab_CUI')"
   ]
  },
  {
   "cell_type": "code",
   "execution_count": 13,
   "id": "56d40a08-acfd-479b-b373-802fa6cc338c",
   "metadata": {},
   "outputs": [
    {
     "data": {
      "text/plain": [
       "'Saved results as normalized_co_occurrence_probability_icd9_code_Rx_CUI_2021-12-17_08-54-58.csv'"
      ]
     },
     "execution_count": 13,
     "metadata": {},
     "output_type": "execute_result"
    }
   ],
   "source": [
    "# Get the probability of each pair of procedure and prescription\n",
    "query = '''\n",
    "MATCH (ptTotal:Admissions)\n",
    "WITH count(ptTotal) AS ptTotal\n",
    "MATCH (ad:Admissions)<-[:HAD]-(Pt:Patients), (proc:Procedures_Icd)<-[:HAD]-(Pt)-[:HAD]-(rx:Prescriptions)-[:INSTANCE_OF]->(c:Concept)\n",
    "WITH proc.icd9_code AS procedure_icd9_code, c.cui AS Rx_CUI, count(distinct(ad)) AS combinedTotal, ptTotal, count(distinct(Pt)) AS Pts\n",
    "WHERE Pts > 20\n",
    "RETURN procedure_icd9_code, Rx_CUI, toFloat(combinedTotal)/ptTotal AS combined_entities_probability\n",
    "'''\n",
    "data = session.run(query)\n",
    "combined_entities_df = pd.DataFrame([dict(record) for record in data])\n",
    "\n",
    "two_different_entities_co_occurrence_normalized(\n",
    "    entity1_df=procedure_probabilities, \n",
    "    entity2_df=rx_probabilities, \n",
    "    entity1_id='procedure_icd9_code', \n",
    "    entity2_id='Rx_CUI')"
   ]
  },
  {
   "cell_type": "code",
   "execution_count": 24,
   "id": "fc65dfdd-23ec-40ea-8333-11f77cd66558",
   "metadata": {
    "tags": []
   },
   "outputs": [
    {
     "data": {
      "text/plain": [
       "'Saved results as normalized_co_occurrence_probability_dx_icd9_code_Rx_CUI_2022-01-08_13-31-40.csv'"
      ]
     },
     "execution_count": 24,
     "metadata": {},
     "output_type": "execute_result"
    }
   ],
   "source": [
    "# Get the probability of each pair of ICD diagnosis and prescription\n",
    "query = '''\n",
    "MATCH (ptTotal:Admissions)\n",
    "WITH count(ptTotal) AS ptTotal\n",
    "MATCH (ad:Admissions)<-[:HAD]-(Pt:Patients), (dx:Diagnoses_Icd)<-[:HAD]-(Pt)-[:HAD]-(rx:Prescriptions)-[:INSTANCE_OF]->(c:Concept)\n",
    "WITH dx.icd9_code AS dx_icd9_code, c.cui AS Rx_CUI, count(distinct(ad)) AS combinedTotal, ptTotal, count(distinct(Pt)) AS Pts\n",
    "WHERE Pts > 20\n",
    "RETURN dx_icd9_code, Rx_CUI, toFloat(combinedTotal)/ptTotal AS combined_entities_probability\n",
    "'''\n",
    "data = session.run(query)\n",
    "combined_entities_df = pd.DataFrame([dict(record) for record in data])\n",
    "\n",
    "two_different_entities_co_occurrence_normalized(\n",
    "    entity1_df=diagnosis_probabilities, \n",
    "    entity2_df=rx_probabilities, \n",
    "    entity1_id='dx_icd9_code', \n",
    "    entity2_id='Rx_CUI')"
   ]
  },
  {
   "cell_type": "code",
   "execution_count": 26,
   "id": "bc1e5ea1-eba2-496c-80a5-a0bf40ccab3b",
   "metadata": {},
   "outputs": [
    {
     "data": {
      "text/plain": [
       "'Saved results as normalized_co_occurrence_probability_procedure_icd9_code_dx_icd9_code_2022-01-08_13-40-55.csv'"
      ]
     },
     "execution_count": 26,
     "metadata": {},
     "output_type": "execute_result"
    }
   ],
   "source": [
    "# Get the probability of each pair of procedure and ICD diagnosis\n",
    "query = '''\n",
    "MATCH (ptTotal:Admissions)\n",
    "WITH count(ptTotal) AS ptTotal\n",
    "MATCH (ad:Admissions)<-[:HAD]-(Pt:Patients), (proc:Procedures_Icd)<-[:HAD]-(Pt)-[:HAD]->(dx:Diagnoses_Icd)\n",
    "WITH proc.icd9_code AS procedure_icd9_code, dx.icd9_code AS dx_icd9_code, count(distinct(ad)) AS combinedTotal, ptTotal, count(distinct(Pt)) AS Pts\n",
    "WHERE Pts > 20\n",
    "RETURN procedure_icd9_code, dx_icd9_code, toFloat(combinedTotal)/ptTotal AS combined_entities_probability\n",
    "'''\n",
    "data = session.run(query)\n",
    "combined_entities_df = pd.DataFrame([dict(record) for record in data])\n",
    "\n",
    "two_different_entities_co_occurrence_normalized(\n",
    "    entity1_df=procedure_probabilities, \n",
    "    entity2_df=diagnosis_probabilities, \n",
    "    entity1_id='procedure_icd9_code', \n",
    "    entity2_id='dx_icd9_code')"
   ]
  },
  {
   "cell_type": "code",
   "execution_count": 7,
   "id": "d042f144-0d53-4dad-a27e-045b36e19170",
   "metadata": {},
   "outputs": [
    {
     "data": {
      "text/plain": [
       "'Saved results as normalized_co_occurrence_probability_Rx_CUI_Lab_CUI_2021-12-17_09-20-27.csv'"
      ]
     },
     "execution_count": 7,
     "metadata": {},
     "output_type": "execute_result"
    }
   ],
   "source": [
    "# Get the probability of each pair of prescription and abnormal lab\n",
    "query = '''\n",
    "MATCH (ptTotal:Admissions)\n",
    "WITH count(ptTotal) AS ptTotal\n",
    "MATCH (ad:Admissions)<-[:HAD]-(Pt:Patients), (c1:Concept)<-[:INSTANCE_OF]-(rx:Prescriptions)<-[:HAD]-(Pt)-[:HAD]->(lab:Labevents)-[:INSTANCE_OF]->(c2:Concept)\n",
    "WHERE lab.flag IS NOT NULL\n",
    "WITH c1.cui AS Rx_CUI, c2.cui AS Lab_CUI, count(distinct(ad)) AS combinedTotal, ptTotal, count(distinct(Pt)) AS Pts\n",
    "WHERE Pts > 20\n",
    "RETURN Rx_CUI, Lab_CUI, toFloat(combinedTotal)/ptTotal AS combined_entities_probability\n",
    "'''\n",
    "data = session.run(query)\n",
    "combined_entities_df = pd.DataFrame([dict(record) for record in data])\n",
    "\n",
    "two_different_entities_co_occurrence_normalized(\n",
    "    entity1_df=rx_probabilities, \n",
    "    entity2_df=abnormal_lab_probabilities, \n",
    "    entity1_id='Rx_CUI', \n",
    "    entity2_id='Lab_CUI')"
   ]
  },
  {
   "cell_type": "markdown",
   "id": "b12cbbc4-7c2b-4e33-94cc-9f376f636792",
   "metadata": {},
   "source": [
    "## Find the probability of each entity of interest occuring with another of its kind (e.g. problems with problems)"
   ]
  },
  {
   "cell_type": "code",
   "execution_count": 6,
   "id": "5b408759-c3ae-4988-82e8-a2015f94bc44",
   "metadata": {},
   "outputs": [],
   "source": [
    "def pair_same_entity_co_occurrence_normalized(entity_df, entity_id):\n",
    "    \n",
    "    entity1_id = entity_id+'_1'\n",
    "    entity2_id = entity_id+'_2'\n",
    "    \n",
    "    # Calculate the co-occurance probability\n",
    "    co_occurrence_df = pd.merge(combined_entities_df, entity_df, left_on=entity1_id, right_on=entity_id)\n",
    "    \n",
    "    co_occurrence_df = pd.merge(co_occurrence_df, entity_df, left_on=entity2_id, right_on=entity_id)\n",
    "    co_occurrence_df['co_occurrence_probability'] = co_occurrence_df.combined_entities_probability / (co_occurrence_df.Probability_Entity_x + co_occurrence_df.Probability_Entity_y)\n",
    "    \n",
    "    # Drop duplicates\n",
    "    co_occurrence_df['ID_pair'] = co_occurrence_df.loc[:,[entity1_id, entity2_id]].values.tolist()\n",
    "    co_occurrence_df.ID_pair.apply(lambda x: x.sort())\n",
    "    co_occurrence_df[[entity1_id,entity2_id]] = pd.DataFrame(co_occurrence_df.ID_pair.tolist(), index= co_occurrence_df.index)\n",
    "    co_occurrence_df.drop_duplicates(subset=[entity1_id,entity2_id], inplace=True)\n",
    "    \n",
    "    # Normalize the co-occurance probability using the min-max method\n",
    "    co_occurrence_df['normalized_co_occurrence_probability'] = (co_occurrence_df.co_occurrence_probability-co_occurrence_df.co_occurrence_probability.min())/(co_occurrence_df.co_occurrence_probability.max()-co_occurrence_df.co_occurrence_probability.min())\n",
    "    \n",
    "    # Sort the dataframe\n",
    "    co_occurrence_df.sort_values(by='normalized_co_occurrence_probability', ascending=False, inplace=True)\n",
    "    \n",
    "    # Write out to CSV\n",
    "    timestamp = datetime.now().strftime(\"%Y-%m-%d_%H-%M-%S\")\n",
    "    filename = 'normalized_co_occurrence_probability_paired_'+entity_id+'_'+timestamp+'.csv'\n",
    "    co_occurrence_df.loc[:,[entity1_id, entity2_id, 'normalized_co_occurrence_probability']].to_csv(filename, index=False, header=False)\n",
    "    \n",
    "    return 'Saved results as '+filename"
   ]
  },
  {
   "cell_type": "code",
   "execution_count": 106,
   "id": "517734e7-fd39-465c-b313-8c39fda386c0",
   "metadata": {},
   "outputs": [
    {
     "data": {
      "text/plain": [
       "'Saved results as normalized_co_occurrence_probability_paired_Problem_CUI_2021-12-17_07-32-44.csv'"
      ]
     },
     "execution_count": 106,
     "metadata": {},
     "output_type": "execute_result"
    }
   ],
   "source": [
    "# Get the probability of each pair of problems co-occuring\n",
    "query = '''\n",
    "MATCH (ptTotal:Admissions)\n",
    "WITH count(ptTotal) AS ptTotal\n",
    "MATCH (ad:Admissions)<-[:HAD]-(Pt:Patients), (p1:Problem)<-[:HAD_PROBLEM]-(Pt)-[:HAD_PROBLEM]->(p2:Problem)\n",
    "WHERE p1.cui <> p2.cui\n",
    "WITH p1.cui AS Problem_CUI_1, p2.cui AS Problem_CUI_2, count(distinct(ad)) AS ProblemPairTotal, ptTotal\n",
    "RETURN Problem_CUI_1, Problem_CUI_2, toFloat(ProblemPairTotal)/ptTotal AS combined_entities_probability\n",
    "'''\n",
    "data = session.run(query)\n",
    "combined_entities_df = pd.DataFrame([dict(record) for record in data])\n",
    "\n",
    "pair_same_entity_co_occurrence_normalized(\n",
    "    entity_df = problem_probabilities,\n",
    "    entity_id = 'Problem_CUI')"
   ]
  },
  {
   "cell_type": "code",
   "execution_count": 7,
   "id": "27430999-699b-40ff-aa8b-6175d01ae841",
   "metadata": {},
   "outputs": [
    {
     "data": {
      "text/plain": [
       "'Saved results as normalized_co_occurrence_probability_paired_Lab_CUI_2021-12-17_15-18-35.csv'"
      ]
     },
     "execution_count": 7,
     "metadata": {},
     "output_type": "execute_result"
    }
   ],
   "source": [
    "# Get the probability of each pair of abnormal lab events co-occuring\n",
    "query = '''\n",
    "MATCH (ptTotal:Admissions)\n",
    "WITH count(ptTotal) AS ptTotal\n",
    "MATCH (p1:Concept)<-[:INSTANCE_OF]-(lab1:Labevents)-[:OCCURRED_DURING]->(ad:Admissions)<-[:OCCURRED_DURING]-(lab2:Labevents)-[:INSTANCE_OF]->(p2:Concept)\n",
    "WHERE lab1.flag IS NOT NULL AND lab2.flag IS NOT NULL AND p1.cui <> p2.cui\n",
    "WITH p1.cui AS Lab_CUI_1, p2.cui AS Lab_CUI_2, count(distinct(ad)) AS ProblemPairTotal, ptTotal\n",
    "RETURN Lab_CUI_1, Lab_CUI_2, toFloat(ProblemPairTotal)/ptTotal AS combined_entities_probability\n",
    "'''\n",
    "data = session.run(query)\n",
    "combined_entities_df = pd.DataFrame([dict(record) for record in data])\n",
    "\n",
    "pair_same_entity_co_occurrence_normalized(\n",
    "    entity_df = abnormal_lab_probabilities,\n",
    "    entity_id = 'Lab_CUI')"
   ]
  },
  {
   "cell_type": "code",
   "execution_count": 11,
   "id": "4a3cc9d5-0280-468f-b474-0cea7d5027de",
   "metadata": {},
   "outputs": [
    {
     "data": {
      "text/plain": [
       "'Saved results as normalized_co_occurrence_probability_paired_procedure_icd9_code_2021-12-17_16-09-08.csv'"
      ]
     },
     "execution_count": 11,
     "metadata": {},
     "output_type": "execute_result"
    }
   ],
   "source": [
    "# Get the probability of each pair of procedures co-occuring\n",
    "query = '''\n",
    "MATCH (ptTotal:Admissions)\n",
    "WITH count(ptTotal) AS ptTotal\n",
    "MATCH (ad:Admissions)<-[:HAD]-(Pt:Patients), (p1:Procedures_Icd)<-[:HAD]-(Pt)-[:HAD]->(p2:Procedures_Icd)\n",
    "WHERE p1.icd9_code <> p2.icd9_code\n",
    "WITH p1.icd9_code AS procedure_icd9_code_1, p2.icd9_code AS procedure_icd9_code_2, count(distinct(ad)) AS ProblemPairTotal, ptTotal\n",
    "RETURN procedure_icd9_code_1, procedure_icd9_code_2, toFloat(ProblemPairTotal)/ptTotal AS combined_entities_probability\n",
    "'''\n",
    "data = session.run(query)\n",
    "combined_entities_df = pd.DataFrame([dict(record) for record in data])\n",
    "\n",
    "pair_same_entity_co_occurrence_normalized(\n",
    "    entity_df = procedure_probabilities,\n",
    "    entity_id = 'procedure_icd9_code')"
   ]
  },
  {
   "cell_type": "code",
   "execution_count": 9,
   "id": "af6e68e7-5815-4cc2-a501-cc6aa19f1a0c",
   "metadata": {},
   "outputs": [
    {
     "data": {
      "text/plain": [
       "'Saved results as normalized_co_occurrence_probability_paired_dx_icd9_code_2021-12-17_16-06-52.csv'"
      ]
     },
     "execution_count": 9,
     "metadata": {},
     "output_type": "execute_result"
    }
   ],
   "source": [
    "# Get the probability of each pair of diagnoses co-occuring\n",
    "query = '''\n",
    "MATCH (ptTotal:Admissions)\n",
    "WITH count(ptTotal) AS ptTotal\n",
    "MATCH (ad:Admissions)<-[:HAD]-(Pt:Patients), (p1:Diagnoses_Icd)<-[:HAD]-(Pt)-[:HAD]->(p2:Diagnoses_Icd)\n",
    "WHERE p1.icd9_code <> p2.icd9_code\n",
    "WITH p1.icd9_code AS dx_icd9_code_1, p2.icd9_code AS dx_icd9_code_2, count(distinct(ad)) AS ProblemPairTotal, ptTotal\n",
    "RETURN dx_icd9_code_1, dx_icd9_code_2, toFloat(ProblemPairTotal)/ptTotal AS combined_entities_probability\n",
    "'''\n",
    "data = session.run(query)\n",
    "combined_entities_df = pd.DataFrame([dict(record) for record in data])\n",
    "\n",
    "pair_same_entity_co_occurrence_normalized(\n",
    "    entity_df = diagnosis_probabilities,\n",
    "    entity_id = 'dx_icd9_code')"
   ]
  },
  {
   "cell_type": "code",
   "execution_count": 20,
   "id": "0be35abf-c8fa-43a6-b19e-e5ad50b051d1",
   "metadata": {},
   "outputs": [
    {
     "data": {
      "text/plain": [
       "'Saved results as normalized_co_occurrence_probability_paired_Rx_CUI_2021-12-17_11-24-12.csv'"
      ]
     },
     "execution_count": 20,
     "metadata": {},
     "output_type": "execute_result"
    }
   ],
   "source": [
    "# Get the probability of each pair of prescriptions co-occuring\n",
    "query = '''\n",
    "MATCH (ptTotal:Admissions)\n",
    "WITH count(ptTotal) AS ptTotal\n",
    "MATCH (ad:Admissions)<-[:HAD]-(Pt:Patients), (p1:Concept)<-[:INSTANCE_OF]-(:Prescriptions)<-[:HAD]-(Pt)-[:HAD]-(:Prescriptions)-[:INSTANCE_OF]->(p2:Concept)\n",
    "WHERE p1.cui <> p2.cui\n",
    "WITH p1.cui AS Rx_CUI_1, p2.cui AS Rx_CUI_2, count(distinct(ad)) AS ProblemPairTotal, ptTotal\n",
    "RETURN Rx_CUI_1, Rx_CUI_2, toFloat(ProblemPairTotal)/ptTotal AS combined_entities_probability\n",
    "'''\n",
    "data = session.run(query)\n",
    "combined_entities_df = pd.DataFrame([dict(record) for record in data])\n",
    "\n",
    "pair_same_entity_co_occurrence_normalized(\n",
    "    entity_df = rx_probabilities,\n",
    "    entity_id = 'Rx_CUI')"
   ]
  },
  {
   "cell_type": "markdown",
   "id": "e3694005-21ad-4f1a-b6c8-cf33c32aa1ee",
   "metadata": {},
   "source": [
    "## Determine significance thresholds for the normalized probability of co-occurance for each pair of entities  \n",
    "\n",
    "![problems x problems](images/normalized_co_occurence_problem_pair.png)  \n",
    "(Picture above) Normalized co-occurence probabilities for problem pairs. \n",
    "\n",
    "![rx x rx](images/normalized_co_occurence_prescription_pair.png)  \n",
    "(Picture above) Normalized co-occurence probabilities for prescription pairs. \n",
    "\n",
    "![procedures x procedures](images/normalized_co_occurence_procedures_pair.png)  \n",
    "(Picture above) Normalized co-occurence probabilities for procedure pairs. \n",
    "\n",
    "![icd diagnoses x icd diagnoses](images/normalized_co_occurence_icd_dx_pair.png)  \n",
    "(Picture above) Normalized co-occurence probabilities for icd diagnosis pairs. \n",
    "\n",
    "![labs x labs](images/normalized_co_occurence_abnormal_lab_pair.png)  \n",
    "(Picture above) Normalized co-occurence probabilities for abnormal lab pairs. \n",
    "\n",
    "![labs x rx](images/normalized_co_occurence_labs_x_prescriptions.png)  \n",
    "(Picture above) Normalized co-occurence probabilities for abnormal labs and prescriptions. \n",
    "\n",
    "![labs x procedures](images/normalized_co_occurence_procedures_x_labs.png)  \n",
    "(Picture above) Normalized co-occurence probabilities for abnormal labs and procedures. \n",
    "\n",
    "![labs x problems](images/normalized_co_occurence_problem_x_abnormal_labs.png)  \n",
    "(Picture above) Normalized co-occurence probabilities for problems and abnormal labs. \n",
    "\n",
    "![rx x problems](images/normalized_co_occurence_problem_x_prescriptions.png)  \n",
    "(Picture above) Normalized co-occurence probabilities for problems and prescriptions. \n",
    "\n",
    "![procedures x problems](images/normalized_co_occurence_problem_x_procedures.png)  \n",
    "(Picture above) Normalized co-occurence probabilities for problems and procedures. \n",
    "\n",
    "![rx x procedures](images/normalized_co_occurence_procedures_x_prescriptions.png)  \n",
    "(Picture above) Normalized co-occurence probabilities for prescriptions and procedures. "
   ]
  },
  {
   "cell_type": "markdown",
   "id": "ad5b63cb-7b1f-43fd-baa7-a49d56d97b51",
   "metadata": {},
   "source": [
    "We can take a very rough estimate that a normalized co-occurence probability > 0.2 will eliminate the great majority of noise from the OCCURS_WITH relationships. This assumes that the nearly horizontal portion of each graph above represents noise, and the nearly vertical section represents signal. "
   ]
  },
  {
   "cell_type": "code",
   "execution_count": 110,
   "id": "87808d92-895b-4b5a-b628-954430e73d90",
   "metadata": {},
   "outputs": [],
   "source": [
    "# COLUMN[0] is ICD code, COLUMN[1] is CUI\n",
    "icd_cui_filenames = [\n",
    "'normalized_co_occurrence_probability_dx_icd9_code_Lab_CUI_2022-01-08_13-16-29.csv', \n",
    "'normalized_co_occurrence_probability_dx_icd9_code_Rx_CUI_2022-01-08_13-31-40.csv', \n",
    "'normalized_co_occurrence_probability_procedure_icd9_code_Lab_CUI_2022-01-08_13-48-13.csv'\n",
    "]\n",
    "\n",
    "# COLUMN[0] is CUI, COLUMN[1] is ICD code\n",
    "cui_icd_filenames = [\n",
    "'normalized_co_occurrence_probability_Problem_CUI_dx_icd9_code_2022-01-08_10-59-40.csv', \n",
    "'normalized_co_occurrence_probability_Problem_CUI_procedure_icd9_code_2022-01-08_13-45-53.csv'\n",
    "]\n",
    "\n",
    "# Both columns are ICD codes\n",
    "icd_filenames = [\n",
    "'normalized_co_occurrence_probability_paired_dx_icd9_code_2021-12-17_16-06-52.csv', \n",
    "'normalized_co_occurrence_probability_paired_procedure_icd9_code_2021-12-17_16-09-08.csv', \n",
    "'normalized_co_occurrence_probability_procedure_icd9_code_dx_icd9_code_2022-01-08_13-40-55.csv'\n",
    "]\n",
    "\n",
    "# Both columns are CUIs\n",
    "cui_filenames = [\n",
    "'normalized_co_occurrence_probability_paired_Lab_CUI_2021-12-17_15-18-35.csv', \n",
    "'normalized_co_occurrence_probability_paired_Problem_CUI_2021-12-17_07-32-44.csv', \n",
    "'normalized_co_occurrence_probability_paired_Rx_CUI_2021-12-17_11-24-12.csv', \n",
    "'normalized_co_occurrence_probability_Rx_CUI_Lab_CUI_2021-12-17_09-20-27.csv',\n",
    "'normalized_co_occurrence_probability_Problem_CUI_Lab_CUI_2021-12-16_16-23-07.csv', \n",
    "'normalized_co_occurrence_probability_Problem_CUI_Rx_CUI_2021-12-16_16-36-33.csv'\n",
    "]"
   ]
  },
  {
   "cell_type": "code",
   "execution_count": 117,
   "id": "a0b3cf40-eaff-4fae-a8b0-de39c97a0059",
   "metadata": {},
   "outputs": [],
   "source": [
    "# Cut each file down to include only OCCURS_WITH relationships with normalized co_occurrence_probability > 0.2\n",
    "all_files = icd_cui_filenames + cui_icd_filenames + icd_filenames + cui_filenames\n",
    "for file in all_files:\n",
    "    trimmed_file = pd.read_csv(file, header=None)\n",
    "    trimmed_file = trimmed_file[trimmed_file[2] > 0.2]\n",
    "    trimmed_file.to_csv(file, index=False, header=False)"
   ]
  },
  {
   "cell_type": "markdown",
   "id": "b36a183f-5b1e-4894-bb66-1ca1f0145294",
   "metadata": {},
   "source": [
    "## Import 2-way co-occurrence nodes/relationships into the graph\n",
    "Move the relevant CSV files (created above) into the database's Import folder"
   ]
  },
  {
   "cell_type": "code",
   "execution_count": 128,
   "id": "54c1a13f-e31d-4d9c-956a-f2209832c7d7",
   "metadata": {},
   "outputs": [],
   "source": [
    "# Import the CUI-based co-occurance probabilities into the database\n",
    "timestamp = datetime.now().strftime(\"%Y-%m-%dT%H:%M:%S\")\n",
    "\n",
    "def import_cui_co_occurances(filename):\n",
    "    command = '''\n",
    "    USING PERIODIC COMMIT 100000 LOAD CSV FROM \"file:///{filename}\" AS COLUMN\n",
    "    MATCH (c1:Concept)\n",
    "    WHERE c1.cui = COLUMN[0] AND c1.cui_pref_term IS NOT NULL\n",
    "    MATCH (c2:Concept)\n",
    "    WHERE c2.cui = COLUMN[1] AND c2.cui_pref_term IS NOT NULL\n",
    "    CREATE (c1)<-[r:OCCURS_WITH {{co_occurrence_probability:toFloat(COLUMN[2]), source:'MIMIC-III v1.4', updated:'{timestamp}'}}]-(c2)\n",
    "    '''.format(timestamp=timestamp, filename=filename)\n",
    "    session.run(command)"
   ]
  },
  {
   "cell_type": "code",
   "execution_count": 129,
   "id": "7b0d600c-1b53-4811-9001-bfb695be7be6",
   "metadata": {},
   "outputs": [
    {
     "name": "stdout",
     "output_type": "stream",
     "text": [
      "Imported normalized_co_occurrence_probability_paired_Lab_CUI_2021-12-17_15-18-35.csv\n",
      "Imported normalized_co_occurrence_probability_paired_Problem_CUI_2021-12-17_07-32-44.csv\n",
      "Imported normalized_co_occurrence_probability_paired_Rx_CUI_2021-12-17_11-24-12.csv\n",
      "Imported normalized_co_occurrence_probability_Rx_CUI_Lab_CUI_2021-12-17_09-20-27.csv\n",
      "Imported normalized_co_occurrence_probability_Problem_CUI_Lab_CUI_2021-12-16_16-23-07.csv\n",
      "Imported normalized_co_occurrence_probability_Problem_CUI_Rx_CUI_2021-12-16_16-36-33.csv\n"
     ]
    }
   ],
   "source": [
    "for filename in cui_filenames:\n",
    "    import_cui_co_occurances(filename)\n",
    "    print('Imported '+filename)"
   ]
  },
  {
   "cell_type": "code",
   "execution_count": 120,
   "id": "7adb5158-7d3b-4f99-9f8e-ee055528d383",
   "metadata": {},
   "outputs": [],
   "source": [
    "# Import the icd-based, cui-based co-occurance probabilities into the database\n",
    "timestamp = datetime.now().strftime(\"%Y-%m-%dT%H:%M:%S\")\n",
    "\n",
    "def import_icd_cui_co_occurances(filename):\n",
    "    command = '''\n",
    "    USING PERIODIC COMMIT 100000 LOAD CSV FROM \"file:///{filename}\" AS COLUMN\n",
    "    MATCH (c1)\n",
    "    WHERE (c1:D_Icd_Diagnoses OR c1:D_Icd_Procedures) AND c1.icd9_code = COLUMN[0]\n",
    "    MATCH (c2:Concept)\n",
    "    WHERE c2.cui = COLUMN[1] AND c2.cui_pref_term IS NOT NULL\n",
    "    CREATE (c1)<-[r:OCCURS_WITH {{co_occurrence_probability:toFloat(COLUMN[2]), source:'MIMIC-III v1.4', updated:'{timestamp}'}}]-(c2)\n",
    "    '''.format(timestamp=timestamp, filename=filename)\n",
    "    session.run(command)"
   ]
  },
  {
   "cell_type": "code",
   "execution_count": 121,
   "id": "476b6e3c-f57b-4a04-9385-b62a02501724",
   "metadata": {},
   "outputs": [
    {
     "data": {
      "text/plain": [
       "<neo4j.work.result.Result at 0x7f45081bd190>"
      ]
     },
     "execution_count": 121,
     "metadata": {},
     "output_type": "execute_result"
    }
   ],
   "source": [
    "command = '''\n",
    "CREATE BTREE INDEX dx_icd9 IF NOT EXISTS\n",
    "FOR (n:D_Icd_Diagnoses)\n",
    "ON (n.icd9_code)'''\n",
    "session.run(command)"
   ]
  },
  {
   "cell_type": "code",
   "execution_count": 122,
   "id": "9b766250-abf1-4393-9265-aeb2640a40fa",
   "metadata": {},
   "outputs": [
    {
     "data": {
      "text/plain": [
       "<neo4j.work.result.Result at 0x7f4506b8dbb0>"
      ]
     },
     "execution_count": 122,
     "metadata": {},
     "output_type": "execute_result"
    }
   ],
   "source": [
    "command = '''\n",
    "CREATE BTREE INDEX procedure_icd9 IF NOT EXISTS\n",
    "FOR (n:D_Icd_Procedures)\n",
    "ON (n.icd9_code)'''\n",
    "session.run(command)"
   ]
  },
  {
   "cell_type": "code",
   "execution_count": 123,
   "id": "5299f67c-a561-4f5b-b48b-ce02221871d7",
   "metadata": {},
   "outputs": [
    {
     "name": "stdout",
     "output_type": "stream",
     "text": [
      "Imported normalized_co_occurrence_probability_dx_icd9_code_Lab_CUI_2022-01-08_13-16-29.csv\n",
      "Imported normalized_co_occurrence_probability_dx_icd9_code_Rx_CUI_2022-01-08_13-31-40.csv\n",
      "Imported normalized_co_occurrence_probability_procedure_icd9_code_Lab_CUI_2022-01-08_13-48-13.csv\n"
     ]
    }
   ],
   "source": [
    "for filename in icd_cui_filenames:\n",
    "    import_icd_cui_co_occurances(filename)\n",
    "    print('Imported '+filename)"
   ]
  },
  {
   "cell_type": "code",
   "execution_count": 124,
   "id": "9486e6a8-b411-4438-ba07-71745eaca79a",
   "metadata": {},
   "outputs": [],
   "source": [
    "# Import the cui-based, icd-based co-occurance probabilities into the database\n",
    "timestamp = datetime.now().strftime(\"%Y-%m-%dT%H:%M:%S\")\n",
    "\n",
    "def import_cui_icd_co_occurances(filename):\n",
    "    command = '''\n",
    "    USING PERIODIC COMMIT 100000 LOAD CSV FROM \"file:///{filename}\" AS COLUMN\n",
    "    MATCH (c1:Concept)\n",
    "    WHERE c1.cui = COLUMN[0] AND c1.cui_pref_term IS NOT NULL\n",
    "    MATCH (c2)\n",
    "    WHERE (c2:D_Icd_Diagnoses OR c2:D_Icd_Procedures) AND c2.icd9_code = COLUMN[1]\n",
    "    CREATE (c1)<-[r:OCCURS_WITH {{co_occurrence_probability:toFloat(COLUMN[2]), source:'MIMIC-III v1.4', updated:'{timestamp}'}}]-(c2)\n",
    "    '''.format(timestamp=timestamp, filename=filename)\n",
    "    session.run(command)"
   ]
  },
  {
   "cell_type": "code",
   "execution_count": 125,
   "id": "4c946a92-5c43-4829-aa17-1853995f4b32",
   "metadata": {},
   "outputs": [
    {
     "name": "stdout",
     "output_type": "stream",
     "text": [
      "Imported normalized_co_occurrence_probability_Problem_CUI_dx_icd9_code_2022-01-08_10-59-40.csv\n",
      "Imported normalized_co_occurrence_probability_Problem_CUI_procedure_icd9_code_2022-01-08_13-45-53.csv\n"
     ]
    }
   ],
   "source": [
    "for filename in cui_icd_filenames:\n",
    "    import_cui_icd_co_occurances(filename)\n",
    "    print('Imported '+filename)"
   ]
  },
  {
   "cell_type": "code",
   "execution_count": 126,
   "id": "1275a54d-45f0-4b06-afd7-abfe46140f08",
   "metadata": {},
   "outputs": [],
   "source": [
    "# Import the icd-based co-occurance probabilities into the database\n",
    "timestamp = datetime.now().strftime(\"%Y-%m-%dT%H:%M:%S\")\n",
    "\n",
    "def import_icd_co_occurances(filename):\n",
    "    command = '''\n",
    "    USING PERIODIC COMMIT 100000 LOAD CSV FROM \"file:///{filename}\" AS COLUMN\n",
    "    MATCH (c1)\n",
    "    WHERE (c1:D_Icd_Diagnoses OR c1:D_Icd_Procedures) AND c1.icd9_code = COLUMN[0]\n",
    "    MATCH (c2)\n",
    "    WHERE (c2:D_Icd_Diagnoses OR c2:D_Icd_Procedures) AND c2.icd9_code = COLUMN[1]\n",
    "    CREATE (c1)<-[r:OCCURS_WITH {{co_occurrence_probability:toFloat(COLUMN[2]), source:'MIMIC-III v1.4', updated:'{timestamp}'}}]-(c2)\n",
    "    '''.format(timestamp=timestamp, filename=filename)\n",
    "    session.run(command)"
   ]
  },
  {
   "cell_type": "code",
   "execution_count": 127,
   "id": "085875bd-8eeb-49b1-b044-4085ab4ff4d4",
   "metadata": {},
   "outputs": [
    {
     "name": "stdout",
     "output_type": "stream",
     "text": [
      "Imported normalized_co_occurrence_probability_paired_dx_icd9_code_2021-12-17_16-06-52.csv\n",
      "Imported normalized_co_occurrence_probability_paired_procedure_icd9_code_2021-12-17_16-09-08.csv\n",
      "Imported normalized_co_occurrence_probability_procedure_icd9_code_dx_icd9_code_2022-01-08_13-40-55.csv\n"
     ]
    }
   ],
   "source": [
    "for filename in icd_filenames:\n",
    "    import_icd_co_occurances(filename)\n",
    "    print('Imported '+filename)"
   ]
  },
  {
   "cell_type": "markdown",
   "id": "0b3a255d-c1be-4722-a2a1-9928d553a9bf",
   "metadata": {},
   "source": [
    "## Queries"
   ]
  },
  {
   "cell_type": "code",
   "execution_count": 33,
   "id": "7b2be86a-7b95-42cb-9c2d-532e087533c2",
   "metadata": {},
   "outputs": [],
   "source": [
    "def PotentialComorbidities(cui_prob_list):\n",
    "    \n",
    "    # Get NLP-derived problem matches\n",
    "    query = '''\n",
    "    MATCH p=(ord:Concept)-[r:OCCURS_WITH]->(c:Concept) \n",
    "    WHERE c.cui IN {cui_prob_list} AND ord.semantic_type IN [\"['Pathologic Function']\", \"['Disease or Syndrome']\", \"['Mental or Behavioral Dysfunction']\", \"['Sign or Symptom']\", \"['Injury or Poisoning']\", \"['Neoplastic Process']\"]\n",
    "    WITH round(r.co_occurrence_probability, 5) AS Score, ord, r, c\n",
    "    RETURN c.cui AS `Known_CUI`, c.term AS `Known_Problem`, ord.cui AS `CUI`, ord.term AS `Problem`, Score\n",
    "    ORDER BY r.co_occurrence_probability DESC\n",
    "    LIMIT 10\n",
    "    '''.format(cui_prob_list=cui_prob_list)\n",
    "    data = session.run(query)\n",
    "    likely_comorbidities_NLP = pd.DataFrame([dict(record) for record in data])\n",
    "    \n",
    "    # Get ICD-coded problem matches\n",
    "    query = '''\n",
    "    MATCH p=(ord:D_Icd_Diagnoses)-[r:OCCURS_WITH]->(c:Concept) \n",
    "    WHERE c.cui IN {cui_prob_list} \n",
    "    WITH round(r.co_occurrence_probability, 5) AS Score, ord, r, c\n",
    "    RETURN c.cui AS `Known_CUI`, c.term AS `Known_Problem`, ord.icd9_code AS `CUI`, ord.long_title AS `Problem`, Score\n",
    "    ORDER BY r.co_occurrence_probability DESC\n",
    "    LIMIT 10\n",
    "    '''.format(cui_prob_list=cui_prob_list)\n",
    "    data = session.run(query)\n",
    "    likely_comorbidities_ICD = pd.DataFrame([dict(record) for record in data])\n",
    "    \n",
    "    # Combine the NLP-derived and ICD-coded dataframes for output\n",
    "    likely_comorbidities = likely_comorbidities_NLP.append(likely_comorbidities_ICD)\n",
    "    likely_comorbidities.sort_values(by='Score', ascending=False, inplace=True)\n",
    "    \n",
    "    return likely_comorbidities.head(10)"
   ]
  },
  {
   "cell_type": "code",
   "execution_count": 34,
   "id": "9a113a9e-b9c2-4055-ab3c-929102af012a",
   "metadata": {},
   "outputs": [
    {
     "data": {
      "text/html": [
       "<div>\n",
       "<style scoped>\n",
       "    .dataframe tbody tr th:only-of-type {\n",
       "        vertical-align: middle;\n",
       "    }\n",
       "\n",
       "    .dataframe tbody tr th {\n",
       "        vertical-align: top;\n",
       "    }\n",
       "\n",
       "    .dataframe thead th {\n",
       "        text-align: right;\n",
       "    }\n",
       "</style>\n",
       "<table border=\"1\" class=\"dataframe\">\n",
       "  <thead>\n",
       "    <tr style=\"text-align: right;\">\n",
       "      <th></th>\n",
       "      <th>Known_CUI</th>\n",
       "      <th>Known_Problem</th>\n",
       "      <th>CUI</th>\n",
       "      <th>Problem</th>\n",
       "      <th>Score</th>\n",
       "    </tr>\n",
       "  </thead>\n",
       "  <tbody>\n",
       "    <tr>\n",
       "      <th>0</th>\n",
       "      <td>C0022661</td>\n",
       "      <td>Kidney Failure, Chronic</td>\n",
       "      <td>V4511</td>\n",
       "      <td>Renal dialysis status</td>\n",
       "      <td>0.69315</td>\n",
       "    </tr>\n",
       "    <tr>\n",
       "      <th>1</th>\n",
       "      <td>C0022661</td>\n",
       "      <td>Kidney Failure, Chronic</td>\n",
       "      <td>28521</td>\n",
       "      <td>Anemia in chronic kidney disease</td>\n",
       "      <td>0.50453</td>\n",
       "    </tr>\n",
       "    <tr>\n",
       "      <th>2</th>\n",
       "      <td>C0022661</td>\n",
       "      <td>Kidney Failure, Chronic</td>\n",
       "      <td>5856</td>\n",
       "      <td>End stage renal disease</td>\n",
       "      <td>0.49187</td>\n",
       "    </tr>\n",
       "    <tr>\n",
       "      <th>0</th>\n",
       "      <td>C0022661</td>\n",
       "      <td>Kidney Failure, Chronic</td>\n",
       "      <td>C0745138</td>\n",
       "      <td>Hypertensive urgency</td>\n",
       "      <td>0.45798</td>\n",
       "    </tr>\n",
       "    <tr>\n",
       "      <th>3</th>\n",
       "      <td>C0022661</td>\n",
       "      <td>Kidney Failure, Chronic</td>\n",
       "      <td>5854</td>\n",
       "      <td>Chronic kidney disease, Stage IV (severe)</td>\n",
       "      <td>0.40150</td>\n",
       "    </tr>\n",
       "    <tr>\n",
       "      <th>1</th>\n",
       "      <td>C0022661</td>\n",
       "      <td>Kidney Failure, Chronic</td>\n",
       "      <td>C0041948</td>\n",
       "      <td>Uremia</td>\n",
       "      <td>0.38308</td>\n",
       "    </tr>\n",
       "    <tr>\n",
       "      <th>2</th>\n",
       "      <td>C0022661</td>\n",
       "      <td>Kidney Failure, Chronic</td>\n",
       "      <td>C2830004</td>\n",
       "      <td>Somnolence</td>\n",
       "      <td>0.37388</td>\n",
       "    </tr>\n",
       "    <tr>\n",
       "      <th>3</th>\n",
       "      <td>C0022661</td>\n",
       "      <td>Kidney Failure, Chronic</td>\n",
       "      <td>C1561643</td>\n",
       "      <td>Chronic Kidney Diseases</td>\n",
       "      <td>0.36486</td>\n",
       "    </tr>\n",
       "    <tr>\n",
       "      <th>4</th>\n",
       "      <td>C0022661</td>\n",
       "      <td>Kidney Failure, Chronic</td>\n",
       "      <td>40391</td>\n",
       "      <td>Hypertensive chronic kidney disease, unspecifi...</td>\n",
       "      <td>0.34686</td>\n",
       "    </tr>\n",
       "    <tr>\n",
       "      <th>4</th>\n",
       "      <td>C0022661</td>\n",
       "      <td>Kidney Failure, Chronic</td>\n",
       "      <td>C0031039</td>\n",
       "      <td>Pericardial effusion</td>\n",
       "      <td>0.33595</td>\n",
       "    </tr>\n",
       "  </tbody>\n",
       "</table>\n",
       "</div>"
      ],
      "text/plain": [
       "  Known_CUI            Known_Problem       CUI  \\\n",
       "0  C0022661  Kidney Failure, Chronic     V4511   \n",
       "1  C0022661  Kidney Failure, Chronic     28521   \n",
       "2  C0022661  Kidney Failure, Chronic      5856   \n",
       "0  C0022661  Kidney Failure, Chronic  C0745138   \n",
       "3  C0022661  Kidney Failure, Chronic      5854   \n",
       "1  C0022661  Kidney Failure, Chronic  C0041948   \n",
       "2  C0022661  Kidney Failure, Chronic  C2830004   \n",
       "3  C0022661  Kidney Failure, Chronic  C1561643   \n",
       "4  C0022661  Kidney Failure, Chronic     40391   \n",
       "4  C0022661  Kidney Failure, Chronic  C0031039   \n",
       "\n",
       "                                             Problem    Score  \n",
       "0                              Renal dialysis status  0.69315  \n",
       "1                   Anemia in chronic kidney disease  0.50453  \n",
       "2                            End stage renal disease  0.49187  \n",
       "0                               Hypertensive urgency  0.45798  \n",
       "3          Chronic kidney disease, Stage IV (severe)  0.40150  \n",
       "1                                             Uremia  0.38308  \n",
       "2                                         Somnolence  0.37388  \n",
       "3                            Chronic Kidney Diseases  0.36486  \n",
       "4  Hypertensive chronic kidney disease, unspecifi...  0.34686  \n",
       "4                               Pericardial effusion  0.33595  "
      ]
     },
     "execution_count": 34,
     "metadata": {},
     "output_type": "execute_result"
    }
   ],
   "source": [
    "cui_prob_list = ['C0022661']\n",
    "\n",
    "PotentialComorbidities(cui_prob_list)"
   ]
  },
  {
   "cell_type": "code",
   "execution_count": 36,
   "id": "b0c98bf9-a011-467c-979a-96eff1b43d6f",
   "metadata": {},
   "outputs": [],
   "source": [
    "def LikelyOrders(cui_prob_list):\n",
    "    \n",
    "    # Find prescriptions associated with the input problem    \n",
    "    query = '''\n",
    "    MATCH p=(ord:Concept)-[r:OCCURS_WITH]->(c:Concept) \n",
    "    WHERE c.cui IN {cui_prob_list} AND ord.semantic_type IN [\"['Clinical Drug']\"]\n",
    "    WITH round(r.co_occurrence_probability, 5)*1000 AS Score, ord, r\n",
    "    WHERE Score > 20\n",
    "    RETURN ord.term AS `Order`, Score\n",
    "    ORDER BY r.co_occurrence_probability DESC\n",
    "    '''.format(cui_prob_list=cui_prob_list)\n",
    "    data = session.run(query)\n",
    "    orders_likely_rx = pd.DataFrame([dict(record) for record in data])\n",
    "    \n",
    "    # Find abnormal labs associated with the input problem\n",
    "    query = '''\n",
    "    MATCH p=(ord:Concept)-[r:OCCURS_WITH]->(c:Concept) \n",
    "    WHERE c.cui IN {cui_prob_list} AND ord.semantic_type IN [\"['Clinical Attribute']\"]\n",
    "    WITH round(r.co_occurrence_probability, 5)*1000 AS Score, ord, r\n",
    "    WHERE Score > 20\n",
    "    RETURN ord.description AS `Order`, Score\n",
    "    ORDER BY r.co_occurrence_probability DESC\n",
    "    '''.format(cui_prob_list=cui_prob_list)\n",
    "    data = session.run(query)\n",
    "    orders_likely_lab = pd.DataFrame([dict(record) for record in data])\n",
    "    \n",
    "    # Find procedures associated with the input problem\n",
    "    query = '''\n",
    "    MATCH p=(ord:D_Icd_Procedures)-[r:OCCURS_WITH]->(c:Concept) \n",
    "    WHERE c.cui IN {cui_prob_list}\n",
    "    WITH round(r.co_occurrence_probability, 5)*1000 AS Score, ord, r\n",
    "    WHERE Score > 20\n",
    "    RETURN ord.long_title AS `Order`, Score\n",
    "    ORDER BY r.co_occurrence_probability DESC\n",
    "    '''.format(cui_prob_list=cui_prob_list)\n",
    "    data = session.run(query)\n",
    "    orders_likely_procedure = pd.DataFrame([dict(record) for record in data])\n",
    "    \n",
    "    return orders_likely_rx, orders_likely_lab, orders_likely_procedure"
   ]
  },
  {
   "cell_type": "code",
   "execution_count": 37,
   "id": "aa407520-7d1e-4507-883b-d45cc6f0a5c4",
   "metadata": {
    "tags": []
   },
   "outputs": [
    {
     "name": "stdout",
     "output_type": "stream",
     "text": [
      "Total runtime: 0.015000104904174805 seconds\n"
     ]
    }
   ],
   "source": [
    "start_time = time.time()\n",
    "\n",
    "cui_prob_list = ['C0022661']\n",
    "orders_likely_rx, orders_likely_lab, orders_likely_procedure = LikelyOrders(cui_prob_list)\n",
    "\n",
    "print(\"Total runtime:\", time.time() - start_time, \"seconds\")"
   ]
  },
  {
   "cell_type": "code",
   "execution_count": 30,
   "id": "12559a2c-f8cb-47ad-a3fe-5943e2de2bc6",
   "metadata": {
    "tags": []
   },
   "outputs": [
    {
     "data": {
      "text/html": [
       "<div>\n",
       "<style scoped>\n",
       "    .dataframe tbody tr th:only-of-type {\n",
       "        vertical-align: middle;\n",
       "    }\n",
       "\n",
       "    .dataframe tbody tr th {\n",
       "        vertical-align: top;\n",
       "    }\n",
       "\n",
       "    .dataframe thead th {\n",
       "        text-align: right;\n",
       "    }\n",
       "</style>\n",
       "<table border=\"1\" class=\"dataframe\">\n",
       "  <thead>\n",
       "    <tr style=\"text-align: right;\">\n",
       "      <th></th>\n",
       "      <th>Order</th>\n",
       "      <th>Score</th>\n",
       "    </tr>\n",
       "  </thead>\n",
       "  <tbody>\n",
       "    <tr>\n",
       "      <th>0</th>\n",
       "      <td>calcitriol 0.00025 MG Oral Capsule</td>\n",
       "      <td>109.59</td>\n",
       "    </tr>\n",
       "    <tr>\n",
       "      <th>1</th>\n",
       "      <td>sevelamer carbonate 800 MG Oral Tablet [Renvela]</td>\n",
       "      <td>106.88</td>\n",
       "    </tr>\n",
       "    <tr>\n",
       "      <th>2</th>\n",
       "      <td>sodium polystyrene sulfonate 250 MG/ML Oral Su...</td>\n",
       "      <td>103.32</td>\n",
       "    </tr>\n",
       "    <tr>\n",
       "      <th>3</th>\n",
       "      <td>1 ML epoetin alfa 4000 UNT/ML Injection [Procrit]</td>\n",
       "      <td>79.31</td>\n",
       "    </tr>\n",
       "    <tr>\n",
       "      <th>4</th>\n",
       "      <td>150 ML Glucose 50 MG/ML Injection</td>\n",
       "      <td>76.26</td>\n",
       "    </tr>\n",
       "    <tr>\n",
       "      <th>...</th>\n",
       "      <td>...</td>\n",
       "      <td>...</td>\n",
       "    </tr>\n",
       "    <tr>\n",
       "      <th>92</th>\n",
       "      <td>100 ML Glucose 50 MG/ML Injection</td>\n",
       "      <td>20.79</td>\n",
       "    </tr>\n",
       "    <tr>\n",
       "      <th>93</th>\n",
       "      <td>Docusate Sodium 10 MG/ML Oral Suspension</td>\n",
       "      <td>20.71</td>\n",
       "    </tr>\n",
       "    <tr>\n",
       "      <th>94</th>\n",
       "      <td>Aspirin 81 MG Chewable Tablet</td>\n",
       "      <td>20.34</td>\n",
       "    </tr>\n",
       "    <tr>\n",
       "      <th>95</th>\n",
       "      <td>Amiodarone hydrochloride 200 MG Oral Tablet</td>\n",
       "      <td>20.32</td>\n",
       "    </tr>\n",
       "    <tr>\n",
       "      <th>96</th>\n",
       "      <td>50 ML Glucose 500 MG/ML Prefilled Syringe</td>\n",
       "      <td>20.30</td>\n",
       "    </tr>\n",
       "  </tbody>\n",
       "</table>\n",
       "<p>97 rows × 2 columns</p>\n",
       "</div>"
      ],
      "text/plain": [
       "                                                Order   Score\n",
       "0                  calcitriol 0.00025 MG Oral Capsule  109.59\n",
       "1    sevelamer carbonate 800 MG Oral Tablet [Renvela]  106.88\n",
       "2   sodium polystyrene sulfonate 250 MG/ML Oral Su...  103.32\n",
       "3   1 ML epoetin alfa 4000 UNT/ML Injection [Procrit]   79.31\n",
       "4                   150 ML Glucose 50 MG/ML Injection   76.26\n",
       "..                                                ...     ...\n",
       "92                  100 ML Glucose 50 MG/ML Injection   20.79\n",
       "93           Docusate Sodium 10 MG/ML Oral Suspension   20.71\n",
       "94                      Aspirin 81 MG Chewable Tablet   20.34\n",
       "95        Amiodarone hydrochloride 200 MG Oral Tablet   20.32\n",
       "96          50 ML Glucose 500 MG/ML Prefilled Syringe   20.30\n",
       "\n",
       "[97 rows x 2 columns]"
      ]
     },
     "execution_count": 30,
     "metadata": {},
     "output_type": "execute_result"
    }
   ],
   "source": [
    "orders_likely_rx"
   ]
  },
  {
   "cell_type": "code",
   "execution_count": 31,
   "id": "296da1d1-2931-430b-9d0e-9fdb3fadd145",
   "metadata": {
    "tags": []
   },
   "outputs": [
    {
     "data": {
      "text/html": [
       "<div>\n",
       "<style scoped>\n",
       "    .dataframe tbody tr th:only-of-type {\n",
       "        vertical-align: middle;\n",
       "    }\n",
       "\n",
       "    .dataframe tbody tr th {\n",
       "        vertical-align: top;\n",
       "    }\n",
       "\n",
       "    .dataframe thead th {\n",
       "        text-align: right;\n",
       "    }\n",
       "</style>\n",
       "<table border=\"1\" class=\"dataframe\">\n",
       "  <thead>\n",
       "    <tr style=\"text-align: right;\">\n",
       "      <th></th>\n",
       "      <th>Order</th>\n",
       "      <th>Score</th>\n",
       "    </tr>\n",
       "  </thead>\n",
       "  <tbody>\n",
       "    <tr>\n",
       "      <th>0</th>\n",
       "      <td>Macrophage in Ascites</td>\n",
       "      <td>57.87</td>\n",
       "    </tr>\n",
       "    <tr>\n",
       "      <th>1</th>\n",
       "      <td>Lymphocytes in Other Body Fluid</td>\n",
       "      <td>57.69</td>\n",
       "    </tr>\n",
       "    <tr>\n",
       "      <th>2</th>\n",
       "      <td>Polys in Other Body Fluid</td>\n",
       "      <td>53.77</td>\n",
       "    </tr>\n",
       "    <tr>\n",
       "      <th>3</th>\n",
       "      <td>Lymphocytes in Ascites</td>\n",
       "      <td>52.82</td>\n",
       "    </tr>\n",
       "    <tr>\n",
       "      <th>4</th>\n",
       "      <td>RBC, Ascites in Ascites</td>\n",
       "      <td>51.48</td>\n",
       "    </tr>\n",
       "    <tr>\n",
       "      <th>5</th>\n",
       "      <td>WBC, Ascites in Ascites</td>\n",
       "      <td>50.71</td>\n",
       "    </tr>\n",
       "    <tr>\n",
       "      <th>6</th>\n",
       "      <td>Monocytes in Ascites</td>\n",
       "      <td>49.68</td>\n",
       "    </tr>\n",
       "    <tr>\n",
       "      <th>7</th>\n",
       "      <td>Polys in Ascites</td>\n",
       "      <td>48.77</td>\n",
       "    </tr>\n",
       "    <tr>\n",
       "      <th>8</th>\n",
       "      <td>Protein/Creatinine Ratio in Urine</td>\n",
       "      <td>48.01</td>\n",
       "    </tr>\n",
       "    <tr>\n",
       "      <th>9</th>\n",
       "      <td>pH in Urine</td>\n",
       "      <td>44.46</td>\n",
       "    </tr>\n",
       "    <tr>\n",
       "      <th>10</th>\n",
       "      <td>Calculated Bicarbonate, Whole Blood in Blood</td>\n",
       "      <td>42.64</td>\n",
       "    </tr>\n",
       "    <tr>\n",
       "      <th>11</th>\n",
       "      <td>Protein, Total in Blood</td>\n",
       "      <td>37.49</td>\n",
       "    </tr>\n",
       "    <tr>\n",
       "      <th>12</th>\n",
       "      <td>NTproBNP in Blood</td>\n",
       "      <td>32.45</td>\n",
       "    </tr>\n",
       "    <tr>\n",
       "      <th>13</th>\n",
       "      <td>Thyroid Stimulating Hormone in Blood</td>\n",
       "      <td>31.22</td>\n",
       "    </tr>\n",
       "    <tr>\n",
       "      <th>14</th>\n",
       "      <td>Amylase in Blood</td>\n",
       "      <td>29.50</td>\n",
       "    </tr>\n",
       "    <tr>\n",
       "      <th>15</th>\n",
       "      <td>C-Reactive Protein in Blood</td>\n",
       "      <td>28.02</td>\n",
       "    </tr>\n",
       "    <tr>\n",
       "      <th>16</th>\n",
       "      <td>Gamma Glutamyltransferase in Blood</td>\n",
       "      <td>27.92</td>\n",
       "    </tr>\n",
       "    <tr>\n",
       "      <th>17</th>\n",
       "      <td>Vancomycin in Blood</td>\n",
       "      <td>26.05</td>\n",
       "    </tr>\n",
       "    <tr>\n",
       "      <th>18</th>\n",
       "      <td>Lipase in Blood</td>\n",
       "      <td>25.95</td>\n",
       "    </tr>\n",
       "    <tr>\n",
       "      <th>19</th>\n",
       "      <td>Troponin T in Blood</td>\n",
       "      <td>25.53</td>\n",
       "    </tr>\n",
       "    <tr>\n",
       "      <th>20</th>\n",
       "      <td>Chloride, Whole Blood in Blood</td>\n",
       "      <td>25.39</td>\n",
       "    </tr>\n",
       "    <tr>\n",
       "      <th>21</th>\n",
       "      <td>RBC, Pleural in Pleural</td>\n",
       "      <td>25.27</td>\n",
       "    </tr>\n",
       "    <tr>\n",
       "      <th>22</th>\n",
       "      <td>Granular Casts in Urine</td>\n",
       "      <td>25.25</td>\n",
       "    </tr>\n",
       "    <tr>\n",
       "      <th>23</th>\n",
       "      <td>Lymphocytes in Pleural</td>\n",
       "      <td>25.17</td>\n",
       "    </tr>\n",
       "    <tr>\n",
       "      <th>24</th>\n",
       "      <td>Polys in Pleural</td>\n",
       "      <td>25.14</td>\n",
       "    </tr>\n",
       "    <tr>\n",
       "      <th>25</th>\n",
       "      <td>Haptoglobin in Blood</td>\n",
       "      <td>25.03</td>\n",
       "    </tr>\n",
       "    <tr>\n",
       "      <th>26</th>\n",
       "      <td>WBC, Pleural in Pleural</td>\n",
       "      <td>24.40</td>\n",
       "    </tr>\n",
       "    <tr>\n",
       "      <th>27</th>\n",
       "      <td>Eosinophils in Blood</td>\n",
       "      <td>24.24</td>\n",
       "    </tr>\n",
       "    <tr>\n",
       "      <th>28</th>\n",
       "      <td>Sedimentation Rate in Blood</td>\n",
       "      <td>23.52</td>\n",
       "    </tr>\n",
       "    <tr>\n",
       "      <th>29</th>\n",
       "      <td>Lactate Dehydrogenase (LD) in Blood</td>\n",
       "      <td>21.91</td>\n",
       "    </tr>\n",
       "    <tr>\n",
       "      <th>30</th>\n",
       "      <td>Hyaline Casts in Urine</td>\n",
       "      <td>21.00</td>\n",
       "    </tr>\n",
       "    <tr>\n",
       "      <th>31</th>\n",
       "      <td>Triglycerides in Blood</td>\n",
       "      <td>20.93</td>\n",
       "    </tr>\n",
       "    <tr>\n",
       "      <th>32</th>\n",
       "      <td>Absolute A1c in Blood</td>\n",
       "      <td>20.93</td>\n",
       "    </tr>\n",
       "    <tr>\n",
       "      <th>33</th>\n",
       "      <td>Monocytes in Blood</td>\n",
       "      <td>20.61</td>\n",
       "    </tr>\n",
       "    <tr>\n",
       "      <th>34</th>\n",
       "      <td>Osmolality, Measured in Blood</td>\n",
       "      <td>20.19</td>\n",
       "    </tr>\n",
       "    <tr>\n",
       "      <th>35</th>\n",
       "      <td>WBC in Urine</td>\n",
       "      <td>20.18</td>\n",
       "    </tr>\n",
       "  </tbody>\n",
       "</table>\n",
       "</div>"
      ],
      "text/plain": [
       "                                           Order  Score\n",
       "0                          Macrophage in Ascites  57.87\n",
       "1                Lymphocytes in Other Body Fluid  57.69\n",
       "2                      Polys in Other Body Fluid  53.77\n",
       "3                         Lymphocytes in Ascites  52.82\n",
       "4                        RBC, Ascites in Ascites  51.48\n",
       "5                        WBC, Ascites in Ascites  50.71\n",
       "6                           Monocytes in Ascites  49.68\n",
       "7                               Polys in Ascites  48.77\n",
       "8              Protein/Creatinine Ratio in Urine  48.01\n",
       "9                                    pH in Urine  44.46\n",
       "10  Calculated Bicarbonate, Whole Blood in Blood  42.64\n",
       "11                       Protein, Total in Blood  37.49\n",
       "12                             NTproBNP in Blood  32.45\n",
       "13          Thyroid Stimulating Hormone in Blood  31.22\n",
       "14                              Amylase in Blood  29.50\n",
       "15                   C-Reactive Protein in Blood  28.02\n",
       "16            Gamma Glutamyltransferase in Blood  27.92\n",
       "17                           Vancomycin in Blood  26.05\n",
       "18                               Lipase in Blood  25.95\n",
       "19                           Troponin T in Blood  25.53\n",
       "20                Chloride, Whole Blood in Blood  25.39\n",
       "21                       RBC, Pleural in Pleural  25.27\n",
       "22                       Granular Casts in Urine  25.25\n",
       "23                        Lymphocytes in Pleural  25.17\n",
       "24                              Polys in Pleural  25.14\n",
       "25                          Haptoglobin in Blood  25.03\n",
       "26                       WBC, Pleural in Pleural  24.40\n",
       "27                          Eosinophils in Blood  24.24\n",
       "28                   Sedimentation Rate in Blood  23.52\n",
       "29           Lactate Dehydrogenase (LD) in Blood  21.91\n",
       "30                        Hyaline Casts in Urine  21.00\n",
       "31                        Triglycerides in Blood  20.93\n",
       "32                         Absolute A1c in Blood  20.93\n",
       "33                            Monocytes in Blood  20.61\n",
       "34                 Osmolality, Measured in Blood  20.19\n",
       "35                                  WBC in Urine  20.18"
      ]
     },
     "execution_count": 31,
     "metadata": {},
     "output_type": "execute_result"
    }
   ],
   "source": [
    "orders_likely_lab"
   ]
  },
  {
   "cell_type": "code",
   "execution_count": 35,
   "id": "9c89371b-5174-48fd-8516-9183a58f580b",
   "metadata": {},
   "outputs": [
    {
     "data": {
      "text/html": [
       "<div>\n",
       "<style scoped>\n",
       "    .dataframe tbody tr th:only-of-type {\n",
       "        vertical-align: middle;\n",
       "    }\n",
       "\n",
       "    .dataframe tbody tr th {\n",
       "        vertical-align: top;\n",
       "    }\n",
       "\n",
       "    .dataframe thead th {\n",
       "        text-align: right;\n",
       "    }\n",
       "</style>\n",
       "<table border=\"1\" class=\"dataframe\">\n",
       "  <thead>\n",
       "    <tr style=\"text-align: right;\">\n",
       "      <th></th>\n",
       "      <th>Order</th>\n",
       "      <th>Score</th>\n",
       "    </tr>\n",
       "  </thead>\n",
       "  <tbody>\n",
       "    <tr>\n",
       "      <th>0</th>\n",
       "      <td>Hemodialysis</td>\n",
       "      <td>69.13</td>\n",
       "    </tr>\n",
       "    <tr>\n",
       "      <th>1</th>\n",
       "      <td>Venous catheterization for renal dialysis</td>\n",
       "      <td>64.32</td>\n",
       "    </tr>\n",
       "    <tr>\n",
       "      <th>2</th>\n",
       "      <td>Other endoscopy of small intestine</td>\n",
       "      <td>24.70</td>\n",
       "    </tr>\n",
       "    <tr>\n",
       "      <th>3</th>\n",
       "      <td>Closed [endoscopic] biopsy of bronchus</td>\n",
       "      <td>23.03</td>\n",
       "    </tr>\n",
       "    <tr>\n",
       "      <th>4</th>\n",
       "      <td>Venous catheterization, not elsewhere classified</td>\n",
       "      <td>21.32</td>\n",
       "    </tr>\n",
       "    <tr>\n",
       "      <th>5</th>\n",
       "      <td>Transfusion of packed cells</td>\n",
       "      <td>21.29</td>\n",
       "    </tr>\n",
       "    <tr>\n",
       "      <th>6</th>\n",
       "      <td>Insertion of endotracheal tube</td>\n",
       "      <td>20.16</td>\n",
       "    </tr>\n",
       "  </tbody>\n",
       "</table>\n",
       "</div>"
      ],
      "text/plain": [
       "                                              Order  Score\n",
       "0                                      Hemodialysis  69.13\n",
       "1         Venous catheterization for renal dialysis  64.32\n",
       "2                Other endoscopy of small intestine  24.70\n",
       "3            Closed [endoscopic] biopsy of bronchus  23.03\n",
       "4  Venous catheterization, not elsewhere classified  21.32\n",
       "5                       Transfusion of packed cells  21.29\n",
       "6                    Insertion of endotracheal tube  20.16"
      ]
     },
     "execution_count": 35,
     "metadata": {},
     "output_type": "execute_result"
    }
   ],
   "source": [
    "orders_likely_procedure"
   ]
  },
  {
   "cell_type": "markdown",
   "id": "c2d624f2-9241-44d2-800b-2da629cd3bb4",
   "metadata": {},
   "source": [
    "## Temporal Flow\n",
    "The article [An explainable artificial intelligence approach for predicting cardiovascular outcomes using electronic health records](https://journals.plos.org/digitalhealth/article?id=10.1371/journal.pdig.0000004) describes methods to \"discover temporal relationships and quantify transition rates between various comorbidities.\"  \n",
    "\n",
    "Here is an example of a directed graph, with arrows indicating that the originating condition occurs earlier than the ending condition:  \n",
    "![Figure 2B](images/temporal_flow_of_comorbidities_UofU.png)"
   ]
  }
 ],
 "metadata": {
  "kernelspec": {
   "display_name": "Python 3",
   "language": "python",
   "name": "python3"
  },
  "language_info": {
   "codemirror_mode": {
    "name": "ipython",
    "version": 3
   },
   "file_extension": ".py",
   "mimetype": "text/x-python",
   "name": "python",
   "nbconvert_exporter": "python",
   "pygments_lexer": "ipython3",
   "version": "3.9.4"
  }
 },
 "nbformat": 4,
 "nbformat_minor": 5
}
