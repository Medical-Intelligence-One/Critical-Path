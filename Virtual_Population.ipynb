{
 "cells": [
  {
   "cell_type": "markdown",
   "id": "2b52634a-f573-4d72-a5d1-a2c241283757",
   "metadata": {},
   "source": [
    "# Virtualized Patient Population"
   ]
  },
  {
   "cell_type": "markdown",
   "id": "5701f88b-c58b-469a-9da6-1055e6b93639",
   "metadata": {},
   "source": [
    "To-Do:\n",
    "- change output icd9_code to procedure_icd9_code\n",
    "- create ICD diagnosis x other entities probabilities\n",
    "- determine significance thresholds for each pair of entities\n",
    "- Incorporate ICD diagnoses into problems\n",
    "- Create OCCURS_WITH relationships with z-scores between continuous variables of interest\n",
    "- Figure out how to add timedeltas between problems and the change in z-scores for labs or the occurrence of prescriptions"
   ]
  },
  {
   "cell_type": "code",
   "execution_count": 1,
   "id": "1f733621-b233-4472-9966-28bc7dd1215b",
   "metadata": {},
   "outputs": [],
   "source": [
    "from datetime import datetime\n",
    "from progressbar import ProgressBar\n",
    "import pandas as pd\n",
    "import time"
   ]
  },
  {
   "cell_type": "code",
   "execution_count": 2,
   "id": "93bbac78-1362-4ee4-b6ed-bd6e111e9da3",
   "metadata": {},
   "outputs": [],
   "source": [
    "from neo4j import GraphDatabase\n",
    "driver=GraphDatabase.driver(uri=\"bolt://localhost:7687\", auth=('neo4j','NikeshIsCool'))\n",
    "session=driver.session()"
   ]
  },
  {
   "cell_type": "markdown",
   "id": "77e3cdb0-c2d8-4b28-b720-5d5e390d0f95",
   "metadata": {},
   "source": [
    "Entities of interest:\n",
    "- Problem\n",
    "- Prescriptions -> Concept\n",
    "- Labevents -> D_Labitems -> Concept\n",
    "- Diagnoses_Icd -> D_Icd_Diagnoses -> Concept (timedelta of limited utility, since ICD codes pertain to entire admission)\n",
    "- Procedures_Icd -> D_Icd_Procedures -> Concept (timedelta of limited utility, since ICD codes pertain to entire admission)"
   ]
  },
  {
   "cell_type": "markdown",
   "id": "9507212d-6d21-4e00-8f5d-a46622915002",
   "metadata": {},
   "source": [
    "Relationships to create between entities of interest:\n",
    "![virtualized relationships](images/Virtual_relationship_schema.png)"
   ]
  },
  {
   "cell_type": "markdown",
   "id": "f7e1d71c-440a-459b-8b5e-c00c4cd01f81",
   "metadata": {},
   "source": [
    "We'll start with these relationships to improve performance on our current use cases:  \n",
    "(:Problem) - [:INSTANCE_OF] -> (:Concept) - [:OCCURS_WITH {co_occurrence_probability: __, source: 'MIMIC-III v1.4', updated: timestamp}] - (:Concept) <- [:INSTANCE_OF] - (:Prescriptions)  \n",
    "(:Problem) - [:INSTANCE_OF] -> (:Concept) - [:OCCURS_WITH {co_occurrence_probability: __, z_score: __, source: 'MIMIC-III v1.4', updated: timestamp}] - (:Concept) <- [:INSTANCE_OF] - (:Labevents)  \n",
    "\n",
    "The essential equation used to determine co-occurance probability for our purposes is:  \n",
    "(Probability of A and B co-occuring during an admission) / (Probability of A + Probability of B)  \n",
    "\n",
    "For labs, we calculate the probability that the lab will be flagged as abnormal, not the probability that it will be ordered. For prescriptions and procedures, we calculate the probability that they will be ordered."
   ]
  },
  {
   "cell_type": "markdown",
   "id": "8bf55522-8487-41e3-8c74-c1848dc079ff",
   "metadata": {},
   "source": [
    "## Find the probability of each individual entity of interest occurring during an admission"
   ]
  },
  {
   "cell_type": "code",
   "execution_count": 5,
   "id": "c89cc1d2-e7ea-44d4-af68-c1d8a443a39d",
   "metadata": {},
   "outputs": [],
   "source": [
    "# Get the probability of each problem in the general population\n",
    "query = '''\n",
    "MATCH (ptTotal:Admissions)\n",
    "WITH count(ptTotal) AS ptTotal\n",
    "MATCH (ad:Admissions)<-[:HAD]-(Pt:Patients)-[:HAD_PROBLEM]->(b:Problem)\n",
    "WITH b.cui AS Problem_CUI, count(distinct(ad)) AS probTotal, ptTotal, count(distinct(Pt)) AS Pt\n",
    "WITH Problem_CUI, toFloat(probTotal)/ptTotal AS Probability_Entity, Pt\n",
    "WHERE Pt > 20\n",
    "RETURN Problem_CUI, Probability_Entity\n",
    "'''\n",
    "data = session.run(query)\n",
    "problem_probabilities = pd.DataFrame([dict(record) for record in data])"
   ]
  },
  {
   "cell_type": "code",
   "execution_count": 5,
   "id": "41300942-d254-4d01-a365-0d9504d8a993",
   "metadata": {},
   "outputs": [],
   "source": [
    "# Get the probability of each prescription in the general population\n",
    "query = '''\n",
    "MATCH (ptTotal:Admissions)\n",
    "WITH count(ptTotal) AS ptTotal\n",
    "MATCH (ad:Admissions)<-[:HAD]-(Pt:Patients)-[:HAD]-(rx:Prescriptions)-[:INSTANCE_OF]->(b:Concept)\n",
    "WITH b.cui AS Rx_CUI, count(distinct(ad)) AS RxTotal, ptTotal, count(distinct(Pt)) AS Pt\n",
    "WHERE Pt > 20\n",
    "RETURN Rx_CUI, toFloat(RxTotal)/ptTotal AS Probability_Entity\n",
    "'''\n",
    "data = session.run(query)\n",
    "rx_probabilities = pd.DataFrame([dict(record) for record in data])"
   ]
  },
  {
   "cell_type": "code",
   "execution_count": 3,
   "id": "777cd618-dfea-45fc-bec4-be584008394c",
   "metadata": {},
   "outputs": [],
   "source": [
    "# Get the probability of each abnormal lab in the general population\n",
    "query = '''\n",
    "MATCH (ptTotal:Admissions)\n",
    "WITH count(ptTotal) AS ptTotal\n",
    "MATCH (ad:Admissions)<-[:HAD]-(Pt:Patients)-[:HAD]-(lab:Labevents)-[:INSTANCE_OF]->(b:Concept)\n",
    "WHERE lab.flag IS NOT NULL\n",
    "WITH b.cui AS Lab_CUI, count(distinct(ad)) AS LabTotal, ptTotal, count(distinct(Pt)) AS Pt\n",
    "WHERE Pt > 20\n",
    "RETURN Lab_CUI, toFloat(LabTotal)/ptTotal AS Probability_Entity\n",
    "'''\n",
    "data = session.run(query)\n",
    "abnormal_lab_probabilities = pd.DataFrame([dict(record) for record in data])"
   ]
  },
  {
   "cell_type": "code",
   "execution_count": 10,
   "id": "dc2ca561-68f9-48b4-84ed-12be448e4935",
   "metadata": {},
   "outputs": [],
   "source": [
    "# Get the probability of each procedure in the general population\n",
    "query = '''\n",
    "MATCH (ptTotal:Admissions)\n",
    "WITH count(ptTotal) AS ptTotal\n",
    "MATCH (ad:Admissions)<-[:HAD]-(Pt:Patients)-[:HAD]->(proc:Procedures_Icd)\n",
    "WITH proc.icd9_code AS procedure_icd9_code, count(distinct(ad)) AS ProcTotal, ptTotal, count(distinct(Pt)) AS Pt\n",
    "WHERE Pt > 20\n",
    "RETURN procedure_icd9_code, toFloat(ProcTotal)/ptTotal AS Probability_Entity\n",
    "'''\n",
    "data = session.run(query)\n",
    "procedure_probabilities = pd.DataFrame([dict(record) for record in data])"
   ]
  },
  {
   "cell_type": "code",
   "execution_count": 8,
   "id": "50dc6a01-e487-45cb-a172-9b3c78174eb7",
   "metadata": {},
   "outputs": [],
   "source": [
    "# Get the probability of each ICD diagnosis in the general population\n",
    "query = '''\n",
    "MATCH (ptTotal:Admissions)\n",
    "WITH count(ptTotal) AS ptTotal\n",
    "MATCH (ad:Admissions)<-[:HAD]-(Pt:Patients)-[:HAD]->(dx:Diagnoses_Icd)\n",
    "WITH dx.icd9_code AS dx_icd9_code, count(distinct(ad)) AS ProcTotal, ptTotal, count(distinct(Pt)) AS Pt\n",
    "WHERE Pt > 20\n",
    "RETURN dx_icd9_code, toFloat(ProcTotal)/ptTotal AS Probability_Entity\n",
    "'''\n",
    "data = session.run(query)\n",
    "diagnosis_probabilities = pd.DataFrame([dict(record) for record in data])"
   ]
  },
  {
   "cell_type": "markdown",
   "id": "98a3f284-1e7c-493d-934c-8ced6cb0e6a1",
   "metadata": {},
   "source": [
    "## Find the probability of each pair of different entities of interest occuring together"
   ]
  },
  {
   "cell_type": "code",
   "execution_count": 5,
   "id": "c3ce9c4a-cfc2-4d23-a2e7-dd829d0b6dd7",
   "metadata": {},
   "outputs": [],
   "source": [
    "def two_different_entities_co_occurrence_normalized(entity1_df, entity2_df, entity1_id, entity2_id):\n",
    "    \n",
    "    # Calculate the co-occurance probability\n",
    "    co_occurrence_df = pd.merge(combined_entities_df, entity1_df, on=entity1_id)\n",
    "    co_occurrence_df = pd.merge(co_occurrence_df, entity2_df, on=entity2_id, suffixes=['_1', '_2'])\n",
    "    co_occurrence_df['co_occurrence_probability'] = co_occurrence_df.combined_entities_probability / (co_occurrence_df.Probability_Entity_1 + co_occurrence_df.Probability_Entity_2)\n",
    "\n",
    "    # Normalize the co-occurance probability using the min-max method\n",
    "    co_occurrence_df['normalized_co_occurrence_probability'] = (co_occurrence_df.co_occurrence_probability-co_occurrence_df.co_occurrence_probability.min())/(co_occurrence_df.co_occurrence_probability.max()-co_occurrence_df.co_occurrence_probability.min())\n",
    "\n",
    "    # Sort the dataframe\n",
    "    co_occurrence_df.sort_values(by='normalized_co_occurrence_probability', ascending=False, inplace=True)\n",
    "    \n",
    "    # Write out to CSV\n",
    "    timestamp = datetime.now().strftime(\"%Y-%m-%d_%H-%M-%S\")\n",
    "    filename = 'normalized_co_occurrence_probability_'+entity1_id+'_'+entity2_id+'_'+timestamp+'.csv'\n",
    "    co_occurrence_df.loc[:,[entity1_id, entity2_id, 'normalized_co_occurrence_probability']].to_csv(filename, index=False)\n",
    "    \n",
    "    return 'Saved results as '+filename"
   ]
  },
  {
   "cell_type": "code",
   "execution_count": 63,
   "id": "d2e6e089-9047-41a2-9728-51766263ab17",
   "metadata": {},
   "outputs": [
    {
     "data": {
      "text/plain": [
       "'Saved results as normalized_co_occurrence_probability_Problem_CUI_Lab_CUI_2021-12-16_16-23-07.csv'"
      ]
     },
     "execution_count": 63,
     "metadata": {},
     "output_type": "execute_result"
    }
   ],
   "source": [
    "# Get the probability of each pair of abnormal lab and problem\n",
    "query = '''\n",
    "MATCH (ptTotal:Admissions)\n",
    "WITH count(ptTotal) AS ptTotal\n",
    "MATCH (ad:Admissions)<-[:HAD]-(Pt:Patients), (p:Problem)<-[:HAD_PROBLEM]-(Pt)-[:HAD]->(lab:Labevents)-[:INSTANCE_OF]->(c:Concept)\n",
    "WHERE lab.flag IS NOT NULL\n",
    "WITH p.cui AS Problem_CUI, c.cui AS Lab_CUI, count(distinct(ad)) AS combinedTotal, ptTotal, count(distinct(Pt)) AS Pts\n",
    "WHERE Pts > 20\n",
    "RETURN Problem_CUI, Lab_CUI, toFloat(combinedTotal)/ptTotal AS combined_entities_probability\n",
    "'''\n",
    "data = session.run(query)\n",
    "combined_entities_df = pd.DataFrame([dict(record) for record in data])\n",
    "\n",
    "two_different_entities_co_occurrence_normalized(\n",
    "    entity1_df=problem_probabilities, \n",
    "    entity2_df=abnormal_lab_probabilities, \n",
    "    entity1_id='Problem_CUI', \n",
    "    entity2_id='Lab_CUI')"
   ]
  },
  {
   "cell_type": "code",
   "execution_count": 67,
   "id": "113d11d5-b1ea-4ddb-9abd-b784405401c8",
   "metadata": {
    "tags": []
   },
   "outputs": [
    {
     "data": {
      "text/plain": [
       "'Saved results as normalized_co_occurrence_probability_Problem_CUI_Rx_CUI_2021-12-16_16-36-33.csv'"
      ]
     },
     "execution_count": 67,
     "metadata": {},
     "output_type": "execute_result"
    }
   ],
   "source": [
    "# Get the probability of each pair of prescription and problem\n",
    "query = '''\n",
    "MATCH (ptTotal:Admissions)\n",
    "WITH count(ptTotal) AS ptTotal\n",
    "MATCH (ad:Admissions)<-[:HAD]-(Pt:Patients), (p:Problem)<-[:HAD_PROBLEM]-(Pt)-[:HAD]-(rx:Prescriptions)-[:INSTANCE_OF]->(c:Concept)\n",
    "WITH p.cui AS Problem_CUI, c.cui AS Rx_CUI, count(distinct(ad)) AS combinedTotal, ptTotal, count(distinct(Pt)) AS Pts\n",
    "WHERE Pts > 20\n",
    "RETURN Problem_CUI, Rx_CUI, toFloat(combinedTotal)/ptTotal AS combined_entities_probability\n",
    "'''\n",
    "data = session.run(query)\n",
    "combined_entities_df = pd.DataFrame([dict(record) for record in data])\n",
    "\n",
    "two_different_entities_co_occurrence_normalized(\n",
    "    entity1_df=problem_probabilities, \n",
    "    entity2_df=rx_probabilities, \n",
    "    entity1_id='Problem_CUI', \n",
    "    entity2_id='Rx_CUI')"
   ]
  },
  {
   "cell_type": "code",
   "execution_count": 73,
   "id": "385f92cc-2cd4-4c40-ac90-34a34d1fd790",
   "metadata": {},
   "outputs": [
    {
     "data": {
      "text/plain": [
       "'Saved results as normalized_co_occurrence_probability_Problem_CUI_icd9_code_2021-12-16_19-13-17.csv'"
      ]
     },
     "execution_count": 73,
     "metadata": {},
     "output_type": "execute_result"
    }
   ],
   "source": [
    "# Get the probability of each pair of procedure and problem\n",
    "query = '''\n",
    "MATCH (ptTotal:Admissions)\n",
    "WITH count(ptTotal) AS ptTotal\n",
    "MATCH (ad:Admissions)<-[:HAD]-(Pt:Patients), (p:Problem)<-[:HAD_PROBLEM]-(Pt)-[:HAD]->(proc:Procedures_Icd)\n",
    "WITH p.cui AS Problem_CUI, proc.icd9_code AS icd9_code, count(distinct(ad)) AS combinedTotal, ptTotal, count(distinct(Pt)) AS Pts\n",
    "WHERE Pts > 20\n",
    "RETURN Problem_CUI, icd9_code, toFloat(combinedTotal)/ptTotal AS combined_entities_probability\n",
    "'''\n",
    "data = session.run(query)\n",
    "combined_entities_df = pd.DataFrame([dict(record) for record in data])\n",
    "\n",
    "two_different_entities_co_occurrence_normalized(\n",
    "    entity1_df=problem_probabilities, \n",
    "    entity2_df=procedure_probabilities, \n",
    "    entity1_id='Problem_CUI', \n",
    "    entity2_id='icd9_code')"
   ]
  },
  {
   "cell_type": "code",
   "execution_count": 11,
   "id": "f8cbafe3-833d-4abf-b5f6-1687675b0cff",
   "metadata": {},
   "outputs": [
    {
     "data": {
      "text/plain": [
       "'Saved results as normalized_co_occurrence_probability_icd9_code_Lab_CUI_2021-12-17_08-51-05.csv'"
      ]
     },
     "execution_count": 11,
     "metadata": {},
     "output_type": "execute_result"
    }
   ],
   "source": [
    "# Get the probability of each pair of procedure and abnormal lab\n",
    "query = '''\n",
    "MATCH (ptTotal:Admissions)\n",
    "WITH count(ptTotal) AS ptTotal\n",
    "MATCH (ad:Admissions)<-[:HAD]-(Pt:Patients), (proc:Procedures_Icd)<-[:HAD]-(Pt)-[:HAD]->(lab:Labevents)-[:INSTANCE_OF]->(c:Concept)\n",
    "WHERE lab.flag IS NOT NULL\n",
    "WITH proc.icd9_code AS icd9_code, c.cui AS Lab_CUI, count(distinct(ad)) AS combinedTotal, ptTotal, count(distinct(Pt)) AS Pts\n",
    "WHERE Pts > 20\n",
    "RETURN icd9_code, Lab_CUI, toFloat(combinedTotal)/ptTotal AS combined_entities_probability\n",
    "'''\n",
    "data = session.run(query)\n",
    "combined_entities_df = pd.DataFrame([dict(record) for record in data])\n",
    "\n",
    "two_different_entities_co_occurrence_normalized(\n",
    "    entity1_df=procedure_probabilities, \n",
    "    entity2_df=abnormal_lab_probabilities, \n",
    "    entity1_id='icd9_code', \n",
    "    entity2_id='Lab_CUI')"
   ]
  },
  {
   "cell_type": "code",
   "execution_count": 13,
   "id": "56d40a08-acfd-479b-b373-802fa6cc338c",
   "metadata": {},
   "outputs": [
    {
     "data": {
      "text/plain": [
       "'Saved results as normalized_co_occurrence_probability_icd9_code_Rx_CUI_2021-12-17_08-54-58.csv'"
      ]
     },
     "execution_count": 13,
     "metadata": {},
     "output_type": "execute_result"
    }
   ],
   "source": [
    "# Get the probability of each pair of procedure and prescription\n",
    "query = '''\n",
    "MATCH (ptTotal:Admissions)\n",
    "WITH count(ptTotal) AS ptTotal\n",
    "MATCH (ad:Admissions)<-[:HAD]-(Pt:Patients), (proc:Procedures_Icd)<-[:HAD]-(Pt)-[:HAD]-(rx:Prescriptions)-[:INSTANCE_OF]->(c:Concept)\n",
    "WITH proc.icd9_code AS icd9_code, c.cui AS Rx_CUI, count(distinct(ad)) AS combinedTotal, ptTotal, count(distinct(Pt)) AS Pts\n",
    "WHERE Pts > 20\n",
    "RETURN icd9_code, Rx_CUI, toFloat(combinedTotal)/ptTotal AS combined_entities_probability\n",
    "'''\n",
    "data = session.run(query)\n",
    "combined_entities_df = pd.DataFrame([dict(record) for record in data])\n",
    "\n",
    "two_different_entities_co_occurrence_normalized(\n",
    "    entity1_df=procedure_probabilities, \n",
    "    entity2_df=rx_probabilities, \n",
    "    entity1_id='icd9_code', \n",
    "    entity2_id='Rx_CUI')"
   ]
  },
  {
   "cell_type": "code",
   "execution_count": 7,
   "id": "d042f144-0d53-4dad-a27e-045b36e19170",
   "metadata": {},
   "outputs": [
    {
     "data": {
      "text/plain": [
       "'Saved results as normalized_co_occurrence_probability_Rx_CUI_Lab_CUI_2021-12-17_09-20-27.csv'"
      ]
     },
     "execution_count": 7,
     "metadata": {},
     "output_type": "execute_result"
    }
   ],
   "source": [
    "# Get the probability of each pair of prescription and abnormal lab\n",
    "query = '''\n",
    "MATCH (ptTotal:Admissions)\n",
    "WITH count(ptTotal) AS ptTotal\n",
    "MATCH (ad:Admissions)<-[:HAD]-(Pt:Patients), (c1:Concept)<-[:INSTANCE_OF]-(rx:Prescriptions)<-[:HAD]-(Pt)-[:HAD]->(lab:Labevents)-[:INSTANCE_OF]->(c2:Concept)\n",
    "WHERE lab.flag IS NOT NULL\n",
    "WITH c1.cui AS Rx_CUI, c2.cui AS Lab_CUI, count(distinct(ad)) AS combinedTotal, ptTotal, count(distinct(Pt)) AS Pts\n",
    "WHERE Pts > 20\n",
    "RETURN Rx_CUI, Lab_CUI, toFloat(combinedTotal)/ptTotal AS combined_entities_probability\n",
    "'''\n",
    "data = session.run(query)\n",
    "combined_entities_df = pd.DataFrame([dict(record) for record in data])\n",
    "\n",
    "two_different_entities_co_occurrence_normalized(\n",
    "    entity1_df=rx_probabilities, \n",
    "    entity2_df=abnormal_lab_probabilities, \n",
    "    entity1_id='Rx_CUI', \n",
    "    entity2_id='Lab_CUI')"
   ]
  },
  {
   "cell_type": "markdown",
   "id": "b12cbbc4-7c2b-4e33-94cc-9f376f636792",
   "metadata": {},
   "source": [
    "## Find the probability of each entity of interest occuring with another of its kind (e.g. problems with problems)"
   ]
  },
  {
   "cell_type": "code",
   "execution_count": 6,
   "id": "5b408759-c3ae-4988-82e8-a2015f94bc44",
   "metadata": {},
   "outputs": [],
   "source": [
    "def pair_same_entity_co_occurrence_normalized(entity_df, entity_id):\n",
    "    \n",
    "    entity1_id = entity_id+'_1'\n",
    "    entity2_id = entity_id+'_2'\n",
    "    \n",
    "    # Calculate the co-occurance probability\n",
    "    co_occurrence_df = pd.merge(combined_entities_df, entity_df, left_on=entity1_id, right_on=entity_id)\n",
    "    \n",
    "    co_occurrence_df = pd.merge(co_occurrence_df, entity_df, left_on=entity2_id, right_on=entity_id)\n",
    "    co_occurrence_df['co_occurrence_probability'] = co_occurrence_df.combined_entities_probability / (co_occurrence_df.Probability_Entity_x + co_occurrence_df.Probability_Entity_y)\n",
    "    \n",
    "    # Drop duplicates\n",
    "    co_occurrence_df['ID_pair'] = co_occurrence_df.loc[:,[entity1_id, entity2_id]].values.tolist()\n",
    "    co_occurrence_df.ID_pair.apply(lambda x: x.sort())\n",
    "    co_occurrence_df[[entity1_id,entity2_id]] = pd.DataFrame(co_occurrence_df.ID_pair.tolist(), index= co_occurrence_df.index)\n",
    "    co_occurrence_df.drop_duplicates(subset=[entity1_id,entity2_id], inplace=True)\n",
    "    \n",
    "    # Normalize the co-occurance probability using the min-max method\n",
    "    co_occurrence_df['normalized_co_occurrence_probability'] = (co_occurrence_df.co_occurrence_probability-co_occurrence_df.co_occurrence_probability.min())/(co_occurrence_df.co_occurrence_probability.max()-co_occurrence_df.co_occurrence_probability.min())\n",
    "    \n",
    "    # Sort the dataframe\n",
    "    co_occurrence_df.sort_values(by='normalized_co_occurrence_probability', ascending=False, inplace=True)\n",
    "    \n",
    "    # Write out to CSV\n",
    "    timestamp = datetime.now().strftime(\"%Y-%m-%d_%H-%M-%S\")\n",
    "    filename = 'normalized_co_occurrence_probability_paired_'+entity_id+'_'+timestamp+'.csv'\n",
    "    co_occurrence_df.loc[:,[entity1_id, entity2_id, 'normalized_co_occurrence_probability']].to_csv(filename, index=False)\n",
    "    \n",
    "    return 'Saved results as '+filename"
   ]
  },
  {
   "cell_type": "code",
   "execution_count": 106,
   "id": "517734e7-fd39-465c-b313-8c39fda386c0",
   "metadata": {},
   "outputs": [
    {
     "data": {
      "text/plain": [
       "'Saved results as normalized_co_occurrence_probability_paired_Problem_CUI_2021-12-17_07-32-44.csv'"
      ]
     },
     "execution_count": 106,
     "metadata": {},
     "output_type": "execute_result"
    }
   ],
   "source": [
    "# Get the probability of each pair of problems co-occuring\n",
    "query = '''\n",
    "MATCH (ptTotal:Admissions)\n",
    "WITH count(ptTotal) AS ptTotal\n",
    "MATCH (ad:Admissions)<-[:HAD]-(Pt:Patients), (p1:Problem)<-[:HAD_PROBLEM]-(Pt)-[:HAD_PROBLEM]->(p2:Problem)\n",
    "WHERE p1.cui <> p2.cui\n",
    "WITH p1.cui AS Problem_CUI_1, p2.cui AS Problem_CUI_2, count(distinct(ad)) AS ProblemPairTotal, ptTotal\n",
    "RETURN Problem_CUI_1, Problem_CUI_2, toFloat(ProblemPairTotal)/ptTotal AS combined_entities_probability\n",
    "'''\n",
    "data = session.run(query)\n",
    "combined_entities_df = pd.DataFrame([dict(record) for record in data])\n",
    "\n",
    "pair_same_entity_co_occurrence_normalized(\n",
    "    entity_df = problem_probabilities,\n",
    "    entity_id = 'Problem_CUI')"
   ]
  },
  {
   "cell_type": "code",
   "execution_count": 7,
   "id": "27430999-699b-40ff-aa8b-6175d01ae841",
   "metadata": {},
   "outputs": [
    {
     "data": {
      "text/plain": [
       "'Saved results as normalized_co_occurrence_probability_paired_Lab_CUI_2021-12-17_15-18-35.csv'"
      ]
     },
     "execution_count": 7,
     "metadata": {},
     "output_type": "execute_result"
    }
   ],
   "source": [
    "# Get the probability of each pair of abnormal lab events co-occuring\n",
    "query = '''\n",
    "MATCH (ptTotal:Admissions)\n",
    "WITH count(ptTotal) AS ptTotal\n",
    "MATCH (p1:Concept)<-[:INSTANCE_OF]-(lab1:Labevents)-[:OCCURRED_DURING]->(ad:Admissions)<-[:OCCURRED_DURING]-(lab2:Labevents)-[:INSTANCE_OF]->(p2:Concept)\n",
    "WHERE lab1.flag IS NOT NULL AND lab2.flag IS NOT NULL AND p1.cui <> p2.cui\n",
    "WITH p1.cui AS Lab_CUI_1, p2.cui AS Lab_CUI_2, count(distinct(ad)) AS ProblemPairTotal, ptTotal\n",
    "RETURN Lab_CUI_1, Lab_CUI_2, toFloat(ProblemPairTotal)/ptTotal AS combined_entities_probability\n",
    "'''\n",
    "data = session.run(query)\n",
    "combined_entities_df = pd.DataFrame([dict(record) for record in data])\n",
    "\n",
    "pair_same_entity_co_occurrence_normalized(\n",
    "    entity_df = abnormal_lab_probabilities,\n",
    "    entity_id = 'Lab_CUI')"
   ]
  },
  {
   "cell_type": "code",
   "execution_count": 11,
   "id": "4a3cc9d5-0280-468f-b474-0cea7d5027de",
   "metadata": {},
   "outputs": [
    {
     "data": {
      "text/plain": [
       "'Saved results as normalized_co_occurrence_probability_paired_procedure_icd9_code_2021-12-17_16-09-08.csv'"
      ]
     },
     "execution_count": 11,
     "metadata": {},
     "output_type": "execute_result"
    }
   ],
   "source": [
    "# Get the probability of each pair of procedures co-occuring\n",
    "query = '''\n",
    "MATCH (ptTotal:Admissions)\n",
    "WITH count(ptTotal) AS ptTotal\n",
    "MATCH (ad:Admissions)<-[:HAD]-(Pt:Patients), (p1:Procedures_Icd)<-[:HAD]-(Pt)-[:HAD]->(p2:Procedures_Icd)\n",
    "WHERE p1.icd9_code <> p2.icd9_code\n",
    "WITH p1.icd9_code AS procedure_icd9_code_1, p2.icd9_code AS procedure_icd9_code_2, count(distinct(ad)) AS ProblemPairTotal, ptTotal\n",
    "RETURN procedure_icd9_code_1, procedure_icd9_code_2, toFloat(ProblemPairTotal)/ptTotal AS combined_entities_probability\n",
    "'''\n",
    "data = session.run(query)\n",
    "combined_entities_df = pd.DataFrame([dict(record) for record in data])\n",
    "\n",
    "pair_same_entity_co_occurrence_normalized(\n",
    "    entity_df = procedure_probabilities,\n",
    "    entity_id = 'procedure_icd9_code')"
   ]
  },
  {
   "cell_type": "code",
   "execution_count": 9,
   "id": "af6e68e7-5815-4cc2-a501-cc6aa19f1a0c",
   "metadata": {},
   "outputs": [
    {
     "data": {
      "text/plain": [
       "'Saved results as normalized_co_occurrence_probability_paired_dx_icd9_code_2021-12-17_16-06-52.csv'"
      ]
     },
     "execution_count": 9,
     "metadata": {},
     "output_type": "execute_result"
    }
   ],
   "source": [
    "# Get the probability of each pair of diagnoses co-occuring\n",
    "query = '''\n",
    "MATCH (ptTotal:Admissions)\n",
    "WITH count(ptTotal) AS ptTotal\n",
    "MATCH (ad:Admissions)<-[:HAD]-(Pt:Patients), (p1:Diagnoses_Icd)<-[:HAD]-(Pt)-[:HAD]->(p2:Diagnoses_Icd)\n",
    "WHERE p1.icd9_code <> p2.icd9_code\n",
    "WITH p1.icd9_code AS dx_icd9_code_1, p2.icd9_code AS dx_icd9_code_2, count(distinct(ad)) AS ProblemPairTotal, ptTotal\n",
    "RETURN dx_icd9_code_1, dx_icd9_code_2, toFloat(ProblemPairTotal)/ptTotal AS combined_entities_probability\n",
    "'''\n",
    "data = session.run(query)\n",
    "combined_entities_df = pd.DataFrame([dict(record) for record in data])\n",
    "\n",
    "pair_same_entity_co_occurrence_normalized(\n",
    "    entity_df = diagnosis_probabilities,\n",
    "    entity_id = 'dx_icd9_code')"
   ]
  },
  {
   "cell_type": "code",
   "execution_count": 20,
   "id": "0be35abf-c8fa-43a6-b19e-e5ad50b051d1",
   "metadata": {},
   "outputs": [
    {
     "data": {
      "text/plain": [
       "'Saved results as normalized_co_occurrence_probability_paired_Rx_CUI_2021-12-17_11-24-12.csv'"
      ]
     },
     "execution_count": 20,
     "metadata": {},
     "output_type": "execute_result"
    }
   ],
   "source": [
    "# Get the probability of each pair of prescriptions co-occuring\n",
    "query = '''\n",
    "MATCH (ptTotal:Admissions)\n",
    "WITH count(ptTotal) AS ptTotal\n",
    "MATCH (ad:Admissions)<-[:HAD]-(Pt:Patients), (p1:Concept)<-[:INSTANCE_OF]-(:Prescriptions)<-[:HAD]-(Pt)-[:HAD]-(:Prescriptions)-[:INSTANCE_OF]->(p2:Concept)\n",
    "WHERE p1.cui <> p2.cui\n",
    "WITH p1.cui AS Rx_CUI_1, p2.cui AS Rx_CUI_2, count(distinct(ad)) AS ProblemPairTotal, ptTotal\n",
    "RETURN Rx_CUI_1, Rx_CUI_2, toFloat(ProblemPairTotal)/ptTotal AS combined_entities_probability\n",
    "'''\n",
    "data = session.run(query)\n",
    "combined_entities_df = pd.DataFrame([dict(record) for record in data])\n",
    "\n",
    "pair_same_entity_co_occurrence_normalized(\n",
    "    entity_df = rx_probabilities,\n",
    "    entity_id = 'Rx_CUI')"
   ]
  },
  {
   "cell_type": "markdown",
   "id": "e3694005-21ad-4f1a-b6c8-cf33c32aa1ee",
   "metadata": {},
   "source": [
    "## Determine significance thresholds for the normalized probability of co-occurance for each pair of entities  \n",
    "\n",
    "![problems x problems](images/normalized_co_occurence_problem_pair.png)  \n",
    "(Picture above) Normalized co-occurence probabilities for problem pairs. \n",
    "\n",
    "![rx x rx](images/normalized_co_occurence_prescription_pair.png)  \n",
    "(Picture above) Normalized co-occurence probabilities for prescription pairs. \n",
    "\n",
    "![procedures x procedures](images/normalized_co_occurence_procedures_pair.png)  \n",
    "(Picture above) Normalized co-occurence probabilities for procedure pairs. \n",
    "\n",
    "![labs x labs](images/normalized_co_occurence_abnormal_lab_pair.png)  \n",
    "(Picture above) Normalized co-occurence probabilities for abnormal lab pairs. \n",
    "\n",
    "![labs x rx](images/normalized_co_occurence_labs_x_prescriptions.png)  \n",
    "(Picture above) Normalized co-occurence probabilities for abnormal labs and prescriptions. \n",
    "\n",
    "![labs x procedures](images/normalized_co_occurence_procedures_x_labs.png)  \n",
    "(Picture above) Normalized co-occurence probabilities for abnormal labs and procedures. \n",
    "\n",
    "![labs x problems](images/normalized_co_occurence_problem_x_abnormal_labs.png)  \n",
    "(Picture above) Normalized co-occurence probabilities for problems and abnormal labs. \n",
    "\n",
    "![rx x problems](images/normalized_co_occurence_problem_x_prescriptions.png)  \n",
    "(Picture above) Normalized co-occurence probabilities for problems and prescriptions. \n",
    "\n",
    "![procedures x problems](images/normalized_co_occurence_problem_x_procedures.png)  \n",
    "(Picture above) Normalized co-occurence probabilities for problems and procedures. \n",
    "\n",
    "![rx x procedures](images/normalized_co_occurence_procedures_x_prescriptions.png)  \n",
    "(Picture above) Normalized co-occurence probabilities for prescriptions and procedures. "
   ]
  },
  {
   "cell_type": "markdown",
   "id": "b36a183f-5b1e-4894-bb66-1ca1f0145294",
   "metadata": {},
   "source": [
    "## Create 2-way co-occurrence nodes/relationships\n",
    "Move the CSV into the database's Import folder"
   ]
  },
  {
   "cell_type": "code",
   "execution_count": 12,
   "id": "54c1a13f-e31d-4d9c-956a-f2209832c7d7",
   "metadata": {},
   "outputs": [
    {
     "data": {
      "text/plain": [
       "<neo4j.work.result.Result at 0x7f27766f6640>"
      ]
     },
     "execution_count": 12,
     "metadata": {},
     "output_type": "execute_result"
    }
   ],
   "source": [
    "# Import the CUI-based co-occurance probabilities into the database\n",
    "timestamp = datetime.now().strftime(\"%Y-%m-%dT%H:%M:%S\")\n",
    "\n",
    "command = '''\n",
    "USING PERIODIC COMMIT 100000 LOAD CSV WITH HEADERS FROM \"file:///{filename}\" AS COLUMN\n",
    "MATCH (prob:Concept)\n",
    "WHERE prob.cui = COLUMN.Problem_CUI AND prob.cui_pref_term IS NOT NULL\n",
    "MATCH (lab:Concept)\n",
    "WHERE lab.cui = COLUMN.Lab_CUI AND lab.cui_pref_term IS NOT NULL\n",
    "CREATE (prob)<-[r:OCCURS_WITH {{co_occurrence_probability:toFloat(COLUMN.normalized_co_occurrence_probability), source:'MIMIC-III v1.4', updated:'{timestamp}'}}]-(lab)\n",
    "'''.format(timestamp=timestamp, filename=filename)\n",
    "\n",
    "session.run(command)"
   ]
  },
  {
   "cell_type": "code",
   "execution_count": 109,
   "id": "7adb5158-7d3b-4f99-9f8e-ee055528d383",
   "metadata": {},
   "outputs": [
    {
     "data": {
      "text/plain": [
       "<neo4j.work.result.Result at 0x7f6e96d6cd30>"
      ]
     },
     "execution_count": 109,
     "metadata": {},
     "output_type": "execute_result"
    }
   ],
   "source": [
    "# Import the procedure-other entity co-occurance probabilities into the database\n",
    "timestamp = datetime.now().strftime(\"%Y-%m-%dT%H:%M:%S\")\n",
    "\n",
    "command = '''\n",
    "USING PERIODIC COMMIT 100000 LOAD CSV WITH HEADERS FROM \"file:///{filename}\" AS COLUMN\n",
    "MATCH (prob:Concept)\n",
    "WHERE prob.cui = COLUMN.Problem_CUI AND prob.cui_pref_term IS NOT NULL\n",
    "MATCH (rx:Concept)\n",
    "WHERE rx.cui = COLUMN.Rx_CUI AND rx.cui_pref_term IS NOT NULL\n",
    "CREATE (prob)<-[r:OCCURS_WITH {{co_occurrence_probability:toFloat(COLUMN.co_occurrence_probability), source:'MIMIC-III v1.4', updated:'{timestamp}'}}]-(rx)\n",
    "'''.format(timestamp=timestamp, filename=filename)\n",
    "\n",
    "session.run(command)"
   ]
  },
  {
   "cell_type": "code",
   "execution_count": null,
   "id": "9486e6a8-b411-4438-ba07-71745eaca79a",
   "metadata": {},
   "outputs": [],
   "source": [
    "# Import the other entity-procedure co-occurance probabilities into the database"
   ]
  },
  {
   "cell_type": "code",
   "execution_count": null,
   "id": "1275a54d-45f0-4b06-afd7-abfe46140f08",
   "metadata": {},
   "outputs": [],
   "source": [
    "# Import the procedure-procedure co-occurance probabilities into the database"
   ]
  },
  {
   "cell_type": "code",
   "execution_count": 74,
   "id": "fbb2974c-8e89-4155-8478-b3fe377df9f6",
   "metadata": {},
   "outputs": [
    {
     "data": {
      "text/plain": [
       "<neo4j.work.result.Result at 0x7fec48db34f0>"
      ]
     },
     "execution_count": 74,
     "metadata": {},
     "output_type": "execute_result"
    }
   ],
   "source": [
    "# Import the problem-pair co-occurance probabilities into the database\n",
    "timestamp = datetime.now().strftime(\"%Y-%m-%dT%H:%M:%S\")\n",
    "\n",
    "command = '''\n",
    "USING PERIODIC COMMIT 100000 LOAD CSV WITH HEADERS FROM \"file:///{filename}\" AS COLUMN\n",
    "MATCH (prob1:Concept)\n",
    "WHERE prob1.cui = COLUMN.Problem1_CUI AND prob1.cui_pref_term IS NOT NULL\n",
    "MATCH (prob2:Concept)\n",
    "WHERE prob2.cui = COLUMN.Problem2_CUI AND prob2.cui_pref_term IS NOT NULL\n",
    "MERGE (prob1)<-[r:OCCURS_WITH {{co_occurrence_probability:toFloat(COLUMN.co_occurrence_probability), source:'MIMIC-III v1.4', updated:'{timestamp}'}}]-(prob2)\n",
    "'''.format(timestamp=timestamp, filename=filename)\n",
    "\n",
    "session.run(command)"
   ]
  },
  {
   "cell_type": "code",
   "execution_count": 27,
   "id": "f2a35b26-c470-4107-982e-128ec584f3b8",
   "metadata": {},
   "outputs": [
    {
     "data": {
      "text/plain": [
       "<neo4j.work.result.Result at 0x7f2f847e40a0>"
      ]
     },
     "execution_count": 27,
     "metadata": {},
     "output_type": "execute_result"
    }
   ],
   "source": [
    "# Import the procedure-problem co-occurance probabilities into the database\n",
    "timestamp = datetime.now().strftime(\"%Y-%m-%dT%H:%M:%S\")\n",
    "\n",
    "command = '''\n",
    "USING PERIODIC COMMIT 100000 LOAD CSV WITH HEADERS FROM \"file:///{filename}\" AS COLUMN\n",
    "MATCH (prob:Concept)\n",
    "WHERE prob.cui = COLUMN.Problem_CUI AND prob.cui_pref_term IS NOT NULL\n",
    "MATCH (proc:D_Icd_Procedures)\n",
    "WHERE proc.icd9_code = COLUMN.icd9_code\n",
    "CREATE (prob)<-[r:OCCURS_WITH {{co_occurrence_probability:toFloat(COLUMN.co_occurrence_probability), source:'MIMIC-III v1.4', updated:'{timestamp}'}}]-(proc)\n",
    "'''.format(timestamp=timestamp, filename=filename)\n",
    "\n",
    "session.run(command)"
   ]
  },
  {
   "cell_type": "markdown",
   "id": "0b3a255d-c1be-4722-a2a1-9928d553a9bf",
   "metadata": {},
   "source": [
    "## Queries"
   ]
  },
  {
   "cell_type": "code",
   "execution_count": 36,
   "id": "b0c98bf9-a011-467c-979a-96eff1b43d6f",
   "metadata": {},
   "outputs": [],
   "source": [
    "def LikelyOrders(cui_prob_list):\n",
    "    \n",
    "    # Find prescriptions associated with the input problem    \n",
    "    query = '''\n",
    "    MATCH p=(ord:Concept)-[r:OCCURS_WITH]->(c:Concept) \n",
    "    WHERE c.cui IN {cui_prob_list} AND ord.semantic_type IN [\"['Clinical Drug']\"]\n",
    "    WITH round(r.co_occurrence_probability, 5)*1000 AS Score, ord, r\n",
    "    WHERE Score > 20\n",
    "    RETURN ord.term AS `Order`, Score\n",
    "    ORDER BY r.co_occurrence_probability DESC\n",
    "    '''.format(cui_prob_list=cui_prob_list)\n",
    "    data = session.run(query)\n",
    "    orders_likely_rx = pd.DataFrame([dict(record) for record in data])\n",
    "    \n",
    "    # Find abnormal labs associated with the input problem\n",
    "    query = '''\n",
    "    MATCH p=(ord:Concept)-[r:OCCURS_WITH]->(c:Concept) \n",
    "    WHERE c.cui IN {cui_prob_list} AND ord.semantic_type IN [\"['Clinical Attribute']\"]\n",
    "    WITH round(r.co_occurrence_probability, 5)*1000 AS Score, ord, r\n",
    "    WHERE Score > 20\n",
    "    RETURN ord.description AS `Order`, Score\n",
    "    ORDER BY r.co_occurrence_probability DESC\n",
    "    '''.format(cui_prob_list=cui_prob_list)\n",
    "    data = session.run(query)\n",
    "    orders_likely_lab = pd.DataFrame([dict(record) for record in data])\n",
    "    \n",
    "    # Find procedures associated with the input problem\n",
    "    query = '''\n",
    "    MATCH p=(ord:D_Icd_Procedures)-[r:OCCURS_WITH]->(c:Concept) \n",
    "    WHERE c.cui IN {cui_prob_list}\n",
    "    WITH round(r.co_occurrence_probability, 5)*1000 AS Score, ord, r\n",
    "    WHERE Score > 20\n",
    "    RETURN ord.long_title AS `Order`, Score\n",
    "    ORDER BY r.co_occurrence_probability DESC\n",
    "    '''.format(cui_prob_list=cui_prob_list)\n",
    "    data = session.run(query)\n",
    "    orders_likely_procedure = pd.DataFrame([dict(record) for record in data])\n",
    "    \n",
    "    return orders_likely_rx, orders_likely_lab, orders_likely_procedure"
   ]
  },
  {
   "cell_type": "code",
   "execution_count": 37,
   "id": "aa407520-7d1e-4507-883b-d45cc6f0a5c4",
   "metadata": {
    "tags": []
   },
   "outputs": [
    {
     "name": "stdout",
     "output_type": "stream",
     "text": [
      "Total runtime: 0.015000104904174805 seconds\n"
     ]
    }
   ],
   "source": [
    "start_time = time.time()\n",
    "\n",
    "cui_prob_list = ['C0022661']\n",
    "orders_likely_rx, orders_likely_lab, orders_likely_procedure = LikelyOrders(cui_prob_list)\n",
    "\n",
    "print(\"Total runtime:\", time.time() - start_time, \"seconds\")"
   ]
  },
  {
   "cell_type": "code",
   "execution_count": 30,
   "id": "12559a2c-f8cb-47ad-a3fe-5943e2de2bc6",
   "metadata": {
    "tags": []
   },
   "outputs": [
    {
     "data": {
      "text/html": [
       "<div>\n",
       "<style scoped>\n",
       "    .dataframe tbody tr th:only-of-type {\n",
       "        vertical-align: middle;\n",
       "    }\n",
       "\n",
       "    .dataframe tbody tr th {\n",
       "        vertical-align: top;\n",
       "    }\n",
       "\n",
       "    .dataframe thead th {\n",
       "        text-align: right;\n",
       "    }\n",
       "</style>\n",
       "<table border=\"1\" class=\"dataframe\">\n",
       "  <thead>\n",
       "    <tr style=\"text-align: right;\">\n",
       "      <th></th>\n",
       "      <th>Order</th>\n",
       "      <th>Score</th>\n",
       "    </tr>\n",
       "  </thead>\n",
       "  <tbody>\n",
       "    <tr>\n",
       "      <th>0</th>\n",
       "      <td>calcitriol 0.00025 MG Oral Capsule</td>\n",
       "      <td>109.59</td>\n",
       "    </tr>\n",
       "    <tr>\n",
       "      <th>1</th>\n",
       "      <td>sevelamer carbonate 800 MG Oral Tablet [Renvela]</td>\n",
       "      <td>106.88</td>\n",
       "    </tr>\n",
       "    <tr>\n",
       "      <th>2</th>\n",
       "      <td>sodium polystyrene sulfonate 250 MG/ML Oral Su...</td>\n",
       "      <td>103.32</td>\n",
       "    </tr>\n",
       "    <tr>\n",
       "      <th>3</th>\n",
       "      <td>1 ML epoetin alfa 4000 UNT/ML Injection [Procrit]</td>\n",
       "      <td>79.31</td>\n",
       "    </tr>\n",
       "    <tr>\n",
       "      <th>4</th>\n",
       "      <td>150 ML Glucose 50 MG/ML Injection</td>\n",
       "      <td>76.26</td>\n",
       "    </tr>\n",
       "    <tr>\n",
       "      <th>...</th>\n",
       "      <td>...</td>\n",
       "      <td>...</td>\n",
       "    </tr>\n",
       "    <tr>\n",
       "      <th>92</th>\n",
       "      <td>100 ML Glucose 50 MG/ML Injection</td>\n",
       "      <td>20.79</td>\n",
       "    </tr>\n",
       "    <tr>\n",
       "      <th>93</th>\n",
       "      <td>Docusate Sodium 10 MG/ML Oral Suspension</td>\n",
       "      <td>20.71</td>\n",
       "    </tr>\n",
       "    <tr>\n",
       "      <th>94</th>\n",
       "      <td>Aspirin 81 MG Chewable Tablet</td>\n",
       "      <td>20.34</td>\n",
       "    </tr>\n",
       "    <tr>\n",
       "      <th>95</th>\n",
       "      <td>Amiodarone hydrochloride 200 MG Oral Tablet</td>\n",
       "      <td>20.32</td>\n",
       "    </tr>\n",
       "    <tr>\n",
       "      <th>96</th>\n",
       "      <td>50 ML Glucose 500 MG/ML Prefilled Syringe</td>\n",
       "      <td>20.30</td>\n",
       "    </tr>\n",
       "  </tbody>\n",
       "</table>\n",
       "<p>97 rows × 2 columns</p>\n",
       "</div>"
      ],
      "text/plain": [
       "                                                Order   Score\n",
       "0                  calcitriol 0.00025 MG Oral Capsule  109.59\n",
       "1    sevelamer carbonate 800 MG Oral Tablet [Renvela]  106.88\n",
       "2   sodium polystyrene sulfonate 250 MG/ML Oral Su...  103.32\n",
       "3   1 ML epoetin alfa 4000 UNT/ML Injection [Procrit]   79.31\n",
       "4                   150 ML Glucose 50 MG/ML Injection   76.26\n",
       "..                                                ...     ...\n",
       "92                  100 ML Glucose 50 MG/ML Injection   20.79\n",
       "93           Docusate Sodium 10 MG/ML Oral Suspension   20.71\n",
       "94                      Aspirin 81 MG Chewable Tablet   20.34\n",
       "95        Amiodarone hydrochloride 200 MG Oral Tablet   20.32\n",
       "96          50 ML Glucose 500 MG/ML Prefilled Syringe   20.30\n",
       "\n",
       "[97 rows x 2 columns]"
      ]
     },
     "execution_count": 30,
     "metadata": {},
     "output_type": "execute_result"
    }
   ],
   "source": [
    "orders_likely_rx"
   ]
  },
  {
   "cell_type": "code",
   "execution_count": 31,
   "id": "296da1d1-2931-430b-9d0e-9fdb3fadd145",
   "metadata": {
    "tags": []
   },
   "outputs": [
    {
     "data": {
      "text/html": [
       "<div>\n",
       "<style scoped>\n",
       "    .dataframe tbody tr th:only-of-type {\n",
       "        vertical-align: middle;\n",
       "    }\n",
       "\n",
       "    .dataframe tbody tr th {\n",
       "        vertical-align: top;\n",
       "    }\n",
       "\n",
       "    .dataframe thead th {\n",
       "        text-align: right;\n",
       "    }\n",
       "</style>\n",
       "<table border=\"1\" class=\"dataframe\">\n",
       "  <thead>\n",
       "    <tr style=\"text-align: right;\">\n",
       "      <th></th>\n",
       "      <th>Order</th>\n",
       "      <th>Score</th>\n",
       "    </tr>\n",
       "  </thead>\n",
       "  <tbody>\n",
       "    <tr>\n",
       "      <th>0</th>\n",
       "      <td>Macrophage in Ascites</td>\n",
       "      <td>57.87</td>\n",
       "    </tr>\n",
       "    <tr>\n",
       "      <th>1</th>\n",
       "      <td>Lymphocytes in Other Body Fluid</td>\n",
       "      <td>57.69</td>\n",
       "    </tr>\n",
       "    <tr>\n",
       "      <th>2</th>\n",
       "      <td>Polys in Other Body Fluid</td>\n",
       "      <td>53.77</td>\n",
       "    </tr>\n",
       "    <tr>\n",
       "      <th>3</th>\n",
       "      <td>Lymphocytes in Ascites</td>\n",
       "      <td>52.82</td>\n",
       "    </tr>\n",
       "    <tr>\n",
       "      <th>4</th>\n",
       "      <td>RBC, Ascites in Ascites</td>\n",
       "      <td>51.48</td>\n",
       "    </tr>\n",
       "    <tr>\n",
       "      <th>5</th>\n",
       "      <td>WBC, Ascites in Ascites</td>\n",
       "      <td>50.71</td>\n",
       "    </tr>\n",
       "    <tr>\n",
       "      <th>6</th>\n",
       "      <td>Monocytes in Ascites</td>\n",
       "      <td>49.68</td>\n",
       "    </tr>\n",
       "    <tr>\n",
       "      <th>7</th>\n",
       "      <td>Polys in Ascites</td>\n",
       "      <td>48.77</td>\n",
       "    </tr>\n",
       "    <tr>\n",
       "      <th>8</th>\n",
       "      <td>Protein/Creatinine Ratio in Urine</td>\n",
       "      <td>48.01</td>\n",
       "    </tr>\n",
       "    <tr>\n",
       "      <th>9</th>\n",
       "      <td>pH in Urine</td>\n",
       "      <td>44.46</td>\n",
       "    </tr>\n",
       "    <tr>\n",
       "      <th>10</th>\n",
       "      <td>Calculated Bicarbonate, Whole Blood in Blood</td>\n",
       "      <td>42.64</td>\n",
       "    </tr>\n",
       "    <tr>\n",
       "      <th>11</th>\n",
       "      <td>Protein, Total in Blood</td>\n",
       "      <td>37.49</td>\n",
       "    </tr>\n",
       "    <tr>\n",
       "      <th>12</th>\n",
       "      <td>NTproBNP in Blood</td>\n",
       "      <td>32.45</td>\n",
       "    </tr>\n",
       "    <tr>\n",
       "      <th>13</th>\n",
       "      <td>Thyroid Stimulating Hormone in Blood</td>\n",
       "      <td>31.22</td>\n",
       "    </tr>\n",
       "    <tr>\n",
       "      <th>14</th>\n",
       "      <td>Amylase in Blood</td>\n",
       "      <td>29.50</td>\n",
       "    </tr>\n",
       "    <tr>\n",
       "      <th>15</th>\n",
       "      <td>C-Reactive Protein in Blood</td>\n",
       "      <td>28.02</td>\n",
       "    </tr>\n",
       "    <tr>\n",
       "      <th>16</th>\n",
       "      <td>Gamma Glutamyltransferase in Blood</td>\n",
       "      <td>27.92</td>\n",
       "    </tr>\n",
       "    <tr>\n",
       "      <th>17</th>\n",
       "      <td>Vancomycin in Blood</td>\n",
       "      <td>26.05</td>\n",
       "    </tr>\n",
       "    <tr>\n",
       "      <th>18</th>\n",
       "      <td>Lipase in Blood</td>\n",
       "      <td>25.95</td>\n",
       "    </tr>\n",
       "    <tr>\n",
       "      <th>19</th>\n",
       "      <td>Troponin T in Blood</td>\n",
       "      <td>25.53</td>\n",
       "    </tr>\n",
       "    <tr>\n",
       "      <th>20</th>\n",
       "      <td>Chloride, Whole Blood in Blood</td>\n",
       "      <td>25.39</td>\n",
       "    </tr>\n",
       "    <tr>\n",
       "      <th>21</th>\n",
       "      <td>RBC, Pleural in Pleural</td>\n",
       "      <td>25.27</td>\n",
       "    </tr>\n",
       "    <tr>\n",
       "      <th>22</th>\n",
       "      <td>Granular Casts in Urine</td>\n",
       "      <td>25.25</td>\n",
       "    </tr>\n",
       "    <tr>\n",
       "      <th>23</th>\n",
       "      <td>Lymphocytes in Pleural</td>\n",
       "      <td>25.17</td>\n",
       "    </tr>\n",
       "    <tr>\n",
       "      <th>24</th>\n",
       "      <td>Polys in Pleural</td>\n",
       "      <td>25.14</td>\n",
       "    </tr>\n",
       "    <tr>\n",
       "      <th>25</th>\n",
       "      <td>Haptoglobin in Blood</td>\n",
       "      <td>25.03</td>\n",
       "    </tr>\n",
       "    <tr>\n",
       "      <th>26</th>\n",
       "      <td>WBC, Pleural in Pleural</td>\n",
       "      <td>24.40</td>\n",
       "    </tr>\n",
       "    <tr>\n",
       "      <th>27</th>\n",
       "      <td>Eosinophils in Blood</td>\n",
       "      <td>24.24</td>\n",
       "    </tr>\n",
       "    <tr>\n",
       "      <th>28</th>\n",
       "      <td>Sedimentation Rate in Blood</td>\n",
       "      <td>23.52</td>\n",
       "    </tr>\n",
       "    <tr>\n",
       "      <th>29</th>\n",
       "      <td>Lactate Dehydrogenase (LD) in Blood</td>\n",
       "      <td>21.91</td>\n",
       "    </tr>\n",
       "    <tr>\n",
       "      <th>30</th>\n",
       "      <td>Hyaline Casts in Urine</td>\n",
       "      <td>21.00</td>\n",
       "    </tr>\n",
       "    <tr>\n",
       "      <th>31</th>\n",
       "      <td>Triglycerides in Blood</td>\n",
       "      <td>20.93</td>\n",
       "    </tr>\n",
       "    <tr>\n",
       "      <th>32</th>\n",
       "      <td>Absolute A1c in Blood</td>\n",
       "      <td>20.93</td>\n",
       "    </tr>\n",
       "    <tr>\n",
       "      <th>33</th>\n",
       "      <td>Monocytes in Blood</td>\n",
       "      <td>20.61</td>\n",
       "    </tr>\n",
       "    <tr>\n",
       "      <th>34</th>\n",
       "      <td>Osmolality, Measured in Blood</td>\n",
       "      <td>20.19</td>\n",
       "    </tr>\n",
       "    <tr>\n",
       "      <th>35</th>\n",
       "      <td>WBC in Urine</td>\n",
       "      <td>20.18</td>\n",
       "    </tr>\n",
       "  </tbody>\n",
       "</table>\n",
       "</div>"
      ],
      "text/plain": [
       "                                           Order  Score\n",
       "0                          Macrophage in Ascites  57.87\n",
       "1                Lymphocytes in Other Body Fluid  57.69\n",
       "2                      Polys in Other Body Fluid  53.77\n",
       "3                         Lymphocytes in Ascites  52.82\n",
       "4                        RBC, Ascites in Ascites  51.48\n",
       "5                        WBC, Ascites in Ascites  50.71\n",
       "6                           Monocytes in Ascites  49.68\n",
       "7                               Polys in Ascites  48.77\n",
       "8              Protein/Creatinine Ratio in Urine  48.01\n",
       "9                                    pH in Urine  44.46\n",
       "10  Calculated Bicarbonate, Whole Blood in Blood  42.64\n",
       "11                       Protein, Total in Blood  37.49\n",
       "12                             NTproBNP in Blood  32.45\n",
       "13          Thyroid Stimulating Hormone in Blood  31.22\n",
       "14                              Amylase in Blood  29.50\n",
       "15                   C-Reactive Protein in Blood  28.02\n",
       "16            Gamma Glutamyltransferase in Blood  27.92\n",
       "17                           Vancomycin in Blood  26.05\n",
       "18                               Lipase in Blood  25.95\n",
       "19                           Troponin T in Blood  25.53\n",
       "20                Chloride, Whole Blood in Blood  25.39\n",
       "21                       RBC, Pleural in Pleural  25.27\n",
       "22                       Granular Casts in Urine  25.25\n",
       "23                        Lymphocytes in Pleural  25.17\n",
       "24                              Polys in Pleural  25.14\n",
       "25                          Haptoglobin in Blood  25.03\n",
       "26                       WBC, Pleural in Pleural  24.40\n",
       "27                          Eosinophils in Blood  24.24\n",
       "28                   Sedimentation Rate in Blood  23.52\n",
       "29           Lactate Dehydrogenase (LD) in Blood  21.91\n",
       "30                        Hyaline Casts in Urine  21.00\n",
       "31                        Triglycerides in Blood  20.93\n",
       "32                         Absolute A1c in Blood  20.93\n",
       "33                            Monocytes in Blood  20.61\n",
       "34                 Osmolality, Measured in Blood  20.19\n",
       "35                                  WBC in Urine  20.18"
      ]
     },
     "execution_count": 31,
     "metadata": {},
     "output_type": "execute_result"
    }
   ],
   "source": [
    "orders_likely_lab"
   ]
  },
  {
   "cell_type": "code",
   "execution_count": 35,
   "id": "9c89371b-5174-48fd-8516-9183a58f580b",
   "metadata": {},
   "outputs": [
    {
     "data": {
      "text/html": [
       "<div>\n",
       "<style scoped>\n",
       "    .dataframe tbody tr th:only-of-type {\n",
       "        vertical-align: middle;\n",
       "    }\n",
       "\n",
       "    .dataframe tbody tr th {\n",
       "        vertical-align: top;\n",
       "    }\n",
       "\n",
       "    .dataframe thead th {\n",
       "        text-align: right;\n",
       "    }\n",
       "</style>\n",
       "<table border=\"1\" class=\"dataframe\">\n",
       "  <thead>\n",
       "    <tr style=\"text-align: right;\">\n",
       "      <th></th>\n",
       "      <th>Order</th>\n",
       "      <th>Score</th>\n",
       "    </tr>\n",
       "  </thead>\n",
       "  <tbody>\n",
       "    <tr>\n",
       "      <th>0</th>\n",
       "      <td>Hemodialysis</td>\n",
       "      <td>69.13</td>\n",
       "    </tr>\n",
       "    <tr>\n",
       "      <th>1</th>\n",
       "      <td>Venous catheterization for renal dialysis</td>\n",
       "      <td>64.32</td>\n",
       "    </tr>\n",
       "    <tr>\n",
       "      <th>2</th>\n",
       "      <td>Other endoscopy of small intestine</td>\n",
       "      <td>24.70</td>\n",
       "    </tr>\n",
       "    <tr>\n",
       "      <th>3</th>\n",
       "      <td>Closed [endoscopic] biopsy of bronchus</td>\n",
       "      <td>23.03</td>\n",
       "    </tr>\n",
       "    <tr>\n",
       "      <th>4</th>\n",
       "      <td>Venous catheterization, not elsewhere classified</td>\n",
       "      <td>21.32</td>\n",
       "    </tr>\n",
       "    <tr>\n",
       "      <th>5</th>\n",
       "      <td>Transfusion of packed cells</td>\n",
       "      <td>21.29</td>\n",
       "    </tr>\n",
       "    <tr>\n",
       "      <th>6</th>\n",
       "      <td>Insertion of endotracheal tube</td>\n",
       "      <td>20.16</td>\n",
       "    </tr>\n",
       "  </tbody>\n",
       "</table>\n",
       "</div>"
      ],
      "text/plain": [
       "                                              Order  Score\n",
       "0                                      Hemodialysis  69.13\n",
       "1         Venous catheterization for renal dialysis  64.32\n",
       "2                Other endoscopy of small intestine  24.70\n",
       "3            Closed [endoscopic] biopsy of bronchus  23.03\n",
       "4  Venous catheterization, not elsewhere classified  21.32\n",
       "5                       Transfusion of packed cells  21.29\n",
       "6                    Insertion of endotracheal tube  20.16"
      ]
     },
     "execution_count": 35,
     "metadata": {},
     "output_type": "execute_result"
    }
   ],
   "source": [
    "orders_likely_procedure"
   ]
  }
 ],
 "metadata": {
  "kernelspec": {
   "display_name": "Python 3",
   "language": "python",
   "name": "python3"
  },
  "language_info": {
   "codemirror_mode": {
    "name": "ipython",
    "version": 3
   },
   "file_extension": ".py",
   "mimetype": "text/x-python",
   "name": "python",
   "nbconvert_exporter": "python",
   "pygments_lexer": "ipython3",
   "version": "3.9.4"
  }
 },
 "nbformat": 4,
 "nbformat_minor": 5
}
