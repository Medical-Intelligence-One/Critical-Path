{
 "cells": [
  {
   "cell_type": "markdown",
   "id": "affected-oklahoma",
   "metadata": {},
   "source": [
    "# Clinical Trial recommendation engine"
   ]
  },
  {
   "cell_type": "markdown",
   "id": "indoor-liquid",
   "metadata": {},
   "source": [
    "## User Story\n",
    "As a physician treating a patient whose condition has only poor treatment options I want to know if there are any promising experimental treatments available so that the patient can receive a treatment that may be better than the current standard of care and clinical trials can enroll patients.\n",
    "\n",
    "## Acceptance Criteria\n",
    "\n",
    "Given inputs:\n",
    "- sample patient\n",
    "- sample problem from the problem list\n",
    "- timestamp\n",
    "\n",
    "Return a list of clinical trials which:  \n",
    "- are currently active\n",
    "- have inclusion and exclusion criteria which match the specified patient at the specified time"
   ]
  },
  {
   "cell_type": "markdown",
   "id": "hybrid-target",
   "metadata": {},
   "source": [
    "## Method"
   ]
  },
  {
   "cell_type": "markdown",
   "id": "special-boulder",
   "metadata": {},
   "source": [
    "### Data Model  \n",
    "Modeling done with the Arrows App: https://drive.google.com/file/d/1pnsPR_bDBSZSydorsB60SL0nweEOsou8/view?usp=sharing\n",
    "\n",
    "### Assign all fields from the XML to each node or relationship in the data model\n",
    "\n",
    "### Create additional nodes or compress XML hierarchies to convert the remaining XML fields into property graph format\n",
    "#### Location data\n",
    "\n",
    "Convert xml into property graph structure? (XML schema found here: https://clinicaltrials.gov/ct2/html/images/info/public.xsd)"
   ]
  },
  {
   "cell_type": "code",
   "execution_count": null,
   "id": "decent-floor",
   "metadata": {},
   "outputs": [],
   "source": []
  },
  {
   "cell_type": "markdown",
   "id": "unique-fetish",
   "metadata": {},
   "source": [
    "## Data References\n",
    "- UMLS concepts\n",
    "- Clinical trials data: https://clinicaltrials.gov/ct2/resources/download#DownloadAllData"
   ]
  }
 ],
 "metadata": {
  "kernelspec": {
   "display_name": "Python 3",
   "language": "python",
   "name": "python3"
  },
  "language_info": {
   "codemirror_mode": {
    "name": "ipython",
    "version": 3
   },
   "file_extension": ".py",
   "mimetype": "text/x-python",
   "name": "python",
   "nbconvert_exporter": "python",
   "pygments_lexer": "ipython3",
   "version": "3.9.1"
  }
 },
 "nbformat": 4,
 "nbformat_minor": 5
}
