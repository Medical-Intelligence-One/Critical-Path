{
 "cells": [
  {
   "cell_type": "markdown",
   "id": "3e61b200-43e2-43d5-ab4f-87e533f1ba72",
   "metadata": {},
   "source": [
    "# Prototype Version\n",
    "To-Do:\n",
    "- demarkate known vs predicted problems\n",
    "- make it easy to select/unselect known problems\n",
    "- resend call to potentialcomorbidities API each time a new known problem is checked\n",
    "- make the work-up and documentation buttons look like tabs\n"
   ]
  },
  {
   "cell_type": "markdown",
   "id": "a77b3531-88e8-4472-8859-372102c8862a",
   "metadata": {},
   "source": [
    "- create a history-taking application?"
   ]
  }
 ],
 "metadata": {
  "kernelspec": {
   "display_name": "Python 3",
   "language": "python",
   "name": "python3"
  },
  "language_info": {
   "codemirror_mode": {
    "name": "ipython",
    "version": 3
   },
   "file_extension": ".py",
   "mimetype": "text/x-python",
   "name": "python",
   "nbconvert_exporter": "python",
   "pygments_lexer": "ipython3",
   "version": "3.9.4"
  }
 },
 "nbformat": 4,
 "nbformat_minor": 5
}
