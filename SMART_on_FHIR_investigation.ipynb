{
 "cells": [
  {
   "cell_type": "markdown",
   "id": "7c71d7be-9e8a-4cf3-a4f9-0cc163192c25",
   "metadata": {},
   "source": [
    "# SMART on FHIR"
   ]
  },
  {
   "cell_type": "markdown",
   "id": "070c1cb1-8f13-4a07-8033-d85419308db9",
   "metadata": {},
   "source": [
    "General Resources:  \n",
    "SMART on FHIR tools, sandboxes, training, etc: https://docs.smarthealthit.org/  \n",
    "FHIR API tester & U.S. core data in FHIR format https://inferno.healthit.gov/inferno  \n",
    "Health IT Developer Certification Criteria and registry of certified developers: https://chpl.healthit.gov/#/listing/10591\n",
    "Cures Act info: https://www.healthit.gov/curesrule/\n",
    "Policies and technological standards: https://www.cms.gov/Regulations-and-Guidance/Guidance/Interoperability/index  \n",
    "Epic ONC certification details and cost disclosures: https://www.epic.com/mu\n",
    "\n",
    "API providers for FHIR:\n",
    "- [MuleSoft](https://www.mulesoft.com/exchange/68ef9520-24e9-4cf2-b2f5-620025690913/catalyst-accelerator-for-healthcare/). Use pre-built APIs for Epic, Cerner, and others. Maybe faster to get set up and running. \n",
    "- [Swagger](https://swagger.io/). Open source DIY API development platform.\n",
    "- [CyFHIR](https://github.com/Optum/CyFHIR). Write FHIR-formattted data directly to graph and read cypher results back into FHIR.\n",
    "\n",
    "Potential EHRs for demo:\n",
    "- [OpenMRS](https://wiki.openmrs.org/display/projects/OpenMRS+HL7+FHIR+Solutions)\n",
    "- Cerner's SMART on FHIR tutorial/sandbox: https://engineering.cerner.com/smart-on-fhir-tutorial/#introduction\n",
    "- Epic's SMART on FHIR sandbox and documentation: https://fhir.epic.com/  \n",
    "\n",
    "FHIR endpoints by healthcare organization: https://open.epic.com/MyApps/Endpoints\n",
    "\n",
    "Theme song for this notebook can be found at: https://www.youtube.com/watch?v=J91ti_MpdHA&ab_channel=aliciakeysVEVO"
   ]
  },
  {
   "cell_type": "code",
   "execution_count": 118,
   "id": "6003d781-7d56-47ea-8ead-2011f3fb03e8",
   "metadata": {},
   "outputs": [],
   "source": [
    "import requests\n",
    "import json\n",
    "# import time\n",
    "from datetime import datetime\n",
    "from datetime import timedelta"
   ]
  },
  {
   "cell_type": "code",
   "execution_count": 130,
   "id": "c0ad7c75-064a-4a3e-b3d8-f26116703de2",
   "metadata": {},
   "outputs": [],
   "source": [
    "from neo4j import GraphDatabase\n",
    "driver=GraphDatabase.driver(uri=\"bolt://localhost:7687\", auth=('neo4j','FHIR'))\n",
    "session=driver.session()"
   ]
  },
  {
   "cell_type": "code",
   "execution_count": 159,
   "id": "e87e50a2-c6ea-43b6-9dfa-e5eeefb3f0e5",
   "metadata": {
    "tags": []
   },
   "outputs": [
    {
     "data": {
      "text/plain": [
       "{'resourceType': 'Bundle',\n",
       " 'id': 'f2319e6c-d51d-4041-8541-e2ba492d3f1a',\n",
       " 'meta': {'lastUpdated': '2022-02-01T12:59:08.773+00:00'},\n",
       " 'type': 'searchset',\n",
       " 'total': 0,\n",
       " 'link': [{'relation': 'self',\n",
       "   'url': 'https://fhirsandbox.healthit.gov/open/r4/fhir/Patient/?_format=json&_id=2'}]}"
      ]
     },
     "execution_count": 159,
     "metadata": {},
     "output_type": "execute_result"
    }
   ],
   "source": [
    "base = 'https://fhirsandbox.healthit.gov/open/r4/fhir/'\n",
    "resource = 'Patient/?_id=2&_format=json'\n",
    "response = requests.get(base+resource)\n",
    "json_data = response.json()\n",
    "json_data"
   ]
  },
  {
   "cell_type": "code",
   "execution_count": 164,
   "id": "e0575da5-18e8-420e-96e3-85aeacbe6a08",
   "metadata": {
    "tags": []
   },
   "outputs": [
    {
     "data": {
      "text/plain": [
       "{'resourceType': 'OperationOutcome',\n",
       " 'issue': [{'severity': 'error',\n",
       "   'code': 'processing',\n",
       "   'diagnostics': \"Unknown resource type 'MedicationOrder' - Server knows how to handle: [RiskAssessment, Provenance, Organization, CareTeam, MedicationDispense, DiagnosticReport, ImagingStudy, HealthcareService, Specimen, CarePlan, FamilyMemberHistory, Goal, AllergyIntolerance, StructureDefinition, Medication, Procedure, Encounter, OperationDefinition, DocumentReference, Condition, MedicationRequest, Immunization, Device, Patient, PractitionerRole, ServiceRequest, Practitioner, Observation, MedicationAdministration, MedicationStatement, Location]\"}]}"
      ]
     },
     "execution_count": 164,
     "metadata": {},
     "output_type": "execute_result"
    }
   ],
   "source": [
    "base = 'https://fhirsandbox.healthit.gov/open/r4/fhir/'\n",
    "resource = 'MedicationRequest?patient=1&_format=json'\n",
    "response = requests.get(base+resource)\n",
    "json_data = response.json()\n",
    "\n",
    "# resource = json_data[\"entry\"][0][\"resource\"]\n",
    "\n",
    "# rxCUI = resource[\"medicationCodeableConcept\"][\"coding\"][0][\"code\"]\n",
    "# dateWritten = resource[\"dateWritten\"]\n",
    "# prescriber = resource[\"prescriber\"][\"reference\"]\n",
    "# dosageInstruction = resource[\"dosageInstruction\"][0]\n",
    "# # print(\"RxNorm CUI:\",rxCUI)\n",
    "# # print(\"Date:\", dateWritten)\n",
    "# # print(\"Prescirber:\", prescriber)\n",
    "# # print(\"Dosage:\", dosageInstruction['text'])\n",
    "# json_data = str(json_data).replace(\"'\", \"\\\\'\")\n",
    "json_data"
   ]
  },
  {
   "cell_type": "markdown",
   "id": "86e33f59-663f-4ef5-9826-b218935323d1",
   "metadata": {},
   "source": [
    "Server knows how to handle:  \n",
    "RiskAssessment, Provenance, Organization, CareTeam, MedicationDispense, DiagnosticReport, ImagingStudy, HealthcareService, Specimen, CarePlan, FamilyMemberHistory, Goal, AllergyIntolerance, StructureDefinition, Medication, Procedure, Encounter, OperationDefinition, DocumentReference, Condition, MedicationRequest, Immunization, Device, Patient, PractitionerRole, ServiceRequest, Practitioner, Observation, MedicationAdministration, MedicationStatement, Location"
   ]
  },
  {
   "cell_type": "code",
   "execution_count": 157,
   "id": "dd06b026-eebc-4387-a01f-db47094e88b3",
   "metadata": {},
   "outputs": [
    {
     "data": {
      "text/plain": [
       "<neo4j.work.result.Result at 0x7ff5fe8f7310>"
      ]
     },
     "execution_count": 157,
     "metadata": {},
     "output_type": "execute_result"
    }
   ],
   "source": [
    "command = 'CALL cyfhir.bundle.load(\"'+json_data+'\")'\n",
    "session.run(command)\n",
    "# print(command)"
   ]
  },
  {
   "cell_type": "markdown",
   "id": "bf3c39e6-6c68-47e1-ba5b-51dae92490af",
   "metadata": {},
   "source": [
    "To-do:\n",
    "- Add source vocabulary and source identifier to each node so that we can match to RXCUIs for medications and LOINC codes for other things"
   ]
  },
  {
   "cell_type": "code",
   "execution_count": 1,
   "id": "c6081b04-20b3-48e7-8274-687a16b0bede",
   "metadata": {},
   "outputs": [
    {
     "name": "stdout",
     "output_type": "stream",
     "text": [
      "776\n",
      "437\n"
     ]
    }
   ],
   "source": [
    "listEndpoints = [\"Access Community Health Network\",\"Adult & Pediatric Ear, Nose & Throat - Kalamazoo\",\"AdvantageCare Physicians\",\"Adventist Health West\",\"Akron Children's Hospital\",\"Alameda Health System\",\"Allegheny Health Network\",\"Allina Health System\",\"AltaMed\",\"Altru Health System\",\"AnMed Health\",\"Ann & Robert H. Lurie Children's Hospital of Chicago\",\"Ardent\",\"Arizona Community Physicians\",\"Arkansas Children's\",\"Arrowhead Regional Medical Center\",\"Asante Health Systems\",\"Ascension - Providence Healthcare Network\",\"Ascension WI\",\"Aspirus\",\"Atlantic Health\",\"Atrium Health\",\"Atrium Health Wake Forest Baptist\",\"Atrius Health\",\"Aurora Health Care - myAurora\",\"Austin Regional Clinic\",\"Ballad Health\",\"Baptist Health – KY & IN\",\"Baptist Health (Arkansas)\",\"Baptist Memorial Health Care\",\"Bassett Healthcare\",\"BayCare Clinic - myBayCare\",\"Bayhealth Medical Center\",\"Baylor College of Medicine\",\"Baylor Scott & White Health\",\"Beaumont Health\",\"Bellin Health\",\"BJC & Washington University\",\"Bon Secours Health System\",\"Boston Medical Center\",\"Boulder Community Health\",\"Bronson Healthcare Group\",\"Brookwood Baptist Health\",\"Brown & Toland Physicians\",\"Bryan Health\",\"Buffalo Medical Group\",\"Cambridge Health Alliance\",\"Cape Cod Healthcare\",\"Cape Fear Valley Health\",\"Care New England\",\"Carilion Clinic\",\"Carle Foundation Hospital & Physician Group\",\"Caromont Health\",\"Catholic Health (Long Island NY)\",\"Catholic Health System (Buffalo)\",\"Cedars-Sinai Health System\",\"CentraCare Health and Affiliates\",\"Centura Health\",\"Charlotte Eye Ear Nose & Throat Associates\",\"Chesapeake Regional Medical Center\",\"Cheyenne Regional Medical Center\",\"CHI Franciscan Health\",\"CHI Health\",\"CHI St. Luke's Health\",\"CHI St. Vincent\",\"Children's Health System of Texas\",\"Children's Healthcare of Atlanta\",\"Children's Hospital and Medical Center, Omaha Nebraska\",\"Children's Hospital Colorado\",\"Children's Hospital of Philadelphia\",\"Children's Wisconsin\",\"CHRISTUS Health\",\"Cigna Medical Group\",\"Cincinnati Children's Hospital Medical Center\",\"City of Hope\",\"Cleveland Clinic\",\"Columbia Physicians\",\"Columbus Regional Health\",\"Community First Medical Center\",\"Community Health Network\",\"Community Healthcare System\",\"Community Medical Centers\",\"Cone Health\",\"Conemaugh Health System\",\"Confluence Health\",\"Connecticut Children's Medical Center\",\"Contra Costa\",\"Cook Children’s Health Care System\",\"Cooper University Health Care\",\"Cottage Health\",\"Covenant Health\",\"Covenant HealthCare\",\"Dartmouth-Hitchcock\",\"DaVita Physician Solutions\",\"Dayton Children's Hospital\",\"Deaconess Health System\",\"Denver Health\",\"Driscoll Children's Hospital\",\"Duke Health\",\"Duly Health and Care\",\"East Boston Neighborhood Health Center\",\"Edward-Elmhurst Healthcare\",\"Eisenhower Medical Center\",\"El Camino Hospital\",\"El Rio Health\",\"Englewood Hospital and Medical Center\",\"Enloe Medical Center\",\"EPIC Management (Beaver Medical Group)\",\"Erlanger Health System\",\"Eskenazi Health\",\"Essentia Health\",\"Evernorth\",\"Fairview Health Services\",\"Family Health Center (Michigan)\",\"FastMed\",\"FirstHealth of the Carolinas\",\"Franciscan Alliance\",\"Franciscan Missionaries of Our Lady Health System\",\"Fresenius Medical Care North America\",\"Froedtert Health\",\"Garnet Health\",\"Geisinger\",\"Genesis Healthcare System\",\"George Washington University Medical Faculty Associates\",\"Golden Valley Health Centers\",\"Grady Health System\",\"Greater Baltimore Medical Center\",\"Group Health Cooperative - South Central Wisconsin\",\"Gundersen Health System\",\"Hackensack Meridian Health\",\"Harris Health System\",\"Hartford HealthCare\",\"Hattiesburg Clinic and Forrest General Hospital\",\"Hawaii Pacific Health\",\"HCA Central and West Texas\",\"HCA Mountain\",\"HCA South Atlantic\",\"HealthEast Care System\",\"HealthPartners\",\"Heart of Texas Community Health Center\",\"Hendricks Regional Health\",\"Hennepin Healthcare\",\"Henry Ford Health System\",\"Hill Physicians\",\"Hoag Memorial Hospital Presbyterian\",\"HonorHealth\",\"Hospital for Special Surgery\",\"Hospital Sisters Health System (HSHS)\",\"Houston Methodist\",\"Hurley Medical Center\",\"Illinois Bone & Joint Institute\",\"Infirmary Health\",\"Inova and Valley Health\",\"Institute for Family Health\",\"INTEGRIS Health\",\"Jefferson Health\",\"John Muir Health\",\"Johns Hopkins Medicine\",\"JPS Health Network\",\"Kaiser Permanente - Maryland/Virginia/Washington D.C.\",\"Kaiser Permanente - California - Northern\",\"Kaiser Permanente - California - Southern\",\"Kaiser Permanente - Colorado\",\"Kaiser Permanente – Georgia\",\"Kaiser Permanente – Oregon – SW Washington\",\"Kaiser Permanente - Washington\",\"Kaiser Permanente Hawaii / Maui Health System\",\"Kalamazoo College Student Health Center\",\"Kalamazoo Foot Surgery\",\"Kelsey-Seybold Clinic\",\"Kennedy Krieger Institute\",\"Kettering Health Network\",\"King's Daughters Medical Center\",\"Lacy C Kessler, MD, PA\",\"Lahey Health System\",\"Lakeland Health\",\"Lancaster General Health\",\"LCMC Health\",\"Lee Health\",\"Legacy Health\",\"Lehigh Valley Health Network\",\"Leon Medical Centers\",\"Lexington Medical Center\",\"Licking Memorial Health Systems\",\"Lifespan\",\"Loma Linda University Health and CareConnect Partners\",\"Loyola Medicine\",\"Luminis Health\",\"Main Line Health\",\"MaineHealth\",\"Marshall Medical Center\",\"Martin Health System\",\"Mary Greeley Medical Center (Iowa)\",\"Mary Washington Healthcare\",\"Mass General Brigham\",\"Mayo Clinic\",\"McFarland Clinic (Iowa)\",\"Medical University of South Carolina\",\"Medisys Health Network\",\"Memorial Healthcare System\",\"Memorial Hospital and Health Care Center\",\"MemorialCare\",\"Mercy Health - OH, KY\",\"Mercy Health (MO)\",\"Mercy Health Services (MD)\",\"Mercy Health System - WI\",\"Mercy Medical Center\",\"Meritus\",\"Methodist Health System\",\"Methodist Hospitals\",\"Metro Health - Michigan\",\"MetroHealth - OH\",\"Michigan Medicine\",\"Middlesex Hospital\",\"MidMichigan Health\",\"Mohawk Valley Health System\",\"Molina Healthcare\",\"Monroe Clinic\",\"Montage Health\",\"Montefiore Medical Center\",\"Monument Health\",\"Mount Auburn Hospital\",\"Mount Sinai Health System\",\"Mount Sinai Medical Center\",\"MultiCare Health System\",\"Nebraska Medicine\",\"Nemours\",\"Nephrology Center - Southwest Michigan\",\"New Hanover Regional Medical Center\",\"New Jersey Urology\",\"New York-Presbyterian\",\"North Memorial Health\",\"North Mississippi Health Services\",\"North Oaks\",\"Northeast Georgia Health System\",\"NorthShore University Health System\",\"Northwest Community Hospital\",\"Northwestern Medicine\",\"Norton Healthcare\",\"Novant Health\",\"NOVO Health\",\"NYC Health + Hospitals\",\"NYU Langone Medical Center\",\"OB/GYN Associates of Waco - Dr. Rister, Dr. Koeritz\",\"OCHIN\",\"Ochsner Health System\",\"OhioHealth\",\"Olmsted Medical Center\",\"One Brooklyn Health System\",\"Optum ProHEALTH\",\"Oregon Health & Science University\",\"Orlando Health\",\"OrthoCarolina\",\"OrthoVirginia\",\"OSF HealthCare\",\"Our Lady of the Angels\",\"Overlake Hospital Medical Center\",\"Owensboro Health\",\"Pacific Dental Services\",\"Palos Health\",\"Parkland\",\"Parkview Health\",\"PeaceHealth\",\"Pediatric Physicians Organization at Children's\",\"Penn Medicine\",\"Phelps Health\",\"Piedmont Healthcare\",\"Pine Rest Christian Mental Health Services\",\"Planned Parenthood\",\"Premier Health\",\"Presbyterian Healthcare Services\",\"Presence Health\",\"Prime Healthcare\",\"Prisma Health\",\"Prohealth Care\",\"ProMedica Health System\",\"Providence Health & Services - Alaska\",\"Providence Health & Services - Oregon/California\",\"Providence Health & Services - Washington/Montana\",\"QuadMed\",\"Rady Children's\",\"Reid Health\",\"Reliant Medical Group\",\"Renown, Barton, CVMC\",\"River Valley\",\"Riverside Health System (Newport News, VA)\",\"Riverside Medical Center\",\"Riverside Medical Clinic\",\"Riverview Health\",\"Rochester Regional Health\",\"Rush University Medical Center\",\"RWJBarnabas Health\",\"Saint Francis Health System\",\"Saint Francis Healthcare System\",\"Saint Luke's Health System\",\"Salem Health\",\"Salinas Valley Memorial Healthcare Systems\",\"Samaritan Health Services\",\"San Francisco Department of Public Health\",\"Sanford Health\",\"Sansum Clinic\",\"Santa Clara Valley Medical Center Hospitals and Clinics\",\"SCL Health\",\"Scotland Health Care System\",\"Scripps Health\",\"Seattle Children's Hospital\",\"Select Medical\",\"Self Regional Healthcare\",\"Sentara Healthcare\",\"Shannon Health\",\"Singing River Health System\",\"Skagit Regional Health\",\"SolutionHealth\",\"South Georgia Medical Center\",\"South Shore Health System\",\"Southcoast Health\",\"Southeast Health\",\"Southeastern Health\",\"Southern Illinois Healthcare\",\"Sparrow Health System\",\"Spartanburg Regional Healthcare System\",\"Spectrum Health\",\"SSM Health\",\"St. Charles Health System\",\"St. Elizabeth Healthcare\",\"St. Joseph Hospital Health Center\",\"St. Luke’s Health System (Idaho & Eastern Oregon)\",\"St. Luke's Hospital (North Carolina)\",\"St. Luke's University Health Network\",\"Stanford Children's Health\",\"Stanford Health Care\",\"Stormont Vail Health\",\"Summit Health\",\"SUNY Upstate Medical University\",\"Sutter Health\",\"Tahoe Forest Health System\",\"Tampa General Hospital\",\"Tanner Health System\",\"TempleHealth\",\"Texas Children's Hospital\",\"Texas Health Resources\",\"The Brooklyn Hospital Center\",\"The Christ Hospital\",\"The Everett Clinic\",\"The Guthrie Clinic\",\"The Ohio State University Wexner Medical Center\",\"The Portland Clinic\",\"The Queen's Health Systems\",\"The University of Texas Health Science Center at Houston\",\"The University of Texas MD Anderson Cancer Center\",\"The Vancouver Clinic\",\"ThedaCare\",\"TidalHealth\",\"TMC HealthCare\",\"Tower Health\",\"TriHealth\",\"Trinity Health\",\"Trinity Health Of New England\",\"Trinity Health Of New England Medical Group Springfield\",\"Truckee Tahoe Medical Group\",\"UC Davis Health\",\"UC Health\",\"UChicago Medicine\",\"UCLA Medical Center\",\"UConn Health\",\"UCSF Benioff Children's Hospital\",\"UCSF Health\",\"UF Health\",\"UHS San Antonio\",\"UI Health\",\"UMass Memorial Health Care\",\"UMC Southern Nevada\",\"UNC Health Care\",\"United Health Services New York (NYUHS)\",\"United Regional Health Care System\",\"UnityPoint Health\",\"University Health Care System\",\"University Hospital (New Jersey)\",\"University of Arkansas for Medical Sciences\",\"University of California Irvine\",\"University of California San Diego\",\"University of Colorado Health\",\"University of Iowa Health Care\",\"University of Kansas Health System\",\"University of Louisville Physicians\",\"University of Maryland Medical System\",\"University of Miami (UHealth)\",\"University of Mississippi Medical Center\",\"University of Pittsburgh Medical Center (UPMC)\",\"University of Rochester Medical Center\",\"University of Texas Medical Branch\",\"University of Texas Southwestern Medical Center\",\"University of Utah Healthcare\",\"University of Vermont Medical Center\",\"UPMC Pinnacle\",\"UT Health San Antonio\",\"UVA Health System\",\"UW Health And Affiliates - Wisconsin\",\"UW Medicine (Washington)\",\"Valley Children's Healthcare\",\"Valley Medical Center\",\"Valleywise Health\",\"Vanderbilt\",\"VCU Health\",\"Vidant Health\",\"Virginia Hospital Center\",\"Virtua Health\",\"WakeMed Health and Hospitals\",\"Washington Hospital Healthcare System\",\"Watson Clinic\",\"Weill Cornell Medicine\",\"WellSpan Health\",\"WellStar\",\"West Tennessee Healthcare\",\"West Virginia University Medicine\",\"Western Michigan University School of Medicine\",\"Yakima Valley Farm Workers Clinic\",\"Yale New Haven Health System\",\"Yuma Regional Medical Center\",\"Access Community Health Network\",\"Adult & Pediatric Ear, Nose & Throat – Kalamazoo\",\"AdvantageCare Physicians\",\"Adventist Health West\",\"Akron Children's Hospital\",\"Alameda Health System\",\"Allegheny Health Network\",\"Allina Health System\",\"AltaMed\",\"Altru Health System\",\"AnMed Health\",\"Ann & Robert H. Lurie Children's Hospital of Chicago\",\"Ardent\",\"Arizona Community Physicians\",\"Arkansas Children's\",\"Arrowhead Regional Medical Center\",\"Asante Health Systems\",\"Aspirus\",\"Atlantic Health\",\"Atrium Health\",\"Atrium Health Wake Forest Baptist\",\"Atrius Health\",\"Austin Regional Clinic\",\"Baptist Health – KY & IN\",\"Baptist Health (Arkansas)\",\"Baptist Memorial Health Care\",\"Bassett Healthcare\",\"Bayhealth Medical Center\",\"Baylor College of Medicine\",\"Baylor Scott & White\",\"Beaumont Health\",\"Bellin Health\",\"BJC & Washington University\",\"Bon Secours Health System\",\"Boston Medical Center\",\"Boulder Community Health\",\"Bronson Healthcare Group\",\"Brown & Toland Physicians\",\"Bryan Health\",\"Buffalo Medical Group\",\"Cape Fear Valley Health\",\"Care New England\",\"Carilion Clinic\",\"Carle Foundation Hospital & Physician Group\",\"Caromont Health\",\"Catholic Health (Long Island NY)\",\"Catholic Health System (Buffalo)\",\"Cedars-Sinai Health System\",\"CentraCare Health and Affiliates\",\"Charlotte Eye Ear Nose & Throat Associates\",\"Chesapeake Regional Medical Center\",\"Cheyenne Regional Medical Center\",\"Children's Health System of Texas\",\"Children's Hospital and Medical Center, Omaha Nebraska\",\"Children's Hospital Colorado\",\"Children's Hospital of Philadelphia\",\"Children's Wisconsin\",\"Childrens's Healthcare of Atlanta\",\"Cigna Medical Group\",\"Cincinnati Children's Hospital Medical Center\",\"City of Hope\",\"Columbia Physicians\",\"Columbus Regional Health\",\"Community Healthcare System\",\"Community Medical Centers\",\"Cone Health\",\"Conemaugh Health System\",\"Confluence Health\",\"Connecticut Children's Medical Center\",\"Contra Costa\",\"Cook Children’s Health Care System\",\"Cooper University Health Care\",\"Cottage Health\",\"Covenant Health\",\"DaVita Physician Solutions\",\"Dayton Children's Hospital\",\"Deaconess Health System - PRD\",\"Denver Health\",\"Driscoll Children's Hospital\",\"Duke Health\",\"Duly Health and Care\",\"East Boston Neighborhood Health Center\",\"Edward-Elmhurst Healthcare\",\"Eisenhower Medical Center\",\"El Camino Hospital\",\"El Rio Health\",\"Englewood Hospital and Medical Center\",\"Erlanger Health System\",\"Eskenazi Health\",\"Evernorth\",\"Fairview Health Services\",\"Family Health Center (Michigan)\",\"FastMed\",\"FirstHealth of the Carolinas\",\"Franciscan Alliance\",\"Franciscan Missionaries of Our Lady Health System\",\"Fresenius Medical Care North America\",\"Froedtert Health\",\"Garnet Health\",\"Geisinger\",\"Genesis Healthcare System\",\"George Washington University Medical Faculty Associates\",\"Golden Valley Health Centers\",\"Grady Health System\",\"Greater Baltimore Medical Center\",\"Group Health Cooperative - South Central Wisconsin\",\"Gundersen Health System\",\"Hackensack Meridian Health\",\"Hartford HealthCare\",\"Hattiesburg Clinic and Forrest General Hospital\",\"Hawaii Pacific Health - PRD\",\"HCA Central and West Texas\",\"HCA Mountain\",\"HCA South Atlantic\",\"HealthPartners\",\"Hendricks Regional Health\",\"Hennepin Healthcare\",\"Henry Ford Health System\",\"Hill Physicians\",\"Hoag Memorial Hospital Presbyterian\",\"HonorHealth\",\"Hospital for Special Surgery\",\"Hospital Sisters Health System (HSHS)\",\"Houston Methodist\",\"Hurley Medical Center\",\"Illinois Bone & Joint Institute\",\"Infirmary Health\",\"Inova and Valley Health\",\"Institute for Family Health\",\"INTEGRIS Health\",\"Jefferson Health\",\"John Muir Health\",\"Johns Hopkins Medicine\",\"Kaiser Permanente - California - Northern\",\"Kaiser Permanente - California - Southern\",\"Kaiser Permanente - Colorado\",\"Kaiser Permanente – Georgia\",\"Kaiser Permanente - Maryland/Virginia/Washington D.C.\",\"Kaiser Permanente – Oregon – SW Washington\",\"Kaiser Permanente - Washington\",\"Kaiser Permanente Hawaii / Maui Health System\",\"Kalamazoo College Student Health Center\",\"Kalamazoo Foot Surgery\",\"Kelsey-Seybold Clinic\",\"Kennedy Krieger Institute\",\"Kettering Health Network\",\"King's Daughters Medical Center\",\"Lacy C Kessler, MD, PA\",\"Lahey Health System\",\"Lancaster General Health\",\"LCMC Health\",\"Lee Health\",\"Lehigh Valley Health Network\",\"Leon Medical Centers\",\"Licking Memorial Health Systems\",\"Lifespan\",\"Loma Linda University Health and CareConnect Partners\",\"Loyola Medicine\",\"Luminis Health\",\"Main Line Health\",\"MaineHealth\",\"Mary Greeley Medical Center (Iowa)\",\"Mary Washington Healthcare\",\"Mayo Clinic\",\"McFarland Clinic (Iowa)\",\"Medical University of South Carolina\",\"MediSys Health Network\",\"Memorial Healthcare System\",\"Memorial Hospital and Health Care Center\",\"MemorialCare\",\"Mercy Health - OH, KY\",\"Mercy Health System - WI\",\"Mercy Medical Center\",\"Meritus\",\"Methodist Hospitals - PRD\",\"Metro Health - Michigan\",\"MetroHealth - OH\",\"Michigan Medicine\",\"MidMichigan Health\",\"Mohawk Valley Health System\",\"Molina Healthcare\",\"Montage Health\",\"Montefiore Medical Center\",\"Monument Health\",\"Mount Auburn Hospital\",\"Mount Sinai Health System\",\"Mount Sinai Medical Center\",\"Nebraska Medicine\",\"Nemours\",\"Nephrology Center - Southwest Michigan\",\"New Hanover Regional Medical Center\",\"New Jersey Urology\",\"New York-Presbyterian\",\"North Memorial Health\",\"North Mississippi Health Services\",\"Northeast Georgia Health System\",\"NorthShore University Health System\",\"Northwest Community Hospital\",\"Norton Healthcare\",\"Novant Health\",\"NOVO Health\",\"NYC Health + Hospitals\",\"NYU Langone Medical Center\",\"OB/GYN Associates of Waco - Dr. Rister, Dr. Koeritz\",\"OCHIN\",\"Ochsner Health System\",\"OhioHealth\",\"Olmsted Medical Center\",\"One Brooklyn Health System\",\"OptumCare East\",\"Oregon Health & Science University\",\"Orlando Health\",\"OrthoCarolina\",\"OrthoVirginia\",\"OSF HealthCare\",\"Overlake Hospital Medical Center\",\"Owensboro Health\",\"Pacific Dental Services\",\"Palos Health\",\"Parkland\",\"Parkview Health\",\"PeaceHealth\",\"Penn Medicine\",\"Phelps Health\",\"Piedmont Healthcare\",\"Pine Rest Christian Mental Health Services\",\"Planned Parenthood\",\"Premier Health\",\"Presbyterian Healthcare Services\",\"Prisma Health\",\"ProMedica Health System\",\"Providence Health & Services - Alaska\",\"Providence Health & Services - Oregon/California\",\"Providence Health & Services - Washington/Montana\",\"QuadMed\",\"Rady Children's\",\"Reid Health\",\"Reliant Medical Group\",\"Renown, Barton, CVMC\",\"Riverside Health System (Newport News, VA)\",\"Riverside Medical Center\",\"Riverside Medical Clinic\",\"Rochester Regional Health\",\"Rush University Medical Center\",\"RWJBarnabas Health\",\"Saint Francis Health System\",\"Saint Francis Healthcare System (Manual)\",\"Salem Health\",\"Salinas Valley Memorial Healthcare Systems\",\"Samaritan Health Services\",\"San Francisco Department of Public Health\",\"Sanford Health\",\"Sansum Clinic\",\"Santa Clara Valley Medical Center Hospitals and Clinics\",\"SCL Health\",\"Scotland Health Care System\",\"Scripps Health\",\"Seattle Children's Hospital\",\"Select Medical\",\"Self Regional Healthcare\",\"Sentara Healthcare\",\"Shannon Health\",\"Singing River Health System - PRD\",\"Skagit Regional Health\",\"SolutionHealth\",\"South Georgia Medical Center\",\"South Shore Health System\",\"Southeast Health\",\"Southeastern Health\",\"Southern Illinois Healthcare\",\"Spartanburg Regional Health Systems\",\"Spectrum Health\",\"SSM Health\",\"St. Elizabeth Healthcare\",\"St. Joseph Hospital Health Center\",\"St. Luke’s Health System (Idaho & Eastern Oregon)\",\"St. Luke's Hospital (North Carolina)\",\"Stanford Children's Health\",\"Stanford Health Care\",\"Stormont Vail Health\",\"Summit Health\",\"Sutter Health\",\"Tampa General Hospital\",\"Tanner Health System\",\"TempleHealth\",\"Texas Children's\",\"Texas Health Resources\",\"The Brooklyn Hospital Center\",\"The Christ Hospital\",\"The Everett Clinic\",\"The Guthrie Clinic\",\"The Ohio State University Wexner Medical Center\",\"The Portland Clinic\",\"The Queen's Health Systems\",\"The University of Texas Health Science Center at Houston\",\"The University of Texas MD Anderson Cancer Center\",\"ThedaCare\",\"TidalHealth\",\"TMC HealthCare\",\"TriHealth\",\"Trinity Health\",\"Trinity Health of New England\",\"Trinity Health of New England Medical Group Springfield\",\"UC Davis\",\"UC Davis - MMC\",\"UC Health\",\"UChicago Medicine\",\"UCLA Medical Center\",\"UConn Health\",\"UCSF Benioff Children's Hospital\",\"UCSF Health\",\"UF Health\",\"UHS San Antonio\",\"UI Health\",\"UMass Memorial Health Care\",\"UMC Southern Nevada\",\"UNC Health Care\",\"United Health Services New York (NYUHS)\",\"United Regional Health Care System\",\"UnityPoint Health\",\"University Health Care System\",\"University Hospital (New Jersey)\",\"University of Arkansas for Medical Sciences\",\"University of California Irvine\",\"University of California San Diego\",\"University of Iowa Health Care\",\"University of Kansas Health System\",\"University of Louisville Physicians\",\"University of Maryland Medical System\",\"University of Mississippi Medical Center\",\"University of Pittsburgh Medical Center (UPMC)\",\"University of Rochester Medical Center - PRD\",\"University of Texas Medical Branch\",\"University of Texas Southwestern Medical Center\",\"University of Utah Healthcare\",\"University of Vermont Medical Center\",\"UPMC Central PA\",\"UVA Health System\",\"UW Medicine (Washington)\",\"Valley Children's Healthcare\",\"Valleywise Health\",\"Vanderbilt\",\"VCU Health\",\"Virginia Hospital Center\",\"Virtua Health\",\"WakeMed Health and Hospitals\",\"Washington Hospital Healthcare System\",\"Watson Clinic\",\"Weill Cornell Medicine\",\"WellSpan Health\",\"WellStar\",\"West Tennessee Healthcare\",\"West Virginia University Medicine\",\"Western Michigan University School of Medicine\",\"Yakima Valley Farm Workers Clinic\",\"Yale New Haven Health System\",\"Yuma Regional Medical Center\"]\n",
    "print(len(listEndpoints))\n",
    "setEndpoints = set(listEndpoints)\n",
    "print(len(setEndpoints))"
   ]
  },
  {
   "cell_type": "markdown",
   "id": "f512aa0c-ed54-4d90-b2e3-de9cd562ab19",
   "metadata": {},
   "source": [
    "# Parse FHIR bundle from Synthea data\n",
    "Download data from https://inferno.healthit.gov/inferno (see link to test data under the Sample tab). "
   ]
  },
  {
   "cell_type": "markdown",
   "id": "d486fb11-0c03-4873-bd8f-c9176dc0b1fc",
   "metadata": {},
   "source": [
    "Federation scheme:\n",
    "- at each update from the same organization:\n",
    "  - if the patient ID exists in the list of previously added patients:\n",
    "    - isolate the data which existed at the time of the last update and remove its effect from the virtualized population\n",
    "    - using all of the patients data up to the current time, update all the data fields in the virtualized population\n",
    "  - if the patient ID does not exist in the previously added patients:\n",
    "    - update all the data fields in the virtualized population\n",
    "- log the patient ID and timestamp for the latest data retrieved in a data store for each organization\n"
   ]
  },
  {
   "cell_type": "code",
   "execution_count": 2,
   "id": "523a407a-150d-425f-bd60-820fc5ad8347",
   "metadata": {},
   "outputs": [],
   "source": [
    "import json\n",
    "import pandas as pd"
   ]
  },
  {
   "cell_type": "code",
   "execution_count": 3,
   "id": "381d93c5-ce83-40d3-aca8-80cc277ce792",
   "metadata": {},
   "outputs": [
    {
     "data": {
      "text/plain": [
       "['Benny518_Olson653_055f50fa-c1cb-c4e5-63db-0d27c307cdd1.json',\n",
       " 'Jared66_Lang846_d217d366-4496-486f-0c99-834a1c7557e3.json',\n",
       " 'Harris789_Collins926_d7c34f93-a7d9-df8d-59dc-43c0b542f6c4.json',\n",
       " 'Marcelo725_Greenholt190_2a27b9a6-2260-1d4a-6a71-a3c4661d0238.json']"
      ]
     },
     "execution_count": 3,
     "metadata": {},
     "output_type": "execute_result"
    }
   ],
   "source": [
    "# Get a list of patient bundles in the downloaded data\n",
    "folder_path = '/media/sata_1TB_internal/uscore-testing-data-12-07-2020/raw/fhir/'\n",
    "\n",
    "import os\n",
    "patient_file_list = os.listdir(folder_path) # returns list\n",
    "patient_file_list[:4]"
   ]
  },
  {
   "cell_type": "code",
   "execution_count": 4,
   "id": "a4d3973d-6e9d-4566-83e8-b09f363b6c8a",
   "metadata": {},
   "outputs": [],
   "source": [
    "# Load a single patient's data\n",
    "with open(folder_path+patient_file_list[0], 'r') as file:\n",
    "    data = file.read()"
   ]
  },
  {
   "cell_type": "code",
   "execution_count": 7,
   "id": "3d170dc3-61bc-40ee-ad00-b2777c6a17ae",
   "metadata": {},
   "outputs": [
    {
     "name": "stdout",
     "output_type": "stream",
     "text": [
      "{\n",
      "  \"resourceType\": \"Bundle\",\n",
      "  \"type\": \"transaction\",\n",
      "  \"entry\": [\n",
      "    {\n",
      "      \"fullUrl\": \"urn:uuid:055f50fa-c1cb-c4e5-63db-0d27c307cdd1\",\n",
      "      \"resource\": {\n",
      "        \"resourceType\": \"Patient\",\n",
      "        \"id\": \"055f50fa-c1cb-c4e5-63db-0d27c307cdd1\",\n",
      "        \"meta\": {\n",
      "          \"profile\": [\n",
      "            \"http://hl7.org/fhir/us/core/StructureDefinition/us-core-patient\"\n",
      "          ]\n",
      "        },\n",
      "        \"text\": {\n",
      "          \"status\": \"generated\",\n",
      "          \"div\": \"<div xmlns=\\\"http://www.w3.org/1999/xhtml\\\">Generated by <a href=\\\"https://github.com/synthetichealth/synthea\\\">Synthea</a>.Version identifier: v2.6.1-3-g50f4f58f\\n .   Person seed: 1309571695633557482  Population seed: 3</div>\"\n",
      "        },\n",
      "        \"extension\": [\n",
      "          {\n",
      "            \"url\": \"http://hl7.org/fhir/us/core/StructureDefiniti\n"
     ]
    }
   ],
   "source": [
    "print(data[:800])"
   ]
  },
  {
   "cell_type": "code",
   "execution_count": 8,
   "id": "e78234b6-e479-4b99-b9ac-759b91c5f3fc",
   "metadata": {},
   "outputs": [
    {
     "data": {
      "text/plain": [
       "3"
      ]
     },
     "execution_count": 8,
     "metadata": {},
     "output_type": "execute_result"
    }
   ],
   "source": [
    "json_data = json.loads(data)\n",
    "len(json_data)"
   ]
  },
  {
   "cell_type": "code",
   "execution_count": 9,
   "id": "ba6bb6be-dfee-43c8-a636-3a97b553da1a",
   "metadata": {},
   "outputs": [
    {
     "data": {
      "text/plain": [
       "dict_keys(['resourceType', 'type', 'entry'])"
      ]
     },
     "execution_count": 9,
     "metadata": {},
     "output_type": "execute_result"
    }
   ],
   "source": [
    "json_data.keys()"
   ]
  },
  {
   "cell_type": "code",
   "execution_count": 10,
   "id": "135db755-2bd2-4a36-b3c1-d05936c7cabe",
   "metadata": {},
   "outputs": [
    {
     "data": {
      "text/plain": [
       "1143"
      ]
     },
     "execution_count": 10,
     "metadata": {},
     "output_type": "execute_result"
    }
   ],
   "source": [
    "len(json_data['entry'])"
   ]
  },
  {
   "cell_type": "code",
   "execution_count": 11,
   "id": "9d543d4b-a61d-4221-8e20-0d6a6c55078f",
   "metadata": {},
   "outputs": [
    {
     "name": "stdout",
     "output_type": "stream",
     "text": [
      "dict_keys(['fullUrl', 'resource', 'request'])\n",
      "dict_keys(['fullUrl', 'resource', 'request'])\n",
      "dict_keys(['fullUrl', 'resource', 'request'])\n",
      "dict_keys(['fullUrl', 'resource', 'request'])\n",
      "dict_keys(['fullUrl', 'resource', 'request'])\n",
      "dict_keys(['fullUrl', 'resource', 'request'])\n",
      "dict_keys(['fullUrl', 'resource', 'request'])\n",
      "dict_keys(['fullUrl', 'resource', 'request'])\n",
      "dict_keys(['fullUrl', 'resource', 'request'])\n",
      "dict_keys(['fullUrl', 'resource', 'request'])\n"
     ]
    }
   ],
   "source": [
    "# Check the keys of the first few entries in the json_data\n",
    "for i in range(0, 10):\n",
    "    print(json_data['entry'][i].keys())"
   ]
  },
  {
   "cell_type": "code",
   "execution_count": 14,
   "id": "a7f152cb-a297-4ecb-8141-dc2fb484f68c",
   "metadata": {},
   "outputs": [
    {
     "name": "stdout",
     "output_type": "stream",
     "text": [
      "dict_keys(['fullUrl', 'resource', 'request'])\n",
      "dict_keys(['fullUrl', 'resource', 'request'])\n",
      "dict_keys(['fullUrl', 'resource', 'request'])\n",
      "dict_keys(['fullUrl', 'resource', 'request'])\n",
      "dict_keys(['fullUrl', 'resource', 'request'])\n",
      "dict_keys(['fullUrl', 'resource', 'request'])\n",
      "dict_keys(['fullUrl', 'resource', 'request'])\n",
      "dict_keys(['fullUrl', 'resource', 'request'])\n",
      "dict_keys(['fullUrl', 'resource', 'request'])\n",
      "dict_keys(['fullUrl', 'resource', 'request'])\n"
     ]
    }
   ],
   "source": [
    "# Check the keys of the last few entries in the json_data\n",
    "len_json_data = len(json_data['entry'])\n",
    "\n",
    "for i in range(len_json_data-10, len_json_data):\n",
    "    print(json_data['entry'][i].keys())"
   ]
  },
  {
   "cell_type": "code",
   "execution_count": 15,
   "id": "eaf6a181-7e00-46f4-b698-b922a3401cb0",
   "metadata": {},
   "outputs": [
    {
     "data": {
      "text/plain": [
       "{'method': 'POST', 'url': 'Patient'}"
      ]
     },
     "execution_count": 15,
     "metadata": {},
     "output_type": "execute_result"
    }
   ],
   "source": [
    "json_data['entry'][0]['request']"
   ]
  },
  {
   "cell_type": "code",
   "execution_count": 16,
   "id": "73eea98e-1848-4fc7-a10a-7097d46ff3ec",
   "metadata": {},
   "outputs": [
    {
     "data": {
      "text/plain": [
       "'Patient'"
      ]
     },
     "execution_count": 16,
     "metadata": {},
     "output_type": "execute_result"
    }
   ],
   "source": [
    "json_data['entry'][0]['request']['url']"
   ]
  },
  {
   "cell_type": "code",
   "execution_count": 17,
   "id": "153c76cb-95af-444e-abd3-9d8b0cf1fa62",
   "metadata": {},
   "outputs": [
    {
     "data": {
      "text/plain": [
       "Patient                   1\n",
       "Provenance                1\n",
       "Practitioner              3\n",
       "Organization              3\n",
       "PractitionerRole          3\n",
       "Location                  3\n",
       "CarePlan                  6\n",
       "CareTeam                  6\n",
       "MedicationRequest         8\n",
       "Condition                19\n",
       "Immunization             28\n",
       "Procedure                37\n",
       "Encounter                71\n",
       "DocumentReference        71\n",
       "ExplanationOfBenefit     71\n",
       "Claim                    79\n",
       "DiagnosticReport         97\n",
       "Observation             636\n",
       "dtype: int64"
      ]
     },
     "execution_count": 17,
     "metadata": {},
     "output_type": "execute_result"
    }
   ],
   "source": [
    "# Get a list of all the request urls\n",
    "request_url_list = []\n",
    "for i in range(0, len_json_data):\n",
    "    request_url_list.append(json_data['entry'][i]['request']['url'])\n",
    "\n",
    "# Count the unique values from the request url list\n",
    "pd.Series(request_url_list).value_counts(ascending=True)"
   ]
  },
  {
   "cell_type": "markdown",
   "id": "d6f3589a-1f45-469b-9b16-a27d798b6ecf",
   "metadata": {},
   "source": [
    "The urls in the URL list above are the names of [FHIR resources](http://hl7.org/fhir/resourcelist.html). To conceive of this data in a labeled property graph, each resource type can be a node label, each instance of the resource can be a node, and the relevant details of each resource can be node properties. "
   ]
  },
  {
   "cell_type": "code",
   "execution_count": 18,
   "id": "a5c6e301-761b-4d75-a3ee-e72b8ae01c7a",
   "metadata": {},
   "outputs": [
    {
     "data": {
      "text/plain": [
       "{'fullUrl': 'urn:uuid:4ea2eeb0-81d3-0659-6672-7381c50b1fc9',\n",
       " 'resource': {'resourceType': 'Observation',\n",
       "  'id': '4ea2eeb0-81d3-0659-6672-7381c50b1fc9',\n",
       "  'meta': {'profile': ['http://hl7.org/fhir/StructureDefinition/bodyheight',\n",
       "    'http://hl7.org/fhir/StructureDefinition/vitalsigns']},\n",
       "  'status': 'final',\n",
       "  'category': [{'coding': [{'system': 'http://terminology.hl7.org/CodeSystem/observation-category',\n",
       "      'code': 'vital-signs',\n",
       "      'display': 'vital-signs'}]}],\n",
       "  'code': {'coding': [{'system': 'http://loinc.org',\n",
       "     'code': '8302-2',\n",
       "     'display': 'Body Height'}],\n",
       "   'text': 'Body Height'},\n",
       "  'subject': {'reference': 'urn:uuid:055f50fa-c1cb-c4e5-63db-0d27c307cdd1'},\n",
       "  'encounter': {'reference': 'urn:uuid:a075d2c5-90dc-1f14-0ecc-8e6d589f43a7'},\n",
       "  'effectiveDateTime': '1940-06-27T15:02:00-04:00',\n",
       "  'issued': '1940-06-27T15:02:00.214-04:00',\n",
       "  'valueQuantity': {'value': 55.6,\n",
       "   'unit': 'cm',\n",
       "   'system': 'http://unitsofmeasure.org',\n",
       "   'code': 'cm'}},\n",
       " 'request': {'method': 'POST', 'url': 'Observation'}}"
      ]
     },
     "execution_count": 18,
     "metadata": {},
     "output_type": "execute_result"
    }
   ],
   "source": [
    "for i in range(0, len_json_data):\n",
    "    if json_data['entry'][i]['request']['url'] == \"Observation\":\n",
    "        sample_obs = json_data['entry'][i]\n",
    "        break\n",
    "sample_obs"
   ]
  },
  {
   "cell_type": "code",
   "execution_count": 19,
   "id": "7f0d8d67-75ac-4fb5-8d3c-dc1fd6019e7e",
   "metadata": {},
   "outputs": [
    {
     "data": {
      "text/plain": [
       "dict_keys(['resourceType', 'id', 'meta', 'status', 'category', 'code', 'subject', 'encounter', 'effectiveDateTime', 'issued', 'valueQuantity'])"
      ]
     },
     "execution_count": 19,
     "metadata": {},
     "output_type": "execute_result"
    }
   ],
   "source": [
    "sample_obs['resource'].keys()"
   ]
  },
  {
   "cell_type": "code",
   "execution_count": 20,
   "id": "4152dfdc-685c-41a1-bf2e-5726aef74795",
   "metadata": {},
   "outputs": [
    {
     "data": {
      "text/plain": [
       "{'coding': [{'system': 'http://loinc.org',\n",
       "   'code': '8302-2',\n",
       "   'display': 'Body Height'}],\n",
       " 'text': 'Body Height'}"
      ]
     },
     "execution_count": 20,
     "metadata": {},
     "output_type": "execute_result"
    }
   ],
   "source": [
    "sample_obs['resource']['code']"
   ]
  },
  {
   "cell_type": "code",
   "execution_count": 21,
   "id": "bacf5586-9daf-44e4-8cde-cc87ff67022e",
   "metadata": {},
   "outputs": [
    {
     "data": {
      "text/plain": [
       "'Body Height'"
      ]
     },
     "execution_count": 21,
     "metadata": {},
     "output_type": "execute_result"
    }
   ],
   "source": [
    "sample_obs['resource']['code']['text']"
   ]
  },
  {
   "cell_type": "code",
   "execution_count": 22,
   "id": "73dd87de-79c7-4fd6-8c5c-c6f0812f9dda",
   "metadata": {},
   "outputs": [
    {
     "data": {
      "text/plain": [
       "Pain severity - 0-10 verbal numeric rating [Score] - Reported                45\n",
       "Tobacco smoking status NHIS                                                  39\n",
       "Blood Pressure                                                               39\n",
       "Respiratory rate                                                             39\n",
       "Body Weight                                                                  39\n",
       "Body Height                                                                  39\n",
       "Heart rate                                                                   39\n",
       "Body Mass Index                                                              30\n",
       "Body mass index (BMI) [Percentile] Per age and gender                        21\n",
       "MCH [Entitic mass] by Automated count                                        15\n",
       "Platelet distribution width [Entitic volume] in Blood by Automated count     15\n",
       "Platelet mean volume [Entitic volume] in Blood by Automated count            15\n",
       "MCV [Entitic volume] by Automated count                                      15\n",
       "Platelets [#/volume] in Blood by Automated count                             15\n",
       "MCHC [Mass/volume] by Automated count                                        15\n",
       "Hemoglobin [Mass/volume] in Blood                                            15\n",
       "Erythrocytes [#/volume] in Blood by Automated count                          14\n",
       "Erythrocyte distribution width [Entitic volume] by Automated count           14\n",
       "Hematocrit [Volume Fraction] of Blood by Automated count                     14\n",
       "Leukocytes [#/volume] in Blood by Automated count                            14\n",
       "Head Occipital-frontal circumference                                         13\n",
       "Weight-for-length Per age and sex                                            13\n",
       "Bilirubin.total [Mass/volume] in Serum or Plasma                              6\n",
       "Creatinine                                                                    6\n",
       "Alkaline phosphatase [Enzymatic activity/volume] in Serum or Plasma           6\n",
       "Globulin [Mass/volume] in Serum by calculation                                6\n",
       "Protein [Mass/volume] in Serum or Plasma                                      6\n",
       "Potassium                                                                     6\n",
       "Carbon Dioxide                                                                6\n",
       "Urea Nitrogen                                                                 6\n",
       "Glomerular filtration rate/1.73 sq M.predicted                                6\n",
       "Alanine aminotransferase [Enzymatic activity/volume] in Serum or Plasma       6\n",
       "Glucose                                                                       6\n",
       "Albumin [Mass/volume] in Serum or Plasma                                      6\n",
       "Calcium                                                                       6\n",
       "Sodium                                                                        6\n",
       "Aspartate aminotransferase [Enzymatic activity/volume] in Serum or Plasma     6\n",
       "Chloride                                                                      6\n",
       "Total Cholesterol                                                             4\n",
       "Triglycerides                                                                 4\n",
       "High Density Lipoprotein Cholesterol                                          4\n",
       "Low Density Lipoprotein Cholesterol                                           4\n",
       "Body temperature                                                              2\n",
       "WBC Auto (Bld) [#/Vol]                                                        1\n",
       "RDW - Erythrocyte distribution width Auto (RBC) [Entitic vol]                 1\n",
       "Cause of Death [US Standard Certificate of Death]                             1\n",
       "RBC Auto (Bld) [#/Vol]                                                        1\n",
       "Hematocrit [Volume Fraction] of Blood                                         1\n",
       "dtype: int64"
      ]
     },
     "execution_count": 22,
     "metadata": {},
     "output_type": "execute_result"
    }
   ],
   "source": [
    "observation_types_list = []\n",
    "for i in range(0, len_json_data):\n",
    "    if json_data['entry'][i]['request']['url'] == \"Observation\":\n",
    "        observation_type = json_data['entry'][i]['resource']['code']['text']\n",
    "        observation_types_list.append(observation_type)\n",
    "\n",
    "# Count the unique values from the request url list\n",
    "pd.Series(observation_types_list).value_counts()"
   ]
  },
  {
   "cell_type": "code",
   "execution_count": 23,
   "id": "6500d00c-1e0b-4cf8-aa67-c037eb2e92ff",
   "metadata": {},
   "outputs": [
    {
     "name": "stdout",
     "output_type": "stream",
     "text": [
      "[4.6, 5.6, 7.3, 8.7, 10.3, 11.5, 12.4, 13.1, 14.2, 16.1, 18.9, 20.3, 20.2, 20.7, 23.1, 26.5, 29.3, 33.3, 35.5, 40, 47.6, 48.8, 53.1, 62.7, 71.3, 74.1, 77.2, 80.6, 91.9, 91.2, 96.2, 101.3, 97.6, 101.2, 98.3, 93.6, 100.2, 95.4, 98.6]\n",
      "kg\n"
     ]
    }
   ],
   "source": [
    "body_weight_list = []\n",
    "for i in range(0, len_json_data):\n",
    "    try:\n",
    "        if json_data['entry'][i]['resource']['code']['text'] == \"Body Weight\":\n",
    "            body_weight = json_data['entry'][i]['resource']['valueQuantity']['value']\n",
    "            unit = json_data['entry'][i]['resource']['valueQuantity']['unit']\n",
    "            body_weight_list.append(body_weight)\n",
    "    except:\n",
    "        pass\n",
    "print(body_weight_list)\n",
    "print(unit)"
   ]
  },
  {
   "cell_type": "code",
   "execution_count": 24,
   "id": "74b3f6f1-9231-4802-a162-47ee704da945",
   "metadata": {},
   "outputs": [
    {
     "data": {
      "text/html": [
       "<div>\n",
       "<style scoped>\n",
       "    .dataframe tbody tr th:only-of-type {\n",
       "        vertical-align: middle;\n",
       "    }\n",
       "\n",
       "    .dataframe tbody tr th {\n",
       "        vertical-align: top;\n",
       "    }\n",
       "\n",
       "    .dataframe thead th {\n",
       "        text-align: right;\n",
       "    }\n",
       "</style>\n",
       "<table border=\"1\" class=\"dataframe\">\n",
       "  <thead>\n",
       "    <tr style=\"text-align: right;\">\n",
       "      <th></th>\n",
       "      <th>0</th>\n",
       "      <th>1</th>\n",
       "      <th>2</th>\n",
       "      <th>3</th>\n",
       "    </tr>\n",
       "  </thead>\n",
       "  <tbody>\n",
       "    <tr>\n",
       "      <th>0</th>\n",
       "      <td>Body Height</td>\n",
       "      <td>55.6</td>\n",
       "      <td>cm</td>\n",
       "      <td>1940-06-27T15:02:00-04:00</td>\n",
       "    </tr>\n",
       "    <tr>\n",
       "      <th>1</th>\n",
       "      <td>Pain severity - 0-10 verbal numeric rating [Sc...</td>\n",
       "      <td>2</td>\n",
       "      <td>{score}</td>\n",
       "      <td>1940-06-27T15:02:00-04:00</td>\n",
       "    </tr>\n",
       "    <tr>\n",
       "      <th>2</th>\n",
       "      <td>Body Weight</td>\n",
       "      <td>4.6</td>\n",
       "      <td>kg</td>\n",
       "      <td>1940-06-27T15:02:00-04:00</td>\n",
       "    </tr>\n",
       "    <tr>\n",
       "      <th>3</th>\n",
       "      <td>Weight-for-length Per age and sex</td>\n",
       "      <td>18.498</td>\n",
       "      <td>%</td>\n",
       "      <td>1940-06-27T15:02:00-04:00</td>\n",
       "    </tr>\n",
       "    <tr>\n",
       "      <th>4</th>\n",
       "      <td>Head Occipital-frontal circumference</td>\n",
       "      <td>37.73</td>\n",
       "      <td>cm</td>\n",
       "      <td>1940-06-27T15:02:00-04:00</td>\n",
       "    </tr>\n",
       "    <tr>\n",
       "      <th>...</th>\n",
       "      <td>...</td>\n",
       "      <td>...</td>\n",
       "      <td>...</td>\n",
       "      <td>...</td>\n",
       "    </tr>\n",
       "    <tr>\n",
       "      <th>552</th>\n",
       "      <td>Pain severity - 0-10 verbal numeric rating [Sc...</td>\n",
       "      <td>1</td>\n",
       "      <td>{score}</td>\n",
       "      <td>1984-07-12T15:02:00-04:00</td>\n",
       "    </tr>\n",
       "    <tr>\n",
       "      <th>553</th>\n",
       "      <td>Body Weight</td>\n",
       "      <td>98.6</td>\n",
       "      <td>kg</td>\n",
       "      <td>1984-07-12T15:02:00-04:00</td>\n",
       "    </tr>\n",
       "    <tr>\n",
       "      <th>554</th>\n",
       "      <td>Body Mass Index</td>\n",
       "      <td>28.85</td>\n",
       "      <td>kg/m2</td>\n",
       "      <td>1984-07-12T15:02:00-04:00</td>\n",
       "    </tr>\n",
       "    <tr>\n",
       "      <th>555</th>\n",
       "      <td>Heart rate</td>\n",
       "      <td>96</td>\n",
       "      <td>/min</td>\n",
       "      <td>1984-07-12T15:02:00-04:00</td>\n",
       "    </tr>\n",
       "    <tr>\n",
       "      <th>556</th>\n",
       "      <td>Respiratory rate</td>\n",
       "      <td>14</td>\n",
       "      <td>/min</td>\n",
       "      <td>1984-07-12T15:02:00-04:00</td>\n",
       "    </tr>\n",
       "  </tbody>\n",
       "</table>\n",
       "<p>557 rows × 4 columns</p>\n",
       "</div>"
      ],
      "text/plain": [
       "                                                     0       1        2  \\\n",
       "0                                          Body Height    55.6       cm   \n",
       "1    Pain severity - 0-10 verbal numeric rating [Sc...       2  {score}   \n",
       "2                                          Body Weight     4.6       kg   \n",
       "3                    Weight-for-length Per age and sex  18.498        %   \n",
       "4                 Head Occipital-frontal circumference   37.73       cm   \n",
       "..                                                 ...     ...      ...   \n",
       "552  Pain severity - 0-10 verbal numeric rating [Sc...       1  {score}   \n",
       "553                                        Body Weight    98.6       kg   \n",
       "554                                    Body Mass Index   28.85    kg/m2   \n",
       "555                                         Heart rate      96     /min   \n",
       "556                                   Respiratory rate      14     /min   \n",
       "\n",
       "                             3  \n",
       "0    1940-06-27T15:02:00-04:00  \n",
       "1    1940-06-27T15:02:00-04:00  \n",
       "2    1940-06-27T15:02:00-04:00  \n",
       "3    1940-06-27T15:02:00-04:00  \n",
       "4    1940-06-27T15:02:00-04:00  \n",
       "..                         ...  \n",
       "552  1984-07-12T15:02:00-04:00  \n",
       "553  1984-07-12T15:02:00-04:00  \n",
       "554  1984-07-12T15:02:00-04:00  \n",
       "555  1984-07-12T15:02:00-04:00  \n",
       "556  1984-07-12T15:02:00-04:00  \n",
       "\n",
       "[557 rows x 4 columns]"
      ]
     },
     "execution_count": 24,
     "metadata": {},
     "output_type": "execute_result"
    }
   ],
   "source": [
    "observation_types_list = []\n",
    "observation_values_list = []\n",
    "observation_units_list = []\n",
    "observation_effectiveDateTime_list = []\n",
    "\n",
    "for i in range(0, len_json_data):\n",
    "    if json_data['entry'][i]['request']['url'] == \"Observation\":\n",
    "        \n",
    "        try:\n",
    "            observation_type = json_data['entry'][i]['resource']['code']['text']\n",
    "            observation_value = json_data['entry'][i]['resource']['valueQuantity']['value']\n",
    "            observation_unit = json_data['entry'][i]['resource']['valueQuantity']['unit']\n",
    "            effectiveDateTime = json_data['entry'][i]['resource']['effectiveDateTime']\n",
    "\n",
    "            observation_types_list.append(observation_type)\n",
    "            observation_values_list.append(observation_value)\n",
    "            observation_units_list.append(observation_unit)\n",
    "            observation_effectiveDateTime_list.append(effectiveDateTime)\n",
    "            \n",
    "        except:\n",
    "            pass\n",
    "\n",
    "# Count the unique values from the request url list\n",
    "quantitative_observations = pd.DataFrame([observation_types_list, observation_values_list, observation_units_list, observation_effectiveDateTime_list]).transpose()\n",
    "quantitative_observations"
   ]
  },
  {
   "cell_type": "code",
   "execution_count": 25,
   "id": "8a296f7b-e6b8-41d2-af8a-cd7574016b3a",
   "metadata": {},
   "outputs": [],
   "source": [
    "for i in range(0, len_json_data):\n",
    "    request_url_list.append(json_data['entry'][i]['request']['url'])"
   ]
  },
  {
   "cell_type": "code",
   "execution_count": null,
   "id": "97143b2e-9074-4619-9088-e734b232f8e5",
   "metadata": {},
   "outputs": [],
   "source": []
  },
  {
   "cell_type": "markdown",
   "id": "cc11d498-7d8f-402b-91a5-fc4144e80b7c",
   "metadata": {},
   "source": [
    "# Dealing with Time\n",
    "Theme song for this section can be found at: https://www.youtube.com/watch?v=F1mqrCTFoz4&ab_channel=CyndiLauperVEVO"
   ]
  },
  {
   "cell_type": "code",
   "execution_count": 127,
   "id": "82c66ee0-7a9d-41dc-8223-b40944b6d87f",
   "metadata": {},
   "outputs": [
    {
     "data": {
      "text/plain": [
       "{'fullUrl': 'urn:uuid:4add8c01-9266-92f8-bb43-b18b2211d5d7',\n",
       " 'resource': {'resourceType': 'MedicationRequest',\n",
       "  'id': '4add8c01-9266-92f8-bb43-b18b2211d5d7',\n",
       "  'meta': {'profile': ['http://hl7.org/fhir/us/core/StructureDefinition/us-core-medicationrequest']},\n",
       "  'status': 'stopped',\n",
       "  'intent': 'order',\n",
       "  'medicationCodeableConcept': {'coding': [{'system': 'http://www.nlm.nih.gov/research/umls/rxnorm',\n",
       "     'code': '243670',\n",
       "     'display': 'Aspirin 81 MG Oral Tablet'}],\n",
       "   'text': 'Aspirin 81 MG Oral Tablet'},\n",
       "  'subject': {'reference': 'urn:uuid:055f50fa-c1cb-c4e5-63db-0d27c307cdd1'},\n",
       "  'encounter': {'reference': 'urn:uuid:209f3569-3ef1-b13e-40ba-2656398b4e5b'},\n",
       "  'authoredOn': '1944-03-08T15:02:00-04:00',\n",
       "  'requester': {'reference': 'urn:uuid:05c334c2-6a6e-3071-9b3a-2fa6f992ccf6',\n",
       "   'display': 'Dr. Dinah304 Schaefer657'},\n",
       "  'dosageInstruction': [{'sequence': 1,\n",
       "    'text': 'Take as needed.',\n",
       "    'asNeededBoolean': True}]},\n",
       " 'request': {'method': 'POST', 'url': 'MedicationRequest'}}"
      ]
     },
     "execution_count": 127,
     "metadata": {},
     "output_type": "execute_result"
    }
   ],
   "source": [
    "# Find the parameter for time for prescriptions\n",
    "len_json_data = len(json_data['entry'])\n",
    "\n",
    "for i in range(0, len_json_data):\n",
    "    if json_data['entry'][i]['request']['url'] == \"MedicationRequest\":\n",
    "        MedicationRequest = json_data['entry'][i]\n",
    "        break\n",
    "\n",
    "MedicationRequest"
   ]
  },
  {
   "cell_type": "code",
   "execution_count": 91,
   "id": "a6c6654d-b798-4b19-ae0a-70b50d4cc04c",
   "metadata": {},
   "outputs": [
    {
     "name": "stdout",
     "output_type": "stream",
     "text": [
      "1944-03-08T15:02:00-04:00 Aspirin 81 MG Oral Tablet\n",
      "1957-10-27T14:11:00-05:00 Acetaminophen 325 MG Oral Tablet\n",
      "1963-01-07T14:18:00-05:00 Acetaminophen 21.7 MG/ML / Dextromethorphan Hydrobromide 1 MG/ML / doxylamine succinate 0.417 MG/ML Oral Solution\n",
      "1981-05-23T15:49:00-04:00 Ibuprofen 200 MG Oral Tablet\n",
      "1983-06-26T16:55:00-04:00 Vitamin B 12 5 MG/ML Injectable Solution\n",
      "1983-07-07T15:02:00-04:00 Leucovorin 100 MG Injection\n",
      "1983-07-07T15:02:00-04:00 10 ML oxaliplatin 5 MG/ML Injection\n",
      "1985-06-21T15:02:00-04:00 Acetaminophen 325 MG Oral Tablet\n"
     ]
    },
    {
     "data": {
      "text/plain": [
       "['1944-03-08T15:02:00-04:00',\n",
       " '1957-10-27T14:11:00-05:00',\n",
       " '1963-01-07T14:18:00-05:00',\n",
       " '1981-05-23T15:49:00-04:00',\n",
       " '1983-06-26T16:55:00-04:00',\n",
       " '1983-07-07T15:02:00-04:00',\n",
       " '1983-07-07T15:02:00-04:00',\n",
       " '1985-06-21T15:02:00-04:00']"
      ]
     },
     "execution_count": 91,
     "metadata": {},
     "output_type": "execute_result"
    }
   ],
   "source": [
    "# Get a list of times associated with an entity\n",
    "len_json_data = len(json_data['entry'])\n",
    "\n",
    "prescription_times = []\n",
    "\n",
    "for i in range(0, len_json_data):\n",
    "    if json_data['entry'][i]['request']['url'] == \"MedicationRequest\":\n",
    "        prescription = json_data['entry'][i]['resource']['medicationCodeableConcept']['text']\n",
    "        date_time = json_data['entry'][i]['resource']['authoredOn']\n",
    "        print(date_time, prescription)\n",
    "        prescription_times.append(json_data['entry'][i]['resource']['authoredOn'])\n",
    "\n",
    "prescription_times"
   ]
  },
  {
   "cell_type": "code",
   "execution_count": 132,
   "id": "6556067a-9d4a-4962-bcfa-0c3630e3fdc0",
   "metadata": {},
   "outputs": [
    {
     "data": {
      "text/plain": [
       "'Otitis media'"
      ]
     },
     "execution_count": 132,
     "metadata": {},
     "output_type": "execute_result"
    }
   ],
   "source": [
    "# Find the parameter for time for condition onset\n",
    "len_json_data = len(json_data['entry'])\n",
    "\n",
    "for i in range(0, len_json_data):\n",
    "    if json_data['entry'][i]['request']['url'] == \"Condition\":\n",
    "        Condition = json_data['entry'][i]\n",
    "        break\n",
    "\n",
    "Condition['resource']['code']['text']"
   ]
  },
  {
   "cell_type": "code",
   "execution_count": 136,
   "id": "5ef84829-3dc9-4c8a-a712-ee06fa227283",
   "metadata": {},
   "outputs": [
    {
     "name": "stdout",
     "output_type": "stream",
     "text": [
      "1944-03-08T15:02:00-04:00 Otitis media\n",
      "1944-10-07T15:02:00-04:00 Acute viral pharyngitis (disorder)\n",
      "1946-12-08T14:02:00-05:00 Acute viral pharyngitis (disorder)\n",
      "1952-08-31T15:02:00-04:00 Acute bacterial sinusitis (disorder)\n",
      "1953-09-17T15:02:00-04:00 Concussion with no loss of consciousness\n",
      "1957-10-27T14:02:00-05:00 Acute bronchitis (disorder)\n",
      "1960-07-08T15:02:00-04:00 Viral sinusitis (disorder)\n",
      "1963-01-08T14:02:00-05:00 Viral sinusitis (disorder)\n",
      "1963-01-07T14:11:00-05:00 Acute bronchitis (disorder)\n",
      "1967-03-18T14:02:00-05:00 Viral sinusitis (disorder)\n",
      "1971-12-04T14:02:00-05:00 Viral sinusitis (disorder)\n",
      "1975-09-28T15:02:00-04:00 Viral sinusitis (disorder)\n",
      "1976-03-23T14:02:00-05:00 Viral sinusitis (disorder)\n",
      "1981-05-23T15:02:00-04:00 Laceration of forearm\n",
      "1983-06-17T15:02:00-04:00 Bleeding from anus\n",
      "1983-06-17T15:02:00-04:00 Protracted diarrhea\n",
      "1983-06-26T15:39:00-04:00 Anemia (disorder)\n",
      "1983-06-30T15:02:00-04:00 Secondary malignant neoplasm of colon\n",
      "1985-06-21T15:02:00-04:00 Acute bronchitis (disorder)\n"
     ]
    },
    {
     "data": {
      "text/plain": [
       "['1944-03-08T15:02:00-04:00',\n",
       " '1944-10-07T15:02:00-04:00',\n",
       " '1946-12-08T14:02:00-05:00',\n",
       " '1952-08-31T15:02:00-04:00',\n",
       " '1953-09-17T15:02:00-04:00',\n",
       " '1957-10-27T14:02:00-05:00',\n",
       " '1960-07-08T15:02:00-04:00',\n",
       " '1963-01-08T14:02:00-05:00',\n",
       " '1963-01-07T14:11:00-05:00',\n",
       " '1967-03-18T14:02:00-05:00',\n",
       " '1971-12-04T14:02:00-05:00',\n",
       " '1975-09-28T15:02:00-04:00',\n",
       " '1976-03-23T14:02:00-05:00',\n",
       " '1981-05-23T15:02:00-04:00',\n",
       " '1983-06-17T15:02:00-04:00',\n",
       " '1983-06-17T15:02:00-04:00',\n",
       " '1983-06-26T15:39:00-04:00',\n",
       " '1983-06-30T15:02:00-04:00',\n",
       " '1985-06-21T15:02:00-04:00']"
      ]
     },
     "execution_count": 136,
     "metadata": {},
     "output_type": "execute_result"
    }
   ],
   "source": [
    "# Get a list of times associated with an entity\n",
    "len_json_data = len(json_data['entry'])\n",
    "\n",
    "condition_onset_times = []\n",
    "\n",
    "for i in range(0, len_json_data):\n",
    "    if json_data['entry'][i]['request']['url'] == \"Condition\":\n",
    "        condition = json_data['entry'][i]['resource']['code']['text']\n",
    "        date_time = json_data['entry'][i]['resource']['onsetDateTime']\n",
    "        print(date_time, condition)\n",
    "        condition_onset_times.append(json_data['entry'][i]['resource']['onsetDateTime'])\n",
    "\n",
    "condition_onset_times"
   ]
  },
  {
   "cell_type": "code",
   "execution_count": 194,
   "id": "4b6869c6-d865-405d-9841-eb1ecfebf653",
   "metadata": {},
   "outputs": [],
   "source": [
    "# Define a function that calculates the earliest, mean, and latest time from a list of string-formatted times\n",
    "def string_to_time_object(time_list, datetime_format = '%Y-%m-%dT%H:%M:%S%z'):\n",
    "    time_obj_list = []\n",
    "    for i in range(0, len(time_list)):\n",
    "        time_obj_list.append(datetime.strptime(time_list[i], datetime_format))\n",
    "        \n",
    "    earliest_time = min(time_obj_list)\n",
    "    latest_time = max(time_obj_list)\n",
    "    \n",
    "    sum_timedelta = timedelta(0)\n",
    "    for time_obj in time_obj_list:\n",
    "        sum_timedelta = sum_timedelta + (time_obj - earliest_time)\n",
    "        \n",
    "    mean_time_timedelta = sum_timedelta/len(time_list)\n",
    "    mean_time = earliest_time + mean_time_timedelta\n",
    "    \n",
    "    return earliest_time, mean_time, latest_time"
   ]
  },
  {
   "cell_type": "code",
   "execution_count": 195,
   "id": "00e995e8-ab21-4adb-93ec-d261b86d90e5",
   "metadata": {},
   "outputs": [
    {
     "data": {
      "text/plain": [
       "(datetime.datetime(1944, 3, 8, 15, 2, tzinfo=datetime.timezone(datetime.timedelta(days=-1, seconds=72000))),\n",
       " datetime.datetime(1972, 10, 19, 9, 25, 7, 500000, tzinfo=datetime.timezone(datetime.timedelta(days=-1, seconds=72000))),\n",
       " datetime.datetime(1985, 6, 21, 15, 2, tzinfo=datetime.timezone(datetime.timedelta(days=-1, seconds=72000))))"
      ]
     },
     "execution_count": 195,
     "metadata": {},
     "output_type": "execute_result"
    }
   ],
   "source": [
    "string_to_time_object(prescription_times)"
   ]
  },
  {
   "cell_type": "code",
   "execution_count": 196,
   "id": "0023bdf5-c41f-4c8d-b12e-8c4b988d9bb2",
   "metadata": {},
   "outputs": [
    {
     "data": {
      "text/plain": [
       "(datetime.datetime(1944, 3, 8, 15, 2, tzinfo=datetime.timezone(datetime.timedelta(days=-1, seconds=72000))),\n",
       " datetime.datetime(1967, 4, 16, 20, 7, 34, 736842, tzinfo=datetime.timezone(datetime.timedelta(days=-1, seconds=72000))),\n",
       " datetime.datetime(1985, 6, 21, 15, 2, tzinfo=datetime.timezone(datetime.timedelta(days=-1, seconds=72000))))"
      ]
     },
     "execution_count": 196,
     "metadata": {},
     "output_type": "execute_result"
    }
   ],
   "source": [
    "string_to_time_object(condition_onset_times)"
   ]
  },
  {
   "cell_type": "code",
   "execution_count": 213,
   "id": "fecffb82-ef2d-4168-af42-d60313ac3fae",
   "metadata": {},
   "outputs": [],
   "source": [
    "# Calculate the timedeltas between two entities' earliest, mean, and latest times. The inputs are lists of time in string format\n",
    "def two_entity_timedeltas(entity1, entity2):\n",
    "        \n",
    "    entity1_earliest_time, entity1_mean_time, entity1_latest_time = string_to_time_object(entity1)\n",
    "    entity2_earliest_time, entity2_mean_time, entity2_latest_time = string_to_time_object(entity2)\n",
    "\n",
    "    earliest_timedelta = entity1_earliest_time - entity2_earliest_time\n",
    "    mean_timedelta = entity1_mean_time - entity2_mean_time\n",
    "    latest_timedelta = entity1_latest_time - entity2_latest_time\n",
    "    \n",
    "    return {\"earliest_timedelta\": earliest_timedelta.total_seconds(), \"mean_timedelta\": mean_timedelta.total_seconds(), \"latest_timedelta\": latest_timedelta.total_seconds()}\n",
    "\n"
   ]
  },
  {
   "cell_type": "code",
   "execution_count": 214,
   "id": "aebc63a5-7ec2-443a-8304-5d033ff2ab5f",
   "metadata": {},
   "outputs": [
    {
     "data": {
      "text/plain": [
       "{'earliest_timedelta': 0.0,\n",
       " 'mean_timedelta': 173884652.763158,\n",
       " 'latest_timedelta': 0.0}"
      ]
     },
     "execution_count": 214,
     "metadata": {},
     "output_type": "execute_result"
    }
   ],
   "source": [
    "two_entity_timedeltas_dict"
   ]
  },
  {
   "cell_type": "code",
   "execution_count": 225,
   "id": "d3ad05af-1d9f-4511-a7fd-045f8a2548dc",
   "metadata": {},
   "outputs": [],
   "source": [
    "# Define a function that takes 1 instance of new input and re-calculates the mean, standard deviation, and instance count\n",
    "def update_mean_and_stdev(new_input, instance_count, mean, stdev):\n",
    "    \n",
    "    # Re-calculate the mean, standard deviation, and instance count based on new input\n",
    "    mean = (mean*instance_count+new_input)/(instance_count+1)\n",
    "    stdev = (((new_input-mean)**2+instance_count*(stdev**2))/(instance_count+1))**0.5\n",
    "    instance_count += 1\n",
    "\n",
    "    return {\"instance_count\":instance_count, \"population_mean\":mean, \"population_stdev\":stdev} "
   ]
  },
  {
   "cell_type": "code",
   "execution_count": 226,
   "id": "01bbe42e-d2cb-458e-9c75-6f90238e7fd7",
   "metadata": {},
   "outputs": [],
   "source": [
    "# Update the virtual population's timedelta stats between two entities. The inputs are lists of time in string format.\n",
    "def update_two_entities_timedelta_stats(entity1, entity2):\n",
    "    two_entity_timedeltas_dict = two_entity_timedeltas(entity1, entity2)\n",
    "\n",
    "    timedelta_stats_list = {\n",
    "        \"earliest_timedelta\": update_mean_and_stdev(new_input=two_entity_timedeltas_dict[\"earliest_timedelta\"], instance_count=0, mean=0, stdev=0),\n",
    "        \"mean_timedelta\": update_mean_and_stdev(new_input=two_entity_timedeltas_dict[\"mean_timedelta\"], instance_count=0, mean=0, stdev=0),\n",
    "        \"latest_timedelta\": update_mean_and_stdev(new_input=two_entity_timedeltas_dict[\"latest_timedelta\"], instance_count=0, mean=0, stdev=0)\n",
    "    }\n",
    "\n",
    "    return timedelta_stats_list"
   ]
  },
  {
   "cell_type": "code",
   "execution_count": 227,
   "id": "6d4e9b7d-faa2-4f5a-abb1-0036661ab6d3",
   "metadata": {},
   "outputs": [
    {
     "data": {
      "text/plain": [
       "{'earliest_timedelta': {'instance_count': 1,\n",
       "  'population_mean': 0.0,\n",
       "  'population_stdev': 0.0},\n",
       " 'mean_timedelta': {'instance_count': 1,\n",
       "  'population_mean': 173884652.763158,\n",
       "  'population_stdev': 0.0},\n",
       " 'latest_timedelta': {'instance_count': 1,\n",
       "  'population_mean': 0.0,\n",
       "  'population_stdev': 0.0}}"
      ]
     },
     "execution_count": 227,
     "metadata": {},
     "output_type": "execute_result"
    }
   ],
   "source": [
    "timedelta_stats = update_two_entities_timedelta_stats(prescription_times, condition_onset_times)\n",
    "timedelta_stats"
   ]
  },
  {
   "cell_type": "code",
   "execution_count": 228,
   "id": "0661178a-8086-4f52-801c-032824abf40c",
   "metadata": {},
   "outputs": [
    {
     "data": {
      "text/html": [
       "<div>\n",
       "<style scoped>\n",
       "    .dataframe tbody tr th:only-of-type {\n",
       "        vertical-align: middle;\n",
       "    }\n",
       "\n",
       "    .dataframe tbody tr th {\n",
       "        vertical-align: top;\n",
       "    }\n",
       "\n",
       "    .dataframe thead th {\n",
       "        text-align: right;\n",
       "    }\n",
       "</style>\n",
       "<table border=\"1\" class=\"dataframe\">\n",
       "  <thead>\n",
       "    <tr style=\"text-align: right;\">\n",
       "      <th></th>\n",
       "      <th>earliest_timedelta</th>\n",
       "      <th>mean_timedelta</th>\n",
       "      <th>latest_timedelta</th>\n",
       "    </tr>\n",
       "  </thead>\n",
       "  <tbody>\n",
       "    <tr>\n",
       "      <th>instance_count</th>\n",
       "      <td>1.0</td>\n",
       "      <td>1.000000e+00</td>\n",
       "      <td>1.0</td>\n",
       "    </tr>\n",
       "    <tr>\n",
       "      <th>population_mean</th>\n",
       "      <td>0.0</td>\n",
       "      <td>1.738847e+08</td>\n",
       "      <td>0.0</td>\n",
       "    </tr>\n",
       "    <tr>\n",
       "      <th>population_stdev</th>\n",
       "      <td>0.0</td>\n",
       "      <td>0.000000e+00</td>\n",
       "      <td>0.0</td>\n",
       "    </tr>\n",
       "  </tbody>\n",
       "</table>\n",
       "</div>"
      ],
      "text/plain": [
       "                  earliest_timedelta  mean_timedelta  latest_timedelta\n",
       "instance_count                   1.0    1.000000e+00               1.0\n",
       "population_mean                  0.0    1.738847e+08               0.0\n",
       "population_stdev                 0.0    0.000000e+00               0.0"
      ]
     },
     "execution_count": 228,
     "metadata": {},
     "output_type": "execute_result"
    }
   ],
   "source": [
    "pd.DataFrame(timedelta_stats)"
   ]
  },
  {
   "cell_type": "code",
   "execution_count": null,
   "id": "6688c3d7-2a3e-4b10-a2f8-f11e50f99f43",
   "metadata": {},
   "outputs": [],
   "source": [
    "# Desired format for temporal relationships between two entities:\n",
    "row = [\n",
    "    entity1_CUI, \n",
    "    entity2_CUI, \n",
    "    instance_count,\n",
    "\n",
    "    diff_earliest_times_mean, \n",
    "    diff_earliest_times_stdev, \n",
    "    diff_mean_times_mean, \n",
    "    diff_mean_times_stdev, \n",
    "    diff_latest_times_mean, \n",
    "    diff_latest_times_stdev\n",
    "]\n"
   ]
  },
  {
   "cell_type": "markdown",
   "id": "f716d2ad-55cf-4707-806b-d544ac0b0188",
   "metadata": {},
   "source": [
    "There are other parameters we would add, depending on the types of entities involved.  \n",
    "Events which occur\n",
    "Objects which exist"
   ]
  },
  {
   "cell_type": "code",
   "execution_count": 183,
   "id": "2a846e6c-7518-4ff2-907c-34632b3589f6",
   "metadata": {},
   "outputs": [
    {
     "data": {
      "text/plain": [
       "datetime.timedelta(days=2012, seconds=47852, microseconds=763158)"
      ]
     },
     "execution_count": 183,
     "metadata": {},
     "output_type": "execute_result"
    }
   ],
   "source": [
    "# Convert back from seconds to a timedelta object\n",
    "timedelta(seconds = mean_timedelta)"
   ]
  },
  {
   "cell_type": "markdown",
   "id": "8d81fbd9-834d-4e8b-bff8-c3756b67d054",
   "metadata": {},
   "source": [
    "## Interpreting timedeltas\n",
    "\n",
    "Let's take two events which tend to occur at the same time (headache and Tylenol) compared to two events which have no temporal relationship. The mean timedelta will be close to zero in both cases, but the standard deviation of timedelta will be large in the unrelated events compared to the temporally related events. \n",
    "\n",
    "If event A tends to occur BEFORE event B, then event A will have a POSITIVE mean timedelta and a small standard deviation of timedelta, with the OCCURS_WITH relationship pointing from A to B. \n",
    "\n",
    "If event A tends to occur AFTER event B, then event A will have a NEGATIVE mean timedelta and a small standard deviation of timedelta, with the OCCURS_WITH relationship pointing from A to B. \n",
    "\n",
    "In other words, the sign (positive or negative) of the mean timedelta tells you which direction to traverse the relationship between two entities, which tells you which entity tends to occur first and which occurs second. The magnitude of the mean timedelta between two entities tells you how far apart they tend to occur in time. The standard deviation of timedelta between two entities will always have the same sign, and tells you how consistently a temporal relationship is found between two entities. \n",
    "\n",
    "We have discussed a \"small\" or \"large\" standard deviation of timedelta, but these are relative terms. How do we know if a given standard deviation of timedelta is small or large? By comparing it to the span between the earliest timedelta and the latest timedelta. \n",
    "\n",
    "The earliest timedelta is the mean difference between the first occurences of two events, and the latest timedelta is the mean difference between the last occurences of two events. "
   ]
  }
 ],
 "metadata": {
  "kernelspec": {
   "display_name": "Python 3",
   "language": "python",
   "name": "python3"
  },
  "language_info": {
   "codemirror_mode": {
    "name": "ipython",
    "version": 3
   },
   "file_extension": ".py",
   "mimetype": "text/x-python",
   "name": "python",
   "nbconvert_exporter": "python",
   "pygments_lexer": "ipython3",
   "version": "3.9.4"
  }
 },
 "nbformat": 4,
 "nbformat_minor": 5
}
