{
 "cells": [
  {
   "cell_type": "markdown",
   "id": "7c71d7be-9e8a-4cf3-a4f9-0cc163192c25",
   "metadata": {},
   "source": [
    "# SMART on FHIR"
   ]
  },
  {
   "cell_type": "markdown",
   "id": "070c1cb1-8f13-4a07-8033-d85419308db9",
   "metadata": {},
   "source": [
    "General Resources:  \n",
    "SMART on FHIR tools, sandboxes, training, etc: https://docs.smarthealthit.org/  \n",
    "FHIR API tester & U.S. core data in FHIR format https://inferno.healthit.gov/inferno  \n",
    "Health IT Developer Certification Criteria and registry of certified developers: https://chpl.healthit.gov/#/listing/10591\n",
    "Cures Act info: https://www.healthit.gov/curesrule/\n",
    "Policies and technological standards: https://www.cms.gov/Regulations-and-Guidance/Guidance/Interoperability/index  \n",
    "Epic ONC certification details and cost disclosures: https://www.epic.com/mu\n",
    "\n",
    "API providers for FHIR:\n",
    "- [MuleSoft](https://www.mulesoft.com/exchange/68ef9520-24e9-4cf2-b2f5-620025690913/catalyst-accelerator-for-healthcare/). Use pre-built APIs for Epic, Cerner, and others. Maybe faster to get set up and running. \n",
    "- [Swagger](https://swagger.io/). Open source DIY API development platform.\n",
    "- [CyFHIR](https://github.com/Optum/CyFHIR). Write FHIR-formattted data directly to graph and read cypher results back into FHIR.\n",
    "\n",
    "Potential EHRs for demo:\n",
    "- [OpenMRS](https://wiki.openmrs.org/display/projects/OpenMRS+HL7+FHIR+Solutions)\n",
    "- Cerner's SMART on FHIR tutorial/sandbox: https://engineering.cerner.com/smart-on-fhir-tutorial/#introduction\n",
    "- Epic's SMART on FHIR sandbox and documentation: https://fhir.epic.com/  \n",
    "\n",
    "FHIR endpoints by healthcare organization: https://open.epic.com/MyApps/Endpoints"
   ]
  },
  {
   "cell_type": "code",
   "execution_count": 9,
   "id": "6003d781-7d56-47ea-8ead-2011f3fb03e8",
   "metadata": {},
   "outputs": [],
   "source": [
    "import requests\n",
    "import json"
   ]
  },
  {
   "cell_type": "code",
   "execution_count": 130,
   "id": "c0ad7c75-064a-4a3e-b3d8-f26116703de2",
   "metadata": {},
   "outputs": [],
   "source": [
    "from neo4j import GraphDatabase\n",
    "driver=GraphDatabase.driver(uri=\"bolt://localhost:7687\", auth=('neo4j','FHIR'))\n",
    "session=driver.session()"
   ]
  },
  {
   "cell_type": "code",
   "execution_count": 159,
   "id": "e87e50a2-c6ea-43b6-9dfa-e5eeefb3f0e5",
   "metadata": {
    "tags": []
   },
   "outputs": [
    {
     "data": {
      "text/plain": [
       "{'resourceType': 'Bundle',\n",
       " 'id': 'f2319e6c-d51d-4041-8541-e2ba492d3f1a',\n",
       " 'meta': {'lastUpdated': '2022-02-01T12:59:08.773+00:00'},\n",
       " 'type': 'searchset',\n",
       " 'total': 0,\n",
       " 'link': [{'relation': 'self',\n",
       "   'url': 'https://fhirsandbox.healthit.gov/open/r4/fhir/Patient/?_format=json&_id=2'}]}"
      ]
     },
     "execution_count": 159,
     "metadata": {},
     "output_type": "execute_result"
    }
   ],
   "source": [
    "base = 'https://fhirsandbox.healthit.gov/open/r4/fhir/'\n",
    "resource = 'Patient/?_id=2&_format=json'\n",
    "response = requests.get(base+resource)\n",
    "json_data = response.json()\n",
    "json_data"
   ]
  },
  {
   "cell_type": "code",
   "execution_count": 164,
   "id": "e0575da5-18e8-420e-96e3-85aeacbe6a08",
   "metadata": {
    "tags": []
   },
   "outputs": [
    {
     "data": {
      "text/plain": [
       "{'resourceType': 'OperationOutcome',\n",
       " 'issue': [{'severity': 'error',\n",
       "   'code': 'processing',\n",
       "   'diagnostics': \"Unknown resource type 'MedicationOrder' - Server knows how to handle: [RiskAssessment, Provenance, Organization, CareTeam, MedicationDispense, DiagnosticReport, ImagingStudy, HealthcareService, Specimen, CarePlan, FamilyMemberHistory, Goal, AllergyIntolerance, StructureDefinition, Medication, Procedure, Encounter, OperationDefinition, DocumentReference, Condition, MedicationRequest, Immunization, Device, Patient, PractitionerRole, ServiceRequest, Practitioner, Observation, MedicationAdministration, MedicationStatement, Location]\"}]}"
      ]
     },
     "execution_count": 164,
     "metadata": {},
     "output_type": "execute_result"
    }
   ],
   "source": [
    "base = 'https://fhirsandbox.healthit.gov/open/r4/fhir/'\n",
    "resource = 'MedicationRequest?patient=1&_format=json'\n",
    "response = requests.get(base+resource)\n",
    "json_data = response.json()\n",
    "\n",
    "# resource = json_data[\"entry\"][0][\"resource\"]\n",
    "\n",
    "# rxCUI = resource[\"medicationCodeableConcept\"][\"coding\"][0][\"code\"]\n",
    "# dateWritten = resource[\"dateWritten\"]\n",
    "# prescriber = resource[\"prescriber\"][\"reference\"]\n",
    "# dosageInstruction = resource[\"dosageInstruction\"][0]\n",
    "# # print(\"RxNorm CUI:\",rxCUI)\n",
    "# # print(\"Date:\", dateWritten)\n",
    "# # print(\"Prescirber:\", prescriber)\n",
    "# # print(\"Dosage:\", dosageInstruction['text'])\n",
    "# json_data = str(json_data).replace(\"'\", \"\\\\'\")\n",
    "json_data"
   ]
  },
  {
   "cell_type": "markdown",
   "id": "86e33f59-663f-4ef5-9826-b218935323d1",
   "metadata": {},
   "source": [
    "Server knows how to handle:  \n",
    "RiskAssessment, Provenance, Organization, CareTeam, MedicationDispense, DiagnosticReport, ImagingStudy, HealthcareService, Specimen, CarePlan, FamilyMemberHistory, Goal, AllergyIntolerance, StructureDefinition, Medication, Procedure, Encounter, OperationDefinition, DocumentReference, Condition, MedicationRequest, Immunization, Device, Patient, PractitionerRole, ServiceRequest, Practitioner, Observation, MedicationAdministration, MedicationStatement, Location"
   ]
  },
  {
   "cell_type": "code",
   "execution_count": 157,
   "id": "dd06b026-eebc-4387-a01f-db47094e88b3",
   "metadata": {},
   "outputs": [
    {
     "data": {
      "text/plain": [
       "<neo4j.work.result.Result at 0x7ff5fe8f7310>"
      ]
     },
     "execution_count": 157,
     "metadata": {},
     "output_type": "execute_result"
    }
   ],
   "source": [
    "command = 'CALL cyfhir.bundle.load(\"'+json_data+'\")'\n",
    "session.run(command)\n",
    "# print(command)"
   ]
  },
  {
   "cell_type": "markdown",
   "id": "bf3c39e6-6c68-47e1-ba5b-51dae92490af",
   "metadata": {},
   "source": [
    "To-do:\n",
    "- Add source vocabulary and source identifier to each node so that we can match to RXCUIs for medications and LOINC codes for other things"
   ]
  },
  {
   "cell_type": "code",
   "execution_count": 1,
   "id": "c6081b04-20b3-48e7-8274-687a16b0bede",
   "metadata": {},
   "outputs": [
    {
     "name": "stdout",
     "output_type": "stream",
     "text": [
      "776\n",
      "437\n"
     ]
    }
   ],
   "source": [
    "listEndpoints = [\"Access Community Health Network\",\"Adult & Pediatric Ear, Nose & Throat - Kalamazoo\",\"AdvantageCare Physicians\",\"Adventist Health West\",\"Akron Children's Hospital\",\"Alameda Health System\",\"Allegheny Health Network\",\"Allina Health System\",\"AltaMed\",\"Altru Health System\",\"AnMed Health\",\"Ann & Robert H. Lurie Children's Hospital of Chicago\",\"Ardent\",\"Arizona Community Physicians\",\"Arkansas Children's\",\"Arrowhead Regional Medical Center\",\"Asante Health Systems\",\"Ascension - Providence Healthcare Network\",\"Ascension WI\",\"Aspirus\",\"Atlantic Health\",\"Atrium Health\",\"Atrium Health Wake Forest Baptist\",\"Atrius Health\",\"Aurora Health Care - myAurora\",\"Austin Regional Clinic\",\"Ballad Health\",\"Baptist Health – KY & IN\",\"Baptist Health (Arkansas)\",\"Baptist Memorial Health Care\",\"Bassett Healthcare\",\"BayCare Clinic - myBayCare\",\"Bayhealth Medical Center\",\"Baylor College of Medicine\",\"Baylor Scott & White Health\",\"Beaumont Health\",\"Bellin Health\",\"BJC & Washington University\",\"Bon Secours Health System\",\"Boston Medical Center\",\"Boulder Community Health\",\"Bronson Healthcare Group\",\"Brookwood Baptist Health\",\"Brown & Toland Physicians\",\"Bryan Health\",\"Buffalo Medical Group\",\"Cambridge Health Alliance\",\"Cape Cod Healthcare\",\"Cape Fear Valley Health\",\"Care New England\",\"Carilion Clinic\",\"Carle Foundation Hospital & Physician Group\",\"Caromont Health\",\"Catholic Health (Long Island NY)\",\"Catholic Health System (Buffalo)\",\"Cedars-Sinai Health System\",\"CentraCare Health and Affiliates\",\"Centura Health\",\"Charlotte Eye Ear Nose & Throat Associates\",\"Chesapeake Regional Medical Center\",\"Cheyenne Regional Medical Center\",\"CHI Franciscan Health\",\"CHI Health\",\"CHI St. Luke's Health\",\"CHI St. Vincent\",\"Children's Health System of Texas\",\"Children's Healthcare of Atlanta\",\"Children's Hospital and Medical Center, Omaha Nebraska\",\"Children's Hospital Colorado\",\"Children's Hospital of Philadelphia\",\"Children's Wisconsin\",\"CHRISTUS Health\",\"Cigna Medical Group\",\"Cincinnati Children's Hospital Medical Center\",\"City of Hope\",\"Cleveland Clinic\",\"Columbia Physicians\",\"Columbus Regional Health\",\"Community First Medical Center\",\"Community Health Network\",\"Community Healthcare System\",\"Community Medical Centers\",\"Cone Health\",\"Conemaugh Health System\",\"Confluence Health\",\"Connecticut Children's Medical Center\",\"Contra Costa\",\"Cook Children’s Health Care System\",\"Cooper University Health Care\",\"Cottage Health\",\"Covenant Health\",\"Covenant HealthCare\",\"Dartmouth-Hitchcock\",\"DaVita Physician Solutions\",\"Dayton Children's Hospital\",\"Deaconess Health System\",\"Denver Health\",\"Driscoll Children's Hospital\",\"Duke Health\",\"Duly Health and Care\",\"East Boston Neighborhood Health Center\",\"Edward-Elmhurst Healthcare\",\"Eisenhower Medical Center\",\"El Camino Hospital\",\"El Rio Health\",\"Englewood Hospital and Medical Center\",\"Enloe Medical Center\",\"EPIC Management (Beaver Medical Group)\",\"Erlanger Health System\",\"Eskenazi Health\",\"Essentia Health\",\"Evernorth\",\"Fairview Health Services\",\"Family Health Center (Michigan)\",\"FastMed\",\"FirstHealth of the Carolinas\",\"Franciscan Alliance\",\"Franciscan Missionaries of Our Lady Health System\",\"Fresenius Medical Care North America\",\"Froedtert Health\",\"Garnet Health\",\"Geisinger\",\"Genesis Healthcare System\",\"George Washington University Medical Faculty Associates\",\"Golden Valley Health Centers\",\"Grady Health System\",\"Greater Baltimore Medical Center\",\"Group Health Cooperative - South Central Wisconsin\",\"Gundersen Health System\",\"Hackensack Meridian Health\",\"Harris Health System\",\"Hartford HealthCare\",\"Hattiesburg Clinic and Forrest General Hospital\",\"Hawaii Pacific Health\",\"HCA Central and West Texas\",\"HCA Mountain\",\"HCA South Atlantic\",\"HealthEast Care System\",\"HealthPartners\",\"Heart of Texas Community Health Center\",\"Hendricks Regional Health\",\"Hennepin Healthcare\",\"Henry Ford Health System\",\"Hill Physicians\",\"Hoag Memorial Hospital Presbyterian\",\"HonorHealth\",\"Hospital for Special Surgery\",\"Hospital Sisters Health System (HSHS)\",\"Houston Methodist\",\"Hurley Medical Center\",\"Illinois Bone & Joint Institute\",\"Infirmary Health\",\"Inova and Valley Health\",\"Institute for Family Health\",\"INTEGRIS Health\",\"Jefferson Health\",\"John Muir Health\",\"Johns Hopkins Medicine\",\"JPS Health Network\",\"Kaiser Permanente - Maryland/Virginia/Washington D.C.\",\"Kaiser Permanente - California - Northern\",\"Kaiser Permanente - California - Southern\",\"Kaiser Permanente - Colorado\",\"Kaiser Permanente – Georgia\",\"Kaiser Permanente – Oregon – SW Washington\",\"Kaiser Permanente - Washington\",\"Kaiser Permanente Hawaii / Maui Health System\",\"Kalamazoo College Student Health Center\",\"Kalamazoo Foot Surgery\",\"Kelsey-Seybold Clinic\",\"Kennedy Krieger Institute\",\"Kettering Health Network\",\"King's Daughters Medical Center\",\"Lacy C Kessler, MD, PA\",\"Lahey Health System\",\"Lakeland Health\",\"Lancaster General Health\",\"LCMC Health\",\"Lee Health\",\"Legacy Health\",\"Lehigh Valley Health Network\",\"Leon Medical Centers\",\"Lexington Medical Center\",\"Licking Memorial Health Systems\",\"Lifespan\",\"Loma Linda University Health and CareConnect Partners\",\"Loyola Medicine\",\"Luminis Health\",\"Main Line Health\",\"MaineHealth\",\"Marshall Medical Center\",\"Martin Health System\",\"Mary Greeley Medical Center (Iowa)\",\"Mary Washington Healthcare\",\"Mass General Brigham\",\"Mayo Clinic\",\"McFarland Clinic (Iowa)\",\"Medical University of South Carolina\",\"Medisys Health Network\",\"Memorial Healthcare System\",\"Memorial Hospital and Health Care Center\",\"MemorialCare\",\"Mercy Health - OH, KY\",\"Mercy Health (MO)\",\"Mercy Health Services (MD)\",\"Mercy Health System - WI\",\"Mercy Medical Center\",\"Meritus\",\"Methodist Health System\",\"Methodist Hospitals\",\"Metro Health - Michigan\",\"MetroHealth - OH\",\"Michigan Medicine\",\"Middlesex Hospital\",\"MidMichigan Health\",\"Mohawk Valley Health System\",\"Molina Healthcare\",\"Monroe Clinic\",\"Montage Health\",\"Montefiore Medical Center\",\"Monument Health\",\"Mount Auburn Hospital\",\"Mount Sinai Health System\",\"Mount Sinai Medical Center\",\"MultiCare Health System\",\"Nebraska Medicine\",\"Nemours\",\"Nephrology Center - Southwest Michigan\",\"New Hanover Regional Medical Center\",\"New Jersey Urology\",\"New York-Presbyterian\",\"North Memorial Health\",\"North Mississippi Health Services\",\"North Oaks\",\"Northeast Georgia Health System\",\"NorthShore University Health System\",\"Northwest Community Hospital\",\"Northwestern Medicine\",\"Norton Healthcare\",\"Novant Health\",\"NOVO Health\",\"NYC Health + Hospitals\",\"NYU Langone Medical Center\",\"OB/GYN Associates of Waco - Dr. Rister, Dr. Koeritz\",\"OCHIN\",\"Ochsner Health System\",\"OhioHealth\",\"Olmsted Medical Center\",\"One Brooklyn Health System\",\"Optum ProHEALTH\",\"Oregon Health & Science University\",\"Orlando Health\",\"OrthoCarolina\",\"OrthoVirginia\",\"OSF HealthCare\",\"Our Lady of the Angels\",\"Overlake Hospital Medical Center\",\"Owensboro Health\",\"Pacific Dental Services\",\"Palos Health\",\"Parkland\",\"Parkview Health\",\"PeaceHealth\",\"Pediatric Physicians Organization at Children's\",\"Penn Medicine\",\"Phelps Health\",\"Piedmont Healthcare\",\"Pine Rest Christian Mental Health Services\",\"Planned Parenthood\",\"Premier Health\",\"Presbyterian Healthcare Services\",\"Presence Health\",\"Prime Healthcare\",\"Prisma Health\",\"Prohealth Care\",\"ProMedica Health System\",\"Providence Health & Services - Alaska\",\"Providence Health & Services - Oregon/California\",\"Providence Health & Services - Washington/Montana\",\"QuadMed\",\"Rady Children's\",\"Reid Health\",\"Reliant Medical Group\",\"Renown, Barton, CVMC\",\"River Valley\",\"Riverside Health System (Newport News, VA)\",\"Riverside Medical Center\",\"Riverside Medical Clinic\",\"Riverview Health\",\"Rochester Regional Health\",\"Rush University Medical Center\",\"RWJBarnabas Health\",\"Saint Francis Health System\",\"Saint Francis Healthcare System\",\"Saint Luke's Health System\",\"Salem Health\",\"Salinas Valley Memorial Healthcare Systems\",\"Samaritan Health Services\",\"San Francisco Department of Public Health\",\"Sanford Health\",\"Sansum Clinic\",\"Santa Clara Valley Medical Center Hospitals and Clinics\",\"SCL Health\",\"Scotland Health Care System\",\"Scripps Health\",\"Seattle Children's Hospital\",\"Select Medical\",\"Self Regional Healthcare\",\"Sentara Healthcare\",\"Shannon Health\",\"Singing River Health System\",\"Skagit Regional Health\",\"SolutionHealth\",\"South Georgia Medical Center\",\"South Shore Health System\",\"Southcoast Health\",\"Southeast Health\",\"Southeastern Health\",\"Southern Illinois Healthcare\",\"Sparrow Health System\",\"Spartanburg Regional Healthcare System\",\"Spectrum Health\",\"SSM Health\",\"St. Charles Health System\",\"St. Elizabeth Healthcare\",\"St. Joseph Hospital Health Center\",\"St. Luke’s Health System (Idaho & Eastern Oregon)\",\"St. Luke's Hospital (North Carolina)\",\"St. Luke's University Health Network\",\"Stanford Children's Health\",\"Stanford Health Care\",\"Stormont Vail Health\",\"Summit Health\",\"SUNY Upstate Medical University\",\"Sutter Health\",\"Tahoe Forest Health System\",\"Tampa General Hospital\",\"Tanner Health System\",\"TempleHealth\",\"Texas Children's Hospital\",\"Texas Health Resources\",\"The Brooklyn Hospital Center\",\"The Christ Hospital\",\"The Everett Clinic\",\"The Guthrie Clinic\",\"The Ohio State University Wexner Medical Center\",\"The Portland Clinic\",\"The Queen's Health Systems\",\"The University of Texas Health Science Center at Houston\",\"The University of Texas MD Anderson Cancer Center\",\"The Vancouver Clinic\",\"ThedaCare\",\"TidalHealth\",\"TMC HealthCare\",\"Tower Health\",\"TriHealth\",\"Trinity Health\",\"Trinity Health Of New England\",\"Trinity Health Of New England Medical Group Springfield\",\"Truckee Tahoe Medical Group\",\"UC Davis Health\",\"UC Health\",\"UChicago Medicine\",\"UCLA Medical Center\",\"UConn Health\",\"UCSF Benioff Children's Hospital\",\"UCSF Health\",\"UF Health\",\"UHS San Antonio\",\"UI Health\",\"UMass Memorial Health Care\",\"UMC Southern Nevada\",\"UNC Health Care\",\"United Health Services New York (NYUHS)\",\"United Regional Health Care System\",\"UnityPoint Health\",\"University Health Care System\",\"University Hospital (New Jersey)\",\"University of Arkansas for Medical Sciences\",\"University of California Irvine\",\"University of California San Diego\",\"University of Colorado Health\",\"University of Iowa Health Care\",\"University of Kansas Health System\",\"University of Louisville Physicians\",\"University of Maryland Medical System\",\"University of Miami (UHealth)\",\"University of Mississippi Medical Center\",\"University of Pittsburgh Medical Center (UPMC)\",\"University of Rochester Medical Center\",\"University of Texas Medical Branch\",\"University of Texas Southwestern Medical Center\",\"University of Utah Healthcare\",\"University of Vermont Medical Center\",\"UPMC Pinnacle\",\"UT Health San Antonio\",\"UVA Health System\",\"UW Health And Affiliates - Wisconsin\",\"UW Medicine (Washington)\",\"Valley Children's Healthcare\",\"Valley Medical Center\",\"Valleywise Health\",\"Vanderbilt\",\"VCU Health\",\"Vidant Health\",\"Virginia Hospital Center\",\"Virtua Health\",\"WakeMed Health and Hospitals\",\"Washington Hospital Healthcare System\",\"Watson Clinic\",\"Weill Cornell Medicine\",\"WellSpan Health\",\"WellStar\",\"West Tennessee Healthcare\",\"West Virginia University Medicine\",\"Western Michigan University School of Medicine\",\"Yakima Valley Farm Workers Clinic\",\"Yale New Haven Health System\",\"Yuma Regional Medical Center\",\"Access Community Health Network\",\"Adult & Pediatric Ear, Nose & Throat – Kalamazoo\",\"AdvantageCare Physicians\",\"Adventist Health West\",\"Akron Children's Hospital\",\"Alameda Health System\",\"Allegheny Health Network\",\"Allina Health System\",\"AltaMed\",\"Altru Health System\",\"AnMed Health\",\"Ann & Robert H. Lurie Children's Hospital of Chicago\",\"Ardent\",\"Arizona Community Physicians\",\"Arkansas Children's\",\"Arrowhead Regional Medical Center\",\"Asante Health Systems\",\"Aspirus\",\"Atlantic Health\",\"Atrium Health\",\"Atrium Health Wake Forest Baptist\",\"Atrius Health\",\"Austin Regional Clinic\",\"Baptist Health – KY & IN\",\"Baptist Health (Arkansas)\",\"Baptist Memorial Health Care\",\"Bassett Healthcare\",\"Bayhealth Medical Center\",\"Baylor College of Medicine\",\"Baylor Scott & White\",\"Beaumont Health\",\"Bellin Health\",\"BJC & Washington University\",\"Bon Secours Health System\",\"Boston Medical Center\",\"Boulder Community Health\",\"Bronson Healthcare Group\",\"Brown & Toland Physicians\",\"Bryan Health\",\"Buffalo Medical Group\",\"Cape Fear Valley Health\",\"Care New England\",\"Carilion Clinic\",\"Carle Foundation Hospital & Physician Group\",\"Caromont Health\",\"Catholic Health (Long Island NY)\",\"Catholic Health System (Buffalo)\",\"Cedars-Sinai Health System\",\"CentraCare Health and Affiliates\",\"Charlotte Eye Ear Nose & Throat Associates\",\"Chesapeake Regional Medical Center\",\"Cheyenne Regional Medical Center\",\"Children's Health System of Texas\",\"Children's Hospital and Medical Center, Omaha Nebraska\",\"Children's Hospital Colorado\",\"Children's Hospital of Philadelphia\",\"Children's Wisconsin\",\"Childrens's Healthcare of Atlanta\",\"Cigna Medical Group\",\"Cincinnati Children's Hospital Medical Center\",\"City of Hope\",\"Columbia Physicians\",\"Columbus Regional Health\",\"Community Healthcare System\",\"Community Medical Centers\",\"Cone Health\",\"Conemaugh Health System\",\"Confluence Health\",\"Connecticut Children's Medical Center\",\"Contra Costa\",\"Cook Children’s Health Care System\",\"Cooper University Health Care\",\"Cottage Health\",\"Covenant Health\",\"DaVita Physician Solutions\",\"Dayton Children's Hospital\",\"Deaconess Health System - PRD\",\"Denver Health\",\"Driscoll Children's Hospital\",\"Duke Health\",\"Duly Health and Care\",\"East Boston Neighborhood Health Center\",\"Edward-Elmhurst Healthcare\",\"Eisenhower Medical Center\",\"El Camino Hospital\",\"El Rio Health\",\"Englewood Hospital and Medical Center\",\"Erlanger Health System\",\"Eskenazi Health\",\"Evernorth\",\"Fairview Health Services\",\"Family Health Center (Michigan)\",\"FastMed\",\"FirstHealth of the Carolinas\",\"Franciscan Alliance\",\"Franciscan Missionaries of Our Lady Health System\",\"Fresenius Medical Care North America\",\"Froedtert Health\",\"Garnet Health\",\"Geisinger\",\"Genesis Healthcare System\",\"George Washington University Medical Faculty Associates\",\"Golden Valley Health Centers\",\"Grady Health System\",\"Greater Baltimore Medical Center\",\"Group Health Cooperative - South Central Wisconsin\",\"Gundersen Health System\",\"Hackensack Meridian Health\",\"Hartford HealthCare\",\"Hattiesburg Clinic and Forrest General Hospital\",\"Hawaii Pacific Health - PRD\",\"HCA Central and West Texas\",\"HCA Mountain\",\"HCA South Atlantic\",\"HealthPartners\",\"Hendricks Regional Health\",\"Hennepin Healthcare\",\"Henry Ford Health System\",\"Hill Physicians\",\"Hoag Memorial Hospital Presbyterian\",\"HonorHealth\",\"Hospital for Special Surgery\",\"Hospital Sisters Health System (HSHS)\",\"Houston Methodist\",\"Hurley Medical Center\",\"Illinois Bone & Joint Institute\",\"Infirmary Health\",\"Inova and Valley Health\",\"Institute for Family Health\",\"INTEGRIS Health\",\"Jefferson Health\",\"John Muir Health\",\"Johns Hopkins Medicine\",\"Kaiser Permanente - California - Northern\",\"Kaiser Permanente - California - Southern\",\"Kaiser Permanente - Colorado\",\"Kaiser Permanente – Georgia\",\"Kaiser Permanente - Maryland/Virginia/Washington D.C.\",\"Kaiser Permanente – Oregon – SW Washington\",\"Kaiser Permanente - Washington\",\"Kaiser Permanente Hawaii / Maui Health System\",\"Kalamazoo College Student Health Center\",\"Kalamazoo Foot Surgery\",\"Kelsey-Seybold Clinic\",\"Kennedy Krieger Institute\",\"Kettering Health Network\",\"King's Daughters Medical Center\",\"Lacy C Kessler, MD, PA\",\"Lahey Health System\",\"Lancaster General Health\",\"LCMC Health\",\"Lee Health\",\"Lehigh Valley Health Network\",\"Leon Medical Centers\",\"Licking Memorial Health Systems\",\"Lifespan\",\"Loma Linda University Health and CareConnect Partners\",\"Loyola Medicine\",\"Luminis Health\",\"Main Line Health\",\"MaineHealth\",\"Mary Greeley Medical Center (Iowa)\",\"Mary Washington Healthcare\",\"Mayo Clinic\",\"McFarland Clinic (Iowa)\",\"Medical University of South Carolina\",\"MediSys Health Network\",\"Memorial Healthcare System\",\"Memorial Hospital and Health Care Center\",\"MemorialCare\",\"Mercy Health - OH, KY\",\"Mercy Health System - WI\",\"Mercy Medical Center\",\"Meritus\",\"Methodist Hospitals - PRD\",\"Metro Health - Michigan\",\"MetroHealth - OH\",\"Michigan Medicine\",\"MidMichigan Health\",\"Mohawk Valley Health System\",\"Molina Healthcare\",\"Montage Health\",\"Montefiore Medical Center\",\"Monument Health\",\"Mount Auburn Hospital\",\"Mount Sinai Health System\",\"Mount Sinai Medical Center\",\"Nebraska Medicine\",\"Nemours\",\"Nephrology Center - Southwest Michigan\",\"New Hanover Regional Medical Center\",\"New Jersey Urology\",\"New York-Presbyterian\",\"North Memorial Health\",\"North Mississippi Health Services\",\"Northeast Georgia Health System\",\"NorthShore University Health System\",\"Northwest Community Hospital\",\"Norton Healthcare\",\"Novant Health\",\"NOVO Health\",\"NYC Health + Hospitals\",\"NYU Langone Medical Center\",\"OB/GYN Associates of Waco - Dr. Rister, Dr. Koeritz\",\"OCHIN\",\"Ochsner Health System\",\"OhioHealth\",\"Olmsted Medical Center\",\"One Brooklyn Health System\",\"OptumCare East\",\"Oregon Health & Science University\",\"Orlando Health\",\"OrthoCarolina\",\"OrthoVirginia\",\"OSF HealthCare\",\"Overlake Hospital Medical Center\",\"Owensboro Health\",\"Pacific Dental Services\",\"Palos Health\",\"Parkland\",\"Parkview Health\",\"PeaceHealth\",\"Penn Medicine\",\"Phelps Health\",\"Piedmont Healthcare\",\"Pine Rest Christian Mental Health Services\",\"Planned Parenthood\",\"Premier Health\",\"Presbyterian Healthcare Services\",\"Prisma Health\",\"ProMedica Health System\",\"Providence Health & Services - Alaska\",\"Providence Health & Services - Oregon/California\",\"Providence Health & Services - Washington/Montana\",\"QuadMed\",\"Rady Children's\",\"Reid Health\",\"Reliant Medical Group\",\"Renown, Barton, CVMC\",\"Riverside Health System (Newport News, VA)\",\"Riverside Medical Center\",\"Riverside Medical Clinic\",\"Rochester Regional Health\",\"Rush University Medical Center\",\"RWJBarnabas Health\",\"Saint Francis Health System\",\"Saint Francis Healthcare System (Manual)\",\"Salem Health\",\"Salinas Valley Memorial Healthcare Systems\",\"Samaritan Health Services\",\"San Francisco Department of Public Health\",\"Sanford Health\",\"Sansum Clinic\",\"Santa Clara Valley Medical Center Hospitals and Clinics\",\"SCL Health\",\"Scotland Health Care System\",\"Scripps Health\",\"Seattle Children's Hospital\",\"Select Medical\",\"Self Regional Healthcare\",\"Sentara Healthcare\",\"Shannon Health\",\"Singing River Health System - PRD\",\"Skagit Regional Health\",\"SolutionHealth\",\"South Georgia Medical Center\",\"South Shore Health System\",\"Southeast Health\",\"Southeastern Health\",\"Southern Illinois Healthcare\",\"Spartanburg Regional Health Systems\",\"Spectrum Health\",\"SSM Health\",\"St. Elizabeth Healthcare\",\"St. Joseph Hospital Health Center\",\"St. Luke’s Health System (Idaho & Eastern Oregon)\",\"St. Luke's Hospital (North Carolina)\",\"Stanford Children's Health\",\"Stanford Health Care\",\"Stormont Vail Health\",\"Summit Health\",\"Sutter Health\",\"Tampa General Hospital\",\"Tanner Health System\",\"TempleHealth\",\"Texas Children's\",\"Texas Health Resources\",\"The Brooklyn Hospital Center\",\"The Christ Hospital\",\"The Everett Clinic\",\"The Guthrie Clinic\",\"The Ohio State University Wexner Medical Center\",\"The Portland Clinic\",\"The Queen's Health Systems\",\"The University of Texas Health Science Center at Houston\",\"The University of Texas MD Anderson Cancer Center\",\"ThedaCare\",\"TidalHealth\",\"TMC HealthCare\",\"TriHealth\",\"Trinity Health\",\"Trinity Health of New England\",\"Trinity Health of New England Medical Group Springfield\",\"UC Davis\",\"UC Davis - MMC\",\"UC Health\",\"UChicago Medicine\",\"UCLA Medical Center\",\"UConn Health\",\"UCSF Benioff Children's Hospital\",\"UCSF Health\",\"UF Health\",\"UHS San Antonio\",\"UI Health\",\"UMass Memorial Health Care\",\"UMC Southern Nevada\",\"UNC Health Care\",\"United Health Services New York (NYUHS)\",\"United Regional Health Care System\",\"UnityPoint Health\",\"University Health Care System\",\"University Hospital (New Jersey)\",\"University of Arkansas for Medical Sciences\",\"University of California Irvine\",\"University of California San Diego\",\"University of Iowa Health Care\",\"University of Kansas Health System\",\"University of Louisville Physicians\",\"University of Maryland Medical System\",\"University of Mississippi Medical Center\",\"University of Pittsburgh Medical Center (UPMC)\",\"University of Rochester Medical Center - PRD\",\"University of Texas Medical Branch\",\"University of Texas Southwestern Medical Center\",\"University of Utah Healthcare\",\"University of Vermont Medical Center\",\"UPMC Central PA\",\"UVA Health System\",\"UW Medicine (Washington)\",\"Valley Children's Healthcare\",\"Valleywise Health\",\"Vanderbilt\",\"VCU Health\",\"Virginia Hospital Center\",\"Virtua Health\",\"WakeMed Health and Hospitals\",\"Washington Hospital Healthcare System\",\"Watson Clinic\",\"Weill Cornell Medicine\",\"WellSpan Health\",\"WellStar\",\"West Tennessee Healthcare\",\"West Virginia University Medicine\",\"Western Michigan University School of Medicine\",\"Yakima Valley Farm Workers Clinic\",\"Yale New Haven Health System\",\"Yuma Regional Medical Center\"]\n",
    "print(len(listEndpoints))\n",
    "setEndpoints = set(listEndpoints)\n",
    "print(len(setEndpoints))"
   ]
  }
 ],
 "metadata": {
  "kernelspec": {
   "display_name": "Python 3",
   "language": "python",
   "name": "python3"
  },
  "language_info": {
   "codemirror_mode": {
    "name": "ipython",
    "version": 3
   },
   "file_extension": ".py",
   "mimetype": "text/x-python",
   "name": "python",
   "nbconvert_exporter": "python",
   "pygments_lexer": "ipython3",
   "version": "3.9.4"
  }
 },
 "nbformat": 4,
 "nbformat_minor": 5
}
