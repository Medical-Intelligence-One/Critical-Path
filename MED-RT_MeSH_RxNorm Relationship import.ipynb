{
 "cells": [
  {
   "cell_type": "markdown",
   "id": "8903e350",
   "metadata": {},
   "source": [
    "###  It is required to import UMLS model into Neo4J before proceeding with the code"
   ]
  },
  {
   "cell_type": "markdown",
   "id": "f45ddda9",
   "metadata": {},
   "source": [
    "You can refer to the Github code to import UMLS data into Neo4J :  \n",
    "\n",
    "https://github.com/MIS-GrApH-AI/Public/blob/main/Data_import/UMLS_2020AB.ipynb"
   ]
  },
  {
   "cell_type": "markdown",
   "id": "736f62f0",
   "metadata": {},
   "source": [
    "# Importing MED-RT into UMLS model"
   ]
  },
  {
   "cell_type": "markdown",
   "id": "629d4a46",
   "metadata": {},
   "source": [
    "To download the MED-RT data visit the link -  https://evs.nci.nih.gov/ftp1/MED-RT/\n",
    "\n",
    "For our code we are using the XML.zip files. \n",
    "\n",
    "MED-RT documentation can be read from here - https://evs.nci.nih.gov/ftp1/MED-RT/MED-RT%20Documentation.pdf"
   ]
  },
  {
   "cell_type": "markdown",
   "id": "843c3f28",
   "metadata": {},
   "source": [
    "###  Refer to the procedure to get Association.csv"
   ]
  },
  {
   "cell_type": "markdown",
   "id": "5fe15cd4",
   "metadata": {},
   "source": [
    "Use the following codes in your Neo4J browser : (You must change the file retrieve location according to where you have stored the MED-RT XML file)\n",
    "\n",
    "\n"
   ]
  },
  {
   "cell_type": "markdown",
   "id": "a34a0419",
   "metadata": {},
   "source": [
    "Code 1:\n",
    "\n",
    "WITH \"CALL apoc.load.xml(\\\"file:///C:\\\\Users\\\\pc\\\\Desktop\\\\C-BIA\\\\Healthcare\\\\MED-RT\\\\Database\\\\Core_MEDRT_XML\\\\Parts\\\\Core_MEDRT_2021.07.06_XML.xml\\\" , '/terminology/association') YIELD value as association WITH [attr IN association._children WHERE attr._type IN ['namespace','name','from_namespace','from_name','from_code','to_namespace','to_name','to_code'] | attr._text] as pairs, [item in association._children WHERE item._type = \\\"qualifier\\\"] AS q1 RETURN pairs[0] as namespace, pairs[1] as name, pairs[2] as from_namespace, pairs[3] as from_name, pairs[4] as from_code, pairs[5] as to_namespace, pairs[6] as to_name, pairs[7] as to_code, q1[0]._children[0]._text as qualifier0_namespace, q1[0]._children[1]._text as qualifier0_name, q1[0]._children[2]._text as qualifier0_value, q1[1]._children[0]._text as qualifier1_namespace, q1[1]._children[1]._text as qualifier1_name, q1[1]._children[2]._text as qualifier1_value; \" as query\n",
    "CALL apoc.export.csv.query(query, \"association.csv\", {})\n",
    "YIELD file, source, format, nodes, relationships, properties, time, rows, batchSize, batches, done, data\n",
    "RETURN file, source, format, nodes, relationships, properties, time, rows, batchSize, batches, done, data;"
   ]
  },
  {
   "cell_type": "markdown",
   "id": "9b0dd5df",
   "metadata": {},
   "source": [
    "Once this action is performed, \"association.csv\" will be created in your Neo4J dbms folder.\n",
    "\n",
    "It is recommended to move this file to another easily accessible location since we will be referencing it in the upcoming code "
   ]
  },
  {
   "cell_type": "markdown",
   "id": "4e4ddfd5",
   "metadata": {},
   "source": [
    "Similar actions must be performed for Code 2 given below"
   ]
  },
  {
   "cell_type": "markdown",
   "id": "90179702",
   "metadata": {},
   "source": [
    "Code 2:\n",
    "\n",
    "WITH \"CALL apoc.load.xml(\\\"file:///C:\\\\Users\\\\pc\\\\Desktop\\\\C-BIA\\\\Healthcare\\\\MED-RT\\\\Database\\\\Core_MEDRT_XML\\\\Parts\\\\Core_MEDRT_2021.07.06_XML.xml\\\" , '/terminology/namespace') YIELD value as namespace WITH  [attr IN namespace._children WHERE attr._type IN ['name','code','version','authority'] | attr._text] as pairs RETURN  pairs[0] as name, pairs[1] as code, pairs[2] as version, pairs[3] as authority;\" as query\n",
    "CALL apoc.export.csv.query(query, \"namespace.csv\", {})\n",
    "YIELD file, source, format, nodes, relationships, properties, time, rows, batchSize, batches, done, data\n",
    "RETURN file, source, format, nodes, relationships, properties, time, rows, batchSize, batches, done, data;\n"
   ]
  },
  {
   "cell_type": "markdown",
   "id": "868762d3",
   "metadata": {},
   "source": [
    "The name of the csv file produced is \"namespace.csv\""
   ]
  },
  {
   "cell_type": "markdown",
   "id": "02a4f530",
   "metadata": {},
   "source": [
    "  "
   ]
  },
  {
   "cell_type": "code",
   "execution_count": 66,
   "id": "131539f3",
   "metadata": {},
   "outputs": [],
   "source": [
    "import pandas as pd"
   ]
  },
  {
   "cell_type": "code",
   "execution_count": 67,
   "id": "53fcda76",
   "metadata": {},
   "outputs": [],
   "source": [
    "import numpy as np"
   ]
  },
  {
   "cell_type": "code",
   "execution_count": 68,
   "id": "7cd7fa8d",
   "metadata": {},
   "outputs": [
    {
     "name": "stderr",
     "output_type": "stream",
     "text": [
      "C:\\Users\\pc\\anaconda3\\lib\\site-packages\\IPython\\core\\interactiveshell.py:3165: DtypeWarning: Columns (9,10) have mixed types.Specify dtype option on import or set low_memory=False.\n",
      "  has_raised = await self.run_ast_nodes(code_ast.body, cell_name,\n"
     ]
    },
    {
     "data": {
      "text/html": [
       "<div>\n",
       "<style scoped>\n",
       "    .dataframe tbody tr th:only-of-type {\n",
       "        vertical-align: middle;\n",
       "    }\n",
       "\n",
       "    .dataframe tbody tr th {\n",
       "        vertical-align: top;\n",
       "    }\n",
       "\n",
       "    .dataframe thead th {\n",
       "        text-align: right;\n",
       "    }\n",
       "</style>\n",
       "<table border=\"1\" class=\"dataframe\">\n",
       "  <thead>\n",
       "    <tr style=\"text-align: right;\">\n",
       "      <th></th>\n",
       "      <th>0</th>\n",
       "      <th>1</th>\n",
       "      <th>2</th>\n",
       "      <th>3</th>\n",
       "      <th>4</th>\n",
       "      <th>5</th>\n",
       "      <th>6</th>\n",
       "      <th>7</th>\n",
       "      <th>8</th>\n",
       "      <th>9</th>\n",
       "      <th>10</th>\n",
       "      <th>11</th>\n",
       "      <th>12</th>\n",
       "      <th>13</th>\n",
       "      <th>14</th>\n",
       "      <th>15</th>\n",
       "      <th>16</th>\n",
       "      <th>17</th>\n",
       "      <th>18</th>\n",
       "    </tr>\n",
       "  </thead>\n",
       "  <tbody>\n",
       "    <tr>\n",
       "      <th>0</th>\n",
       "      <td>C0000005</td>\n",
       "      <td>ENG</td>\n",
       "      <td>P</td>\n",
       "      <td>L0000005</td>\n",
       "      <td>PF</td>\n",
       "      <td>S0007492</td>\n",
       "      <td>Y</td>\n",
       "      <td>A26634265</td>\n",
       "      <td>NaN</td>\n",
       "      <td>M0019694</td>\n",
       "      <td>D012711</td>\n",
       "      <td>MSH</td>\n",
       "      <td>PEP</td>\n",
       "      <td>D012711</td>\n",
       "      <td>(131)I-Macroaggregated Albumin</td>\n",
       "      <td>0</td>\n",
       "      <td>N</td>\n",
       "      <td>256.0</td>\n",
       "      <td>NaN</td>\n",
       "    </tr>\n",
       "    <tr>\n",
       "      <th>1</th>\n",
       "      <td>C0000005</td>\n",
       "      <td>ENG</td>\n",
       "      <td>S</td>\n",
       "      <td>L0270109</td>\n",
       "      <td>PF</td>\n",
       "      <td>S0007491</td>\n",
       "      <td>Y</td>\n",
       "      <td>A26634266</td>\n",
       "      <td>NaN</td>\n",
       "      <td>M0019694</td>\n",
       "      <td>D012711</td>\n",
       "      <td>MSH</td>\n",
       "      <td>ET</td>\n",
       "      <td>D012711</td>\n",
       "      <td>(131)I-MAA</td>\n",
       "      <td>0</td>\n",
       "      <td>N</td>\n",
       "      <td>256.0</td>\n",
       "      <td>NaN</td>\n",
       "    </tr>\n",
       "    <tr>\n",
       "      <th>2</th>\n",
       "      <td>C0000039</td>\n",
       "      <td>ENG</td>\n",
       "      <td>P</td>\n",
       "      <td>L0000039</td>\n",
       "      <td>PF</td>\n",
       "      <td>S17175117</td>\n",
       "      <td>N</td>\n",
       "      <td>A28315139</td>\n",
       "      <td>9194921.0</td>\n",
       "      <td>1926948</td>\n",
       "      <td>NaN</td>\n",
       "      <td>RXNORM</td>\n",
       "      <td>IN</td>\n",
       "      <td>1926948</td>\n",
       "      <td>1,2-dipalmitoylphosphatidylcholine</td>\n",
       "      <td>0</td>\n",
       "      <td>N</td>\n",
       "      <td>256.0</td>\n",
       "      <td>NaN</td>\n",
       "    </tr>\n",
       "    <tr>\n",
       "      <th>3</th>\n",
       "      <td>C0000039</td>\n",
       "      <td>ENG</td>\n",
       "      <td>P</td>\n",
       "      <td>L0000039</td>\n",
       "      <td>PF</td>\n",
       "      <td>S17175117</td>\n",
       "      <td>Y</td>\n",
       "      <td>A28572604</td>\n",
       "      <td>NaN</td>\n",
       "      <td>NaN</td>\n",
       "      <td>NaN</td>\n",
       "      <td>MTH</td>\n",
       "      <td>PN</td>\n",
       "      <td>NOCODE</td>\n",
       "      <td>1,2-dipalmitoylphosphatidylcholine</td>\n",
       "      <td>0</td>\n",
       "      <td>N</td>\n",
       "      <td>256.0</td>\n",
       "      <td>NaN</td>\n",
       "    </tr>\n",
       "    <tr>\n",
       "      <th>4</th>\n",
       "      <td>C0000039</td>\n",
       "      <td>ENG</td>\n",
       "      <td>P</td>\n",
       "      <td>L0000039</td>\n",
       "      <td>VC</td>\n",
       "      <td>S0007564</td>\n",
       "      <td>Y</td>\n",
       "      <td>A0016515</td>\n",
       "      <td>NaN</td>\n",
       "      <td>M0023172</td>\n",
       "      <td>D015060</td>\n",
       "      <td>MSH</td>\n",
       "      <td>MH</td>\n",
       "      <td>D015060</td>\n",
       "      <td>1,2-Dipalmitoylphosphatidylcholine</td>\n",
       "      <td>0</td>\n",
       "      <td>N</td>\n",
       "      <td>NaN</td>\n",
       "      <td>NaN</td>\n",
       "    </tr>\n",
       "  </tbody>\n",
       "</table>\n",
       "</div>"
      ],
      "text/plain": [
       "         0    1  2         3   4          5  6          7          8   \\\n",
       "0  C0000005  ENG  P  L0000005  PF   S0007492  Y  A26634265        NaN   \n",
       "1  C0000005  ENG  S  L0270109  PF   S0007491  Y  A26634266        NaN   \n",
       "2  C0000039  ENG  P  L0000039  PF  S17175117  N  A28315139  9194921.0   \n",
       "3  C0000039  ENG  P  L0000039  PF  S17175117  Y  A28572604        NaN   \n",
       "4  C0000039  ENG  P  L0000039  VC   S0007564  Y   A0016515        NaN   \n",
       "\n",
       "         9        10      11   12       13  \\\n",
       "0  M0019694  D012711     MSH  PEP  D012711   \n",
       "1  M0019694  D012711     MSH   ET  D012711   \n",
       "2   1926948      NaN  RXNORM   IN  1926948   \n",
       "3       NaN      NaN     MTH   PN   NOCODE   \n",
       "4  M0023172  D015060     MSH   MH  D015060   \n",
       "\n",
       "                                   14  15 16     17  18  \n",
       "0      (131)I-Macroaggregated Albumin   0  N  256.0 NaN  \n",
       "1                          (131)I-MAA   0  N  256.0 NaN  \n",
       "2  1,2-dipalmitoylphosphatidylcholine   0  N  256.0 NaN  \n",
       "3  1,2-dipalmitoylphosphatidylcholine   0  N  256.0 NaN  \n",
       "4  1,2-Dipalmitoylphosphatidylcholine   0  N    NaN NaN  "
      ]
     },
     "execution_count": 68,
     "metadata": {},
     "output_type": "execute_result"
    }
   ],
   "source": [
    "# Load MRCONSO.RRF into a dataframe\n",
    "mrconso = pd.read_csv('C:/Users/pc/Desktop/C-BIA/Healthcare/UMLS/UMLS_Data/2021AA/META/MRCONSO.RRF', sep='|', header=None, encoding='utf-8')\n",
    "mrconso[:5]"
   ]
  },
  {
   "cell_type": "code",
   "execution_count": 69,
   "id": "9e00802b",
   "metadata": {},
   "outputs": [],
   "source": [
    "mrconso.columns = ['CUI', 'LAT', 'TS', 'LUI', 'STT', 'SUI', 'ISPREF', 'AUI', 'SAUI', 'SCUI', 'SDUI', 'SAB', 'TTY', 'CODE', 'STR', 'SRL', 'SUPPRESS', 'CVF', '']"
   ]
  },
  {
   "cell_type": "code",
   "execution_count": 70,
   "id": "65b577d0",
   "metadata": {},
   "outputs": [],
   "source": [
    "mrconso.drop(labels=['SUPPRESS', 'CODE', 'CVF','SAUI','SDUI', ''], axis=1, inplace=True)"
   ]
  },
  {
   "cell_type": "code",
   "execution_count": 71,
   "id": "f935809a",
   "metadata": {},
   "outputs": [
    {
     "name": "stdout",
     "output_type": "stream",
     "text": [
      "<class 'pandas.core.frame.DataFrame'>\n",
      "RangeIndex: 12139019 entries, 0 to 12139018\n",
      "Data columns (total 13 columns):\n",
      " #   Column  Dtype \n",
      "---  ------  ----- \n",
      " 0   CUI     object\n",
      " 1   LAT     object\n",
      " 2   TS      object\n",
      " 3   LUI     object\n",
      " 4   STT     object\n",
      " 5   SUI     object\n",
      " 6   ISPREF  object\n",
      " 7   AUI     object\n",
      " 8   SCUI    object\n",
      " 9   SAB     object\n",
      " 10  TTY     object\n",
      " 11  STR     object\n",
      " 12  SRL     int64 \n",
      "dtypes: int64(1), object(12)\n",
      "memory usage: 1.2+ GB\n"
     ]
    }
   ],
   "source": [
    "mrconso.info()"
   ]
  },
  {
   "cell_type": "code",
   "execution_count": 72,
   "id": "a2faae82",
   "metadata": {},
   "outputs": [
    {
     "data": {
      "text/html": [
       "<div>\n",
       "<style scoped>\n",
       "    .dataframe tbody tr th:only-of-type {\n",
       "        vertical-align: middle;\n",
       "    }\n",
       "\n",
       "    .dataframe tbody tr th {\n",
       "        vertical-align: top;\n",
       "    }\n",
       "\n",
       "    .dataframe thead th {\n",
       "        text-align: right;\n",
       "    }\n",
       "</style>\n",
       "<table border=\"1\" class=\"dataframe\">\n",
       "  <thead>\n",
       "    <tr style=\"text-align: right;\">\n",
       "      <th></th>\n",
       "      <th>CUI</th>\n",
       "      <th>LAT</th>\n",
       "      <th>TS</th>\n",
       "      <th>LUI</th>\n",
       "      <th>STT</th>\n",
       "      <th>SUI</th>\n",
       "      <th>ISPREF</th>\n",
       "      <th>AUI</th>\n",
       "      <th>SCUI</th>\n",
       "      <th>SAB</th>\n",
       "      <th>TTY</th>\n",
       "      <th>STR</th>\n",
       "      <th>SRL</th>\n",
       "    </tr>\n",
       "  </thead>\n",
       "  <tbody>\n",
       "    <tr>\n",
       "      <th>0</th>\n",
       "      <td>C0000005</td>\n",
       "      <td>ENG</td>\n",
       "      <td>P</td>\n",
       "      <td>L0000005</td>\n",
       "      <td>PF</td>\n",
       "      <td>S0007492</td>\n",
       "      <td>Y</td>\n",
       "      <td>A26634265</td>\n",
       "      <td>M0019694</td>\n",
       "      <td>MSH</td>\n",
       "      <td>PEP</td>\n",
       "      <td>(131)I-Macroaggregated Albumin</td>\n",
       "      <td>0</td>\n",
       "    </tr>\n",
       "    <tr>\n",
       "      <th>1</th>\n",
       "      <td>C0000005</td>\n",
       "      <td>ENG</td>\n",
       "      <td>S</td>\n",
       "      <td>L0270109</td>\n",
       "      <td>PF</td>\n",
       "      <td>S0007491</td>\n",
       "      <td>Y</td>\n",
       "      <td>A26634266</td>\n",
       "      <td>M0019694</td>\n",
       "      <td>MSH</td>\n",
       "      <td>ET</td>\n",
       "      <td>(131)I-MAA</td>\n",
       "      <td>0</td>\n",
       "    </tr>\n",
       "    <tr>\n",
       "      <th>2</th>\n",
       "      <td>C0000039</td>\n",
       "      <td>ENG</td>\n",
       "      <td>P</td>\n",
       "      <td>L0000039</td>\n",
       "      <td>PF</td>\n",
       "      <td>S17175117</td>\n",
       "      <td>N</td>\n",
       "      <td>A28315139</td>\n",
       "      <td>1926948</td>\n",
       "      <td>RXNORM</td>\n",
       "      <td>IN</td>\n",
       "      <td>1,2-dipalmitoylphosphatidylcholine</td>\n",
       "      <td>0</td>\n",
       "    </tr>\n",
       "    <tr>\n",
       "      <th>3</th>\n",
       "      <td>C0000039</td>\n",
       "      <td>ENG</td>\n",
       "      <td>P</td>\n",
       "      <td>L0000039</td>\n",
       "      <td>PF</td>\n",
       "      <td>S17175117</td>\n",
       "      <td>Y</td>\n",
       "      <td>A28572604</td>\n",
       "      <td>NaN</td>\n",
       "      <td>MTH</td>\n",
       "      <td>PN</td>\n",
       "      <td>1,2-dipalmitoylphosphatidylcholine</td>\n",
       "      <td>0</td>\n",
       "    </tr>\n",
       "    <tr>\n",
       "      <th>4</th>\n",
       "      <td>C0000039</td>\n",
       "      <td>ENG</td>\n",
       "      <td>P</td>\n",
       "      <td>L0000039</td>\n",
       "      <td>VC</td>\n",
       "      <td>S0007564</td>\n",
       "      <td>Y</td>\n",
       "      <td>A0016515</td>\n",
       "      <td>M0023172</td>\n",
       "      <td>MSH</td>\n",
       "      <td>MH</td>\n",
       "      <td>1,2-Dipalmitoylphosphatidylcholine</td>\n",
       "      <td>0</td>\n",
       "    </tr>\n",
       "  </tbody>\n",
       "</table>\n",
       "</div>"
      ],
      "text/plain": [
       "        CUI  LAT TS       LUI STT        SUI ISPREF        AUI      SCUI  \\\n",
       "0  C0000005  ENG  P  L0000005  PF   S0007492      Y  A26634265  M0019694   \n",
       "1  C0000005  ENG  S  L0270109  PF   S0007491      Y  A26634266  M0019694   \n",
       "2  C0000039  ENG  P  L0000039  PF  S17175117      N  A28315139   1926948   \n",
       "3  C0000039  ENG  P  L0000039  PF  S17175117      Y  A28572604       NaN   \n",
       "4  C0000039  ENG  P  L0000039  VC   S0007564      Y   A0016515  M0023172   \n",
       "\n",
       "      SAB  TTY                                 STR  SRL  \n",
       "0     MSH  PEP      (131)I-Macroaggregated Albumin    0  \n",
       "1     MSH   ET                          (131)I-MAA    0  \n",
       "2  RXNORM   IN  1,2-dipalmitoylphosphatidylcholine    0  \n",
       "3     MTH   PN  1,2-dipalmitoylphosphatidylcholine    0  \n",
       "4     MSH   MH  1,2-Dipalmitoylphosphatidylcholine    0  "
      ]
     },
     "execution_count": 72,
     "metadata": {},
     "output_type": "execute_result"
    }
   ],
   "source": [
    "mrconso[:5]"
   ]
  },
  {
   "cell_type": "markdown",
   "id": "88838975",
   "metadata": {},
   "source": [
    "### Testing Merge - MRCONSO on Association\n"
   ]
  },
  {
   "cell_type": "markdown",
   "id": "4bdc2755",
   "metadata": {},
   "source": [
    "#### We perform merging of the association file to  "
   ]
  },
  {
   "cell_type": "markdown",
   "id": "950e9620",
   "metadata": {},
   "source": [
    "The files \"association.csv\" and \"namespace.csv\" file locations must be referenced here "
   ]
  },
  {
   "cell_type": "code",
   "execution_count": 73,
   "id": "061b1ed3",
   "metadata": {},
   "outputs": [],
   "source": [
    "#Association file is used for merging MRCONSO (UMLS) with MED-RT data\n",
    "association = pd.read_csv(r'C:\\Users\\pc\\Desktop\\C-BIA\\Healthcare\\MED-RT\\XML - CSV\\association.csv')"
   ]
  },
  {
   "cell_type": "code",
   "execution_count": 74,
   "id": "3eee49f5",
   "metadata": {},
   "outputs": [],
   "source": [
    "#Version file is used for referencing the current MED-RT version into our UMLS model\n",
    "version = pd.read_csv(r'C:\\Users\\pc\\Desktop\\C-BIA\\Healthcare\\MED-RT\\XML - CSV\\namespace.csv')"
   ]
  },
  {
   "cell_type": "code",
   "execution_count": 75,
   "id": "827658ab",
   "metadata": {},
   "outputs": [],
   "source": [
    "association['from_namespace_rectified'] = association['from_namespace']\n",
    "association['to_namespace_rectified'] = association['to_namespace']"
   ]
  },
  {
   "cell_type": "code",
   "execution_count": 76,
   "id": "4a72b449",
   "metadata": {},
   "outputs": [],
   "source": [
    "association['from_namespace_rectified'] = association['from_namespace_rectified'].replace('RxNorm','RXNORM')\n",
    "association['from_namespace_rectified'] = association['from_namespace_rectified'].replace('MeSH','MSH')\n",
    "association['from_namespace_rectified'] = association['from_namespace_rectified'].replace('SNOMED CT','SNOMEDCT_US')"
   ]
  },
  {
   "cell_type": "code",
   "execution_count": 77,
   "id": "bd0a2492",
   "metadata": {},
   "outputs": [],
   "source": [
    "association['to_namespace_rectified'] = association['to_namespace_rectified'].replace('RxNorm','RXNORM')\n",
    "association['to_namespace_rectified'] = association['to_namespace_rectified'].replace('MeSH','MSH')\n",
    "association['to_namespace_rectified'] = association['to_namespace_rectified'].replace('SNOMED CT','SNOMEDCT_US')"
   ]
  },
  {
   "cell_type": "code",
   "execution_count": 78,
   "id": "dd30449c",
   "metadata": {},
   "outputs": [],
   "source": [
    "mrconsosub = mrconso[['SCUI','SAB','CUI']]"
   ]
  },
  {
   "cell_type": "code",
   "execution_count": 79,
   "id": "e9554b5c",
   "metadata": {},
   "outputs": [
    {
     "name": "stderr",
     "output_type": "stream",
     "text": [
      "<ipython-input-79-fd34af682f5c>:1: SettingWithCopyWarning: \n",
      "A value is trying to be set on a copy of a slice from a DataFrame\n",
      "\n",
      "See the caveats in the documentation: https://pandas.pydata.org/pandas-docs/stable/user_guide/indexing.html#returning-a-view-versus-a-copy\n",
      "  mrconsosub.drop_duplicates(subset=None, keep=\"first\", inplace=True)\n"
     ]
    }
   ],
   "source": [
    "mrconsosub.drop_duplicates(subset=None, keep=\"first\", inplace=True)"
   ]
  },
  {
   "cell_type": "code",
   "execution_count": 80,
   "id": "3d06b9c3",
   "metadata": {},
   "outputs": [],
   "source": [
    "mrconsosub.to_csv('mrconsosub.csv', index=False, header=1, encoding='utf-8')"
   ]
  },
  {
   "cell_type": "code",
   "execution_count": 81,
   "id": "7a4ab241",
   "metadata": {},
   "outputs": [],
   "source": [
    "asso_merge = pd.merge(association, mrconsosub, left_on=['from_code','from_namespace_rectified'] , right_on=['SCUI','SAB'],  how='left')"
   ]
  },
  {
   "cell_type": "code",
   "execution_count": 82,
   "id": "81057e78",
   "metadata": {},
   "outputs": [],
   "source": [
    "asso_merge['from_CUI'] = asso_merge['CUI']"
   ]
  },
  {
   "cell_type": "code",
   "execution_count": 83,
   "id": "93098c2d",
   "metadata": {},
   "outputs": [],
   "source": [
    "asso_merge['from_SAB'] = asso_merge['SAB']"
   ]
  },
  {
   "cell_type": "code",
   "execution_count": 84,
   "id": "ce3e0291",
   "metadata": {},
   "outputs": [],
   "source": [
    "asso_merge['from_SCUI'] = asso_merge['SCUI']"
   ]
  },
  {
   "cell_type": "code",
   "execution_count": 85,
   "id": "a925d516",
   "metadata": {},
   "outputs": [],
   "source": [
    "asso_merge.drop(labels=['SCUI','SAB','CUI'], axis=1, inplace=True)"
   ]
  },
  {
   "cell_type": "code",
   "execution_count": 86,
   "id": "63a4af35",
   "metadata": {},
   "outputs": [
    {
     "data": {
      "text/html": [
       "<div>\n",
       "<style scoped>\n",
       "    .dataframe tbody tr th:only-of-type {\n",
       "        vertical-align: middle;\n",
       "    }\n",
       "\n",
       "    .dataframe tbody tr th {\n",
       "        vertical-align: top;\n",
       "    }\n",
       "\n",
       "    .dataframe thead th {\n",
       "        text-align: right;\n",
       "    }\n",
       "</style>\n",
       "<table border=\"1\" class=\"dataframe\">\n",
       "  <thead>\n",
       "    <tr style=\"text-align: right;\">\n",
       "      <th></th>\n",
       "      <th>namespace</th>\n",
       "      <th>name</th>\n",
       "      <th>from_namespace</th>\n",
       "      <th>from_name</th>\n",
       "      <th>from_code</th>\n",
       "      <th>to_namespace</th>\n",
       "      <th>to_name</th>\n",
       "      <th>to_code</th>\n",
       "      <th>qualifier0_namespace</th>\n",
       "      <th>qualifier0_name</th>\n",
       "      <th>qualifier0_value</th>\n",
       "      <th>qualifier1_namespace</th>\n",
       "      <th>qualifier1_name</th>\n",
       "      <th>qualifier1_value</th>\n",
       "      <th>from_namespace_rectified</th>\n",
       "      <th>to_namespace_rectified</th>\n",
       "      <th>from_CUI</th>\n",
       "      <th>from_SAB</th>\n",
       "      <th>from_SCUI</th>\n",
       "    </tr>\n",
       "  </thead>\n",
       "  <tbody>\n",
       "    <tr>\n",
       "      <th>0</th>\n",
       "      <td>MED-RT</td>\n",
       "      <td>Parent Of</td>\n",
       "      <td>MED-RT</td>\n",
       "      <td>Cellular or Molecular Interactions [MoA]</td>\n",
       "      <td>N0000000223</td>\n",
       "      <td>MED-RT</td>\n",
       "      <td>Unknown Cellular or Molecular Interaction [MoA]</td>\n",
       "      <td>N0000009915</td>\n",
       "      <td>MED-RT</td>\n",
       "      <td>Authority</td>\n",
       "      <td>MEDRT</td>\n",
       "      <td>NaN</td>\n",
       "      <td>NaN</td>\n",
       "      <td>NaN</td>\n",
       "      <td>MED-RT</td>\n",
       "      <td>MED-RT</td>\n",
       "      <td>C1373094</td>\n",
       "      <td>MED-RT</td>\n",
       "      <td>N0000000223</td>\n",
       "    </tr>\n",
       "    <tr>\n",
       "      <th>1</th>\n",
       "      <td>MED-RT</td>\n",
       "      <td>Parent Of</td>\n",
       "      <td>MED-RT</td>\n",
       "      <td>Cellular or Molecular Interactions [MoA]</td>\n",
       "      <td>N0000000223</td>\n",
       "      <td>MED-RT</td>\n",
       "      <td>Immunologic and Biological Factor Interactions...</td>\n",
       "      <td>N0000000254</td>\n",
       "      <td>MED-RT</td>\n",
       "      <td>Authority</td>\n",
       "      <td>MEDRT</td>\n",
       "      <td>NaN</td>\n",
       "      <td>NaN</td>\n",
       "      <td>NaN</td>\n",
       "      <td>MED-RT</td>\n",
       "      <td>MED-RT</td>\n",
       "      <td>C1373094</td>\n",
       "      <td>MED-RT</td>\n",
       "      <td>N0000000223</td>\n",
       "    </tr>\n",
       "    <tr>\n",
       "      <th>2</th>\n",
       "      <td>MED-RT</td>\n",
       "      <td>Parent Of</td>\n",
       "      <td>MED-RT</td>\n",
       "      <td>Cellular or Molecular Interactions [MoA]</td>\n",
       "      <td>N0000000223</td>\n",
       "      <td>MED-RT</td>\n",
       "      <td>Gene Expression Interactions [MoA]</td>\n",
       "      <td>N0000193793</td>\n",
       "      <td>MED-RT</td>\n",
       "      <td>Authority</td>\n",
       "      <td>MEDRT</td>\n",
       "      <td>NaN</td>\n",
       "      <td>NaN</td>\n",
       "      <td>NaN</td>\n",
       "      <td>MED-RT</td>\n",
       "      <td>MED-RT</td>\n",
       "      <td>C1373094</td>\n",
       "      <td>MED-RT</td>\n",
       "      <td>N0000000223</td>\n",
       "    </tr>\n",
       "    <tr>\n",
       "      <th>3</th>\n",
       "      <td>MED-RT</td>\n",
       "      <td>Parent Of</td>\n",
       "      <td>MED-RT</td>\n",
       "      <td>Cellular or Molecular Interactions [MoA]</td>\n",
       "      <td>N0000000223</td>\n",
       "      <td>MED-RT</td>\n",
       "      <td>Biological Macromolecular Activity [MoA]</td>\n",
       "      <td>N0000000142</td>\n",
       "      <td>MED-RT</td>\n",
       "      <td>Authority</td>\n",
       "      <td>MEDRT</td>\n",
       "      <td>NaN</td>\n",
       "      <td>NaN</td>\n",
       "      <td>NaN</td>\n",
       "      <td>MED-RT</td>\n",
       "      <td>MED-RT</td>\n",
       "      <td>C1373094</td>\n",
       "      <td>MED-RT</td>\n",
       "      <td>N0000000223</td>\n",
       "    </tr>\n",
       "    <tr>\n",
       "      <th>4</th>\n",
       "      <td>MED-RT</td>\n",
       "      <td>Parent Of</td>\n",
       "      <td>MED-RT</td>\n",
       "      <td>Cellular or Molecular Interactions [MoA]</td>\n",
       "      <td>N0000000223</td>\n",
       "      <td>MED-RT</td>\n",
       "      <td>Receptor Interactions [MoA]</td>\n",
       "      <td>N0000000085</td>\n",
       "      <td>MED-RT</td>\n",
       "      <td>Authority</td>\n",
       "      <td>MEDRT</td>\n",
       "      <td>NaN</td>\n",
       "      <td>NaN</td>\n",
       "      <td>NaN</td>\n",
       "      <td>MED-RT</td>\n",
       "      <td>MED-RT</td>\n",
       "      <td>C1373094</td>\n",
       "      <td>MED-RT</td>\n",
       "      <td>N0000000223</td>\n",
       "    </tr>\n",
       "    <tr>\n",
       "      <th>...</th>\n",
       "      <td>...</td>\n",
       "      <td>...</td>\n",
       "      <td>...</td>\n",
       "      <td>...</td>\n",
       "      <td>...</td>\n",
       "      <td>...</td>\n",
       "      <td>...</td>\n",
       "      <td>...</td>\n",
       "      <td>...</td>\n",
       "      <td>...</td>\n",
       "      <td>...</td>\n",
       "      <td>...</td>\n",
       "      <td>...</td>\n",
       "      <td>...</td>\n",
       "      <td>...</td>\n",
       "      <td>...</td>\n",
       "      <td>...</td>\n",
       "      <td>...</td>\n",
       "      <td>...</td>\n",
       "    </tr>\n",
       "    <tr>\n",
       "      <th>88987</th>\n",
       "      <td>MED-RT</td>\n",
       "      <td>Synonym Of</td>\n",
       "      <td>RxNorm</td>\n",
       "      <td>fluocortolone pivalate</td>\n",
       "      <td>4465</td>\n",
       "      <td>MeSH</td>\n",
       "      <td>Fluocortolone Pivalate</td>\n",
       "      <td>M0008596</td>\n",
       "      <td>MED-RT</td>\n",
       "      <td>Authority</td>\n",
       "      <td>NLMUMLS</td>\n",
       "      <td>NaN</td>\n",
       "      <td>NaN</td>\n",
       "      <td>NaN</td>\n",
       "      <td>RXNORM</td>\n",
       "      <td>MSH</td>\n",
       "      <td>C0016304</td>\n",
       "      <td>RXNORM</td>\n",
       "      <td>4465</td>\n",
       "    </tr>\n",
       "    <tr>\n",
       "      <th>88988</th>\n",
       "      <td>MED-RT</td>\n",
       "      <td>Synonym Of</td>\n",
       "      <td>RxNorm</td>\n",
       "      <td>azelaic acid</td>\n",
       "      <td>18602</td>\n",
       "      <td>MeSH</td>\n",
       "      <td>azelaic acid</td>\n",
       "      <td>M0055275</td>\n",
       "      <td>MED-RT</td>\n",
       "      <td>Authority</td>\n",
       "      <td>NLMUMLS</td>\n",
       "      <td>NaN</td>\n",
       "      <td>NaN</td>\n",
       "      <td>NaN</td>\n",
       "      <td>RXNORM</td>\n",
       "      <td>MSH</td>\n",
       "      <td>C0052761</td>\n",
       "      <td>RXNORM</td>\n",
       "      <td>18602</td>\n",
       "    </tr>\n",
       "    <tr>\n",
       "      <th>88989</th>\n",
       "      <td>MED-RT</td>\n",
       "      <td>Synonym Of</td>\n",
       "      <td>RxNorm</td>\n",
       "      <td>tazarotene</td>\n",
       "      <td>83947</td>\n",
       "      <td>MeSH</td>\n",
       "      <td>tazarotene</td>\n",
       "      <td>M0230113</td>\n",
       "      <td>MED-RT</td>\n",
       "      <td>Authority</td>\n",
       "      <td>NLMUMLS</td>\n",
       "      <td>NaN</td>\n",
       "      <td>NaN</td>\n",
       "      <td>NaN</td>\n",
       "      <td>RXNORM</td>\n",
       "      <td>MSH</td>\n",
       "      <td>C0288792</td>\n",
       "      <td>RXNORM</td>\n",
       "      <td>83947</td>\n",
       "    </tr>\n",
       "    <tr>\n",
       "      <th>88990</th>\n",
       "      <td>MED-RT</td>\n",
       "      <td>Synonym Of</td>\n",
       "      <td>RxNorm</td>\n",
       "      <td>ammonium lactate</td>\n",
       "      <td>215247</td>\n",
       "      <td>MeSH</td>\n",
       "      <td>Ammonium Lactate</td>\n",
       "      <td>M0582740</td>\n",
       "      <td>MED-RT</td>\n",
       "      <td>Authority</td>\n",
       "      <td>NLMUMLS</td>\n",
       "      <td>NaN</td>\n",
       "      <td>NaN</td>\n",
       "      <td>NaN</td>\n",
       "      <td>RXNORM</td>\n",
       "      <td>MSH</td>\n",
       "      <td>C0718495</td>\n",
       "      <td>RXNORM</td>\n",
       "      <td>215247</td>\n",
       "    </tr>\n",
       "    <tr>\n",
       "      <th>88991</th>\n",
       "      <td>MED-RT</td>\n",
       "      <td>may_treat</td>\n",
       "      <td>RxNorm</td>\n",
       "      <td>ammonium lactate</td>\n",
       "      <td>215247</td>\n",
       "      <td>MeSH</td>\n",
       "      <td>Ichthyosis Vulgaris</td>\n",
       "      <td>M0024611</td>\n",
       "      <td>MED-RT</td>\n",
       "      <td>Authority</td>\n",
       "      <td>MEDRT</td>\n",
       "      <td>NaN</td>\n",
       "      <td>NaN</td>\n",
       "      <td>NaN</td>\n",
       "      <td>RXNORM</td>\n",
       "      <td>MSH</td>\n",
       "      <td>C0718495</td>\n",
       "      <td>RXNORM</td>\n",
       "      <td>215247</td>\n",
       "    </tr>\n",
       "  </tbody>\n",
       "</table>\n",
       "<p>88992 rows × 19 columns</p>\n",
       "</div>"
      ],
      "text/plain": [
       "      namespace        name from_namespace  \\\n",
       "0        MED-RT   Parent Of         MED-RT   \n",
       "1        MED-RT   Parent Of         MED-RT   \n",
       "2        MED-RT   Parent Of         MED-RT   \n",
       "3        MED-RT   Parent Of         MED-RT   \n",
       "4        MED-RT   Parent Of         MED-RT   \n",
       "...         ...         ...            ...   \n",
       "88987    MED-RT  Synonym Of         RxNorm   \n",
       "88988    MED-RT  Synonym Of         RxNorm   \n",
       "88989    MED-RT  Synonym Of         RxNorm   \n",
       "88990    MED-RT  Synonym Of         RxNorm   \n",
       "88991    MED-RT   may_treat         RxNorm   \n",
       "\n",
       "                                      from_name    from_code to_namespace  \\\n",
       "0      Cellular or Molecular Interactions [MoA]  N0000000223       MED-RT   \n",
       "1      Cellular or Molecular Interactions [MoA]  N0000000223       MED-RT   \n",
       "2      Cellular or Molecular Interactions [MoA]  N0000000223       MED-RT   \n",
       "3      Cellular or Molecular Interactions [MoA]  N0000000223       MED-RT   \n",
       "4      Cellular or Molecular Interactions [MoA]  N0000000223       MED-RT   \n",
       "...                                         ...          ...          ...   \n",
       "88987                    fluocortolone pivalate         4465         MeSH   \n",
       "88988                              azelaic acid        18602         MeSH   \n",
       "88989                                tazarotene        83947         MeSH   \n",
       "88990                          ammonium lactate       215247         MeSH   \n",
       "88991                          ammonium lactate       215247         MeSH   \n",
       "\n",
       "                                                 to_name      to_code  \\\n",
       "0        Unknown Cellular or Molecular Interaction [MoA]  N0000009915   \n",
       "1      Immunologic and Biological Factor Interactions...  N0000000254   \n",
       "2                     Gene Expression Interactions [MoA]  N0000193793   \n",
       "3               Biological Macromolecular Activity [MoA]  N0000000142   \n",
       "4                            Receptor Interactions [MoA]  N0000000085   \n",
       "...                                                  ...          ...   \n",
       "88987                             Fluocortolone Pivalate     M0008596   \n",
       "88988                                       azelaic acid     M0055275   \n",
       "88989                                         tazarotene     M0230113   \n",
       "88990                                   Ammonium Lactate     M0582740   \n",
       "88991                                Ichthyosis Vulgaris     M0024611   \n",
       "\n",
       "      qualifier0_namespace qualifier0_name qualifier0_value  \\\n",
       "0                   MED-RT       Authority            MEDRT   \n",
       "1                   MED-RT       Authority            MEDRT   \n",
       "2                   MED-RT       Authority            MEDRT   \n",
       "3                   MED-RT       Authority            MEDRT   \n",
       "4                   MED-RT       Authority            MEDRT   \n",
       "...                    ...             ...              ...   \n",
       "88987               MED-RT       Authority          NLMUMLS   \n",
       "88988               MED-RT       Authority          NLMUMLS   \n",
       "88989               MED-RT       Authority          NLMUMLS   \n",
       "88990               MED-RT       Authority          NLMUMLS   \n",
       "88991               MED-RT       Authority            MEDRT   \n",
       "\n",
       "      qualifier1_namespace qualifier1_name qualifier1_value  \\\n",
       "0                      NaN             NaN              NaN   \n",
       "1                      NaN             NaN              NaN   \n",
       "2                      NaN             NaN              NaN   \n",
       "3                      NaN             NaN              NaN   \n",
       "4                      NaN             NaN              NaN   \n",
       "...                    ...             ...              ...   \n",
       "88987                  NaN             NaN              NaN   \n",
       "88988                  NaN             NaN              NaN   \n",
       "88989                  NaN             NaN              NaN   \n",
       "88990                  NaN             NaN              NaN   \n",
       "88991                  NaN             NaN              NaN   \n",
       "\n",
       "      from_namespace_rectified to_namespace_rectified  from_CUI from_SAB  \\\n",
       "0                       MED-RT                 MED-RT  C1373094   MED-RT   \n",
       "1                       MED-RT                 MED-RT  C1373094   MED-RT   \n",
       "2                       MED-RT                 MED-RT  C1373094   MED-RT   \n",
       "3                       MED-RT                 MED-RT  C1373094   MED-RT   \n",
       "4                       MED-RT                 MED-RT  C1373094   MED-RT   \n",
       "...                        ...                    ...       ...      ...   \n",
       "88987                   RXNORM                    MSH  C0016304   RXNORM   \n",
       "88988                   RXNORM                    MSH  C0052761   RXNORM   \n",
       "88989                   RXNORM                    MSH  C0288792   RXNORM   \n",
       "88990                   RXNORM                    MSH  C0718495   RXNORM   \n",
       "88991                   RXNORM                    MSH  C0718495   RXNORM   \n",
       "\n",
       "         from_SCUI  \n",
       "0      N0000000223  \n",
       "1      N0000000223  \n",
       "2      N0000000223  \n",
       "3      N0000000223  \n",
       "4      N0000000223  \n",
       "...            ...  \n",
       "88987         4465  \n",
       "88988        18602  \n",
       "88989        83947  \n",
       "88990       215247  \n",
       "88991       215247  \n",
       "\n",
       "[88992 rows x 19 columns]"
      ]
     },
     "execution_count": 86,
     "metadata": {},
     "output_type": "execute_result"
    }
   ],
   "source": [
    "asso_merge.drop_duplicates()"
   ]
  },
  {
   "cell_type": "code",
   "execution_count": 87,
   "id": "15e8a0c7",
   "metadata": {},
   "outputs": [],
   "source": [
    "asso_merge_final = pd.merge(asso_merge, mrconsosub, left_on=['to_code','to_namespace_rectified'] , right_on=['SCUI','SAB'],  how='left')"
   ]
  },
  {
   "cell_type": "code",
   "execution_count": 88,
   "id": "c6e3afd0",
   "metadata": {},
   "outputs": [],
   "source": [
    "asso_merge_final['to_CUI'] = asso_merge_final['CUI'] "
   ]
  },
  {
   "cell_type": "code",
   "execution_count": 89,
   "id": "fdaace8d",
   "metadata": {},
   "outputs": [],
   "source": [
    "asso_merge_final['to_SAB'] = asso_merge_final['SAB']"
   ]
  },
  {
   "cell_type": "code",
   "execution_count": 90,
   "id": "b9c624ab",
   "metadata": {},
   "outputs": [],
   "source": [
    "asso_merge_final['to_SCUI'] = asso_merge_final['SCUI']"
   ]
  },
  {
   "cell_type": "code",
   "execution_count": 91,
   "id": "f244c13d",
   "metadata": {},
   "outputs": [],
   "source": [
    "asso_merge_final.drop(labels=['SCUI','SAB','CUI','from_SAB','to_SAB','from_SCUI','to_SCUI'], axis=1, inplace=True)"
   ]
  },
  {
   "cell_type": "code",
   "execution_count": 92,
   "id": "018d5b85",
   "metadata": {},
   "outputs": [],
   "source": [
    "vers = version['version'].astype(str)\n",
    "asso_merge_final['version'] = vers[0]\n",
    "#asso_merge_final['version'] = asso_merge_final['version'].replace(asso_merge_final['version'],vers[0])"
   ]
  },
  {
   "cell_type": "code",
   "execution_count": 93,
   "id": "34b9b3f9",
   "metadata": {},
   "outputs": [],
   "source": [
    "asso_merge_final.to_csv('Association_Merged_MEDRT.csv', index=False, header=1, encoding='utf-8')"
   ]
  },
  {
   "cell_type": "markdown",
   "id": "27c46274",
   "metadata": {},
   "source": [
    "##### Move the \"Association_Merged_MEDRT\" into the Neo4J import folder"
   ]
  },
  {
   "cell_type": "markdown",
   "id": "607c9eeb",
   "metadata": {},
   "source": [
    "### Creating relationships of MED-RT data into UMLS model"
   ]
  },
  {
   "cell_type": "code",
   "execution_count": 94,
   "id": "3be47816",
   "metadata": {},
   "outputs": [],
   "source": [
    "import pandas as pd"
   ]
  },
  {
   "cell_type": "code",
   "execution_count": 95,
   "id": "71314a7f",
   "metadata": {},
   "outputs": [],
   "source": [
    "import getpass\n",
    "password = getpass.getpass(\"\\nPlease enter the Neo4j database password to continue \\n\")"
   ]
  },
  {
   "cell_type": "code",
   "execution_count": 96,
   "id": "03bbe6d1",
   "metadata": {},
   "outputs": [],
   "source": [
    "from neo4j import GraphDatabase\n",
    "driver=GraphDatabase.driver(uri=\"bolt://localhost:7687\", auth=('neo4j',password))\n",
    "session=driver.session()"
   ]
  },
  {
   "cell_type": "code",
   "execution_count": 97,
   "id": "1d88931e",
   "metadata": {},
   "outputs": [],
   "source": [
    "# Create a node for each concept in the UMLS\n",
    "#query = '''USING PERIODIC COMMIT 100000 LOAD CSV FROM \"file:///CUIs_preferred_terms.csv\" AS COLUMN CREATE (:Concept_UMLS {preferred_term:COLUMN[1], cui:COLUMN[0], semantic_type:COLUMN[2], UMLS_edition:'2021AA'})'''\n",
    "\n",
    "#session.run(query)"
   ]
  },
  {
   "cell_type": "code",
   "execution_count": 98,
   "id": "6a3a0d4c",
   "metadata": {},
   "outputs": [],
   "source": [
    "# Create a uniqueness constraint for the CUI property of each Concept_UMLS node\n",
    "#query = 'CREATE CONSTRAINT UniqueCUIforConceptConstraint ON (c:Concept_UMLS) ASSERT c.cui IS UNIQUE'\n",
    "#session.run(query)"
   ]
  },
  {
   "cell_type": "code",
   "execution_count": 99,
   "id": "16e3eaca",
   "metadata": {},
   "outputs": [],
   "source": [
    "# Create the UMLS string nodes\n",
    "#query = '''USING PERIODIC COMMIT 100000 LOAD CSV FROM \"file:///str_to_CUI.csv\" AS COLUMN CREATE (s:String_UMLS {string:COLUMN[0], cui:COLUMN[1], semantic_type:COLUMN[2]})'''\n",
    "\n",
    "#session.run(query)"
   ]
  },
  {
   "cell_type": "code",
   "execution_count": 16,
   "id": "c265ae9e",
   "metadata": {},
   "outputs": [
    {
     "data": {
      "text/plain": [
       "<neo4j.work.result.Result at 0x1a35d1052e0>"
      ]
     },
     "execution_count": 16,
     "metadata": {},
     "output_type": "execute_result"
    }
   ],
   "source": [
    "command = '''USING PERIODIC COMMIT 100000 LOAD CSV WITH HEADERS FROM \"file:///MeSH_Association_Merged.csv\" AS COLUMN MATCH (c1:Concept_UMLS {cui:COLUMN.from_CUI}) MATCH (c2:Concept_UMLS {cui:COLUMN.to_CUI}) OPTIONAL MATCH (c1)-[rel]->(c2) WITH c1, c2, COLUMN, COLLECT(TYPE(rel)) AS relTypes WHERE NOT COLUMN.name IN relTypes CALL apoc.create.relationship(c1, COLUMN.name, {source:COLUMN.namespace, version:COLUMN.version}, c2) YIELD rel as newrel RETURN c1, c2, newrel;'''\n",
    "session.run(command)"
   ]
  },
  {
   "cell_type": "markdown",
   "id": "367b0c31",
   "metadata": {},
   "source": [
    "### If you want to delete self loop relation - Synonym_Of "
   ]
  },
  {
   "cell_type": "markdown",
   "id": "76a305ea",
   "metadata": {},
   "source": [
    "###### Note - This can be used to remove any other self loop relationships as well, just replace 'Synonym Of' with the relationship name "
   ]
  },
  {
   "cell_type": "code",
   "execution_count": 101,
   "id": "bb416e10",
   "metadata": {},
   "outputs": [
    {
     "data": {
      "text/plain": [
       "<neo4j.work.result.Result at 0x221719a82e0>"
      ]
     },
     "execution_count": 101,
     "metadata": {},
     "output_type": "execute_result"
    }
   ],
   "source": [
    "#Delete self-loop relationship with name \"Synonym_Of\"\n",
    "\n",
    "#command = '''MATCH p=(n1)-[r:`Synonym Of`]->(n2) WHERE n1.cui = n2.cui DELETE r'''\n",
    "#session.run(command)"
   ]
  },
  {
   "cell_type": "markdown",
   "id": "6bbcaca0",
   "metadata": {},
   "source": [
    "###### Once you reach this point , you can delete all the existing variables. It is preferable to do so if your system cannot handle executing all of these codes in one go"
   ]
  },
  {
   "cell_type": "markdown",
   "id": "f1620770",
   "metadata": {},
   "source": [
    "      "
   ]
  },
  {
   "cell_type": "markdown",
   "id": "42e7db60",
   "metadata": {},
   "source": [
    "# Importing MeSH into UMLS model"
   ]
  },
  {
   "cell_type": "markdown",
   "id": "ec9f71b0",
   "metadata": {},
   "source": [
    "To download the MeSH data visit the link -  https://nlmpubs.nlm.nih.gov/projects/mesh/MESH_FILES/xmlmesh/\n",
    "\n",
    "For our code we are using desc2021.xml and supp2021.xml \n",
    "\n",
    "More information on MeSH can be found here - https://www.nlm.nih.gov/mesh/meshhome.html"
   ]
  },
  {
   "cell_type": "markdown",
   "id": "3818b5b0",
   "metadata": {},
   "source": [
    "### Refer to the procedure to get MeSH_Association_desc.csv  "
   ]
  },
  {
   "cell_type": "markdown",
   "id": "b8232dbd",
   "metadata": {},
   "source": [
    "Use the following codes in your Neo4J browser : (You must change the file retrieve location according to where you have stored the MeSH XML file)"
   ]
  },
  {
   "cell_type": "markdown",
   "id": "4023488b",
   "metadata": {},
   "source": [
    "Code 1:\n",
    "\n",
    "WITH \"CALL apoc.load.xml(\\\"file:///C:\\\\Users\\\\pc\\\\Desktop\\\\C-BIA\\\\Healthcare\\\\MeSH\\\\XML files\\\\Data\\\\desc2021.xml\\\" , '/DescriptorRecordSet/DescriptorRecord') YIELD value UNWIND value as desrec WITH [item in desrec._children WHERE item._type = \\\"DescriptorUI\\\"] AS Q, [item in desrec._children WHERE item._type = \\\"ConceptList\\\"] AS conceptlist1, desrec AS desrec UNWIND conceptlist1 AS conceptlist WITH [item in conceptlist._children WHERE item._type = \\\"Concept\\\"] AS concept1, Q AS Q, desrec AS desrec, conceptlist AS conceptlist UNWIND concept1 AS concept WITH [item in concept._children WHERE item._type = \\\"ConceptUI\\\"] AS ConceptUI, [item in concept._children WHERE item._type = \\\"ConceptRelationList\\\"] AS CRL1, Q AS Q, desrec AS desrec, conceptlist AS conceptlist, concept AS concept UNWIND CRL1 AS CRL WITH [item in CRL._children WHERE item._type = \\\"ConceptRelation\\\"] AS CR1, Q AS Q, desrec AS desrec, conceptlist AS conceptlist, concept AS concept,  ConceptUI AS  ConceptUI, CRL AS CRL UNWIND CR1 AS CR WITH [item in CR._children WHERE item._type = \\\"Concept1UI\\\"] AS C1UI, [item in CR._children WHERE item._type = \\\"Concept2UI\\\"] AS C2UI, Q AS Q, desrec AS desrec, conceptlist AS conceptlist, concept AS concept,  ConceptUI AS  ConceptUI, CRL AS CRL, CR AS CR RETURN DISTINCT \\\"MeSH\\\" AS namespace, CR.RelationName AS name, \\\"MeSH\\\" AS from_namespace, C1UI[0]._text AS from_code, \\\"MeSH\\\" AS to_namespace, C2UI[0]._text AS to_code, \\\"2021_2021.01.01\\\" AS version;\" as query\n",
    "CALL apoc.export.csv.query(query, \"MeSH_association_desc.csv\", {})\n",
    "YIELD file, source, format, nodes, relationships, properties, time, rows, batchSize, batches, done, data\n",
    "RETURN file, source, format, nodes, relationships, properties, time, rows, batchSize, batches, done, data;\n"
   ]
  },
  {
   "cell_type": "markdown",
   "id": "f6c950b4",
   "metadata": {},
   "source": [
    "Once this action is performed, \"MeSH_association_desc.csv\" will be created in your Neo4J dbms folder.\n",
    "\n",
    "It is recommended to move this file to another easily accessible location since we will be referencing it in the upcoming code "
   ]
  },
  {
   "cell_type": "markdown",
   "id": "2ea5c333",
   "metadata": {},
   "source": [
    "Code 2:"
   ]
  },
  {
   "cell_type": "markdown",
   "id": "ec340daa",
   "metadata": {},
   "source": [
    "WITH \"CALL apoc.load.xml(\\\"file:///C:\\\\Users\\\\pc\\\\Desktop\\\\C-BIA\\\\Healthcare\\\\MeSH\\\\XML files\\\\Data\\\\supp2021.xml\\\" , '/SupplementalRecordSet/ SupplementalRecord') YIELD value UNWIND value as desrec WITH [item in desrec._children WHERE item._type = \\\"SupplementalRecordUI\\\"] AS Q, [item in desrec._children WHERE item._type = \\\"ConceptList\\\"] AS conceptlist1, desrec AS desrec UNWIND conceptlist1 AS conceptlist WITH [item in conceptlist._children WHERE item._type = \\\"Concept\\\"] AS concept1, Q AS Q, desrec AS desrec, conceptlist AS conceptlist UNWIND concept1 AS concept WITH [item in concept._children WHERE item._type = \\\"ConceptUI\\\"] AS ConceptUI, [item in concept._children WHERE item._type = \\\"ConceptRelationList\\\"] AS CRL1, Q AS Q, desrec AS desrec, conceptlist AS conceptlist, concept AS concept UNWIND CRL1 AS CRL WITH [item in CRL._children WHERE item._type = \\\"ConceptRelation\\\"] AS CR1, Q AS Q, desrec AS desrec, conceptlist AS conceptlist, concept AS concept,  ConceptUI AS  ConceptUI, CRL AS CRL UNWIND CR1 AS CR WITH [item in CR._children WHERE item._type = \\\"Concept1UI\\\"] AS C1UI, [item in CR._children WHERE item._type = \\\"Concept2UI\\\"] AS C2UI, Q AS Q, desrec AS desrec, conceptlist AS conceptlist, concept AS concept,  ConceptUI AS  ConceptUI, CRL AS CRL, CR AS CR RETURN DISTINCT \\\"MeSH\\\" AS namespace, CR.RelationName AS name, \\\"MeSH\\\" AS from_namespace, C1UI[0]._text AS from_code, \\\"MeSH\\\" AS to_namespace, C2UI[0]._text AS to_code, \\\"2021_2021.01.01\\\" AS version;\" as query\n",
    "CALL apoc.export.csv.query(query, \"MeSH_association_supp.csv\", {})\n",
    "YIELD file, source, format, nodes, relationships, properties, time, rows, batchSize, batches, done, data\n",
    "RETURN file, source, format, nodes, relationships, properties, time, rows, batchSize, batches, done, data;\n"
   ]
  },
  {
   "cell_type": "markdown",
   "id": "09d3846d",
   "metadata": {},
   "source": [
    "###### Code 2 requires a higher amount of heap space. It is suggested to perform the steps below used on MeSH_association_desc for MeSH_association_supp as well"
   ]
  },
  {
   "cell_type": "code",
   "execution_count": 102,
   "id": "6ef7f0e3",
   "metadata": {},
   "outputs": [],
   "source": [
    "import pandas as pd"
   ]
  },
  {
   "cell_type": "code",
   "execution_count": 103,
   "id": "afab3dc4",
   "metadata": {},
   "outputs": [],
   "source": [
    "import numpy as np"
   ]
  },
  {
   "cell_type": "code",
   "execution_count": 104,
   "id": "325d0a37",
   "metadata": {},
   "outputs": [
    {
     "name": "stderr",
     "output_type": "stream",
     "text": [
      "C:\\Users\\pc\\anaconda3\\lib\\site-packages\\IPython\\core\\interactiveshell.py:3165: DtypeWarning: Columns (9,10) have mixed types.Specify dtype option on import or set low_memory=False.\n",
      "  has_raised = await self.run_ast_nodes(code_ast.body, cell_name,\n"
     ]
    },
    {
     "data": {
      "text/html": [
       "<div>\n",
       "<style scoped>\n",
       "    .dataframe tbody tr th:only-of-type {\n",
       "        vertical-align: middle;\n",
       "    }\n",
       "\n",
       "    .dataframe tbody tr th {\n",
       "        vertical-align: top;\n",
       "    }\n",
       "\n",
       "    .dataframe thead th {\n",
       "        text-align: right;\n",
       "    }\n",
       "</style>\n",
       "<table border=\"1\" class=\"dataframe\">\n",
       "  <thead>\n",
       "    <tr style=\"text-align: right;\">\n",
       "      <th></th>\n",
       "      <th>0</th>\n",
       "      <th>1</th>\n",
       "      <th>2</th>\n",
       "      <th>3</th>\n",
       "      <th>4</th>\n",
       "      <th>5</th>\n",
       "      <th>6</th>\n",
       "      <th>7</th>\n",
       "      <th>8</th>\n",
       "      <th>9</th>\n",
       "      <th>10</th>\n",
       "      <th>11</th>\n",
       "      <th>12</th>\n",
       "      <th>13</th>\n",
       "      <th>14</th>\n",
       "      <th>15</th>\n",
       "      <th>16</th>\n",
       "      <th>17</th>\n",
       "      <th>18</th>\n",
       "    </tr>\n",
       "  </thead>\n",
       "  <tbody>\n",
       "    <tr>\n",
       "      <th>0</th>\n",
       "      <td>C0000005</td>\n",
       "      <td>ENG</td>\n",
       "      <td>P</td>\n",
       "      <td>L0000005</td>\n",
       "      <td>PF</td>\n",
       "      <td>S0007492</td>\n",
       "      <td>Y</td>\n",
       "      <td>A26634265</td>\n",
       "      <td>NaN</td>\n",
       "      <td>M0019694</td>\n",
       "      <td>D012711</td>\n",
       "      <td>MSH</td>\n",
       "      <td>PEP</td>\n",
       "      <td>D012711</td>\n",
       "      <td>(131)I-Macroaggregated Albumin</td>\n",
       "      <td>0</td>\n",
       "      <td>N</td>\n",
       "      <td>256.0</td>\n",
       "      <td>NaN</td>\n",
       "    </tr>\n",
       "    <tr>\n",
       "      <th>1</th>\n",
       "      <td>C0000005</td>\n",
       "      <td>ENG</td>\n",
       "      <td>S</td>\n",
       "      <td>L0270109</td>\n",
       "      <td>PF</td>\n",
       "      <td>S0007491</td>\n",
       "      <td>Y</td>\n",
       "      <td>A26634266</td>\n",
       "      <td>NaN</td>\n",
       "      <td>M0019694</td>\n",
       "      <td>D012711</td>\n",
       "      <td>MSH</td>\n",
       "      <td>ET</td>\n",
       "      <td>D012711</td>\n",
       "      <td>(131)I-MAA</td>\n",
       "      <td>0</td>\n",
       "      <td>N</td>\n",
       "      <td>256.0</td>\n",
       "      <td>NaN</td>\n",
       "    </tr>\n",
       "    <tr>\n",
       "      <th>2</th>\n",
       "      <td>C0000039</td>\n",
       "      <td>ENG</td>\n",
       "      <td>P</td>\n",
       "      <td>L0000039</td>\n",
       "      <td>PF</td>\n",
       "      <td>S17175117</td>\n",
       "      <td>N</td>\n",
       "      <td>A28315139</td>\n",
       "      <td>9194921.0</td>\n",
       "      <td>1926948</td>\n",
       "      <td>NaN</td>\n",
       "      <td>RXNORM</td>\n",
       "      <td>IN</td>\n",
       "      <td>1926948</td>\n",
       "      <td>1,2-dipalmitoylphosphatidylcholine</td>\n",
       "      <td>0</td>\n",
       "      <td>N</td>\n",
       "      <td>256.0</td>\n",
       "      <td>NaN</td>\n",
       "    </tr>\n",
       "    <tr>\n",
       "      <th>3</th>\n",
       "      <td>C0000039</td>\n",
       "      <td>ENG</td>\n",
       "      <td>P</td>\n",
       "      <td>L0000039</td>\n",
       "      <td>PF</td>\n",
       "      <td>S17175117</td>\n",
       "      <td>Y</td>\n",
       "      <td>A28572604</td>\n",
       "      <td>NaN</td>\n",
       "      <td>NaN</td>\n",
       "      <td>NaN</td>\n",
       "      <td>MTH</td>\n",
       "      <td>PN</td>\n",
       "      <td>NOCODE</td>\n",
       "      <td>1,2-dipalmitoylphosphatidylcholine</td>\n",
       "      <td>0</td>\n",
       "      <td>N</td>\n",
       "      <td>256.0</td>\n",
       "      <td>NaN</td>\n",
       "    </tr>\n",
       "    <tr>\n",
       "      <th>4</th>\n",
       "      <td>C0000039</td>\n",
       "      <td>ENG</td>\n",
       "      <td>P</td>\n",
       "      <td>L0000039</td>\n",
       "      <td>VC</td>\n",
       "      <td>S0007564</td>\n",
       "      <td>Y</td>\n",
       "      <td>A0016515</td>\n",
       "      <td>NaN</td>\n",
       "      <td>M0023172</td>\n",
       "      <td>D015060</td>\n",
       "      <td>MSH</td>\n",
       "      <td>MH</td>\n",
       "      <td>D015060</td>\n",
       "      <td>1,2-Dipalmitoylphosphatidylcholine</td>\n",
       "      <td>0</td>\n",
       "      <td>N</td>\n",
       "      <td>NaN</td>\n",
       "      <td>NaN</td>\n",
       "    </tr>\n",
       "  </tbody>\n",
       "</table>\n",
       "</div>"
      ],
      "text/plain": [
       "         0    1  2         3   4          5  6          7          8   \\\n",
       "0  C0000005  ENG  P  L0000005  PF   S0007492  Y  A26634265        NaN   \n",
       "1  C0000005  ENG  S  L0270109  PF   S0007491  Y  A26634266        NaN   \n",
       "2  C0000039  ENG  P  L0000039  PF  S17175117  N  A28315139  9194921.0   \n",
       "3  C0000039  ENG  P  L0000039  PF  S17175117  Y  A28572604        NaN   \n",
       "4  C0000039  ENG  P  L0000039  VC   S0007564  Y   A0016515        NaN   \n",
       "\n",
       "         9        10      11   12       13  \\\n",
       "0  M0019694  D012711     MSH  PEP  D012711   \n",
       "1  M0019694  D012711     MSH   ET  D012711   \n",
       "2   1926948      NaN  RXNORM   IN  1926948   \n",
       "3       NaN      NaN     MTH   PN   NOCODE   \n",
       "4  M0023172  D015060     MSH   MH  D015060   \n",
       "\n",
       "                                   14  15 16     17  18  \n",
       "0      (131)I-Macroaggregated Albumin   0  N  256.0 NaN  \n",
       "1                          (131)I-MAA   0  N  256.0 NaN  \n",
       "2  1,2-dipalmitoylphosphatidylcholine   0  N  256.0 NaN  \n",
       "3  1,2-dipalmitoylphosphatidylcholine   0  N  256.0 NaN  \n",
       "4  1,2-Dipalmitoylphosphatidylcholine   0  N    NaN NaN  "
      ]
     },
     "execution_count": 104,
     "metadata": {},
     "output_type": "execute_result"
    }
   ],
   "source": [
    "# Load MRCONSO.RRF into a dataframe\n",
    "mrconso = pd.read_csv('C:/Users/pc/Desktop/C-BIA/Healthcare/UMLS/UMLS_Data/2021AA/META/MRCONSO.RRF', sep='|', header=None, encoding='utf-8')\n",
    "mrconso[:5]"
   ]
  },
  {
   "cell_type": "code",
   "execution_count": 105,
   "id": "8d9102cb",
   "metadata": {},
   "outputs": [],
   "source": [
    "mrconso.columns = ['CUI', 'LAT', 'TS', 'LUI', 'STT', 'SUI', 'ISPREF', 'AUI', 'SAUI', 'SCUI', 'SDUI', 'SAB', 'TTY', 'CODE', 'STR', 'SRL', 'SUPPRESS', 'CVF', '']"
   ]
  },
  {
   "cell_type": "code",
   "execution_count": 106,
   "id": "24fafc93",
   "metadata": {},
   "outputs": [],
   "source": [
    "mrconso.drop(labels=['SUPPRESS', 'CODE', 'CVF','SAUI','SDUI', ''], axis=1, inplace=True)"
   ]
  },
  {
   "cell_type": "code",
   "execution_count": 107,
   "id": "92a2c9d0",
   "metadata": {},
   "outputs": [
    {
     "name": "stdout",
     "output_type": "stream",
     "text": [
      "<class 'pandas.core.frame.DataFrame'>\n",
      "RangeIndex: 12139019 entries, 0 to 12139018\n",
      "Data columns (total 13 columns):\n",
      " #   Column  Dtype \n",
      "---  ------  ----- \n",
      " 0   CUI     object\n",
      " 1   LAT     object\n",
      " 2   TS      object\n",
      " 3   LUI     object\n",
      " 4   STT     object\n",
      " 5   SUI     object\n",
      " 6   ISPREF  object\n",
      " 7   AUI     object\n",
      " 8   SCUI    object\n",
      " 9   SAB     object\n",
      " 10  TTY     object\n",
      " 11  STR     object\n",
      " 12  SRL     int64 \n",
      "dtypes: int64(1), object(12)\n",
      "memory usage: 1.2+ GB\n"
     ]
    }
   ],
   "source": [
    "mrconso.info()"
   ]
  },
  {
   "cell_type": "code",
   "execution_count": 108,
   "id": "1d3c04ee",
   "metadata": {},
   "outputs": [
    {
     "data": {
      "text/html": [
       "<div>\n",
       "<style scoped>\n",
       "    .dataframe tbody tr th:only-of-type {\n",
       "        vertical-align: middle;\n",
       "    }\n",
       "\n",
       "    .dataframe tbody tr th {\n",
       "        vertical-align: top;\n",
       "    }\n",
       "\n",
       "    .dataframe thead th {\n",
       "        text-align: right;\n",
       "    }\n",
       "</style>\n",
       "<table border=\"1\" class=\"dataframe\">\n",
       "  <thead>\n",
       "    <tr style=\"text-align: right;\">\n",
       "      <th></th>\n",
       "      <th>CUI</th>\n",
       "      <th>LAT</th>\n",
       "      <th>TS</th>\n",
       "      <th>LUI</th>\n",
       "      <th>STT</th>\n",
       "      <th>SUI</th>\n",
       "      <th>ISPREF</th>\n",
       "      <th>AUI</th>\n",
       "      <th>SCUI</th>\n",
       "      <th>SAB</th>\n",
       "      <th>TTY</th>\n",
       "      <th>STR</th>\n",
       "      <th>SRL</th>\n",
       "    </tr>\n",
       "  </thead>\n",
       "  <tbody>\n",
       "    <tr>\n",
       "      <th>0</th>\n",
       "      <td>C0000005</td>\n",
       "      <td>ENG</td>\n",
       "      <td>P</td>\n",
       "      <td>L0000005</td>\n",
       "      <td>PF</td>\n",
       "      <td>S0007492</td>\n",
       "      <td>Y</td>\n",
       "      <td>A26634265</td>\n",
       "      <td>M0019694</td>\n",
       "      <td>MSH</td>\n",
       "      <td>PEP</td>\n",
       "      <td>(131)I-Macroaggregated Albumin</td>\n",
       "      <td>0</td>\n",
       "    </tr>\n",
       "    <tr>\n",
       "      <th>1</th>\n",
       "      <td>C0000005</td>\n",
       "      <td>ENG</td>\n",
       "      <td>S</td>\n",
       "      <td>L0270109</td>\n",
       "      <td>PF</td>\n",
       "      <td>S0007491</td>\n",
       "      <td>Y</td>\n",
       "      <td>A26634266</td>\n",
       "      <td>M0019694</td>\n",
       "      <td>MSH</td>\n",
       "      <td>ET</td>\n",
       "      <td>(131)I-MAA</td>\n",
       "      <td>0</td>\n",
       "    </tr>\n",
       "    <tr>\n",
       "      <th>2</th>\n",
       "      <td>C0000039</td>\n",
       "      <td>ENG</td>\n",
       "      <td>P</td>\n",
       "      <td>L0000039</td>\n",
       "      <td>PF</td>\n",
       "      <td>S17175117</td>\n",
       "      <td>N</td>\n",
       "      <td>A28315139</td>\n",
       "      <td>1926948</td>\n",
       "      <td>RXNORM</td>\n",
       "      <td>IN</td>\n",
       "      <td>1,2-dipalmitoylphosphatidylcholine</td>\n",
       "      <td>0</td>\n",
       "    </tr>\n",
       "    <tr>\n",
       "      <th>3</th>\n",
       "      <td>C0000039</td>\n",
       "      <td>ENG</td>\n",
       "      <td>P</td>\n",
       "      <td>L0000039</td>\n",
       "      <td>PF</td>\n",
       "      <td>S17175117</td>\n",
       "      <td>Y</td>\n",
       "      <td>A28572604</td>\n",
       "      <td>NaN</td>\n",
       "      <td>MTH</td>\n",
       "      <td>PN</td>\n",
       "      <td>1,2-dipalmitoylphosphatidylcholine</td>\n",
       "      <td>0</td>\n",
       "    </tr>\n",
       "    <tr>\n",
       "      <th>4</th>\n",
       "      <td>C0000039</td>\n",
       "      <td>ENG</td>\n",
       "      <td>P</td>\n",
       "      <td>L0000039</td>\n",
       "      <td>VC</td>\n",
       "      <td>S0007564</td>\n",
       "      <td>Y</td>\n",
       "      <td>A0016515</td>\n",
       "      <td>M0023172</td>\n",
       "      <td>MSH</td>\n",
       "      <td>MH</td>\n",
       "      <td>1,2-Dipalmitoylphosphatidylcholine</td>\n",
       "      <td>0</td>\n",
       "    </tr>\n",
       "  </tbody>\n",
       "</table>\n",
       "</div>"
      ],
      "text/plain": [
       "        CUI  LAT TS       LUI STT        SUI ISPREF        AUI      SCUI  \\\n",
       "0  C0000005  ENG  P  L0000005  PF   S0007492      Y  A26634265  M0019694   \n",
       "1  C0000005  ENG  S  L0270109  PF   S0007491      Y  A26634266  M0019694   \n",
       "2  C0000039  ENG  P  L0000039  PF  S17175117      N  A28315139   1926948   \n",
       "3  C0000039  ENG  P  L0000039  PF  S17175117      Y  A28572604       NaN   \n",
       "4  C0000039  ENG  P  L0000039  VC   S0007564      Y   A0016515  M0023172   \n",
       "\n",
       "      SAB  TTY                                 STR  SRL  \n",
       "0     MSH  PEP      (131)I-Macroaggregated Albumin    0  \n",
       "1     MSH   ET                          (131)I-MAA    0  \n",
       "2  RXNORM   IN  1,2-dipalmitoylphosphatidylcholine    0  \n",
       "3     MTH   PN  1,2-dipalmitoylphosphatidylcholine    0  \n",
       "4     MSH   MH  1,2-Dipalmitoylphosphatidylcholine    0  "
      ]
     },
     "execution_count": 108,
     "metadata": {},
     "output_type": "execute_result"
    }
   ],
   "source": [
    "mrconso[:5]"
   ]
  },
  {
   "cell_type": "markdown",
   "id": "6b3a95f7",
   "metadata": {},
   "source": [
    "#### Merge - MRCONSO on Association\n"
   ]
  },
  {
   "cell_type": "code",
   "execution_count": 109,
   "id": "392b0f3e",
   "metadata": {},
   "outputs": [],
   "source": [
    "#This file contains columns that can be mapped with UMLS data\n",
    "association = pd.read_csv(r'C:\\Users\\pc\\Desktop\\C-BIA\\Healthcare\\MeSH\\XML - CSV\\MeSH_association_desc.csv')"
   ]
  },
  {
   "cell_type": "code",
   "execution_count": 110,
   "id": "96e6a73d",
   "metadata": {},
   "outputs": [],
   "source": [
    "association['from_namespace_rectified'] = association['from_namespace']\n",
    "association['to_namespace_rectified'] = association['to_namespace']"
   ]
  },
  {
   "cell_type": "code",
   "execution_count": 111,
   "id": "44cf5028",
   "metadata": {},
   "outputs": [],
   "source": [
    "association['from_namespace_rectified'] = association['from_namespace_rectified'].replace('RxNorm','RXNORM')\n",
    "association['from_namespace_rectified'] = association['from_namespace_rectified'].replace('MeSH','MSH')\n",
    "association['from_namespace_rectified'] = association['from_namespace_rectified'].replace('SNOMED CT','SNOMEDCT_US')"
   ]
  },
  {
   "cell_type": "code",
   "execution_count": 112,
   "id": "c0ed8d50",
   "metadata": {},
   "outputs": [],
   "source": [
    "association['to_namespace_rectified'] = association['to_namespace_rectified'].replace('RxNorm','RXNORM')\n",
    "association['to_namespace_rectified'] = association['to_namespace_rectified'].replace('MeSH','MSH')\n",
    "association['to_namespace_rectified'] = association['to_namespace_rectified'].replace('SNOMED CT','SNOMEDCT_US')"
   ]
  },
  {
   "cell_type": "code",
   "execution_count": 113,
   "id": "73b5dade",
   "metadata": {},
   "outputs": [],
   "source": [
    "mrconsosub = mrconso[['SCUI','SAB','CUI']]"
   ]
  },
  {
   "cell_type": "code",
   "execution_count": 114,
   "id": "a1695dcc",
   "metadata": {},
   "outputs": [
    {
     "name": "stderr",
     "output_type": "stream",
     "text": [
      "<ipython-input-114-fd34af682f5c>:1: SettingWithCopyWarning: \n",
      "A value is trying to be set on a copy of a slice from a DataFrame\n",
      "\n",
      "See the caveats in the documentation: https://pandas.pydata.org/pandas-docs/stable/user_guide/indexing.html#returning-a-view-versus-a-copy\n",
      "  mrconsosub.drop_duplicates(subset=None, keep=\"first\", inplace=True)\n"
     ]
    }
   ],
   "source": [
    "mrconsosub.drop_duplicates(subset=None, keep=\"first\", inplace=True)"
   ]
  },
  {
   "cell_type": "code",
   "execution_count": 115,
   "id": "183499d3",
   "metadata": {},
   "outputs": [],
   "source": [
    "mrconsosub.to_csv('mrconsosub.csv', index=False, header=1, encoding='utf-8')"
   ]
  },
  {
   "cell_type": "code",
   "execution_count": 116,
   "id": "67ac0640",
   "metadata": {},
   "outputs": [],
   "source": [
    "asso_merge = pd.merge(association, mrconsosub, left_on=['from_code','from_namespace_rectified'] , right_on=['SCUI','SAB'],  how='left')"
   ]
  },
  {
   "cell_type": "code",
   "execution_count": 117,
   "id": "9b797a3f",
   "metadata": {},
   "outputs": [],
   "source": [
    "asso_merge['from_CUI'] = asso_merge['CUI']"
   ]
  },
  {
   "cell_type": "code",
   "execution_count": 118,
   "id": "0a2cf169",
   "metadata": {},
   "outputs": [],
   "source": [
    "asso_merge['from_SAB'] = asso_merge['SAB']"
   ]
  },
  {
   "cell_type": "code",
   "execution_count": 119,
   "id": "a21966c1",
   "metadata": {},
   "outputs": [],
   "source": [
    "asso_merge['from_SCUI'] = asso_merge['SCUI']"
   ]
  },
  {
   "cell_type": "code",
   "execution_count": 120,
   "id": "b561f08c",
   "metadata": {},
   "outputs": [],
   "source": [
    "asso_merge.drop(labels=['SCUI','SAB','CUI'], axis=1, inplace=True)"
   ]
  },
  {
   "cell_type": "code",
   "execution_count": 121,
   "id": "6eb72089",
   "metadata": {},
   "outputs": [
    {
     "data": {
      "text/html": [
       "<div>\n",
       "<style scoped>\n",
       "    .dataframe tbody tr th:only-of-type {\n",
       "        vertical-align: middle;\n",
       "    }\n",
       "\n",
       "    .dataframe tbody tr th {\n",
       "        vertical-align: top;\n",
       "    }\n",
       "\n",
       "    .dataframe thead th {\n",
       "        text-align: right;\n",
       "    }\n",
       "</style>\n",
       "<table border=\"1\" class=\"dataframe\">\n",
       "  <thead>\n",
       "    <tr style=\"text-align: right;\">\n",
       "      <th></th>\n",
       "      <th>namespace</th>\n",
       "      <th>name</th>\n",
       "      <th>from_namespace</th>\n",
       "      <th>from_code</th>\n",
       "      <th>to_namespace</th>\n",
       "      <th>to_code</th>\n",
       "      <th>version</th>\n",
       "      <th>from_namespace_rectified</th>\n",
       "      <th>to_namespace_rectified</th>\n",
       "      <th>from_CUI</th>\n",
       "      <th>from_SAB</th>\n",
       "      <th>from_SCUI</th>\n",
       "    </tr>\n",
       "  </thead>\n",
       "  <tbody>\n",
       "    <tr>\n",
       "      <th>0</th>\n",
       "      <td>MeSH</td>\n",
       "      <td>NRW</td>\n",
       "      <td>MeSH</td>\n",
       "      <td>M0000001</td>\n",
       "      <td>MeSH</td>\n",
       "      <td>M0353609</td>\n",
       "      <td>2021_2021.01.01</td>\n",
       "      <td>MSH</td>\n",
       "      <td>MSH</td>\n",
       "      <td>C0000699</td>\n",
       "      <td>MSH</td>\n",
       "      <td>M0000001</td>\n",
       "    </tr>\n",
       "    <tr>\n",
       "      <th>1</th>\n",
       "      <td>MeSH</td>\n",
       "      <td>NRW</td>\n",
       "      <td>MeSH</td>\n",
       "      <td>M0000002</td>\n",
       "      <td>MeSH</td>\n",
       "      <td>M0352201</td>\n",
       "      <td>2021_2021.01.01</td>\n",
       "      <td>MSH</td>\n",
       "      <td>MSH</td>\n",
       "      <td>C0000714</td>\n",
       "      <td>MSH</td>\n",
       "      <td>M0000002</td>\n",
       "    </tr>\n",
       "    <tr>\n",
       "      <th>2</th>\n",
       "      <td>MeSH</td>\n",
       "      <td>NRW</td>\n",
       "      <td>MeSH</td>\n",
       "      <td>M0000002</td>\n",
       "      <td>MeSH</td>\n",
       "      <td>M0352200</td>\n",
       "      <td>2021_2021.01.01</td>\n",
       "      <td>MSH</td>\n",
       "      <td>MSH</td>\n",
       "      <td>C0000714</td>\n",
       "      <td>MSH</td>\n",
       "      <td>M0000002</td>\n",
       "    </tr>\n",
       "    <tr>\n",
       "      <th>3</th>\n",
       "      <td>MeSH</td>\n",
       "      <td>NRW</td>\n",
       "      <td>MeSH</td>\n",
       "      <td>M0000004</td>\n",
       "      <td>MeSH</td>\n",
       "      <td>M0511063</td>\n",
       "      <td>2021_2021.01.01</td>\n",
       "      <td>MSH</td>\n",
       "      <td>MSH</td>\n",
       "      <td>C1959598</td>\n",
       "      <td>MSH</td>\n",
       "      <td>M0000004</td>\n",
       "    </tr>\n",
       "    <tr>\n",
       "      <th>4</th>\n",
       "      <td>MeSH</td>\n",
       "      <td>NRW</td>\n",
       "      <td>MeSH</td>\n",
       "      <td>M0000009</td>\n",
       "      <td>MeSH</td>\n",
       "      <td>M000615276</td>\n",
       "      <td>2021_2021.01.01</td>\n",
       "      <td>MSH</td>\n",
       "      <td>MSH</td>\n",
       "      <td>C0000739</td>\n",
       "      <td>MSH</td>\n",
       "      <td>M0000009</td>\n",
       "    </tr>\n",
       "    <tr>\n",
       "      <th>...</th>\n",
       "      <td>...</td>\n",
       "      <td>...</td>\n",
       "      <td>...</td>\n",
       "      <td>...</td>\n",
       "      <td>...</td>\n",
       "      <td>...</td>\n",
       "      <td>...</td>\n",
       "      <td>...</td>\n",
       "      <td>...</td>\n",
       "      <td>...</td>\n",
       "      <td>...</td>\n",
       "      <td>...</td>\n",
       "    </tr>\n",
       "    <tr>\n",
       "      <th>29009</th>\n",
       "      <td>MeSH</td>\n",
       "      <td>BRD</td>\n",
       "      <td>MeSH</td>\n",
       "      <td>M0593750</td>\n",
       "      <td>MeSH</td>\n",
       "      <td>M0593752</td>\n",
       "      <td>2021_2021.01.01</td>\n",
       "      <td>MSH</td>\n",
       "      <td>MSH</td>\n",
       "      <td>C0682695</td>\n",
       "      <td>MSH</td>\n",
       "      <td>M0593750</td>\n",
       "    </tr>\n",
       "    <tr>\n",
       "      <th>29010</th>\n",
       "      <td>MeSH</td>\n",
       "      <td>REL</td>\n",
       "      <td>MeSH</td>\n",
       "      <td>M0593750</td>\n",
       "      <td>MeSH</td>\n",
       "      <td>M0593751</td>\n",
       "      <td>2021_2021.01.01</td>\n",
       "      <td>MSH</td>\n",
       "      <td>MSH</td>\n",
       "      <td>C0682695</td>\n",
       "      <td>MSH</td>\n",
       "      <td>M0593750</td>\n",
       "    </tr>\n",
       "    <tr>\n",
       "      <th>29011</th>\n",
       "      <td>MeSH</td>\n",
       "      <td>BRD</td>\n",
       "      <td>MeSH</td>\n",
       "      <td>M0593772</td>\n",
       "      <td>MeSH</td>\n",
       "      <td>M0011184</td>\n",
       "      <td>2021_2021.01.01</td>\n",
       "      <td>MSH</td>\n",
       "      <td>MSH</td>\n",
       "      <td>C3850137</td>\n",
       "      <td>MSH</td>\n",
       "      <td>M0593772</td>\n",
       "    </tr>\n",
       "    <tr>\n",
       "      <th>29012</th>\n",
       "      <td>MeSH</td>\n",
       "      <td>NRW</td>\n",
       "      <td>MeSH</td>\n",
       "      <td>M0593772</td>\n",
       "      <td>MeSH</td>\n",
       "      <td>M000679324</td>\n",
       "      <td>2021_2021.01.01</td>\n",
       "      <td>MSH</td>\n",
       "      <td>MSH</td>\n",
       "      <td>C3850137</td>\n",
       "      <td>MSH</td>\n",
       "      <td>M0593772</td>\n",
       "    </tr>\n",
       "    <tr>\n",
       "      <th>29013</th>\n",
       "      <td>MeSH</td>\n",
       "      <td>NRW</td>\n",
       "      <td>MeSH</td>\n",
       "      <td>M000625700</td>\n",
       "      <td>MeSH</td>\n",
       "      <td>M0593791</td>\n",
       "      <td>2021_2021.01.01</td>\n",
       "      <td>MSH</td>\n",
       "      <td>MSH</td>\n",
       "      <td>C4505502</td>\n",
       "      <td>MSH</td>\n",
       "      <td>M000625700</td>\n",
       "    </tr>\n",
       "  </tbody>\n",
       "</table>\n",
       "<p>29014 rows × 12 columns</p>\n",
       "</div>"
      ],
      "text/plain": [
       "      namespace name from_namespace   from_code to_namespace     to_code  \\\n",
       "0          MeSH  NRW           MeSH    M0000001         MeSH    M0353609   \n",
       "1          MeSH  NRW           MeSH    M0000002         MeSH    M0352201   \n",
       "2          MeSH  NRW           MeSH    M0000002         MeSH    M0352200   \n",
       "3          MeSH  NRW           MeSH    M0000004         MeSH    M0511063   \n",
       "4          MeSH  NRW           MeSH    M0000009         MeSH  M000615276   \n",
       "...         ...  ...            ...         ...          ...         ...   \n",
       "29009      MeSH  BRD           MeSH    M0593750         MeSH    M0593752   \n",
       "29010      MeSH  REL           MeSH    M0593750         MeSH    M0593751   \n",
       "29011      MeSH  BRD           MeSH    M0593772         MeSH    M0011184   \n",
       "29012      MeSH  NRW           MeSH    M0593772         MeSH  M000679324   \n",
       "29013      MeSH  NRW           MeSH  M000625700         MeSH    M0593791   \n",
       "\n",
       "               version from_namespace_rectified to_namespace_rectified  \\\n",
       "0      2021_2021.01.01                      MSH                    MSH   \n",
       "1      2021_2021.01.01                      MSH                    MSH   \n",
       "2      2021_2021.01.01                      MSH                    MSH   \n",
       "3      2021_2021.01.01                      MSH                    MSH   \n",
       "4      2021_2021.01.01                      MSH                    MSH   \n",
       "...                ...                      ...                    ...   \n",
       "29009  2021_2021.01.01                      MSH                    MSH   \n",
       "29010  2021_2021.01.01                      MSH                    MSH   \n",
       "29011  2021_2021.01.01                      MSH                    MSH   \n",
       "29012  2021_2021.01.01                      MSH                    MSH   \n",
       "29013  2021_2021.01.01                      MSH                    MSH   \n",
       "\n",
       "       from_CUI from_SAB   from_SCUI  \n",
       "0      C0000699      MSH    M0000001  \n",
       "1      C0000714      MSH    M0000002  \n",
       "2      C0000714      MSH    M0000002  \n",
       "3      C1959598      MSH    M0000004  \n",
       "4      C0000739      MSH    M0000009  \n",
       "...         ...      ...         ...  \n",
       "29009  C0682695      MSH    M0593750  \n",
       "29010  C0682695      MSH    M0593750  \n",
       "29011  C3850137      MSH    M0593772  \n",
       "29012  C3850137      MSH    M0593772  \n",
       "29013  C4505502      MSH  M000625700  \n",
       "\n",
       "[29014 rows x 12 columns]"
      ]
     },
     "execution_count": 121,
     "metadata": {},
     "output_type": "execute_result"
    }
   ],
   "source": [
    "asso_merge.drop_duplicates()"
   ]
  },
  {
   "cell_type": "code",
   "execution_count": 122,
   "id": "1a937960",
   "metadata": {},
   "outputs": [],
   "source": [
    "asso_merge_final = pd.merge(asso_merge, mrconsosub, left_on=['to_code','to_namespace_rectified'] , right_on=['SCUI','SAB'],  how='left')"
   ]
  },
  {
   "cell_type": "code",
   "execution_count": 123,
   "id": "dfe8ddce",
   "metadata": {},
   "outputs": [],
   "source": [
    "asso_merge_final['to_CUI'] = asso_merge_final['CUI'] "
   ]
  },
  {
   "cell_type": "code",
   "execution_count": 124,
   "id": "ff247e90",
   "metadata": {},
   "outputs": [],
   "source": [
    "asso_merge_final['to_SAB'] = asso_merge_final['SAB']"
   ]
  },
  {
   "cell_type": "code",
   "execution_count": 125,
   "id": "71ed1775",
   "metadata": {},
   "outputs": [],
   "source": [
    "asso_merge_final['to_SCUI'] = asso_merge_final['SCUI']"
   ]
  },
  {
   "cell_type": "code",
   "execution_count": 126,
   "id": "aef8538c",
   "metadata": {},
   "outputs": [],
   "source": [
    "asso_merge_final.drop(labels=['SCUI','SAB','CUI','from_SAB','to_SAB','from_SCUI','to_SCUI'], axis=1, inplace=True)"
   ]
  },
  {
   "cell_type": "code",
   "execution_count": 127,
   "id": "9f94812b",
   "metadata": {},
   "outputs": [],
   "source": [
    "#vers = version['version'].astype(str)\n",
    "#asso_merge_final['version'] = vers[0]\n",
    "#asso_merge_final['version'] = asso_merge_final['version'].replace(asso_merge_final['version'],vers[0])"
   ]
  },
  {
   "cell_type": "code",
   "execution_count": 128,
   "id": "4998c963",
   "metadata": {},
   "outputs": [],
   "source": [
    "asso_merge_final.to_csv('MeSH_Association_Merged.csv', index=False, header=1, encoding='utf-8')"
   ]
  },
  {
   "cell_type": "markdown",
   "id": "9eed55eb",
   "metadata": {},
   "source": [
    "##### Move the \"MeSH_Association_Merged\" into the Neo4J import folder"
   ]
  },
  {
   "cell_type": "markdown",
   "id": "11560c4c",
   "metadata": {},
   "source": [
    "### Creating relationships of MeSH data into UMLS model"
   ]
  },
  {
   "cell_type": "code",
   "execution_count": 12,
   "id": "427e5dda",
   "metadata": {},
   "outputs": [],
   "source": [
    "import pandas as pd"
   ]
  },
  {
   "cell_type": "code",
   "execution_count": 13,
   "id": "c1fbf26a",
   "metadata": {},
   "outputs": [
    {
     "name": "stdout",
     "output_type": "stream",
     "text": [
      "\n",
      "Please enter the Neo4j database password to continue \n",
      "········\n"
     ]
    }
   ],
   "source": [
    "import getpass\n",
    "password = getpass.getpass(\"\\nPlease enter the Neo4j database password to continue \\n\")"
   ]
  },
  {
   "cell_type": "code",
   "execution_count": 14,
   "id": "11187859",
   "metadata": {},
   "outputs": [],
   "source": [
    "from neo4j import GraphDatabase\n",
    "driver=GraphDatabase.driver(uri=\"bolt://localhost:7687\", auth=('neo4j',password))\n",
    "session=driver.session()"
   ]
  },
  {
   "cell_type": "code",
   "execution_count": 132,
   "id": "4f6acff7",
   "metadata": {},
   "outputs": [],
   "source": [
    "# Create a node for each concept in the UMLS\n",
    "#query = '''USING PERIODIC COMMIT 100000 LOAD CSV FROM \"file:///CUIs_preferred_terms.csv\" AS COLUMN CREATE (:Concept_UMLS {preferred_term:COLUMN[1], cui:COLUMN[0], semantic_type:COLUMN[2], UMLS_edition:'2021AA'})'''\n",
    "\n",
    "#session.run(query)"
   ]
  },
  {
   "cell_type": "code",
   "execution_count": 133,
   "id": "7035b6e4",
   "metadata": {},
   "outputs": [],
   "source": [
    "# Create a uniqueness constraint for the CUI property of each Concept_UMLS node\n",
    "#query = 'CREATE CONSTRAINT UniqueCUIforConceptConstraint ON (c:Concept_UMLS) ASSERT c.cui IS UNIQUE'\n",
    "#session.run(query)"
   ]
  },
  {
   "cell_type": "code",
   "execution_count": 134,
   "id": "88969a9b",
   "metadata": {},
   "outputs": [],
   "source": [
    "# Create the UMLS string nodes\n",
    "#query = '''USING PERIODIC COMMIT 100000 LOAD CSV FROM \"file:///str_to_CUI.csv\" AS COLUMN CREATE (s:String_UMLS {string:COLUMN[0], cui:COLUMN[1], semantic_type:COLUMN[2]})'''\n",
    "\n",
    "#session.run(query)"
   ]
  },
  {
   "cell_type": "markdown",
   "id": "d12c5767",
   "metadata": {},
   "source": [
    "###### Sometimes python causes issue and the command below is not executed. In case such a thing happens , it's recommended to run the command again.\n",
    "\n",
    "To check if these specific relations were added, search in the Neo4J browser for relationship by the name of 'NRW' , 'BRD' , 'REL'. If these 3 exist , most probably all the relationships from the MeSH_Association_Merged.csv have been added."
   ]
  },
  {
   "cell_type": "markdown",
   "id": "6c016956",
   "metadata": {},
   "source": [
    "Use the following code to check if the relationship exist: (you can replace REL with the name of the relationship)\n",
    "\n",
    "MATCH p=()-[r:REL]->() RETURN p LIMIT 25"
   ]
  },
  {
   "cell_type": "code",
   "execution_count": 16,
   "id": "b81309f5",
   "metadata": {},
   "outputs": [
    {
     "data": {
      "text/plain": [
       "<neo4j.work.result.Result at 0x1a35d1052e0>"
      ]
     },
     "execution_count": 16,
     "metadata": {},
     "output_type": "execute_result"
    }
   ],
   "source": [
    "command = '''USING PERIODIC COMMIT 100000 LOAD CSV WITH HEADERS FROM \"file:///MeSH_Association_Merged.csv\" AS COLUMN MATCH (c1:Concept_UMLS {cui:COLUMN.from_CUI}) MATCH (c2:Concept_UMLS {cui:COLUMN.to_CUI}) OPTIONAL MATCH (c1)-[rel]->(c2) WITH c1, c2, COLUMN, COLLECT(TYPE(rel)) AS relTypes WHERE NOT COLUMN.name IN relTypes CALL apoc.create.relationship(c1, COLUMN.name, {source:COLUMN.namespace, version:COLUMN.version}, c2) YIELD rel as newrel RETURN c1, c2, newrel;'''\n",
    "session.run(command)"
   ]
  },
  {
   "cell_type": "markdown",
   "id": "df2a8875",
   "metadata": {},
   "source": [
    "###### Once you reach this point , you can delete all the existing variables. It is preferable to do so if your system cannot handle executing all of these codes in one go"
   ]
  },
  {
   "cell_type": "markdown",
   "id": "9d9ae5f6",
   "metadata": {},
   "source": [
    "       "
   ]
  },
  {
   "cell_type": "markdown",
   "id": "5a475127",
   "metadata": {},
   "source": [
    "# Importing RxNorm into UMLS Model"
   ]
  },
  {
   "cell_type": "markdown",
   "id": "5149237d",
   "metadata": {},
   "source": [
    "To download the MeSH data you must have an account on the NLM official site \n",
    "\n",
    "RxNorm technical documentation - https://www.nlm.nih.gov/research/umls/rxnorm/docs/techdoc.html#s1_0"
   ]
  },
  {
   "cell_type": "markdown",
   "id": "0ef3841a",
   "metadata": {},
   "source": [
    "We will perform merging of two files - RXNREL.RRF and RXNCONSO.RRF.\n",
    "\n",
    "This is necessary to get the necessary columns for further merging with MRCONSO (UMLS) so we can import our RxNorm data into our UMLS model"
   ]
  },
  {
   "cell_type": "code",
   "execution_count": 136,
   "id": "6c02930e",
   "metadata": {},
   "outputs": [
    {
     "name": "stderr",
     "output_type": "stream",
     "text": [
      "C:\\Users\\pc\\anaconda3\\lib\\site-packages\\IPython\\core\\interactiveshell.py:3165: DtypeWarning: Columns (7) have mixed types.Specify dtype option on import or set low_memory=False.\n",
      "  has_raised = await self.run_ast_nodes(code_ast.body, cell_name,\n"
     ]
    },
    {
     "data": {
      "text/html": [
       "<div>\n",
       "<style scoped>\n",
       "    .dataframe tbody tr th:only-of-type {\n",
       "        vertical-align: middle;\n",
       "    }\n",
       "\n",
       "    .dataframe tbody tr th {\n",
       "        vertical-align: top;\n",
       "    }\n",
       "\n",
       "    .dataframe thead th {\n",
       "        text-align: right;\n",
       "    }\n",
       "</style>\n",
       "<table border=\"1\" class=\"dataframe\">\n",
       "  <thead>\n",
       "    <tr style=\"text-align: right;\">\n",
       "      <th></th>\n",
       "      <th>0</th>\n",
       "      <th>1</th>\n",
       "      <th>2</th>\n",
       "      <th>3</th>\n",
       "      <th>4</th>\n",
       "      <th>5</th>\n",
       "      <th>6</th>\n",
       "      <th>7</th>\n",
       "      <th>8</th>\n",
       "      <th>9</th>\n",
       "      <th>10</th>\n",
       "      <th>11</th>\n",
       "      <th>12</th>\n",
       "      <th>13</th>\n",
       "      <th>14</th>\n",
       "      <th>15</th>\n",
       "      <th>16</th>\n",
       "    </tr>\n",
       "  </thead>\n",
       "  <tbody>\n",
       "    <tr>\n",
       "      <th>0</th>\n",
       "      <td>NaN</td>\n",
       "      <td>5.0</td>\n",
       "      <td>AUI</td>\n",
       "      <td>SY</td>\n",
       "      <td>NaN</td>\n",
       "      <td>6.0</td>\n",
       "      <td>AUI</td>\n",
       "      <td>permuted_term_of</td>\n",
       "      <td>155592245.0</td>\n",
       "      <td>NaN</td>\n",
       "      <td>MSH</td>\n",
       "      <td>NaN</td>\n",
       "      <td>NaN</td>\n",
       "      <td>NaN</td>\n",
       "      <td>NaN</td>\n",
       "      <td>NaN</td>\n",
       "      <td>NaN</td>\n",
       "    </tr>\n",
       "    <tr>\n",
       "      <th>1</th>\n",
       "      <td>NaN</td>\n",
       "      <td>5.0</td>\n",
       "      <td>SDUI</td>\n",
       "      <td>SIB</td>\n",
       "      <td>NaN</td>\n",
       "      <td>104746.0</td>\n",
       "      <td>SDUI</td>\n",
       "      <td>NaN</td>\n",
       "      <td>154524204.0</td>\n",
       "      <td>NaN</td>\n",
       "      <td>MSH</td>\n",
       "      <td>NaN</td>\n",
       "      <td>NaN</td>\n",
       "      <td>NaN</td>\n",
       "      <td>NaN</td>\n",
       "      <td>NaN</td>\n",
       "      <td>NaN</td>\n",
       "    </tr>\n",
       "    <tr>\n",
       "      <th>2</th>\n",
       "      <td>NaN</td>\n",
       "      <td>5.0</td>\n",
       "      <td>SDUI</td>\n",
       "      <td>RN</td>\n",
       "      <td>NaN</td>\n",
       "      <td>609702.0</td>\n",
       "      <td>SDUI</td>\n",
       "      <td>mapped_to</td>\n",
       "      <td>154691227.0</td>\n",
       "      <td>NaN</td>\n",
       "      <td>MSH</td>\n",
       "      <td>NaN</td>\n",
       "      <td>1.0</td>\n",
       "      <td>NaN</td>\n",
       "      <td>NaN</td>\n",
       "      <td>NaN</td>\n",
       "      <td>NaN</td>\n",
       "    </tr>\n",
       "    <tr>\n",
       "      <th>3</th>\n",
       "      <td>NaN</td>\n",
       "      <td>5.0</td>\n",
       "      <td>AUI</td>\n",
       "      <td>SY</td>\n",
       "      <td>NaN</td>\n",
       "      <td>2666961.0</td>\n",
       "      <td>AUI</td>\n",
       "      <td>sort_version_of</td>\n",
       "      <td>155371534.0</td>\n",
       "      <td>NaN</td>\n",
       "      <td>MSH</td>\n",
       "      <td>NaN</td>\n",
       "      <td>NaN</td>\n",
       "      <td>NaN</td>\n",
       "      <td>NaN</td>\n",
       "      <td>NaN</td>\n",
       "      <td>NaN</td>\n",
       "    </tr>\n",
       "    <tr>\n",
       "      <th>4</th>\n",
       "      <td>NaN</td>\n",
       "      <td>5.0</td>\n",
       "      <td>AUI</td>\n",
       "      <td>SY</td>\n",
       "      <td>NaN</td>\n",
       "      <td>2681015.0</td>\n",
       "      <td>AUI</td>\n",
       "      <td>entry_version_of</td>\n",
       "      <td>155054914.0</td>\n",
       "      <td>NaN</td>\n",
       "      <td>MSH</td>\n",
       "      <td>NaN</td>\n",
       "      <td>NaN</td>\n",
       "      <td>NaN</td>\n",
       "      <td>NaN</td>\n",
       "      <td>NaN</td>\n",
       "      <td>NaN</td>\n",
       "    </tr>\n",
       "  </tbody>\n",
       "</table>\n",
       "</div>"
      ],
      "text/plain": [
       "   0    1     2    3   4          5     6                 7            8   9   \\\n",
       "0 NaN  5.0   AUI   SY NaN        6.0   AUI  permuted_term_of  155592245.0 NaN   \n",
       "1 NaN  5.0  SDUI  SIB NaN   104746.0  SDUI               NaN  154524204.0 NaN   \n",
       "2 NaN  5.0  SDUI   RN NaN   609702.0  SDUI         mapped_to  154691227.0 NaN   \n",
       "3 NaN  5.0   AUI   SY NaN  2666961.0   AUI   sort_version_of  155371534.0 NaN   \n",
       "4 NaN  5.0   AUI   SY NaN  2681015.0   AUI  entry_version_of  155054914.0 NaN   \n",
       "\n",
       "    10  11   12  13  14  15  16  \n",
       "0  MSH NaN  NaN NaN NaN NaN NaN  \n",
       "1  MSH NaN  NaN NaN NaN NaN NaN  \n",
       "2  MSH NaN  1.0 NaN NaN NaN NaN  \n",
       "3  MSH NaN  NaN NaN NaN NaN NaN  \n",
       "4  MSH NaN  NaN NaN NaN NaN NaN  "
      ]
     },
     "execution_count": 136,
     "metadata": {},
     "output_type": "execute_result"
    }
   ],
   "source": [
    "# Load RXNREL.RRF into a dataframe\n",
    "rxnrel = pd.read_csv('C:/Users/pc/Desktop/C-BIA/Healthcare/RxNorm/Data/rrf/RXNREL.RRF', sep='|', header=None, encoding='utf-8')\n",
    "rxnrel[:5]"
   ]
  },
  {
   "cell_type": "code",
   "execution_count": 137,
   "id": "84c1dfdf",
   "metadata": {},
   "outputs": [],
   "source": [
    "rxnrel.columns = ['RXCUI1', 'RXAUI1', 'STYPE1', 'REL', 'RXCUI2', 'RXAUI2', 'STYPE2', 'RELA', 'RUI', 'SRUI', 'SAB', 'SL', 'RG☨', 'DIR☦', 'SUPPRESS', 'CVF', '']"
   ]
  },
  {
   "cell_type": "code",
   "execution_count": 138,
   "id": "d2259b4d",
   "metadata": {
    "scrolled": true
   },
   "outputs": [
    {
     "name": "stdout",
     "output_type": "stream",
     "text": [
      "<class 'pandas.core.frame.DataFrame'>\n",
      "RangeIndex: 7163685 entries, 0 to 7163684\n",
      "Data columns (total 17 columns):\n",
      " #   Column    Dtype  \n",
      "---  ------    -----  \n",
      " 0   RXCUI1    float64\n",
      " 1   RXAUI1    float64\n",
      " 2   STYPE1    object \n",
      " 3   REL       object \n",
      " 4   RXCUI2    float64\n",
      " 5   RXAUI2    float64\n",
      " 6   STYPE2    object \n",
      " 7   RELA      object \n",
      " 8   RUI       float64\n",
      " 9   SRUI      float64\n",
      " 10  SAB       object \n",
      " 11  SL        float64\n",
      " 12  RG☨       float64\n",
      " 13  DIR☦      float64\n",
      " 14  SUPPRESS  float64\n",
      " 15  CVF       float64\n",
      " 16            float64\n",
      "dtypes: float64(12), object(5)\n",
      "memory usage: 929.1+ MB\n"
     ]
    }
   ],
   "source": [
    "rxnrel.info()"
   ]
  },
  {
   "cell_type": "code",
   "execution_count": 139,
   "id": "0e1d0705",
   "metadata": {},
   "outputs": [
    {
     "data": {
      "text/html": [
       "<div>\n",
       "<style scoped>\n",
       "    .dataframe tbody tr th:only-of-type {\n",
       "        vertical-align: middle;\n",
       "    }\n",
       "\n",
       "    .dataframe tbody tr th {\n",
       "        vertical-align: top;\n",
       "    }\n",
       "\n",
       "    .dataframe thead th {\n",
       "        text-align: right;\n",
       "    }\n",
       "</style>\n",
       "<table border=\"1\" class=\"dataframe\">\n",
       "  <thead>\n",
       "    <tr style=\"text-align: right;\">\n",
       "      <th></th>\n",
       "      <th>RXCUI1</th>\n",
       "      <th>RXAUI1</th>\n",
       "      <th>STYPE1</th>\n",
       "      <th>REL</th>\n",
       "      <th>RXCUI2</th>\n",
       "      <th>RXAUI2</th>\n",
       "      <th>STYPE2</th>\n",
       "      <th>RELA</th>\n",
       "      <th>RUI</th>\n",
       "      <th>SRUI</th>\n",
       "      <th>SAB</th>\n",
       "      <th>SL</th>\n",
       "      <th>RG☨</th>\n",
       "      <th>DIR☦</th>\n",
       "      <th>SUPPRESS</th>\n",
       "      <th>CVF</th>\n",
       "      <th></th>\n",
       "    </tr>\n",
       "  </thead>\n",
       "  <tbody>\n",
       "    <tr>\n",
       "      <th>0</th>\n",
       "      <td>NaN</td>\n",
       "      <td>5.0</td>\n",
       "      <td>AUI</td>\n",
       "      <td>SY</td>\n",
       "      <td>NaN</td>\n",
       "      <td>6.0</td>\n",
       "      <td>AUI</td>\n",
       "      <td>permuted_term_of</td>\n",
       "      <td>155592245.0</td>\n",
       "      <td>NaN</td>\n",
       "      <td>MSH</td>\n",
       "      <td>NaN</td>\n",
       "      <td>NaN</td>\n",
       "      <td>NaN</td>\n",
       "      <td>NaN</td>\n",
       "      <td>NaN</td>\n",
       "      <td>NaN</td>\n",
       "    </tr>\n",
       "    <tr>\n",
       "      <th>1</th>\n",
       "      <td>NaN</td>\n",
       "      <td>5.0</td>\n",
       "      <td>SDUI</td>\n",
       "      <td>SIB</td>\n",
       "      <td>NaN</td>\n",
       "      <td>104746.0</td>\n",
       "      <td>SDUI</td>\n",
       "      <td>NaN</td>\n",
       "      <td>154524204.0</td>\n",
       "      <td>NaN</td>\n",
       "      <td>MSH</td>\n",
       "      <td>NaN</td>\n",
       "      <td>NaN</td>\n",
       "      <td>NaN</td>\n",
       "      <td>NaN</td>\n",
       "      <td>NaN</td>\n",
       "      <td>NaN</td>\n",
       "    </tr>\n",
       "    <tr>\n",
       "      <th>2</th>\n",
       "      <td>NaN</td>\n",
       "      <td>5.0</td>\n",
       "      <td>SDUI</td>\n",
       "      <td>RN</td>\n",
       "      <td>NaN</td>\n",
       "      <td>609702.0</td>\n",
       "      <td>SDUI</td>\n",
       "      <td>mapped_to</td>\n",
       "      <td>154691227.0</td>\n",
       "      <td>NaN</td>\n",
       "      <td>MSH</td>\n",
       "      <td>NaN</td>\n",
       "      <td>1.0</td>\n",
       "      <td>NaN</td>\n",
       "      <td>NaN</td>\n",
       "      <td>NaN</td>\n",
       "      <td>NaN</td>\n",
       "    </tr>\n",
       "    <tr>\n",
       "      <th>3</th>\n",
       "      <td>NaN</td>\n",
       "      <td>5.0</td>\n",
       "      <td>AUI</td>\n",
       "      <td>SY</td>\n",
       "      <td>NaN</td>\n",
       "      <td>2666961.0</td>\n",
       "      <td>AUI</td>\n",
       "      <td>sort_version_of</td>\n",
       "      <td>155371534.0</td>\n",
       "      <td>NaN</td>\n",
       "      <td>MSH</td>\n",
       "      <td>NaN</td>\n",
       "      <td>NaN</td>\n",
       "      <td>NaN</td>\n",
       "      <td>NaN</td>\n",
       "      <td>NaN</td>\n",
       "      <td>NaN</td>\n",
       "    </tr>\n",
       "    <tr>\n",
       "      <th>4</th>\n",
       "      <td>NaN</td>\n",
       "      <td>5.0</td>\n",
       "      <td>AUI</td>\n",
       "      <td>SY</td>\n",
       "      <td>NaN</td>\n",
       "      <td>2681015.0</td>\n",
       "      <td>AUI</td>\n",
       "      <td>entry_version_of</td>\n",
       "      <td>155054914.0</td>\n",
       "      <td>NaN</td>\n",
       "      <td>MSH</td>\n",
       "      <td>NaN</td>\n",
       "      <td>NaN</td>\n",
       "      <td>NaN</td>\n",
       "      <td>NaN</td>\n",
       "      <td>NaN</td>\n",
       "      <td>NaN</td>\n",
       "    </tr>\n",
       "  </tbody>\n",
       "</table>\n",
       "</div>"
      ],
      "text/plain": [
       "   RXCUI1  RXAUI1 STYPE1  REL  RXCUI2     RXAUI2 STYPE2              RELA  \\\n",
       "0     NaN     5.0    AUI   SY     NaN        6.0    AUI  permuted_term_of   \n",
       "1     NaN     5.0   SDUI  SIB     NaN   104746.0   SDUI               NaN   \n",
       "2     NaN     5.0   SDUI   RN     NaN   609702.0   SDUI         mapped_to   \n",
       "3     NaN     5.0    AUI   SY     NaN  2666961.0    AUI   sort_version_of   \n",
       "4     NaN     5.0    AUI   SY     NaN  2681015.0    AUI  entry_version_of   \n",
       "\n",
       "           RUI  SRUI  SAB  SL  RG☨  DIR☦  SUPPRESS  CVF      \n",
       "0  155592245.0   NaN  MSH NaN  NaN   NaN       NaN  NaN NaN  \n",
       "1  154524204.0   NaN  MSH NaN  NaN   NaN       NaN  NaN NaN  \n",
       "2  154691227.0   NaN  MSH NaN  1.0   NaN       NaN  NaN NaN  \n",
       "3  155371534.0   NaN  MSH NaN  NaN   NaN       NaN  NaN NaN  \n",
       "4  155054914.0   NaN  MSH NaN  NaN   NaN       NaN  NaN NaN  "
      ]
     },
     "execution_count": 139,
     "metadata": {},
     "output_type": "execute_result"
    }
   ],
   "source": [
    "rxnrel[:5]"
   ]
  },
  {
   "cell_type": "code",
   "execution_count": 140,
   "id": "417d6dde",
   "metadata": {},
   "outputs": [
    {
     "data": {
      "text/html": [
       "<div>\n",
       "<style scoped>\n",
       "    .dataframe tbody tr th:only-of-type {\n",
       "        vertical-align: middle;\n",
       "    }\n",
       "\n",
       "    .dataframe tbody tr th {\n",
       "        vertical-align: top;\n",
       "    }\n",
       "\n",
       "    .dataframe thead th {\n",
       "        text-align: right;\n",
       "    }\n",
       "</style>\n",
       "<table border=\"1\" class=\"dataframe\">\n",
       "  <thead>\n",
       "    <tr style=\"text-align: right;\">\n",
       "      <th></th>\n",
       "      <th>0</th>\n",
       "      <th>1</th>\n",
       "      <th>2</th>\n",
       "      <th>3</th>\n",
       "      <th>4</th>\n",
       "      <th>5</th>\n",
       "      <th>6</th>\n",
       "      <th>7</th>\n",
       "      <th>8</th>\n",
       "      <th>9</th>\n",
       "      <th>10</th>\n",
       "      <th>11</th>\n",
       "      <th>12</th>\n",
       "      <th>13</th>\n",
       "      <th>14</th>\n",
       "      <th>15</th>\n",
       "      <th>16</th>\n",
       "      <th>17</th>\n",
       "      <th>18</th>\n",
       "    </tr>\n",
       "  </thead>\n",
       "  <tbody>\n",
       "    <tr>\n",
       "      <th>0</th>\n",
       "      <td>3</td>\n",
       "      <td>ENG</td>\n",
       "      <td>NaN</td>\n",
       "      <td>NaN</td>\n",
       "      <td>NaN</td>\n",
       "      <td>NaN</td>\n",
       "      <td>NaN</td>\n",
       "      <td>8717795</td>\n",
       "      <td>NaN</td>\n",
       "      <td>58488005</td>\n",
       "      <td>NaN</td>\n",
       "      <td>SNOMEDCT_US</td>\n",
       "      <td>PT</td>\n",
       "      <td>58488005</td>\n",
       "      <td>1,4-alpha-Glucan branching enzyme</td>\n",
       "      <td>NaN</td>\n",
       "      <td>N</td>\n",
       "      <td>NaN</td>\n",
       "      <td>NaN</td>\n",
       "    </tr>\n",
       "    <tr>\n",
       "      <th>1</th>\n",
       "      <td>3</td>\n",
       "      <td>ENG</td>\n",
       "      <td>NaN</td>\n",
       "      <td>NaN</td>\n",
       "      <td>NaN</td>\n",
       "      <td>NaN</td>\n",
       "      <td>NaN</td>\n",
       "      <td>8717796</td>\n",
       "      <td>NaN</td>\n",
       "      <td>58488005</td>\n",
       "      <td>NaN</td>\n",
       "      <td>SNOMEDCT_US</td>\n",
       "      <td>FN</td>\n",
       "      <td>58488005</td>\n",
       "      <td>1,4-alpha-Glucan branching enzyme (substance)</td>\n",
       "      <td>NaN</td>\n",
       "      <td>N</td>\n",
       "      <td>NaN</td>\n",
       "      <td>NaN</td>\n",
       "    </tr>\n",
       "    <tr>\n",
       "      <th>2</th>\n",
       "      <td>3</td>\n",
       "      <td>ENG</td>\n",
       "      <td>NaN</td>\n",
       "      <td>NaN</td>\n",
       "      <td>NaN</td>\n",
       "      <td>NaN</td>\n",
       "      <td>NaN</td>\n",
       "      <td>8717808</td>\n",
       "      <td>NaN</td>\n",
       "      <td>58488005</td>\n",
       "      <td>NaN</td>\n",
       "      <td>SNOMEDCT_US</td>\n",
       "      <td>SY</td>\n",
       "      <td>58488005</td>\n",
       "      <td>Amylo-(1,4,6)-transglycosylase</td>\n",
       "      <td>NaN</td>\n",
       "      <td>N</td>\n",
       "      <td>NaN</td>\n",
       "      <td>NaN</td>\n",
       "    </tr>\n",
       "    <tr>\n",
       "      <th>3</th>\n",
       "      <td>3</td>\n",
       "      <td>ENG</td>\n",
       "      <td>NaN</td>\n",
       "      <td>NaN</td>\n",
       "      <td>NaN</td>\n",
       "      <td>NaN</td>\n",
       "      <td>NaN</td>\n",
       "      <td>8718164</td>\n",
       "      <td>NaN</td>\n",
       "      <td>58488005</td>\n",
       "      <td>NaN</td>\n",
       "      <td>SNOMEDCT_US</td>\n",
       "      <td>SY</td>\n",
       "      <td>58488005</td>\n",
       "      <td>Branching enzyme</td>\n",
       "      <td>NaN</td>\n",
       "      <td>N</td>\n",
       "      <td>NaN</td>\n",
       "      <td>NaN</td>\n",
       "    </tr>\n",
       "    <tr>\n",
       "      <th>4</th>\n",
       "      <td>19</td>\n",
       "      <td>ENG</td>\n",
       "      <td>NaN</td>\n",
       "      <td>NaN</td>\n",
       "      <td>NaN</td>\n",
       "      <td>NaN</td>\n",
       "      <td>NaN</td>\n",
       "      <td>10794494</td>\n",
       "      <td>NaN</td>\n",
       "      <td>112116001</td>\n",
       "      <td>NaN</td>\n",
       "      <td>SNOMEDCT_US</td>\n",
       "      <td>SY</td>\n",
       "      <td>112116001</td>\n",
       "      <td>17-hydrocorticosteroid</td>\n",
       "      <td>NaN</td>\n",
       "      <td>N</td>\n",
       "      <td>NaN</td>\n",
       "      <td>NaN</td>\n",
       "    </tr>\n",
       "  </tbody>\n",
       "</table>\n",
       "</div>"
      ],
      "text/plain": [
       "   0    1   2   3   4   5   6         7   8          9    10           11  12  \\\n",
       "0   3  ENG NaN NaN NaN NaN NaN   8717795 NaN   58488005  NaN  SNOMEDCT_US  PT   \n",
       "1   3  ENG NaN NaN NaN NaN NaN   8717796 NaN   58488005  NaN  SNOMEDCT_US  FN   \n",
       "2   3  ENG NaN NaN NaN NaN NaN   8717808 NaN   58488005  NaN  SNOMEDCT_US  SY   \n",
       "3   3  ENG NaN NaN NaN NaN NaN   8718164 NaN   58488005  NaN  SNOMEDCT_US  SY   \n",
       "4  19  ENG NaN NaN NaN NaN NaN  10794494 NaN  112116001  NaN  SNOMEDCT_US  SY   \n",
       "\n",
       "          13                                             14  15 16  17  18  \n",
       "0   58488005              1,4-alpha-Glucan branching enzyme NaN  N NaN NaN  \n",
       "1   58488005  1,4-alpha-Glucan branching enzyme (substance) NaN  N NaN NaN  \n",
       "2   58488005                 Amylo-(1,4,6)-transglycosylase NaN  N NaN NaN  \n",
       "3   58488005                               Branching enzyme NaN  N NaN NaN  \n",
       "4  112116001                         17-hydrocorticosteroid NaN  N NaN NaN  "
      ]
     },
     "execution_count": 140,
     "metadata": {},
     "output_type": "execute_result"
    }
   ],
   "source": [
    "# Load RXNCONSO.RRF into a dataframe\n",
    "rxnconso = pd.read_csv('C:/Users/pc/Desktop/C-BIA/Healthcare/RxNorm/Data/rrf/RXNCONSO.RRF', sep='|', header=None, encoding='utf-8')\n",
    "rxnconso[:5]"
   ]
  },
  {
   "cell_type": "code",
   "execution_count": 141,
   "id": "df811415",
   "metadata": {},
   "outputs": [],
   "source": [
    "rxnconso.columns = ['RXCUI', 'LAT', 'TS', 'LUI', 'STT', 'SUI', 'ISPREF', 'RXAUI', 'SAUI', 'SCUI', 'SDUI', 'SAB', 'TTY', 'CODE', 'STR', 'SRL', 'SUPPRESS', 'CVF', '']"
   ]
  },
  {
   "cell_type": "code",
   "execution_count": 142,
   "id": "ecea944b",
   "metadata": {},
   "outputs": [
    {
     "data": {
      "text/html": [
       "<div>\n",
       "<style scoped>\n",
       "    .dataframe tbody tr th:only-of-type {\n",
       "        vertical-align: middle;\n",
       "    }\n",
       "\n",
       "    .dataframe tbody tr th {\n",
       "        vertical-align: top;\n",
       "    }\n",
       "\n",
       "    .dataframe thead th {\n",
       "        text-align: right;\n",
       "    }\n",
       "</style>\n",
       "<table border=\"1\" class=\"dataframe\">\n",
       "  <thead>\n",
       "    <tr style=\"text-align: right;\">\n",
       "      <th></th>\n",
       "      <th>RXCUI</th>\n",
       "      <th>LAT</th>\n",
       "      <th>TS</th>\n",
       "      <th>LUI</th>\n",
       "      <th>STT</th>\n",
       "      <th>SUI</th>\n",
       "      <th>ISPREF</th>\n",
       "      <th>RXAUI</th>\n",
       "      <th>SAUI</th>\n",
       "      <th>SCUI</th>\n",
       "      <th>SDUI</th>\n",
       "      <th>SAB</th>\n",
       "      <th>TTY</th>\n",
       "      <th>CODE</th>\n",
       "      <th>STR</th>\n",
       "      <th>SRL</th>\n",
       "      <th>SUPPRESS</th>\n",
       "      <th>CVF</th>\n",
       "      <th></th>\n",
       "    </tr>\n",
       "  </thead>\n",
       "  <tbody>\n",
       "    <tr>\n",
       "      <th>0</th>\n",
       "      <td>3</td>\n",
       "      <td>ENG</td>\n",
       "      <td>NaN</td>\n",
       "      <td>NaN</td>\n",
       "      <td>NaN</td>\n",
       "      <td>NaN</td>\n",
       "      <td>NaN</td>\n",
       "      <td>8717795</td>\n",
       "      <td>NaN</td>\n",
       "      <td>58488005</td>\n",
       "      <td>NaN</td>\n",
       "      <td>SNOMEDCT_US</td>\n",
       "      <td>PT</td>\n",
       "      <td>58488005</td>\n",
       "      <td>1,4-alpha-Glucan branching enzyme</td>\n",
       "      <td>NaN</td>\n",
       "      <td>N</td>\n",
       "      <td>NaN</td>\n",
       "      <td>NaN</td>\n",
       "    </tr>\n",
       "    <tr>\n",
       "      <th>1</th>\n",
       "      <td>3</td>\n",
       "      <td>ENG</td>\n",
       "      <td>NaN</td>\n",
       "      <td>NaN</td>\n",
       "      <td>NaN</td>\n",
       "      <td>NaN</td>\n",
       "      <td>NaN</td>\n",
       "      <td>8717796</td>\n",
       "      <td>NaN</td>\n",
       "      <td>58488005</td>\n",
       "      <td>NaN</td>\n",
       "      <td>SNOMEDCT_US</td>\n",
       "      <td>FN</td>\n",
       "      <td>58488005</td>\n",
       "      <td>1,4-alpha-Glucan branching enzyme (substance)</td>\n",
       "      <td>NaN</td>\n",
       "      <td>N</td>\n",
       "      <td>NaN</td>\n",
       "      <td>NaN</td>\n",
       "    </tr>\n",
       "    <tr>\n",
       "      <th>2</th>\n",
       "      <td>3</td>\n",
       "      <td>ENG</td>\n",
       "      <td>NaN</td>\n",
       "      <td>NaN</td>\n",
       "      <td>NaN</td>\n",
       "      <td>NaN</td>\n",
       "      <td>NaN</td>\n",
       "      <td>8717808</td>\n",
       "      <td>NaN</td>\n",
       "      <td>58488005</td>\n",
       "      <td>NaN</td>\n",
       "      <td>SNOMEDCT_US</td>\n",
       "      <td>SY</td>\n",
       "      <td>58488005</td>\n",
       "      <td>Amylo-(1,4,6)-transglycosylase</td>\n",
       "      <td>NaN</td>\n",
       "      <td>N</td>\n",
       "      <td>NaN</td>\n",
       "      <td>NaN</td>\n",
       "    </tr>\n",
       "    <tr>\n",
       "      <th>3</th>\n",
       "      <td>3</td>\n",
       "      <td>ENG</td>\n",
       "      <td>NaN</td>\n",
       "      <td>NaN</td>\n",
       "      <td>NaN</td>\n",
       "      <td>NaN</td>\n",
       "      <td>NaN</td>\n",
       "      <td>8718164</td>\n",
       "      <td>NaN</td>\n",
       "      <td>58488005</td>\n",
       "      <td>NaN</td>\n",
       "      <td>SNOMEDCT_US</td>\n",
       "      <td>SY</td>\n",
       "      <td>58488005</td>\n",
       "      <td>Branching enzyme</td>\n",
       "      <td>NaN</td>\n",
       "      <td>N</td>\n",
       "      <td>NaN</td>\n",
       "      <td>NaN</td>\n",
       "    </tr>\n",
       "    <tr>\n",
       "      <th>4</th>\n",
       "      <td>19</td>\n",
       "      <td>ENG</td>\n",
       "      <td>NaN</td>\n",
       "      <td>NaN</td>\n",
       "      <td>NaN</td>\n",
       "      <td>NaN</td>\n",
       "      <td>NaN</td>\n",
       "      <td>10794494</td>\n",
       "      <td>NaN</td>\n",
       "      <td>112116001</td>\n",
       "      <td>NaN</td>\n",
       "      <td>SNOMEDCT_US</td>\n",
       "      <td>SY</td>\n",
       "      <td>112116001</td>\n",
       "      <td>17-hydrocorticosteroid</td>\n",
       "      <td>NaN</td>\n",
       "      <td>N</td>\n",
       "      <td>NaN</td>\n",
       "      <td>NaN</td>\n",
       "    </tr>\n",
       "  </tbody>\n",
       "</table>\n",
       "</div>"
      ],
      "text/plain": [
       "   RXCUI  LAT  TS  LUI  STT  SUI  ISPREF     RXAUI  SAUI       SCUI SDUI  \\\n",
       "0      3  ENG NaN  NaN  NaN  NaN     NaN   8717795   NaN   58488005  NaN   \n",
       "1      3  ENG NaN  NaN  NaN  NaN     NaN   8717796   NaN   58488005  NaN   \n",
       "2      3  ENG NaN  NaN  NaN  NaN     NaN   8717808   NaN   58488005  NaN   \n",
       "3      3  ENG NaN  NaN  NaN  NaN     NaN   8718164   NaN   58488005  NaN   \n",
       "4     19  ENG NaN  NaN  NaN  NaN     NaN  10794494   NaN  112116001  NaN   \n",
       "\n",
       "           SAB TTY       CODE                                            STR  \\\n",
       "0  SNOMEDCT_US  PT   58488005              1,4-alpha-Glucan branching enzyme   \n",
       "1  SNOMEDCT_US  FN   58488005  1,4-alpha-Glucan branching enzyme (substance)   \n",
       "2  SNOMEDCT_US  SY   58488005                 Amylo-(1,4,6)-transglycosylase   \n",
       "3  SNOMEDCT_US  SY   58488005                               Branching enzyme   \n",
       "4  SNOMEDCT_US  SY  112116001                         17-hydrocorticosteroid   \n",
       "\n",
       "   SRL SUPPRESS  CVF      \n",
       "0  NaN        N  NaN NaN  \n",
       "1  NaN        N  NaN NaN  \n",
       "2  NaN        N  NaN NaN  \n",
       "3  NaN        N  NaN NaN  \n",
       "4  NaN        N  NaN NaN  "
      ]
     },
     "execution_count": 142,
     "metadata": {},
     "output_type": "execute_result"
    }
   ],
   "source": [
    "rxnconso[:5]"
   ]
  },
  {
   "cell_type": "code",
   "execution_count": 143,
   "id": "76efc230",
   "metadata": {},
   "outputs": [
    {
     "name": "stdout",
     "output_type": "stream",
     "text": [
      "<class 'pandas.core.frame.DataFrame'>\n",
      "RangeIndex: 1093950 entries, 0 to 1093949\n",
      "Data columns (total 19 columns):\n",
      " #   Column    Non-Null Count    Dtype  \n",
      "---  ------    --------------    -----  \n",
      " 0   RXCUI     1093950 non-null  int64  \n",
      " 1   LAT       1093950 non-null  object \n",
      " 2   TS        0 non-null        float64\n",
      " 3   LUI       0 non-null        float64\n",
      " 4   STT       0 non-null        float64\n",
      " 5   SUI       0 non-null        float64\n",
      " 6   ISPREF    0 non-null        float64\n",
      " 7   RXAUI     1093950 non-null  int64  \n",
      " 8   SAUI      318126 non-null   float64\n",
      " 9   SCUI      469292 non-null   object \n",
      " 10  SDUI      24794 non-null    object \n",
      " 11  SAB       1093950 non-null  object \n",
      " 12  TTY       1093950 non-null  object \n",
      " 13  CODE      1093949 non-null  object \n",
      " 14  STR       1093950 non-null  object \n",
      " 15  SRL       0 non-null        float64\n",
      " 16  SUPPRESS  1093950 non-null  object \n",
      " 17  CVF       233718 non-null   float64\n",
      " 18            0 non-null        float64\n",
      "dtypes: float64(9), int64(2), object(8)\n",
      "memory usage: 158.6+ MB\n"
     ]
    }
   ],
   "source": [
    "rxnconso.info()"
   ]
  },
  {
   "cell_type": "code",
   "execution_count": 144,
   "id": "5854593c",
   "metadata": {},
   "outputs": [
    {
     "name": "stdout",
     "output_type": "stream",
     "text": [
      "<class 'pandas.core.frame.DataFrame'>\n",
      "RangeIndex: 7163685 entries, 0 to 7163684\n",
      "Data columns (total 17 columns):\n",
      " #   Column    Dtype  \n",
      "---  ------    -----  \n",
      " 0   RXCUI1    float64\n",
      " 1   RXAUI1    float64\n",
      " 2   STYPE1    object \n",
      " 3   REL       object \n",
      " 4   RXCUI2    float64\n",
      " 5   RXAUI2    float64\n",
      " 6   STYPE2    object \n",
      " 7   RELA      object \n",
      " 8   RUI       float64\n",
      " 9   SRUI      float64\n",
      " 10  SAB       object \n",
      " 11  SL        float64\n",
      " 12  RG☨       float64\n",
      " 13  DIR☦      float64\n",
      " 14  SUPPRESS  float64\n",
      " 15  CVF       float64\n",
      " 16            float64\n",
      "dtypes: float64(12), object(5)\n",
      "memory usage: 929.1+ MB\n"
     ]
    }
   ],
   "source": [
    "rxnrel.info()"
   ]
  },
  {
   "cell_type": "code",
   "execution_count": 145,
   "id": "7317354e",
   "metadata": {},
   "outputs": [
    {
     "name": "stderr",
     "output_type": "stream",
     "text": [
      "C:\\Users\\pc\\anaconda3\\lib\\site-packages\\numpy\\lib\\arraysetops.py:583: FutureWarning: elementwise comparison failed; returning scalar instead, but in the future will perform elementwise comparison\n",
      "  mask |= (ar1 == a)\n"
     ]
    },
    {
     "data": {
      "text/html": [
       "<div>\n",
       "<style scoped>\n",
       "    .dataframe tbody tr th:only-of-type {\n",
       "        vertical-align: middle;\n",
       "    }\n",
       "\n",
       "    .dataframe tbody tr th {\n",
       "        vertical-align: top;\n",
       "    }\n",
       "\n",
       "    .dataframe thead th {\n",
       "        text-align: right;\n",
       "    }\n",
       "</style>\n",
       "<table border=\"1\" class=\"dataframe\">\n",
       "  <thead>\n",
       "    <tr style=\"text-align: right;\">\n",
       "      <th></th>\n",
       "      <th>RXCUI</th>\n",
       "      <th>LAT</th>\n",
       "      <th>TS</th>\n",
       "      <th>LUI</th>\n",
       "      <th>STT</th>\n",
       "      <th>SUI</th>\n",
       "      <th>ISPREF</th>\n",
       "      <th>RXAUI</th>\n",
       "      <th>SAUI</th>\n",
       "      <th>SCUI</th>\n",
       "      <th>SDUI</th>\n",
       "      <th>SAB</th>\n",
       "      <th>TTY</th>\n",
       "      <th>CODE</th>\n",
       "      <th>STR</th>\n",
       "      <th>SRL</th>\n",
       "      <th>SUPPRESS</th>\n",
       "      <th>CVF</th>\n",
       "      <th></th>\n",
       "    </tr>\n",
       "  </thead>\n",
       "  <tbody>\n",
       "  </tbody>\n",
       "</table>\n",
       "</div>"
      ],
      "text/plain": [
       "Empty DataFrame\n",
       "Columns: [RXCUI, LAT, TS, LUI, STT, SUI, ISPREF, RXAUI, SAUI, SCUI, SDUI, SAB, TTY, CODE, STR, SRL, SUPPRESS, CVF, ]\n",
       "Index: []"
      ]
     },
     "execution_count": 145,
     "metadata": {},
     "output_type": "execute_result"
    }
   ],
   "source": [
    "check = ['788773']\n",
    "rxnconso[rxnconso.RXAUI.isin(check)]"
   ]
  },
  {
   "cell_type": "code",
   "execution_count": 146,
   "id": "5f3306ab",
   "metadata": {},
   "outputs": [],
   "source": [
    "rxnrelsub = rxnrel\n",
    "rxnconsosub = rxnconso"
   ]
  },
  {
   "cell_type": "code",
   "execution_count": 147,
   "id": "2116b5e5",
   "metadata": {},
   "outputs": [],
   "source": [
    "rxnconsosub.drop(labels=['TS', 'STT', 'ISPREF', 'SRL', 'LUI', 'SUI', 'SUPPRESS', 'CVF','SAUI','SDUI', ''], axis=1, inplace=True)"
   ]
  },
  {
   "cell_type": "code",
   "execution_count": 148,
   "id": "10abec69",
   "metadata": {},
   "outputs": [],
   "source": [
    "rxnrelsub.drop(labels=['DIR☦', 'RG☨', 'SRUI', 'SL', 'SUPPRESS', 'CVF', ''], axis=1, inplace=True)"
   ]
  },
  {
   "cell_type": "code",
   "execution_count": 149,
   "id": "bfdb88ad",
   "metadata": {},
   "outputs": [
    {
     "data": {
      "text/html": [
       "<div>\n",
       "<style scoped>\n",
       "    .dataframe tbody tr th:only-of-type {\n",
       "        vertical-align: middle;\n",
       "    }\n",
       "\n",
       "    .dataframe tbody tr th {\n",
       "        vertical-align: top;\n",
       "    }\n",
       "\n",
       "    .dataframe thead th {\n",
       "        text-align: right;\n",
       "    }\n",
       "</style>\n",
       "<table border=\"1\" class=\"dataframe\">\n",
       "  <thead>\n",
       "    <tr style=\"text-align: right;\">\n",
       "      <th></th>\n",
       "      <th>RXCUI1</th>\n",
       "      <th>RXAUI1</th>\n",
       "      <th>STYPE1</th>\n",
       "      <th>REL</th>\n",
       "      <th>RXCUI2</th>\n",
       "      <th>RXAUI2</th>\n",
       "      <th>STYPE2</th>\n",
       "      <th>RELA</th>\n",
       "      <th>RUI</th>\n",
       "      <th>SAB</th>\n",
       "    </tr>\n",
       "  </thead>\n",
       "  <tbody>\n",
       "    <tr>\n",
       "      <th>0</th>\n",
       "      <td>NaN</td>\n",
       "      <td>5.0</td>\n",
       "      <td>AUI</td>\n",
       "      <td>SY</td>\n",
       "      <td>NaN</td>\n",
       "      <td>6.0</td>\n",
       "      <td>AUI</td>\n",
       "      <td>permuted_term_of</td>\n",
       "      <td>155592245.0</td>\n",
       "      <td>MSH</td>\n",
       "    </tr>\n",
       "    <tr>\n",
       "      <th>1</th>\n",
       "      <td>NaN</td>\n",
       "      <td>5.0</td>\n",
       "      <td>SDUI</td>\n",
       "      <td>SIB</td>\n",
       "      <td>NaN</td>\n",
       "      <td>104746.0</td>\n",
       "      <td>SDUI</td>\n",
       "      <td>NaN</td>\n",
       "      <td>154524204.0</td>\n",
       "      <td>MSH</td>\n",
       "    </tr>\n",
       "    <tr>\n",
       "      <th>2</th>\n",
       "      <td>NaN</td>\n",
       "      <td>5.0</td>\n",
       "      <td>SDUI</td>\n",
       "      <td>RN</td>\n",
       "      <td>NaN</td>\n",
       "      <td>609702.0</td>\n",
       "      <td>SDUI</td>\n",
       "      <td>mapped_to</td>\n",
       "      <td>154691227.0</td>\n",
       "      <td>MSH</td>\n",
       "    </tr>\n",
       "    <tr>\n",
       "      <th>3</th>\n",
       "      <td>NaN</td>\n",
       "      <td>5.0</td>\n",
       "      <td>AUI</td>\n",
       "      <td>SY</td>\n",
       "      <td>NaN</td>\n",
       "      <td>2666961.0</td>\n",
       "      <td>AUI</td>\n",
       "      <td>sort_version_of</td>\n",
       "      <td>155371534.0</td>\n",
       "      <td>MSH</td>\n",
       "    </tr>\n",
       "    <tr>\n",
       "      <th>4</th>\n",
       "      <td>NaN</td>\n",
       "      <td>5.0</td>\n",
       "      <td>AUI</td>\n",
       "      <td>SY</td>\n",
       "      <td>NaN</td>\n",
       "      <td>2681015.0</td>\n",
       "      <td>AUI</td>\n",
       "      <td>entry_version_of</td>\n",
       "      <td>155054914.0</td>\n",
       "      <td>MSH</td>\n",
       "    </tr>\n",
       "  </tbody>\n",
       "</table>\n",
       "</div>"
      ],
      "text/plain": [
       "   RXCUI1  RXAUI1 STYPE1  REL  RXCUI2     RXAUI2 STYPE2              RELA  \\\n",
       "0     NaN     5.0    AUI   SY     NaN        6.0    AUI  permuted_term_of   \n",
       "1     NaN     5.0   SDUI  SIB     NaN   104746.0   SDUI               NaN   \n",
       "2     NaN     5.0   SDUI   RN     NaN   609702.0   SDUI         mapped_to   \n",
       "3     NaN     5.0    AUI   SY     NaN  2666961.0    AUI   sort_version_of   \n",
       "4     NaN     5.0    AUI   SY     NaN  2681015.0    AUI  entry_version_of   \n",
       "\n",
       "           RUI  SAB  \n",
       "0  155592245.0  MSH  \n",
       "1  154524204.0  MSH  \n",
       "2  154691227.0  MSH  \n",
       "3  155371534.0  MSH  \n",
       "4  155054914.0  MSH  "
      ]
     },
     "execution_count": 149,
     "metadata": {},
     "output_type": "execute_result"
    }
   ],
   "source": [
    "rxnrelsub[:5]"
   ]
  },
  {
   "cell_type": "code",
   "execution_count": 150,
   "id": "e057eff3",
   "metadata": {},
   "outputs": [
    {
     "data": {
      "text/html": [
       "<div>\n",
       "<style scoped>\n",
       "    .dataframe tbody tr th:only-of-type {\n",
       "        vertical-align: middle;\n",
       "    }\n",
       "\n",
       "    .dataframe tbody tr th {\n",
       "        vertical-align: top;\n",
       "    }\n",
       "\n",
       "    .dataframe thead th {\n",
       "        text-align: right;\n",
       "    }\n",
       "</style>\n",
       "<table border=\"1\" class=\"dataframe\">\n",
       "  <thead>\n",
       "    <tr style=\"text-align: right;\">\n",
       "      <th></th>\n",
       "      <th>RXCUI</th>\n",
       "      <th>LAT</th>\n",
       "      <th>RXAUI</th>\n",
       "      <th>SCUI</th>\n",
       "      <th>SAB</th>\n",
       "      <th>TTY</th>\n",
       "      <th>CODE</th>\n",
       "      <th>STR</th>\n",
       "    </tr>\n",
       "  </thead>\n",
       "  <tbody>\n",
       "    <tr>\n",
       "      <th>0</th>\n",
       "      <td>3</td>\n",
       "      <td>ENG</td>\n",
       "      <td>8717795</td>\n",
       "      <td>58488005</td>\n",
       "      <td>SNOMEDCT_US</td>\n",
       "      <td>PT</td>\n",
       "      <td>58488005</td>\n",
       "      <td>1,4-alpha-Glucan branching enzyme</td>\n",
       "    </tr>\n",
       "    <tr>\n",
       "      <th>1</th>\n",
       "      <td>3</td>\n",
       "      <td>ENG</td>\n",
       "      <td>8717796</td>\n",
       "      <td>58488005</td>\n",
       "      <td>SNOMEDCT_US</td>\n",
       "      <td>FN</td>\n",
       "      <td>58488005</td>\n",
       "      <td>1,4-alpha-Glucan branching enzyme (substance)</td>\n",
       "    </tr>\n",
       "    <tr>\n",
       "      <th>2</th>\n",
       "      <td>3</td>\n",
       "      <td>ENG</td>\n",
       "      <td>8717808</td>\n",
       "      <td>58488005</td>\n",
       "      <td>SNOMEDCT_US</td>\n",
       "      <td>SY</td>\n",
       "      <td>58488005</td>\n",
       "      <td>Amylo-(1,4,6)-transglycosylase</td>\n",
       "    </tr>\n",
       "    <tr>\n",
       "      <th>3</th>\n",
       "      <td>3</td>\n",
       "      <td>ENG</td>\n",
       "      <td>8718164</td>\n",
       "      <td>58488005</td>\n",
       "      <td>SNOMEDCT_US</td>\n",
       "      <td>SY</td>\n",
       "      <td>58488005</td>\n",
       "      <td>Branching enzyme</td>\n",
       "    </tr>\n",
       "    <tr>\n",
       "      <th>4</th>\n",
       "      <td>19</td>\n",
       "      <td>ENG</td>\n",
       "      <td>10794494</td>\n",
       "      <td>112116001</td>\n",
       "      <td>SNOMEDCT_US</td>\n",
       "      <td>SY</td>\n",
       "      <td>112116001</td>\n",
       "      <td>17-hydrocorticosteroid</td>\n",
       "    </tr>\n",
       "  </tbody>\n",
       "</table>\n",
       "</div>"
      ],
      "text/plain": [
       "   RXCUI  LAT     RXAUI       SCUI          SAB TTY       CODE  \\\n",
       "0      3  ENG   8717795   58488005  SNOMEDCT_US  PT   58488005   \n",
       "1      3  ENG   8717796   58488005  SNOMEDCT_US  FN   58488005   \n",
       "2      3  ENG   8717808   58488005  SNOMEDCT_US  SY   58488005   \n",
       "3      3  ENG   8718164   58488005  SNOMEDCT_US  SY   58488005   \n",
       "4     19  ENG  10794494  112116001  SNOMEDCT_US  SY  112116001   \n",
       "\n",
       "                                             STR  \n",
       "0              1,4-alpha-Glucan branching enzyme  \n",
       "1  1,4-alpha-Glucan branching enzyme (substance)  \n",
       "2                 Amylo-(1,4,6)-transglycosylase  \n",
       "3                               Branching enzyme  \n",
       "4                         17-hydrocorticosteroid  "
      ]
     },
     "execution_count": 150,
     "metadata": {},
     "output_type": "execute_result"
    }
   ],
   "source": [
    "rxnconsosub[:5]"
   ]
  },
  {
   "cell_type": "code",
   "execution_count": 151,
   "id": "e226ff90",
   "metadata": {},
   "outputs": [
    {
     "name": "stderr",
     "output_type": "stream",
     "text": [
      "C:\\Users\\pc\\anaconda3\\lib\\site-packages\\numpy\\lib\\arraysetops.py:583: FutureWarning: elementwise comparison failed; returning scalar instead, but in the future will perform elementwise comparison\n",
      "  mask |= (ar1 == a)\n"
     ]
    },
    {
     "data": {
      "text/html": [
       "<div>\n",
       "<style scoped>\n",
       "    .dataframe tbody tr th:only-of-type {\n",
       "        vertical-align: middle;\n",
       "    }\n",
       "\n",
       "    .dataframe tbody tr th {\n",
       "        vertical-align: top;\n",
       "    }\n",
       "\n",
       "    .dataframe thead th {\n",
       "        text-align: right;\n",
       "    }\n",
       "</style>\n",
       "<table border=\"1\" class=\"dataframe\">\n",
       "  <thead>\n",
       "    <tr style=\"text-align: right;\">\n",
       "      <th></th>\n",
       "      <th>RXCUI</th>\n",
       "      <th>LAT</th>\n",
       "      <th>RXAUI</th>\n",
       "      <th>SCUI</th>\n",
       "      <th>SAB</th>\n",
       "      <th>TTY</th>\n",
       "      <th>CODE</th>\n",
       "      <th>STR</th>\n",
       "    </tr>\n",
       "  </thead>\n",
       "  <tbody>\n",
       "  </tbody>\n",
       "</table>\n",
       "</div>"
      ],
      "text/plain": [
       "Empty DataFrame\n",
       "Columns: [RXCUI, LAT, RXAUI, SCUI, SAB, TTY, CODE, STR]\n",
       "Index: []"
      ]
     },
     "execution_count": 151,
     "metadata": {},
     "output_type": "execute_result"
    }
   ],
   "source": [
    "check = ['2666961']\n",
    "rxnconsosub[rxnconsosub.RXAUI.isin(check)]"
   ]
  },
  {
   "cell_type": "code",
   "execution_count": 152,
   "id": "8f448c31",
   "metadata": {},
   "outputs": [
    {
     "data": {
      "text/html": [
       "<div>\n",
       "<style scoped>\n",
       "    .dataframe tbody tr th:only-of-type {\n",
       "        vertical-align: middle;\n",
       "    }\n",
       "\n",
       "    .dataframe tbody tr th {\n",
       "        vertical-align: top;\n",
       "    }\n",
       "\n",
       "    .dataframe thead th {\n",
       "        text-align: right;\n",
       "    }\n",
       "</style>\n",
       "<table border=\"1\" class=\"dataframe\">\n",
       "  <thead>\n",
       "    <tr style=\"text-align: right;\">\n",
       "      <th></th>\n",
       "      <th>RXCUI1</th>\n",
       "      <th>RXAUI1</th>\n",
       "      <th>STYPE1</th>\n",
       "      <th>REL</th>\n",
       "      <th>RXCUI2</th>\n",
       "      <th>RXAUI2</th>\n",
       "      <th>STYPE2</th>\n",
       "      <th>RELA</th>\n",
       "      <th>RUI</th>\n",
       "      <th>SAB</th>\n",
       "    </tr>\n",
       "  </thead>\n",
       "  <tbody>\n",
       "    <tr>\n",
       "      <th>5714011</th>\n",
       "      <td>38.0</td>\n",
       "      <td>NaN</td>\n",
       "      <td>CUI</td>\n",
       "      <td>RB</td>\n",
       "      <td>1760.0</td>\n",
       "      <td>NaN</td>\n",
       "      <td>CUI</td>\n",
       "      <td>has_tradename</td>\n",
       "      <td>4696871.0</td>\n",
       "      <td>RXNORM</td>\n",
       "    </tr>\n",
       "    <tr>\n",
       "      <th>5714012</th>\n",
       "      <td>38.0</td>\n",
       "      <td>NaN</td>\n",
       "      <td>CUI</td>\n",
       "      <td>RO</td>\n",
       "      <td>105050.0</td>\n",
       "      <td>NaN</td>\n",
       "      <td>CUI</td>\n",
       "      <td>has_ingredient</td>\n",
       "      <td>4343918.0</td>\n",
       "      <td>RXNORM</td>\n",
       "    </tr>\n",
       "    <tr>\n",
       "      <th>5714013</th>\n",
       "      <td>38.0</td>\n",
       "      <td>NaN</td>\n",
       "      <td>CUI</td>\n",
       "      <td>RO</td>\n",
       "      <td>105445.0</td>\n",
       "      <td>NaN</td>\n",
       "      <td>CUI</td>\n",
       "      <td>has_ingredient</td>\n",
       "      <td>4229336.0</td>\n",
       "      <td>RXNORM</td>\n",
       "    </tr>\n",
       "    <tr>\n",
       "      <th>5714014</th>\n",
       "      <td>38.0</td>\n",
       "      <td>NaN</td>\n",
       "      <td>CUI</td>\n",
       "      <td>RO</td>\n",
       "      <td>105446.0</td>\n",
       "      <td>NaN</td>\n",
       "      <td>CUI</td>\n",
       "      <td>has_ingredient</td>\n",
       "      <td>3798489.0</td>\n",
       "      <td>RXNORM</td>\n",
       "    </tr>\n",
       "    <tr>\n",
       "      <th>5714015</th>\n",
       "      <td>38.0</td>\n",
       "      <td>NaN</td>\n",
       "      <td>CUI</td>\n",
       "      <td>RO</td>\n",
       "      <td>105447.0</td>\n",
       "      <td>NaN</td>\n",
       "      <td>CUI</td>\n",
       "      <td>has_ingredient</td>\n",
       "      <td>4423580.0</td>\n",
       "      <td>RXNORM</td>\n",
       "    </tr>\n",
       "    <tr>\n",
       "      <th>...</th>\n",
       "      <td>...</td>\n",
       "      <td>...</td>\n",
       "      <td>...</td>\n",
       "      <td>...</td>\n",
       "      <td>...</td>\n",
       "      <td>...</td>\n",
       "      <td>...</td>\n",
       "      <td>...</td>\n",
       "      <td>...</td>\n",
       "      <td>...</td>\n",
       "    </tr>\n",
       "    <tr>\n",
       "      <th>7163680</th>\n",
       "      <td>2567330.0</td>\n",
       "      <td>NaN</td>\n",
       "      <td>CUI</td>\n",
       "      <td>RB</td>\n",
       "      <td>669081.0</td>\n",
       "      <td>NaN</td>\n",
       "      <td>CUI</td>\n",
       "      <td>has_tradename</td>\n",
       "      <td>161706809.0</td>\n",
       "      <td>RXNORM</td>\n",
       "    </tr>\n",
       "    <tr>\n",
       "      <th>7163681</th>\n",
       "      <td>2567330.0</td>\n",
       "      <td>NaN</td>\n",
       "      <td>CUI</td>\n",
       "      <td>RO</td>\n",
       "      <td>2567326.0</td>\n",
       "      <td>NaN</td>\n",
       "      <td>CUI</td>\n",
       "      <td>ingredient_of</td>\n",
       "      <td>161706801.0</td>\n",
       "      <td>RXNORM</td>\n",
       "    </tr>\n",
       "    <tr>\n",
       "      <th>7163682</th>\n",
       "      <td>2567330.0</td>\n",
       "      <td>NaN</td>\n",
       "      <td>CUI</td>\n",
       "      <td>RO</td>\n",
       "      <td>2567327.0</td>\n",
       "      <td>NaN</td>\n",
       "      <td>CUI</td>\n",
       "      <td>constitutes</td>\n",
       "      <td>161706805.0</td>\n",
       "      <td>RXNORM</td>\n",
       "    </tr>\n",
       "    <tr>\n",
       "      <th>7163683</th>\n",
       "      <td>2567330.0</td>\n",
       "      <td>NaN</td>\n",
       "      <td>CUI</td>\n",
       "      <td>RB</td>\n",
       "      <td>2567328.0</td>\n",
       "      <td>NaN</td>\n",
       "      <td>CUI</td>\n",
       "      <td>inverse_isa</td>\n",
       "      <td>161706813.0</td>\n",
       "      <td>RXNORM</td>\n",
       "    </tr>\n",
       "    <tr>\n",
       "      <th>7163684</th>\n",
       "      <td>2567330.0</td>\n",
       "      <td>NaN</td>\n",
       "      <td>CUI</td>\n",
       "      <td>RB</td>\n",
       "      <td>2567329.0</td>\n",
       "      <td>NaN</td>\n",
       "      <td>CUI</td>\n",
       "      <td>inverse_isa</td>\n",
       "      <td>161706811.0</td>\n",
       "      <td>RXNORM</td>\n",
       "    </tr>\n",
       "  </tbody>\n",
       "</table>\n",
       "<p>1449674 rows × 10 columns</p>\n",
       "</div>"
      ],
      "text/plain": [
       "            RXCUI1  RXAUI1 STYPE1 REL     RXCUI2  RXAUI2 STYPE2  \\\n",
       "5714011       38.0     NaN    CUI  RB     1760.0     NaN    CUI   \n",
       "5714012       38.0     NaN    CUI  RO   105050.0     NaN    CUI   \n",
       "5714013       38.0     NaN    CUI  RO   105445.0     NaN    CUI   \n",
       "5714014       38.0     NaN    CUI  RO   105446.0     NaN    CUI   \n",
       "5714015       38.0     NaN    CUI  RO   105447.0     NaN    CUI   \n",
       "...            ...     ...    ...  ..        ...     ...    ...   \n",
       "7163680  2567330.0     NaN    CUI  RB   669081.0     NaN    CUI   \n",
       "7163681  2567330.0     NaN    CUI  RO  2567326.0     NaN    CUI   \n",
       "7163682  2567330.0     NaN    CUI  RO  2567327.0     NaN    CUI   \n",
       "7163683  2567330.0     NaN    CUI  RB  2567328.0     NaN    CUI   \n",
       "7163684  2567330.0     NaN    CUI  RB  2567329.0     NaN    CUI   \n",
       "\n",
       "                   RELA          RUI     SAB  \n",
       "5714011   has_tradename    4696871.0  RXNORM  \n",
       "5714012  has_ingredient    4343918.0  RXNORM  \n",
       "5714013  has_ingredient    4229336.0  RXNORM  \n",
       "5714014  has_ingredient    3798489.0  RXNORM  \n",
       "5714015  has_ingredient    4423580.0  RXNORM  \n",
       "...                 ...          ...     ...  \n",
       "7163680   has_tradename  161706809.0  RXNORM  \n",
       "7163681   ingredient_of  161706801.0  RXNORM  \n",
       "7163682     constitutes  161706805.0  RXNORM  \n",
       "7163683     inverse_isa  161706813.0  RXNORM  \n",
       "7163684     inverse_isa  161706811.0  RXNORM  \n",
       "\n",
       "[1449674 rows x 10 columns]"
      ]
     },
     "execution_count": 152,
     "metadata": {},
     "output_type": "execute_result"
    }
   ],
   "source": [
    "rxnrel[rxnrel.RXCUI1.notnull()]"
   ]
  },
  {
   "cell_type": "code",
   "execution_count": 153,
   "id": "6bffcf3d",
   "metadata": {},
   "outputs": [
    {
     "name": "stderr",
     "output_type": "stream",
     "text": [
      "C:\\Users\\pc\\anaconda3\\lib\\site-packages\\numpy\\lib\\arraysetops.py:583: FutureWarning: elementwise comparison failed; returning scalar instead, but in the future will perform elementwise comparison\n",
      "  mask |= (ar1 == a)\n"
     ]
    },
    {
     "data": {
      "text/html": [
       "<div>\n",
       "<style scoped>\n",
       "    .dataframe tbody tr th:only-of-type {\n",
       "        vertical-align: middle;\n",
       "    }\n",
       "\n",
       "    .dataframe tbody tr th {\n",
       "        vertical-align: top;\n",
       "    }\n",
       "\n",
       "    .dataframe thead th {\n",
       "        text-align: right;\n",
       "    }\n",
       "</style>\n",
       "<table border=\"1\" class=\"dataframe\">\n",
       "  <thead>\n",
       "    <tr style=\"text-align: right;\">\n",
       "      <th></th>\n",
       "      <th>RXCUI</th>\n",
       "      <th>LAT</th>\n",
       "      <th>RXAUI</th>\n",
       "      <th>SCUI</th>\n",
       "      <th>SAB</th>\n",
       "      <th>TTY</th>\n",
       "      <th>CODE</th>\n",
       "      <th>STR</th>\n",
       "    </tr>\n",
       "  </thead>\n",
       "  <tbody>\n",
       "  </tbody>\n",
       "</table>\n",
       "</div>"
      ],
      "text/plain": [
       "Empty DataFrame\n",
       "Columns: [RXCUI, LAT, RXAUI, SCUI, SAB, TTY, CODE, STR]\n",
       "Index: []"
      ]
     },
     "execution_count": 153,
     "metadata": {},
     "output_type": "execute_result"
    }
   ],
   "source": [
    "check = ['38.0']\n",
    "rxnconsosub[rxnconsosub.RXCUI.isin(check)]"
   ]
  },
  {
   "cell_type": "code",
   "execution_count": 154,
   "id": "422d2c63",
   "metadata": {},
   "outputs": [],
   "source": [
    "#rxnconsosub = rxnconsosub.astype({'RXCUI': 'float', 'RXAUI': 'float'})"
   ]
  },
  {
   "cell_type": "code",
   "execution_count": 155,
   "id": "aa78a522",
   "metadata": {},
   "outputs": [
    {
     "name": "stdout",
     "output_type": "stream",
     "text": [
      "<class 'pandas.core.frame.DataFrame'>\n",
      "RangeIndex: 1093950 entries, 0 to 1093949\n",
      "Data columns (total 8 columns):\n",
      " #   Column  Non-Null Count    Dtype \n",
      "---  ------  --------------    ----- \n",
      " 0   RXCUI   1093950 non-null  int64 \n",
      " 1   LAT     1093950 non-null  object\n",
      " 2   RXAUI   1093950 non-null  int64 \n",
      " 3   SCUI    469292 non-null   object\n",
      " 4   SAB     1093950 non-null  object\n",
      " 5   TTY     1093950 non-null  object\n",
      " 6   CODE    1093949 non-null  object\n",
      " 7   STR     1093950 non-null  object\n",
      "dtypes: int64(2), object(6)\n",
      "memory usage: 66.8+ MB\n"
     ]
    }
   ],
   "source": [
    "rxnconsosub.info()"
   ]
  },
  {
   "cell_type": "code",
   "execution_count": 156,
   "id": "722af2a2",
   "metadata": {},
   "outputs": [
    {
     "name": "stderr",
     "output_type": "stream",
     "text": [
      "C:\\Users\\pc\\anaconda3\\lib\\site-packages\\numpy\\lib\\arraysetops.py:583: FutureWarning: elementwise comparison failed; returning scalar instead, but in the future will perform elementwise comparison\n",
      "  mask |= (ar1 == a)\n"
     ]
    },
    {
     "data": {
      "text/html": [
       "<div>\n",
       "<style scoped>\n",
       "    .dataframe tbody tr th:only-of-type {\n",
       "        vertical-align: middle;\n",
       "    }\n",
       "\n",
       "    .dataframe tbody tr th {\n",
       "        vertical-align: top;\n",
       "    }\n",
       "\n",
       "    .dataframe thead th {\n",
       "        text-align: right;\n",
       "    }\n",
       "</style>\n",
       "<table border=\"1\" class=\"dataframe\">\n",
       "  <thead>\n",
       "    <tr style=\"text-align: right;\">\n",
       "      <th></th>\n",
       "      <th>RXCUI1</th>\n",
       "      <th>RXAUI1</th>\n",
       "      <th>STYPE1</th>\n",
       "      <th>REL</th>\n",
       "      <th>RXCUI2</th>\n",
       "      <th>RXAUI2</th>\n",
       "      <th>STYPE2</th>\n",
       "      <th>RELA</th>\n",
       "      <th>RUI</th>\n",
       "      <th>SAB</th>\n",
       "    </tr>\n",
       "  </thead>\n",
       "  <tbody>\n",
       "  </tbody>\n",
       "</table>\n",
       "</div>"
      ],
      "text/plain": [
       "Empty DataFrame\n",
       "Columns: [RXCUI1, RXAUI1, STYPE1, REL, RXCUI2, RXAUI2, STYPE2, RELA, RUI, SAB]\n",
       "Index: []"
      ]
     },
     "execution_count": 156,
     "metadata": {},
     "output_type": "execute_result"
    }
   ],
   "source": [
    "check = ['788773']\n",
    "rxnrelsub[rxnrelsub.RXAUI1.isin(check)]"
   ]
  },
  {
   "cell_type": "markdown",
   "id": "831b0547",
   "metadata": {},
   "source": [
    "#### Merging based on SCUI column for RXNREL and RXNCONSO "
   ]
  },
  {
   "cell_type": "code",
   "execution_count": 157,
   "id": "319b7572",
   "metadata": {},
   "outputs": [],
   "source": [
    "rxnrelcui = rxnrelsub[rxnrelsub.RXCUI1.notnull()]"
   ]
  },
  {
   "cell_type": "code",
   "execution_count": 158,
   "id": "35fc1e22",
   "metadata": {},
   "outputs": [],
   "source": [
    "rxnrelaui = rxnrelsub[rxnrelsub.RXAUI1.notnull()]"
   ]
  },
  {
   "cell_type": "code",
   "execution_count": 159,
   "id": "770e9c85",
   "metadata": {},
   "outputs": [],
   "source": [
    "asso_merge1 = pd.merge(rxnrelaui, rxnconsosub, left_on=['RXAUI1','SAB'] , right_on=['RXAUI','SAB'],  how='left')"
   ]
  },
  {
   "cell_type": "code",
   "execution_count": 160,
   "id": "7220ff14",
   "metadata": {},
   "outputs": [],
   "source": [
    "asso_merge1.drop_duplicates(subset=None, keep=\"first\", inplace=True)"
   ]
  },
  {
   "cell_type": "code",
   "execution_count": 161,
   "id": "d0c9a11d",
   "metadata": {},
   "outputs": [],
   "source": [
    "asso_merge1['from_SCUI'] = asso_merge1['SCUI']\n",
    "asso_merge1['from_namespace'] = asso_merge1['SAB']"
   ]
  },
  {
   "cell_type": "code",
   "execution_count": 162,
   "id": "f29ea79d",
   "metadata": {},
   "outputs": [],
   "source": [
    "asso_merge1.drop(labels=['RXCUI', 'LAT', 'RXAUI', 'SCUI', 'TTY', 'STR', 'CODE'], axis=1, inplace=True)"
   ]
  },
  {
   "cell_type": "code",
   "execution_count": 163,
   "id": "a3db9ce1",
   "metadata": {},
   "outputs": [],
   "source": [
    "asso_merge2 = pd.merge(asso_merge1, rxnconsosub, left_on=['RXAUI2','SAB'] , right_on=['RXAUI','SAB'],  how='left')"
   ]
  },
  {
   "cell_type": "code",
   "execution_count": 164,
   "id": "e81305a4",
   "metadata": {},
   "outputs": [],
   "source": [
    "asso_merge2.drop_duplicates(subset=None, keep=\"first\", inplace=True)"
   ]
  },
  {
   "cell_type": "code",
   "execution_count": 165,
   "id": "b8e87e5e",
   "metadata": {},
   "outputs": [],
   "source": [
    "asso_merge2['to_SCUI'] = asso_merge2['SCUI']\n",
    "asso_merge2['to_namespace'] = asso_merge2['SAB']"
   ]
  },
  {
   "cell_type": "code",
   "execution_count": 166,
   "id": "66fc936d",
   "metadata": {},
   "outputs": [],
   "source": [
    "#asso_merge2.drop(labels=['RXCUI', 'LAT', 'RXAUI', 'SCUI', 'TTY', 'STR', 'CODE'], axis=1, inplace=True)"
   ]
  },
  {
   "cell_type": "code",
   "execution_count": 167,
   "id": "2391b4ce",
   "metadata": {},
   "outputs": [],
   "source": [
    "asso_merge3 = pd.merge(rxnrelcui, rxnconsosub, left_on=['RXCUI1','SAB'] , right_on=['RXCUI','SAB'],  how='left')"
   ]
  },
  {
   "cell_type": "code",
   "execution_count": 168,
   "id": "db53a290",
   "metadata": {},
   "outputs": [],
   "source": [
    "asso_merge3.drop_duplicates(subset=None, keep=\"first\", inplace=True)"
   ]
  },
  {
   "cell_type": "code",
   "execution_count": 169,
   "id": "c1a87072",
   "metadata": {},
   "outputs": [],
   "source": [
    "asso_merge3['from_SCUI'] = asso_merge3['SCUI']\n",
    "asso_merge3['from_namespace'] = asso_merge3['SAB']"
   ]
  },
  {
   "cell_type": "code",
   "execution_count": 170,
   "id": "e9227e47",
   "metadata": {},
   "outputs": [],
   "source": [
    "asso_merge3.drop(labels=['RXCUI', 'LAT', 'RXAUI', 'SCUI', 'TTY', 'STR', 'CODE'], axis=1, inplace=True)"
   ]
  },
  {
   "cell_type": "code",
   "execution_count": 171,
   "id": "d7cc3b48",
   "metadata": {},
   "outputs": [],
   "source": [
    "asso_merge4 = pd.merge(asso_merge3, rxnconsosub, left_on=['RXCUI2','SAB'] , right_on=['RXCUI','SAB'],  how='left')"
   ]
  },
  {
   "cell_type": "code",
   "execution_count": 172,
   "id": "9c96433e",
   "metadata": {},
   "outputs": [],
   "source": [
    "asso_merge4.drop_duplicates(subset=None, keep=\"first\", inplace=True)"
   ]
  },
  {
   "cell_type": "code",
   "execution_count": 173,
   "id": "a9ed4acd",
   "metadata": {},
   "outputs": [],
   "source": [
    "asso_merge4['to_SCUI'] = asso_merge4['SCUI']\n",
    "asso_merge4['to_namespace'] = asso_merge4['SAB']"
   ]
  },
  {
   "cell_type": "code",
   "execution_count": 174,
   "id": "72dbbc5b",
   "metadata": {},
   "outputs": [],
   "source": [
    "asso_mergef = pd.concat([asso_merge2,asso_merge4], ignore_index=True)"
   ]
  },
  {
   "cell_type": "code",
   "execution_count": 175,
   "id": "6fdc32c1",
   "metadata": {},
   "outputs": [],
   "source": [
    "asso_mergef.drop(labels=['RXCUI', 'LAT', 'RXAUI', 'SCUI', 'TTY', 'STR', 'CODE'], axis=1, inplace=True)"
   ]
  },
  {
   "cell_type": "code",
   "execution_count": 176,
   "id": "f76003ce",
   "metadata": {},
   "outputs": [],
   "source": [
    "asso_mergef.drop_duplicates(subset=None, keep=\"first\", inplace=True)"
   ]
  },
  {
   "cell_type": "code",
   "execution_count": 177,
   "id": "66f323ca",
   "metadata": {},
   "outputs": [],
   "source": [
    "asso_mergef = asso_mergef[asso_mergef.from_SCUI.notnull()]\n",
    "asso_mergef = asso_mergef[asso_mergef.to_SCUI.notnull()]"
   ]
  },
  {
   "cell_type": "code",
   "execution_count": 178,
   "id": "b9c85246",
   "metadata": {},
   "outputs": [
    {
     "data": {
      "text/html": [
       "<div>\n",
       "<style scoped>\n",
       "    .dataframe tbody tr th:only-of-type {\n",
       "        vertical-align: middle;\n",
       "    }\n",
       "\n",
       "    .dataframe tbody tr th {\n",
       "        vertical-align: top;\n",
       "    }\n",
       "\n",
       "    .dataframe thead th {\n",
       "        text-align: right;\n",
       "    }\n",
       "</style>\n",
       "<table border=\"1\" class=\"dataframe\">\n",
       "  <thead>\n",
       "    <tr style=\"text-align: right;\">\n",
       "      <th></th>\n",
       "      <th>RXCUI1</th>\n",
       "      <th>RXAUI1</th>\n",
       "      <th>STYPE1</th>\n",
       "      <th>REL</th>\n",
       "      <th>RXCUI2</th>\n",
       "      <th>RXAUI2</th>\n",
       "      <th>STYPE2</th>\n",
       "      <th>RELA</th>\n",
       "      <th>RUI</th>\n",
       "      <th>SAB</th>\n",
       "      <th>from_SCUI</th>\n",
       "      <th>from_namespace</th>\n",
       "      <th>to_SCUI</th>\n",
       "      <th>to_namespace</th>\n",
       "    </tr>\n",
       "  </thead>\n",
       "  <tbody>\n",
       "    <tr>\n",
       "      <th>0</th>\n",
       "      <td>NaN</td>\n",
       "      <td>5.0</td>\n",
       "      <td>AUI</td>\n",
       "      <td>SY</td>\n",
       "      <td>NaN</td>\n",
       "      <td>6.0</td>\n",
       "      <td>AUI</td>\n",
       "      <td>permuted_term_of</td>\n",
       "      <td>155592245.0</td>\n",
       "      <td>MSH</td>\n",
       "      <td>M0023172</td>\n",
       "      <td>MSH</td>\n",
       "      <td>M0023172</td>\n",
       "      <td>MSH</td>\n",
       "    </tr>\n",
       "    <tr>\n",
       "      <th>1</th>\n",
       "      <td>NaN</td>\n",
       "      <td>5.0</td>\n",
       "      <td>SDUI</td>\n",
       "      <td>SIB</td>\n",
       "      <td>NaN</td>\n",
       "      <td>104746.0</td>\n",
       "      <td>SDUI</td>\n",
       "      <td>NaN</td>\n",
       "      <td>154524204.0</td>\n",
       "      <td>MSH</td>\n",
       "      <td>M0023172</td>\n",
       "      <td>MSH</td>\n",
       "      <td>M0006471</td>\n",
       "      <td>MSH</td>\n",
       "    </tr>\n",
       "    <tr>\n",
       "      <th>2</th>\n",
       "      <td>NaN</td>\n",
       "      <td>5.0</td>\n",
       "      <td>SDUI</td>\n",
       "      <td>RN</td>\n",
       "      <td>NaN</td>\n",
       "      <td>609702.0</td>\n",
       "      <td>SDUI</td>\n",
       "      <td>mapped_to</td>\n",
       "      <td>154691227.0</td>\n",
       "      <td>MSH</td>\n",
       "      <td>M0023172</td>\n",
       "      <td>MSH</td>\n",
       "      <td>M0217563</td>\n",
       "      <td>MSH</td>\n",
       "    </tr>\n",
       "    <tr>\n",
       "      <th>3</th>\n",
       "      <td>NaN</td>\n",
       "      <td>5.0</td>\n",
       "      <td>AUI</td>\n",
       "      <td>SY</td>\n",
       "      <td>NaN</td>\n",
       "      <td>2666961.0</td>\n",
       "      <td>AUI</td>\n",
       "      <td>sort_version_of</td>\n",
       "      <td>155371534.0</td>\n",
       "      <td>MSH</td>\n",
       "      <td>M0023172</td>\n",
       "      <td>MSH</td>\n",
       "      <td>M0023172</td>\n",
       "      <td>MSH</td>\n",
       "    </tr>\n",
       "    <tr>\n",
       "      <th>4</th>\n",
       "      <td>NaN</td>\n",
       "      <td>5.0</td>\n",
       "      <td>AUI</td>\n",
       "      <td>SY</td>\n",
       "      <td>NaN</td>\n",
       "      <td>2681015.0</td>\n",
       "      <td>AUI</td>\n",
       "      <td>entry_version_of</td>\n",
       "      <td>155054914.0</td>\n",
       "      <td>MSH</td>\n",
       "      <td>M0023172</td>\n",
       "      <td>MSH</td>\n",
       "      <td>M0023172</td>\n",
       "      <td>MSH</td>\n",
       "    </tr>\n",
       "  </tbody>\n",
       "</table>\n",
       "</div>"
      ],
      "text/plain": [
       "   RXCUI1  RXAUI1 STYPE1  REL  RXCUI2     RXAUI2 STYPE2              RELA  \\\n",
       "0     NaN     5.0    AUI   SY     NaN        6.0    AUI  permuted_term_of   \n",
       "1     NaN     5.0   SDUI  SIB     NaN   104746.0   SDUI               NaN   \n",
       "2     NaN     5.0   SDUI   RN     NaN   609702.0   SDUI         mapped_to   \n",
       "3     NaN     5.0    AUI   SY     NaN  2666961.0    AUI   sort_version_of   \n",
       "4     NaN     5.0    AUI   SY     NaN  2681015.0    AUI  entry_version_of   \n",
       "\n",
       "           RUI  SAB from_SCUI from_namespace   to_SCUI to_namespace  \n",
       "0  155592245.0  MSH  M0023172            MSH  M0023172          MSH  \n",
       "1  154524204.0  MSH  M0023172            MSH  M0006471          MSH  \n",
       "2  154691227.0  MSH  M0023172            MSH  M0217563          MSH  \n",
       "3  155371534.0  MSH  M0023172            MSH  M0023172          MSH  \n",
       "4  155054914.0  MSH  M0023172            MSH  M0023172          MSH  "
      ]
     },
     "execution_count": 178,
     "metadata": {},
     "output_type": "execute_result"
    }
   ],
   "source": [
    "asso_mergef[:5]"
   ]
  },
  {
   "cell_type": "code",
   "execution_count": 179,
   "id": "137790d9",
   "metadata": {},
   "outputs": [],
   "source": [
    "asso_mergef['from_namespace_rectified'] = asso_mergef['from_namespace'].replace('RxNorm','RXNORM')\n",
    "asso_mergef['from_namespace_rectified'] = asso_mergef['from_namespace'].replace('MeSH','MSH')\n",
    "asso_mergef['from_namespace_rectified'] = asso_mergef['from_namespace'].replace('SNOMED CT','SNOMEDCT_US')"
   ]
  },
  {
   "cell_type": "code",
   "execution_count": 180,
   "id": "c018eafa",
   "metadata": {},
   "outputs": [],
   "source": [
    "asso_mergef['to_namespace_rectified'] = asso_mergef['to_namespace'].replace('RxNorm','RXNORM')\n",
    "asso_mergef['to_namespace_rectified'] = asso_mergef['to_namespace'].replace('MeSH','MSH')\n",
    "asso_mergef['to_namespace_rectified'] = asso_mergef['to_namespace'].replace('SNOMED CT','SNOMEDCT_US')"
   ]
  },
  {
   "cell_type": "code",
   "execution_count": 181,
   "id": "204d0201",
   "metadata": {},
   "outputs": [],
   "source": [
    "asso_mergef.to_csv('Association_Merged_RXN_incomplete.csv', index=False, header=1, encoding='utf-8')"
   ]
  },
  {
   "cell_type": "markdown",
   "id": "83de08ac",
   "metadata": {},
   "source": [
    "### Merging with MRCONSO "
   ]
  },
  {
   "cell_type": "code",
   "execution_count": 182,
   "id": "a9e85b5a",
   "metadata": {},
   "outputs": [
    {
     "name": "stderr",
     "output_type": "stream",
     "text": [
      "C:\\Users\\pc\\anaconda3\\lib\\site-packages\\IPython\\core\\interactiveshell.py:3165: DtypeWarning: Columns (9,10) have mixed types.Specify dtype option on import or set low_memory=False.\n",
      "  has_raised = await self.run_ast_nodes(code_ast.body, cell_name,\n"
     ]
    },
    {
     "data": {
      "text/html": [
       "<div>\n",
       "<style scoped>\n",
       "    .dataframe tbody tr th:only-of-type {\n",
       "        vertical-align: middle;\n",
       "    }\n",
       "\n",
       "    .dataframe tbody tr th {\n",
       "        vertical-align: top;\n",
       "    }\n",
       "\n",
       "    .dataframe thead th {\n",
       "        text-align: right;\n",
       "    }\n",
       "</style>\n",
       "<table border=\"1\" class=\"dataframe\">\n",
       "  <thead>\n",
       "    <tr style=\"text-align: right;\">\n",
       "      <th></th>\n",
       "      <th>0</th>\n",
       "      <th>1</th>\n",
       "      <th>2</th>\n",
       "      <th>3</th>\n",
       "      <th>4</th>\n",
       "      <th>5</th>\n",
       "      <th>6</th>\n",
       "      <th>7</th>\n",
       "      <th>8</th>\n",
       "      <th>9</th>\n",
       "      <th>10</th>\n",
       "      <th>11</th>\n",
       "      <th>12</th>\n",
       "      <th>13</th>\n",
       "      <th>14</th>\n",
       "      <th>15</th>\n",
       "      <th>16</th>\n",
       "      <th>17</th>\n",
       "      <th>18</th>\n",
       "    </tr>\n",
       "  </thead>\n",
       "  <tbody>\n",
       "    <tr>\n",
       "      <th>0</th>\n",
       "      <td>C0000005</td>\n",
       "      <td>ENG</td>\n",
       "      <td>P</td>\n",
       "      <td>L0000005</td>\n",
       "      <td>PF</td>\n",
       "      <td>S0007492</td>\n",
       "      <td>Y</td>\n",
       "      <td>A26634265</td>\n",
       "      <td>NaN</td>\n",
       "      <td>M0019694</td>\n",
       "      <td>D012711</td>\n",
       "      <td>MSH</td>\n",
       "      <td>PEP</td>\n",
       "      <td>D012711</td>\n",
       "      <td>(131)I-Macroaggregated Albumin</td>\n",
       "      <td>0</td>\n",
       "      <td>N</td>\n",
       "      <td>256.0</td>\n",
       "      <td>NaN</td>\n",
       "    </tr>\n",
       "    <tr>\n",
       "      <th>1</th>\n",
       "      <td>C0000005</td>\n",
       "      <td>ENG</td>\n",
       "      <td>S</td>\n",
       "      <td>L0270109</td>\n",
       "      <td>PF</td>\n",
       "      <td>S0007491</td>\n",
       "      <td>Y</td>\n",
       "      <td>A26634266</td>\n",
       "      <td>NaN</td>\n",
       "      <td>M0019694</td>\n",
       "      <td>D012711</td>\n",
       "      <td>MSH</td>\n",
       "      <td>ET</td>\n",
       "      <td>D012711</td>\n",
       "      <td>(131)I-MAA</td>\n",
       "      <td>0</td>\n",
       "      <td>N</td>\n",
       "      <td>256.0</td>\n",
       "      <td>NaN</td>\n",
       "    </tr>\n",
       "    <tr>\n",
       "      <th>2</th>\n",
       "      <td>C0000039</td>\n",
       "      <td>ENG</td>\n",
       "      <td>P</td>\n",
       "      <td>L0000039</td>\n",
       "      <td>PF</td>\n",
       "      <td>S17175117</td>\n",
       "      <td>N</td>\n",
       "      <td>A28315139</td>\n",
       "      <td>9194921.0</td>\n",
       "      <td>1926948</td>\n",
       "      <td>NaN</td>\n",
       "      <td>RXNORM</td>\n",
       "      <td>IN</td>\n",
       "      <td>1926948</td>\n",
       "      <td>1,2-dipalmitoylphosphatidylcholine</td>\n",
       "      <td>0</td>\n",
       "      <td>N</td>\n",
       "      <td>256.0</td>\n",
       "      <td>NaN</td>\n",
       "    </tr>\n",
       "    <tr>\n",
       "      <th>3</th>\n",
       "      <td>C0000039</td>\n",
       "      <td>ENG</td>\n",
       "      <td>P</td>\n",
       "      <td>L0000039</td>\n",
       "      <td>PF</td>\n",
       "      <td>S17175117</td>\n",
       "      <td>Y</td>\n",
       "      <td>A28572604</td>\n",
       "      <td>NaN</td>\n",
       "      <td>NaN</td>\n",
       "      <td>NaN</td>\n",
       "      <td>MTH</td>\n",
       "      <td>PN</td>\n",
       "      <td>NOCODE</td>\n",
       "      <td>1,2-dipalmitoylphosphatidylcholine</td>\n",
       "      <td>0</td>\n",
       "      <td>N</td>\n",
       "      <td>256.0</td>\n",
       "      <td>NaN</td>\n",
       "    </tr>\n",
       "    <tr>\n",
       "      <th>4</th>\n",
       "      <td>C0000039</td>\n",
       "      <td>ENG</td>\n",
       "      <td>P</td>\n",
       "      <td>L0000039</td>\n",
       "      <td>VC</td>\n",
       "      <td>S0007564</td>\n",
       "      <td>Y</td>\n",
       "      <td>A0016515</td>\n",
       "      <td>NaN</td>\n",
       "      <td>M0023172</td>\n",
       "      <td>D015060</td>\n",
       "      <td>MSH</td>\n",
       "      <td>MH</td>\n",
       "      <td>D015060</td>\n",
       "      <td>1,2-Dipalmitoylphosphatidylcholine</td>\n",
       "      <td>0</td>\n",
       "      <td>N</td>\n",
       "      <td>NaN</td>\n",
       "      <td>NaN</td>\n",
       "    </tr>\n",
       "  </tbody>\n",
       "</table>\n",
       "</div>"
      ],
      "text/plain": [
       "         0    1  2         3   4          5  6          7          8   \\\n",
       "0  C0000005  ENG  P  L0000005  PF   S0007492  Y  A26634265        NaN   \n",
       "1  C0000005  ENG  S  L0270109  PF   S0007491  Y  A26634266        NaN   \n",
       "2  C0000039  ENG  P  L0000039  PF  S17175117  N  A28315139  9194921.0   \n",
       "3  C0000039  ENG  P  L0000039  PF  S17175117  Y  A28572604        NaN   \n",
       "4  C0000039  ENG  P  L0000039  VC   S0007564  Y   A0016515        NaN   \n",
       "\n",
       "         9        10      11   12       13  \\\n",
       "0  M0019694  D012711     MSH  PEP  D012711   \n",
       "1  M0019694  D012711     MSH   ET  D012711   \n",
       "2   1926948      NaN  RXNORM   IN  1926948   \n",
       "3       NaN      NaN     MTH   PN   NOCODE   \n",
       "4  M0023172  D015060     MSH   MH  D015060   \n",
       "\n",
       "                                   14  15 16     17  18  \n",
       "0      (131)I-Macroaggregated Albumin   0  N  256.0 NaN  \n",
       "1                          (131)I-MAA   0  N  256.0 NaN  \n",
       "2  1,2-dipalmitoylphosphatidylcholine   0  N  256.0 NaN  \n",
       "3  1,2-dipalmitoylphosphatidylcholine   0  N  256.0 NaN  \n",
       "4  1,2-Dipalmitoylphosphatidylcholine   0  N    NaN NaN  "
      ]
     },
     "execution_count": 182,
     "metadata": {},
     "output_type": "execute_result"
    }
   ],
   "source": [
    "# Load MRCONSO.RRF into a dataframe\n",
    "mrconso = pd.read_csv('C:/Users/pc/Desktop/C-BIA/Healthcare/UMLS/UMLS_Data/2021AA/META/MRCONSO.RRF', sep='|', header=None, encoding='utf-8')\n",
    "mrconso[:5]"
   ]
  },
  {
   "cell_type": "code",
   "execution_count": 183,
   "id": "800ef10c",
   "metadata": {},
   "outputs": [],
   "source": [
    "mrconso.columns = ['CUI', 'LAT', 'TS', 'LUI', 'STT', 'SUI', 'ISPREF', 'AUI', 'SAUI', 'SCUI', 'SDUI', 'SAB', 'TTY', 'CODE', 'STR', 'SRL', 'SUPPRESS', 'CVF', '']"
   ]
  },
  {
   "cell_type": "code",
   "execution_count": 184,
   "id": "b140fd89",
   "metadata": {},
   "outputs": [
    {
     "name": "stdout",
     "output_type": "stream",
     "text": [
      "<class 'pandas.core.frame.DataFrame'>\n",
      "RangeIndex: 12139019 entries, 0 to 12139018\n",
      "Data columns (total 3 columns):\n",
      " #   Column  Dtype \n",
      "---  ------  ----- \n",
      " 0   SCUI    object\n",
      " 1   CUI     object\n",
      " 2   SAB     object\n",
      "dtypes: object(3)\n",
      "memory usage: 277.8+ MB\n"
     ]
    }
   ],
   "source": [
    "mrconsosub = mrconso[['SCUI','CUI','SAB']]\n",
    "mrconsosub.info()"
   ]
  },
  {
   "cell_type": "code",
   "execution_count": 185,
   "id": "409a8d0c",
   "metadata": {},
   "outputs": [],
   "source": [
    "asso_mergef_sub = asso_mergef"
   ]
  },
  {
   "cell_type": "code",
   "execution_count": 186,
   "id": "3820f186",
   "metadata": {},
   "outputs": [],
   "source": [
    "asso_mergef2 = pd.merge(asso_mergef_sub, mrconsosub, left_on=['from_SCUI','from_namespace_rectified'] , right_on=['SCUI','SAB'],  how='left')"
   ]
  },
  {
   "cell_type": "code",
   "execution_count": 187,
   "id": "c95d9d43",
   "metadata": {},
   "outputs": [],
   "source": [
    "asso_mergef2.drop_duplicates(subset=None, keep=\"first\", inplace=True)"
   ]
  },
  {
   "cell_type": "code",
   "execution_count": 188,
   "id": "1ec93a10",
   "metadata": {},
   "outputs": [
    {
     "name": "stdout",
     "output_type": "stream",
     "text": [
      "<class 'pandas.core.frame.DataFrame'>\n",
      "Int64Index: 1670087 entries, 0 to 3136153\n",
      "Data columns (total 19 columns):\n",
      " #   Column                    Non-Null Count    Dtype  \n",
      "---  ------                    --------------    -----  \n",
      " 0   RXCUI1                    1449674 non-null  float64\n",
      " 1   RXAUI1                    220413 non-null   float64\n",
      " 2   STYPE1                    1670087 non-null  object \n",
      " 3   REL                       1670087 non-null  object \n",
      " 4   RXCUI2                    1449674 non-null  float64\n",
      " 5   RXAUI2                    220413 non-null   float64\n",
      " 6   STYPE2                    1670087 non-null  object \n",
      " 7   RELA                      1527748 non-null  object \n",
      " 8   RUI                       1552893 non-null  float64\n",
      " 9   SAB_x                     1670087 non-null  object \n",
      " 10  from_SCUI                 1670087 non-null  object \n",
      " 11  from_namespace            1670087 non-null  object \n",
      " 12  to_SCUI                   1670087 non-null  object \n",
      " 13  to_namespace              1670087 non-null  object \n",
      " 14  from_namespace_rectified  1670087 non-null  object \n",
      " 15  to_namespace_rectified    1670087 non-null  object \n",
      " 16  SCUI                      1648057 non-null  object \n",
      " 17  CUI                       1648057 non-null  object \n",
      " 18  SAB_y                     1648057 non-null  object \n",
      "dtypes: float64(5), object(14)\n",
      "memory usage: 254.8+ MB\n"
     ]
    }
   ],
   "source": [
    "asso_mergef2.info()"
   ]
  },
  {
   "cell_type": "code",
   "execution_count": 189,
   "id": "a16efa21",
   "metadata": {},
   "outputs": [],
   "source": [
    "asso_mergef2['from_CUI'] = asso_mergef2['CUI']"
   ]
  },
  {
   "cell_type": "code",
   "execution_count": 190,
   "id": "b5eec9c6",
   "metadata": {},
   "outputs": [],
   "source": [
    "asso_mergef2.drop(labels=['CUI','SCUI'], axis=1, inplace=True)"
   ]
  },
  {
   "cell_type": "code",
   "execution_count": 191,
   "id": "757d54d8",
   "metadata": {},
   "outputs": [],
   "source": [
    "asso_mergef2 = pd.merge(asso_mergef2, mrconsosub, left_on=['to_SCUI','to_namespace_rectified'] , right_on=['SCUI','SAB'],  how='left')"
   ]
  },
  {
   "cell_type": "code",
   "execution_count": 192,
   "id": "438a8636",
   "metadata": {},
   "outputs": [],
   "source": [
    "asso_mergef2.drop_duplicates(subset=None, keep=\"first\", inplace=True)"
   ]
  },
  {
   "cell_type": "code",
   "execution_count": 193,
   "id": "51266ce4",
   "metadata": {},
   "outputs": [],
   "source": [
    "asso_mergef2['to_CUI'] = asso_mergef2['CUI']"
   ]
  },
  {
   "cell_type": "code",
   "execution_count": 194,
   "id": "625b50bb",
   "metadata": {},
   "outputs": [],
   "source": [
    "asso_mergef2.drop(labels=['CUI','SCUI'], axis=1, inplace=True)"
   ]
  },
  {
   "cell_type": "code",
   "execution_count": 195,
   "id": "3cb701cd",
   "metadata": {},
   "outputs": [
    {
     "name": "stdout",
     "output_type": "stream",
     "text": [
      "<class 'pandas.core.frame.DataFrame'>\n",
      "Int64Index: 1672503 entries, 0 to 3146751\n",
      "Data columns (total 20 columns):\n",
      " #   Column                    Non-Null Count    Dtype  \n",
      "---  ------                    --------------    -----  \n",
      " 0   RXCUI1                    1449674 non-null  float64\n",
      " 1   RXAUI1                    222829 non-null   float64\n",
      " 2   STYPE1                    1672503 non-null  object \n",
      " 3   REL                       1672503 non-null  object \n",
      " 4   RXCUI2                    1449674 non-null  float64\n",
      " 5   RXAUI2                    222829 non-null   float64\n",
      " 6   STYPE2                    1672503 non-null  object \n",
      " 7   RELA                      1529945 non-null  object \n",
      " 8   RUI                       1555309 non-null  float64\n",
      " 9   SAB_x                     1672503 non-null  object \n",
      " 10  from_SCUI                 1672503 non-null  object \n",
      " 11  from_namespace            1672503 non-null  object \n",
      " 12  to_SCUI                   1672503 non-null  object \n",
      " 13  to_namespace              1672503 non-null  object \n",
      " 14  from_namespace_rectified  1672503 non-null  object \n",
      " 15  to_namespace_rectified    1672503 non-null  object \n",
      " 16  SAB_y                     1650403 non-null  object \n",
      " 17  from_CUI                  1650403 non-null  object \n",
      " 18  SAB                       1650403 non-null  object \n",
      " 19  to_CUI                    1650403 non-null  object \n",
      "dtypes: float64(5), object(15)\n",
      "memory usage: 268.0+ MB\n"
     ]
    }
   ],
   "source": [
    "asso_mergef2.info()"
   ]
  },
  {
   "cell_type": "code",
   "execution_count": 196,
   "id": "e70ba8a7",
   "metadata": {},
   "outputs": [],
   "source": [
    "asso_mergef2.drop_duplicates(subset=None, keep=\"first\", inplace=True)"
   ]
  },
  {
   "cell_type": "code",
   "execution_count": 197,
   "id": "df5c7b46",
   "metadata": {},
   "outputs": [
    {
     "name": "stdout",
     "output_type": "stream",
     "text": [
      "<class 'pandas.core.frame.DataFrame'>\n",
      "Int64Index: 1672503 entries, 0 to 3146751\n",
      "Data columns (total 20 columns):\n",
      " #   Column                    Non-Null Count    Dtype  \n",
      "---  ------                    --------------    -----  \n",
      " 0   RXCUI1                    1449674 non-null  float64\n",
      " 1   RXAUI1                    222829 non-null   float64\n",
      " 2   STYPE1                    1672503 non-null  object \n",
      " 3   REL                       1672503 non-null  object \n",
      " 4   RXCUI2                    1449674 non-null  float64\n",
      " 5   RXAUI2                    222829 non-null   float64\n",
      " 6   STYPE2                    1672503 non-null  object \n",
      " 7   RELA                      1529945 non-null  object \n",
      " 8   RUI                       1555309 non-null  float64\n",
      " 9   SAB_x                     1672503 non-null  object \n",
      " 10  from_SCUI                 1672503 non-null  object \n",
      " 11  from_namespace            1672503 non-null  object \n",
      " 12  to_SCUI                   1672503 non-null  object \n",
      " 13  to_namespace              1672503 non-null  object \n",
      " 14  from_namespace_rectified  1672503 non-null  object \n",
      " 15  to_namespace_rectified    1672503 non-null  object \n",
      " 16  SAB_y                     1650403 non-null  object \n",
      " 17  from_CUI                  1650403 non-null  object \n",
      " 18  SAB                       1650403 non-null  object \n",
      " 19  to_CUI                    1650403 non-null  object \n",
      "dtypes: float64(5), object(15)\n",
      "memory usage: 268.0+ MB\n"
     ]
    }
   ],
   "source": [
    "asso_mergef2.info()"
   ]
  },
  {
   "cell_type": "code",
   "execution_count": 199,
   "id": "2db9b7d0",
   "metadata": {},
   "outputs": [
    {
     "data": {
      "text/html": [
       "<div>\n",
       "<style scoped>\n",
       "    .dataframe tbody tr th:only-of-type {\n",
       "        vertical-align: middle;\n",
       "    }\n",
       "\n",
       "    .dataframe tbody tr th {\n",
       "        vertical-align: top;\n",
       "    }\n",
       "\n",
       "    .dataframe thead th {\n",
       "        text-align: right;\n",
       "    }\n",
       "</style>\n",
       "<table border=\"1\" class=\"dataframe\">\n",
       "  <thead>\n",
       "    <tr style=\"text-align: right;\">\n",
       "      <th></th>\n",
       "      <th>RXCUI1</th>\n",
       "      <th>RXAUI1</th>\n",
       "      <th>STYPE1</th>\n",
       "      <th>REL</th>\n",
       "      <th>RXCUI2</th>\n",
       "      <th>RXAUI2</th>\n",
       "      <th>STYPE2</th>\n",
       "      <th>RELA</th>\n",
       "      <th>RUI</th>\n",
       "      <th>SAB_x</th>\n",
       "      <th>...</th>\n",
       "      <th>to_namespace</th>\n",
       "      <th>from_namespace_rectified</th>\n",
       "      <th>to_namespace_rectified</th>\n",
       "      <th>SAB_y</th>\n",
       "      <th>from_CUI</th>\n",
       "      <th>SAB</th>\n",
       "      <th>to_CUI</th>\n",
       "      <th>version</th>\n",
       "      <th>namespace</th>\n",
       "      <th>name</th>\n",
       "    </tr>\n",
       "  </thead>\n",
       "  <tbody>\n",
       "    <tr>\n",
       "      <th>0</th>\n",
       "      <td>NaN</td>\n",
       "      <td>5.0</td>\n",
       "      <td>AUI</td>\n",
       "      <td>SY</td>\n",
       "      <td>NaN</td>\n",
       "      <td>6.0</td>\n",
       "      <td>AUI</td>\n",
       "      <td>permuted_term_of</td>\n",
       "      <td>155592245.0</td>\n",
       "      <td>MSH</td>\n",
       "      <td>...</td>\n",
       "      <td>MSH</td>\n",
       "      <td>MSH</td>\n",
       "      <td>MSH</td>\n",
       "      <td>MSH</td>\n",
       "      <td>C0000039</td>\n",
       "      <td>MSH</td>\n",
       "      <td>C0000039</td>\n",
       "      <td>2021.09.07.21AA</td>\n",
       "      <td>RxNorm</td>\n",
       "      <td>SY</td>\n",
       "    </tr>\n",
       "    <tr>\n",
       "      <th>14</th>\n",
       "      <td>NaN</td>\n",
       "      <td>5.0</td>\n",
       "      <td>SDUI</td>\n",
       "      <td>SIB</td>\n",
       "      <td>NaN</td>\n",
       "      <td>104746.0</td>\n",
       "      <td>SDUI</td>\n",
       "      <td>NaN</td>\n",
       "      <td>154524204.0</td>\n",
       "      <td>MSH</td>\n",
       "      <td>...</td>\n",
       "      <td>MSH</td>\n",
       "      <td>MSH</td>\n",
       "      <td>MSH</td>\n",
       "      <td>MSH</td>\n",
       "      <td>C0000039</td>\n",
       "      <td>MSH</td>\n",
       "      <td>C0012456</td>\n",
       "      <td>2021.09.07.21AA</td>\n",
       "      <td>RxNorm</td>\n",
       "      <td>SIB</td>\n",
       "    </tr>\n",
       "    <tr>\n",
       "      <th>25</th>\n",
       "      <td>NaN</td>\n",
       "      <td>5.0</td>\n",
       "      <td>SDUI</td>\n",
       "      <td>RN</td>\n",
       "      <td>NaN</td>\n",
       "      <td>609702.0</td>\n",
       "      <td>SDUI</td>\n",
       "      <td>mapped_to</td>\n",
       "      <td>154691227.0</td>\n",
       "      <td>MSH</td>\n",
       "      <td>...</td>\n",
       "      <td>MSH</td>\n",
       "      <td>MSH</td>\n",
       "      <td>MSH</td>\n",
       "      <td>MSH</td>\n",
       "      <td>C0000039</td>\n",
       "      <td>MSH</td>\n",
       "      <td>C0216971</td>\n",
       "      <td>2021.09.07.21AA</td>\n",
       "      <td>RxNorm</td>\n",
       "      <td>RN</td>\n",
       "    </tr>\n",
       "    <tr>\n",
       "      <th>27</th>\n",
       "      <td>NaN</td>\n",
       "      <td>5.0</td>\n",
       "      <td>AUI</td>\n",
       "      <td>SY</td>\n",
       "      <td>NaN</td>\n",
       "      <td>2666961.0</td>\n",
       "      <td>AUI</td>\n",
       "      <td>sort_version_of</td>\n",
       "      <td>155371534.0</td>\n",
       "      <td>MSH</td>\n",
       "      <td>...</td>\n",
       "      <td>MSH</td>\n",
       "      <td>MSH</td>\n",
       "      <td>MSH</td>\n",
       "      <td>MSH</td>\n",
       "      <td>C0000039</td>\n",
       "      <td>MSH</td>\n",
       "      <td>C0000039</td>\n",
       "      <td>2021.09.07.21AA</td>\n",
       "      <td>RxNorm</td>\n",
       "      <td>SY</td>\n",
       "    </tr>\n",
       "    <tr>\n",
       "      <th>41</th>\n",
       "      <td>NaN</td>\n",
       "      <td>5.0</td>\n",
       "      <td>AUI</td>\n",
       "      <td>SY</td>\n",
       "      <td>NaN</td>\n",
       "      <td>2681015.0</td>\n",
       "      <td>AUI</td>\n",
       "      <td>entry_version_of</td>\n",
       "      <td>155054914.0</td>\n",
       "      <td>MSH</td>\n",
       "      <td>...</td>\n",
       "      <td>MSH</td>\n",
       "      <td>MSH</td>\n",
       "      <td>MSH</td>\n",
       "      <td>MSH</td>\n",
       "      <td>C0000039</td>\n",
       "      <td>MSH</td>\n",
       "      <td>C0000039</td>\n",
       "      <td>2021.09.07.21AA</td>\n",
       "      <td>RxNorm</td>\n",
       "      <td>SY</td>\n",
       "    </tr>\n",
       "  </tbody>\n",
       "</table>\n",
       "<p>5 rows × 23 columns</p>\n",
       "</div>"
      ],
      "text/plain": [
       "    RXCUI1  RXAUI1 STYPE1  REL  RXCUI2     RXAUI2 STYPE2              RELA  \\\n",
       "0      NaN     5.0    AUI   SY     NaN        6.0    AUI  permuted_term_of   \n",
       "14     NaN     5.0   SDUI  SIB     NaN   104746.0   SDUI               NaN   \n",
       "25     NaN     5.0   SDUI   RN     NaN   609702.0   SDUI         mapped_to   \n",
       "27     NaN     5.0    AUI   SY     NaN  2666961.0    AUI   sort_version_of   \n",
       "41     NaN     5.0    AUI   SY     NaN  2681015.0    AUI  entry_version_of   \n",
       "\n",
       "            RUI SAB_x  ... to_namespace from_namespace_rectified  \\\n",
       "0   155592245.0   MSH  ...          MSH                      MSH   \n",
       "14  154524204.0   MSH  ...          MSH                      MSH   \n",
       "25  154691227.0   MSH  ...          MSH                      MSH   \n",
       "27  155371534.0   MSH  ...          MSH                      MSH   \n",
       "41  155054914.0   MSH  ...          MSH                      MSH   \n",
       "\n",
       "   to_namespace_rectified SAB_y  from_CUI  SAB    to_CUI          version  \\\n",
       "0                     MSH   MSH  C0000039  MSH  C0000039  2021.09.07.21AA   \n",
       "14                    MSH   MSH  C0000039  MSH  C0012456  2021.09.07.21AA   \n",
       "25                    MSH   MSH  C0000039  MSH  C0216971  2021.09.07.21AA   \n",
       "27                    MSH   MSH  C0000039  MSH  C0000039  2021.09.07.21AA   \n",
       "41                    MSH   MSH  C0000039  MSH  C0000039  2021.09.07.21AA   \n",
       "\n",
       "   namespace name  \n",
       "0     RxNorm   SY  \n",
       "14    RxNorm  SIB  \n",
       "25    RxNorm   RN  \n",
       "27    RxNorm   SY  \n",
       "41    RxNorm   SY  \n",
       "\n",
       "[5 rows x 23 columns]"
      ]
     },
     "execution_count": 199,
     "metadata": {},
     "output_type": "execute_result"
    }
   ],
   "source": [
    "asso_mergef2['version'] = '2021.09.07.21AA'\n",
    "asso_mergef2['namespace'] = 'RxNorm'\n",
    "asso_mergef2['name'] = asso_mergef2['REL']\n",
    "asso_mergef2[:5]"
   ]
  },
  {
   "cell_type": "code",
   "execution_count": 200,
   "id": "2d1f4e49",
   "metadata": {},
   "outputs": [],
   "source": [
    "asso_mergef2.to_csv('Association_Merged_RXN_check.csv', index=False, header=1, encoding='utf-8')"
   ]
  },
  {
   "cell_type": "markdown",
   "id": "ea7925d5",
   "metadata": {},
   "source": [
    "##### Move the \"Association_Merged_RXN_check\" into the Neo4J import folder"
   ]
  },
  {
   "cell_type": "markdown",
   "id": "5af35a48",
   "metadata": {},
   "source": [
    "## Importing in Neo4J "
   ]
  },
  {
   "cell_type": "code",
   "execution_count": 1,
   "id": "d27c3761",
   "metadata": {},
   "outputs": [],
   "source": [
    "import pandas as pd"
   ]
  },
  {
   "cell_type": "code",
   "execution_count": 2,
   "id": "a2b0e74e",
   "metadata": {},
   "outputs": [
    {
     "name": "stdout",
     "output_type": "stream",
     "text": [
      "\n",
      "Please enter the Neo4j database password to continue \n",
      "········\n"
     ]
    }
   ],
   "source": [
    "import getpass\n",
    "password = getpass.getpass(\"\\nPlease enter the Neo4j database password to continue \\n\")"
   ]
  },
  {
   "cell_type": "code",
   "execution_count": 3,
   "id": "fcb8f67a",
   "metadata": {},
   "outputs": [],
   "source": [
    "from neo4j import GraphDatabase\n",
    "driver=GraphDatabase.driver(uri=\"bolt://localhost:7687\", auth=('neo4j',password))\n",
    "session=driver.session()"
   ]
  },
  {
   "cell_type": "code",
   "execution_count": 204,
   "id": "17606c79",
   "metadata": {},
   "outputs": [],
   "source": [
    "# Create a node for each concept in the UMLS\n",
    "#query = '''USING PERIODIC COMMIT 100000 LOAD CSV FROM \"file:///CUIs_preferred_terms.csv\" AS COLUMN CREATE (:Concept_UMLS {preferred_term:COLUMN[1], cui:COLUMN[0], semantic_type:COLUMN[2], UMLS_edition:'2021AA'})'''\n",
    "\n",
    "#session.run(query)"
   ]
  },
  {
   "cell_type": "code",
   "execution_count": 205,
   "id": "9f69fadd",
   "metadata": {},
   "outputs": [],
   "source": [
    "# Create a uniqueness constraint for the CUI property of each Concept_UMLS node\n",
    "#query = 'CREATE CONSTRAINT UniqueCUIforConceptConstraint ON (c:Concept_UMLS) ASSERT c.cui IS UNIQUE'\n",
    "#session.run(query)"
   ]
  },
  {
   "cell_type": "code",
   "execution_count": 206,
   "id": "d186f52b",
   "metadata": {},
   "outputs": [],
   "source": [
    "# Create the UMLS string nodes\n",
    "#query = '''USING PERIODIC COMMIT 100000 LOAD CSV FROM \"file:///str_to_CUI.csv\" AS COLUMN CREATE (s:String_UMLS {string:COLUMN[0], cui:COLUMN[1], semantic_type:COLUMN[2]})'''\n",
    "\n",
    "#session.run(query)"
   ]
  },
  {
   "cell_type": "markdown",
   "id": "611c17e6",
   "metadata": {},
   "source": [
    "###### Sometimes python causes issue and the command below is not executed. In case such a thing happens , it's recommended to run the cell/command again.\n",
    "\n",
    "To check if these specific relations were added, search in the Neo4J browser for relationship by the name of 'CHD' , 'SIB' , 'SY'. If these 3 exist , most probably all the relationships from the Association_Merged_RXN.csv have been added."
   ]
  },
  {
   "cell_type": "markdown",
   "id": "72d5aa29",
   "metadata": {},
   "source": [
    "Use the following code to check if the relationship exist: (you can replace CHD with the name of the relationship)\n",
    "\n",
    "MATCH p=()-[r:CHD]->() RETURN p LIMIT 25"
   ]
  },
  {
   "cell_type": "code",
   "execution_count": 5,
   "id": "25a1135f",
   "metadata": {},
   "outputs": [
    {
     "data": {
      "text/plain": [
       "<neo4j.work.result.Result at 0x1d507d47dc0>"
      ]
     },
     "execution_count": 5,
     "metadata": {},
     "output_type": "execute_result"
    }
   ],
   "source": [
    "command = '''USING PERIODIC COMMIT 1000000 LOAD CSV WITH HEADERS FROM \"file:///Association_Merged_RXN_check.csv\" AS COLUMN MATCH (c1:Concept_UMLS {cui:COLUMN.from_CUI}) MATCH (c2:Concept_UMLS {cui:COLUMN.to_CUI}) OPTIONAL MATCH (c1)-[rel]->(c2) WITH c1, c2, COLUMN, COLLECT(TYPE(rel)) AS relTypes WHERE NOT COLUMN.name IN relTypes CALL apoc.create.relationship(c1, COLUMN.name, {source:COLUMN.namespace, version:COLUMN.version, REL_Additional:COLUMN.RELA}, c2) YIELD rel as newrel RETURN c1, c2, newrel;'''\n",
    "session.run(command)"
   ]
  },
  {
   "cell_type": "markdown",
   "id": "2d474346",
   "metadata": {},
   "source": [
    "### Regarding the Relationships created after executing the code\n",
    "\n",
    "The following link contains information about what the relationship names stand for: https://www.nlm.nih.gov/research/umls/knowledge_sources/metathesaurus/release/abbreviations.html#mrdoc_REL\n",
    "\n"
   ]
  }
 ],
 "metadata": {
  "kernelspec": {
   "display_name": "Python 3",
   "language": "python",
   "name": "python3"
  },
  "language_info": {
   "codemirror_mode": {
    "name": "ipython",
    "version": 3
   },
   "file_extension": ".py",
   "mimetype": "text/x-python",
   "name": "python",
   "nbconvert_exporter": "python",
   "pygments_lexer": "ipython3",
   "version": "3.9.4"
  }
 },
 "nbformat": 4,
 "nbformat_minor": 5
}
