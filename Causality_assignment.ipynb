{
 "cells": [
  {
   "cell_type": "markdown",
   "id": "psychological-voluntary",
   "metadata": {},
   "source": [
    "# Scraping the medical literature to add causal relationships among UMLS concepts in the graph database"
   ]
  },
  {
   "cell_type": "markdown",
   "id": "faced-plain",
   "metadata": {},
   "source": [
    "Given a graph database containing all UMLS concepts as nodes, use medical texts to find all causal relations among all UMLS concepts and add these relations as formal relationships in the graph. \n",
    "\n",
    "Approach 1: Start search with query with UMLS strings linked to the concept \"Etiology aspects\" (UMLS CUI: C0015127)\n",
    "Search a medical text and return every sentence containing a UMLS string that points to the UMLS concept \"Etiology aspects.\" Identify the subject and the object of the causal verb. Search the list of UMLS strings for the subject and object. When both subject and object of a sentence exist in the UMLS strings, write cypher code that MATCHes those UMLS strings and their related :Concepts and MERGEs a new :CAUSES relationship between the UMLS concepts. Save the Pubmed ID of the source of the causal information and the sentence describing the causal relationship as properties of the CAUSES relationship.\n",
    "\n",
    "\n",
    "- For each concept in the UMLS, use Pubmed's ESearch utility to search for the MeSH term and any of the narrower concepts of the [Linkage Concept (CUI C0332280)](https://uts.nlm.nih.gov/uts/umls/concept/C0332280) or any of the concepts under [functionally_related_to](https://www.nlm.nih.gov/research/umls/META3_current_relations.html) in the semantic network. This returns a list of PMIDs.\n",
    "- Pass the list of PMIDs into the EFetch utility to get a list of text abstracts\n",
    "- Identify the object of any causal verb and search a list of distinct UMLS strings for the object\n",
    "- For any matches, write and execute cypher code to match the concept nodes connected to the subject and object, and MERGE a :CAUSES relationhip with properties of source: Pubmed, pmid, and the sentence in which the causal relationship was stated. \n",
    "- Have human experts review the graph to find inappropriate connections and revise the code to avoid making such connections."
   ]
  },
  {
   "cell_type": "markdown",
   "id": "grateful-hindu",
   "metadata": {},
   "source": [
    "The NCBI's E-utilities can be used to automate Pubmed searches.\n",
    "\n",
    "Minimizing the Number of Requests  [Source](https://www.ncbi.nlm.nih.gov/books/NBK25497/#chapter2.The_Nine_Eutilities_in_Brief)  \n",
    "If a task requires searching for and/or downloading a large number of records, it is much more efficient to use the Entrez History to upload and/or retrieve these records in batches rather than using separate requests for each record. Please refer to Application 3 in Chapter 3 for an example. Many thousands of IDs can be uploaded using a single EPost request, and several hundred records can be downloaded using one EFetch request.\n",
    "\n",
    "[Details on EFetch](https://www.ncbi.nlm.nih.gov/books/NBK25499/#chapter4.EFetch)\n",
    "\n",
    "PMIDs_str = []\n",
    "url = '''https://eutils.ncbi.nlm.nih.gov/entrez/eutils/efetch.fcgi?db=pubmed&id={PMIDs}&retmode=text&rettype=abstract'''.format(PMIDs=PMIDs_str)"
   ]
  },
  {
   "cell_type": "code",
   "execution_count": 2,
   "id": "headed-humanitarian",
   "metadata": {},
   "outputs": [],
   "source": [
    "import requests\n",
    "from bs4 import BeautifulSoup\n",
    "import json\n",
    "import re\n",
    "import urllib.parse\n",
    "import pandas as pd\n",
    "import time"
   ]
  },
  {
   "cell_type": "code",
   "execution_count": 3,
   "id": "bizarre-prevention",
   "metadata": {},
   "outputs": [
    {
     "name": "stdout",
     "output_type": "stream",
     "text": [
      "https://eutils.ncbi.nlm.nih.gov/entrez/eutils/esearch.fcgi?db=pubmed&retmax=200&term=%28%28%28%28%28%28%28cause%5BTitle%2FAbstract%5D%29%20NOT%20%28all-cause%5BTitle%2FAbstract%5D%29%29%20%29%20%29%20%29%20OR%20%28resulting%20in%5BTitle%2FAbstract%5D%29%29%20OR%20%28due%20to%5BTitle%2FAbstract%5D%29%29%20AND%20%28respiratory%20failure%5BTitle%2FAbstract%5D%29\n"
     ]
    },
    {
     "data": {
      "text/plain": [
       "'33794205,33793086,33791177,33791101,33790521,33790512,33788191,33788015,33786448,33785355,33783269,33782861,33782774,33781349,33780519,33779386,33778090,33777571,33776717,33776431,33769275,33769103,33768630,33768195,33766961,33766794,33764182,33762493,33760464,33758887,33758161,33758150,33754916,33754088,33752392,33751131,33750741,33750338,33748247,33747786,33747760,33747592,33747413,33744911,33743806,33741569,33739956,33735661,33731006,33729129,33728514,33728168,33728071,33727299,33724365,33722271,33721137,33720607,33717751,33717368,33716310,33711919,33710610,33709528,33709318,33706592,33705348,33704883,33693057,33691378,33688576,33688440,33687672,33687180,33686984,33686492,33685769,33681677,33681257,33681097,33680800,33680448,33679753,33679254,33678770,33678052,33676105,33676091,33672672,33670462,33670260,33666909,33666682,33666071,33666070,33665764,33664959,33664810,33663958,33663129,33658444,33657294,33655986,33655275,33653913,33653908,33651923,33651250,33648989,33646336,33645461,33644972,33644647,33643838,33643316,33638752,33637994,33637334,33637060,33637033,33636983,33634156,33632783,33630406,33628567,33628559,33628034,33627584,33627349,33627169,33624260,33624101,33622737,33622528,33622297,33621889,33621840,33614051,33612346,33611981,33611253,33608563,33608334,33607846,33606217,33604576,33604054,33603707,33603309,33599679,33598398,33597362,33596701,33596136,33594358,33594347,33592291,33592054,33590542,33588090,33585674,33585638,33584335,33580031,33574358,33573662,33572570,33570431,33569492,33565183,33564541,33560456,33559955,33554092,33554025,33552410,33552401,33552400,33551422,33549399,33547707,33547504,33546739,33544007,33542973,33542646,33542171,33541967,33541396,33537328,33534266,33532162,33532126,33529611,33529513,33527651,33526094,33525282,33523214,33521312'"
      ]
     },
     "execution_count": 3,
     "metadata": {},
     "output_type": "execute_result"
    }
   ],
   "source": [
    "# To get the format for search query that can be passed into a URL, \n",
    "# perform an advanced search at pubmed, then copy what follows the &term= from that search's URL\n",
    "\n",
    "# Get a list of PMIDs\n",
    "# Pass the query into the ESearch utility to get a list of PMIDs\n",
    "\n",
    "query = '(((((((cause[Title/Abstract]) NOT (all-cause[Title/Abstract])) ) ) ) OR (resulting in[Title/Abstract])) OR (due to[Title/Abstract])) AND (respiratory failure[Title/Abstract])'\n",
    "query = urllib.parse.quote(query, safe='') # Encode the query in URL format\n",
    "ESearch_base = 'https://eutils.ncbi.nlm.nih.gov/entrez/eutils/esearch.fcgi?db=pubmed&retmax=200&term='\n",
    "url = ESearch_base + query\n",
    "\n",
    "print(url)\n",
    "response = requests.get(url)\n",
    "content = response.content\n",
    "soup = BeautifulSoup(content, 'html.parser')\n",
    "PMIDs_str = soup.idlist.get_text()\n",
    "PMIDs_str = PMIDs_str.replace('\\n',',')\n",
    "PMIDs_str = PMIDs_str[1:-1]\n",
    "\n",
    "# Check the PMIDs_str for proper format\n",
    "PMIDs_str"
   ]
  },
  {
   "cell_type": "code",
   "execution_count": 4,
   "id": "unauthorized-royal",
   "metadata": {
    "tags": []
   },
   "outputs": [
    {
     "name": "stdout",
     "output_type": "stream",
     "text": [
      "['Influenza virus, rhinovirus, and adenovirus frequently cause viral pneumonia, an important cause of morbidity and mortality especially in the extreme ages of life. ', ' In conclusion, viral pneumonia is a relevant cause of CAP, whose interest is increasing due to the current COVID-19 outbreak. ', 'To set up a therapeutic approach is difficult because of the low number of active molecules and the conflicting data bearing supportive treatments such as steroids.\\n'] 33782861\n",
      "['Acute Respiratory Distress Syndrome (ARDS) is a frequent cause of respiratory failure in intensive care unit (ICU) patients and results in significant morbidity and mortality. '] 33779386\n",
      "['Impaired immune response has been reported to be the cause of the development of coronavirus disease 2019 (COVID-19)-related respiratory failure. '] 33778090\n",
      "[' This approach allowed us to diagnose the cause of acutely rising transaminases in a patient in severe ARDS secondary to influenza pneumonia requiring veno-venous extracorporeal membrane oxygenation (VV-ECMO).\\n'] 33769103\n",
      "[' Assessment of the cause of the respiratory failure revealed positive muscle-specific kinase (MuSK) antibodies, which suggested myasthenia gravis (MG). '] 33762493\n",
      "[' It is important to know that respiratory syncytial virus is just one cause of bronchiolitis. '] 33760464\n",
      "['Coronavirus Disease 2019 (COVID-19), caused by the novel coronavirus (SARS-CoV-2), has led to a large number of patients having to be admitted to intensive care because of respiratory failure and multi-organ dysfunction. '] 33758150\n",
      "[' Because of the coronavirus epidemic, Reverse-Transcription Polymerase Chain Reaction (RT-PCR) assay was taken from the pharyngeal secretions and was positive. '] 33747786\n",
      "['Heparin-induced thrombocytopenia (HIT) has not been included as a possible cause of thrombocytopenia in Coronavirus Disease 2019 (COVID-19) patients. ', ' Our experience shows that HIT may develop in heparin treated COVID-19 patients and should be included among the possible cause of thrombocytopenia in such patients.\\n'] 33747760\n",
      "[' She underwent cesarean section because of breech presentation at 30 weeks and 0 days of gestation due to initiation of labor pains.\\n'] 33747413\n",
      "[' Forty-eight patients had a final diagnosis of bronchiolitis/viral pneumonitis (55%), 29 had pneumonia (33%), 10 had status asthmaticus (11%), and one was excluded because of an inability to differentiate the final diagnosis. ', 'In contrast to literature demonstrating high utility differentiating the cause of acute respiratory failure in adults, blinded point-of-care lung ultrasound demonstrates moderate sensitivity and specificity in identifying the etiology of pediatric acute respiratory failure at admission to the PICU among children with bronchiolitis, pneumonia, and status asthmaticus.\\n'] 33743806\n",
      "[' We hypothesized, from two clinical cases, that impaired hypoxic ventilatory drive, induced by diabetic autonomic neuropathy, is a cause of misdiagnosed severe cardiac events.\\n', 'Therefore, we describe, in this brief report, cardiac autonomic neuropathy as a cause of impaired hypoxic ventilatory drive involved in severe acute cardiorespiratory events in two type 1 diabetic patients. '] 33739956\n",
      "[' Additionally, the use of anticoagulation or underlying clotting disorder limits the use of these regional blocks because of the concern of hematoma and subsequent neurologic injury. '] 33728514\n",
      "[' However, awake proning remains poorly used probably because of unfamiliarity and uncertainties regarding potential benefits and practical application. '] 33709318\n",
      "['Contemporary studies of systemic sclerosis (SSc) consistently demonstrate that interstitial lung (ILD) is a leading cause of disease-related death. ', ' Despite improved survival, the number one cause of death for most SSc-ILD patients remains respiratory failure from ILD. '] 33705348\n",
      "[' Weak cough and difficulty in clearing secretions are often the cause of pulmonary infections and acute respiratory failure. '] 33688440\n",
      "[' Absent F waves, at least in some S-AIDP patients, may reflect α-motor neuron hypoexcitability because of immobilization during the ICU stay. '] 33686984\n",
      "[' The most common cause of death in the cirrhosis cohort was respiratory failure. '] 33686492\n",
      "['Hyper-inflammatory responses induced by severe acute respiratory syndrome coronavirus 2 (SARS-CoV-2) are a major cause of disease severity and death. '] 33680800\n",
      "[' The main cause of death in hospitalized patients is a respiratory failure due to acute respiratory distress syndrome. '] 33678770\n",
      "['One of the main symptoms of severe infection with the new coronavirus‑2 (SARS-CoV-2) is hypoxemic respiratory failure because of viral pneumonia with the need for mechanical ventilation. '] 33670260\n",
      "[' Respiratory failure was the leading cause of death (80%) in the COVID-19 group, frequently associated with severe myocardial dysfunction.\\n'] 33663958\n",
      "[' Through a brief illustrative clinical case, we would like to underline how Covid-19 can be per se the cause of death in patients that would otherwise have had an acceptable life expectancy.\\n'] 33658444\n",
      "[' The use of corticosteroids and supportive respiratory care has improved outcomes, such that DMD-CM is now the leading cause of death. '] 33653913\n",
      "[' This therapy is not currently indicated for bronchopleural fistulas because of the risk of insufficient respiration due to air loss from the fistula.\\n', 'A 73-year-old man, who was malnourished because of peritoneal dialysis, was referred to our hospital for the treatment of lung cancer. ', ' However, he was readmitted to our hospital because of respiratory failure and diagnosed as having bronchopleural fistula on the basis of the bronchoscopic finding of a 10-mm hole at the membranous portion of the inlet of the remnant lower lobe bronchus. '] 33653908\n",
      "['COVID-19 has placed a significant strain upon healthcare resources at a global level and refractory hypoxemia is the leading cause of death among COVID-19 patients. '] 33644972\n",
      "[' On the other hand, the main cause of death in patients with tracheostomy invasive ventilation was respiratory infection, which was noted in 26 of 82, while other causes varied. '] 33628559\n",
      "[' There should be a lower threshold in suspecting PE as a cause of acute respiratory failure in this patient group and thrombolysis should be considered early in normotensive PE with severe hypoxia for best patient outcomes. '] 33628034\n",
      "[' The aetiology of ALS is still unknown and it is extremely heterogeneous in genetics and clinical presentation, being the respiratory failure the usual cause of death. '] 33624260\n",
      "[' The main cause of admission is acute respiratory failure (ARF). '] 33622528\n",
      "[' We found that septic shock and multi organ failure was the most common immediate cause of death, often due to suppurative pulmonary infection. ', 'Respiratory failure due to diffuse alveolar damage presented as immediate cause of death in fewer cases. '] 33611981\n",
      "[' The two cases showed that secondary organizing pneumonia may be a cause of persistent respiratory failure after COVID-19. '] 33603309\n",
      "['A male patient in his 70s underwent a right lobectomy because of a hepatocellular carcinoma(HCC)located in the right lobe(S6)of his liver. ', ' The cause of his death was officially determined to be primary lung cancer. '] 33599679\n",
      "['The emergence of severe acute respiratory syndrome corona virus 2 (SARS-CoV-2) at the end of 2019 in Hubei province China, is now the cause of a global pandemic present in over 150 countries. '] 33585638\n",
      "[' No other cause of his respiratory failure was found, and it was ultimately believed that the patient had sustained a vaping-associated lung injury.\\n'] 33580031\n",
      "[' Respiratory failure is the leading cause of death in ALS. '] 33569492\n",
      "[' Progressive respiratory failure with pronounced diffuse alveolar damage has been identified as the primary cause of death in COVID-19. '] 33565183\n",
      "[' The autopsy showed no evidence of osteosarcoma, and the likely cause of death was cardiac failure with the evidence of pulmonary congestion, liver congestion, and multiple body cavity effusions.\\n'] 33554025\n",
      "[' Sepsis is also the most frequent cause of acute kidney injury (AKI) in critically ill patients. '] 33542171\n",
      "[' However, the risk of breakthrough infections, such as Lomentosporiosis, remains a cause of concern.\\n'] 33529611\n",
      "[' Mutations in the gene coding for the triphosphate binding cassette transporter A3 (ABCA3), which facilitates the transfer of lipids to lamellar bodies, constitute the most frequent genetic cause of severe neonatal respiratory distress syndrome and chronic interstitial lung disease in children. '] 33529513\n",
      "['Respiratory distress syndrome (RDS) is the most common cause of respiratory failure among premature infants. '] 33527651\n"
     ]
    },
    {
     "ename": "IndexError",
     "evalue": "list index out of range",
     "output_type": "error",
     "traceback": [
      "\u001b[0;31m---------------------------------------------------------------------------\u001b[0m",
      "\u001b[0;31mIndexError\u001b[0m                                Traceback (most recent call last)",
      "\u001b[0;32m<ipython-input-4-6a17869f4421>\u001b[0m in \u001b[0;36m<module>\u001b[0;34m\u001b[0m\n\u001b[1;32m     14\u001b[0m \u001b[0;34m\u001b[0m\u001b[0m\n\u001b[1;32m     15\u001b[0m \u001b[0;32mfor\u001b[0m \u001b[0mpmid\u001b[0m \u001b[0;32min\u001b[0m \u001b[0mPMID_list\u001b[0m\u001b[0;34m:\u001b[0m\u001b[0;34m\u001b[0m\u001b[0;34m\u001b[0m\u001b[0m\n\u001b[0;32m---> 16\u001b[0;31m     \u001b[0mabstract\u001b[0m \u001b[0;34m=\u001b[0m \u001b[0msoup\u001b[0m\u001b[0;34m.\u001b[0m\u001b[0mfind_all\u001b[0m\u001b[0;34m(\u001b[0m\u001b[0;34m'abstract'\u001b[0m\u001b[0;34m)\u001b[0m\u001b[0;34m[\u001b[0m\u001b[0mcount\u001b[0m\u001b[0;34m]\u001b[0m\u001b[0;34m.\u001b[0m\u001b[0mget_text\u001b[0m\u001b[0;34m(\u001b[0m\u001b[0;34m)\u001b[0m\u001b[0;34m\u001b[0m\u001b[0;34m\u001b[0m\u001b[0m\n\u001b[0m\u001b[1;32m     17\u001b[0m     \u001b[0msentence_list\u001b[0m \u001b[0;34m=\u001b[0m \u001b[0mre\u001b[0m\u001b[0;34m.\u001b[0m\u001b[0mfindall\u001b[0m\u001b[0;34m(\u001b[0m\u001b[0mregex\u001b[0m\u001b[0;34m,\u001b[0m \u001b[0mabstract\u001b[0m\u001b[0;34m)\u001b[0m\u001b[0;34m\u001b[0m\u001b[0;34m\u001b[0m\u001b[0m\n\u001b[1;32m     18\u001b[0m     \u001b[0;32mif\u001b[0m \u001b[0mlen\u001b[0m\u001b[0;34m(\u001b[0m\u001b[0msentence_list\u001b[0m\u001b[0;34m)\u001b[0m \u001b[0;34m>\u001b[0m \u001b[0;36m0\u001b[0m\u001b[0;34m:\u001b[0m\u001b[0;34m\u001b[0m\u001b[0;34m\u001b[0m\u001b[0m\n",
      "\u001b[0;31mIndexError\u001b[0m: list index out of range"
     ]
    }
   ],
   "source": [
    "# Fetch the abstract for each PMID on the list\n",
    "url = 'https://eutils.ncbi.nlm.nih.gov/entrez/eutils/efetch.fcgi?db=pubmed&id={PMIDs_str}&retmode=xml&rettype=abstract'\n",
    "# url = 'https://eutils.ncbi.nlm.nih.gov/entrez/eutils/efetch.fcgi?db=pubmed&id=101772813&retmode=text&rettype=abstract'\n",
    "\n",
    "url = url.format(PMIDs_str=PMIDs_str)\n",
    "response = requests.get(url)\n",
    "content = response.content\n",
    "soup = BeautifulSoup(content, 'html.parser')\n",
    "count = 0\n",
    "output_dict = {}\n",
    "PMID_list = PMIDs_str.split(',')\n",
    "\n",
    "regex = r\"([^.\\n]*?[^-]cause of[^.]*\\.[^0-9])\"\n",
    "\n",
    "for pmid in PMID_list:\n",
    "    abstract = soup.find_all('abstract')[count].get_text()\n",
    "    sentence_list = re.findall(regex, abstract)\n",
    "    if len(sentence_list) > 0:\n",
    "        output_dict[pmid] = sentence_list\n",
    "        print(output_dict[pmid], pmid)\n",
    "    count += 1\n",
    "\n",
    "# Deal with negatives (e.g. \"this does not cause that\")"
   ]
  },
  {
   "cell_type": "code",
   "execution_count": 314,
   "id": "covered-surname",
   "metadata": {},
   "outputs": [
    {
     "name": "stdout",
     "output_type": "stream",
     "text": [
      " The autopsy showed no evidence of osteosarcoma, and the likely cause of death was cardiac failure with the evidence of pulmonary congestion, liver congestion, and multiple body cavity effusions.\n",
      "\n"
     ]
    }
   ],
   "source": [
    "text = output_dict['33554025'][0]\n",
    "print(text)"
   ]
  },
  {
   "cell_type": "markdown",
   "id": "pharmaceutical-barrier",
   "metadata": {},
   "source": [
    "Use UMLS_2020AB.ipynb to create a CSV with all unique strings in the UMLS and their respective CUIs. Move that CSV into the folder where this Jupyter notebook is saved."
   ]
  },
  {
   "cell_type": "code",
   "execution_count": 293,
   "id": "returning-drawing",
   "metadata": {},
   "outputs": [],
   "source": [
    "str_to_CUI = pd.read_csv('str_to_CUI.csv', encoding='utf-8')\n",
    "str_to_CUI.dropna(inplace=True)\n",
    "str_to_CUI = str_to_CUI[~str_to_CUI['STR'].str.contains('cause')]"
   ]
  },
  {
   "cell_type": "code",
   "execution_count": 294,
   "id": "interim-sacrifice",
   "metadata": {},
   "outputs": [
    {
     "data": {
      "text/html": [
       "<div>\n",
       "<style scoped>\n",
       "    .dataframe tbody tr th:only-of-type {\n",
       "        vertical-align: middle;\n",
       "    }\n",
       "\n",
       "    .dataframe tbody tr th {\n",
       "        vertical-align: top;\n",
       "    }\n",
       "\n",
       "    .dataframe thead th {\n",
       "        text-align: right;\n",
       "    }\n",
       "</style>\n",
       "<table border=\"1\" class=\"dataframe\">\n",
       "  <thead>\n",
       "    <tr style=\"text-align: right;\">\n",
       "      <th></th>\n",
       "      <th>STR</th>\n",
       "      <th>CUI</th>\n",
       "    </tr>\n",
       "  </thead>\n",
       "  <tbody>\n",
       "    <tr>\n",
       "      <th>13058669</th>\n",
       "      <td>ﾜﾝﾌｶｲｶﾝ</td>\n",
       "      <td>C0877610</td>\n",
       "    </tr>\n",
       "    <tr>\n",
       "      <th>13058670</th>\n",
       "      <td>ﾜﾝﾍﾝｹｲ</td>\n",
       "      <td>C0919717</td>\n",
       "    </tr>\n",
       "    <tr>\n",
       "      <th>13058671</th>\n",
       "      <td>ﾜﾝﾍﾝｹｲNOS</td>\n",
       "      <td>C0919717</td>\n",
       "    </tr>\n",
       "    <tr>\n",
       "      <th>13058672</th>\n",
       "      <td>ﾜﾝﾎｳｿｳｴﾝ</td>\n",
       "      <td>C0562422</td>\n",
       "    </tr>\n",
       "    <tr>\n",
       "      <th>13058673</th>\n",
       "      <td>ﾜﾝﾚｯｼｮｳ</td>\n",
       "      <td>C0432974</td>\n",
       "    </tr>\n",
       "  </tbody>\n",
       "</table>\n",
       "</div>"
      ],
      "text/plain": [
       "                STR       CUI\n",
       "13058669    ﾜﾝﾌｶｲｶﾝ  C0877610\n",
       "13058670     ﾜﾝﾍﾝｹｲ  C0919717\n",
       "13058671  ﾜﾝﾍﾝｹｲNOS  C0919717\n",
       "13058672   ﾜﾝﾎｳｿｳｴﾝ  C0562422\n",
       "13058673    ﾜﾝﾚｯｼｮｳ  C0432974"
      ]
     },
     "execution_count": 294,
     "metadata": {},
     "output_type": "execute_result"
    }
   ],
   "source": [
    "str_to_CUI.tail()"
   ]
  },
  {
   "cell_type": "code",
   "execution_count": 307,
   "id": "assisted-kinase",
   "metadata": {},
   "outputs": [
    {
     "name": "stdout",
     "output_type": "stream",
     "text": [
      "C0027051\n",
      "Runtime: 0.0035467147827148438 seconds\n"
     ]
    }
   ],
   "source": [
    "# Define a function that conducts a fast binary search on a sorted column of a dataframe, returning only full match results.\n",
    "\n",
    "def binary_search(dataframe, column, target):\n",
    "    range_start = 0\n",
    "    range_end = len(dataframe)-1\n",
    "    while range_start < range_end:\n",
    "        range_middle = (range_end + range_start) // 2\n",
    "        value = dataframe.iloc[range_middle][column]\n",
    "        if value == target:\n",
    "            return dataframe.iloc[range_middle]\n",
    "        elif value < target:\n",
    "            # Discard the first half of the range\n",
    "            range_start = range_middle + 1\n",
    "        else:\n",
    "            # Discard the second half of the range\n",
    "            range_end = range_middle - 1\n",
    "    # At this point range_start = range_end\n",
    "    value = dataframe.iloc[range_start][column]\n",
    "#     return value\n",
    "    if value == target:\n",
    "        return dataframe.iloc[range_start]\n",
    "    else:\n",
    "        return 0\n",
    "\n",
    "# Test the function\n",
    "start_time = time.time()\n",
    "frame = binary_search(dataframe = str_to_CUI, column = 'STR', target = '心筋梗塞')\n",
    "if type(frame) == int:\n",
    "    print(\"No match\")\n",
    "else:\n",
    "    print(frame['CUI'])\n",
    "print(\"Runtime:\", time.time() - start_time, \"seconds\")"
   ]
  },
  {
   "cell_type": "code",
   "execution_count": 331,
   "id": "motivated-technician",
   "metadata": {},
   "outputs": [
    {
     "name": "stdout",
     "output_type": "stream",
     "text": [
      "Runtime: 0.2151045799255371 seconds\n",
      " On the other hand, the main cause of death in patients with tracheostomy invasive ventilation was respiratory infection, which was noted in 26 of 82, while other causes varied. \n",
      " (On C1720176) the (other C0237094) (hand C0018563) the (main C0205225) cause of (death C0011065) (in C0021223) (patients C0030705) with (tracheostomy C0040590) (invasive C0205281) (ventilation C0035203) was (respiratory infection C0035243) which was noted (in C0021223) (26 C0227067) of (82 C3641023) (while C0750519) (other C0237094) causes varied \n"
     ]
    }
   ],
   "source": [
    "# Define a function which takes a string and returns a list of CUIs or the strings associated with CUIs\n",
    "\n",
    "def text_to_CUIs(text):\n",
    "    \n",
    "    # Remove any non-alphanumeric characters, set the encodning to unicode, and split the text into a list of words\n",
    "    text = re.sub('[\\W_]+', ' ', text, flags=re.UNICODE)\n",
    "    text = text.split(' ')\n",
    "\n",
    "    # Iterate through the list of words to find the largest sets of consecutive words that match CUI-associated strings, and append these to a term list\n",
    "    used = set([])\n",
    "    term_list = []\n",
    "    for i in reversed(range(1,6)):\n",
    "        index = 0\n",
    "        while index < len(text):\n",
    "            if not index in used:\n",
    "                term = ' '.join(text[index:(index+i)])\n",
    "                frame = binary_search(dataframe = str_to_CUI, column = 'STR', target = term)\n",
    "                if type(frame) == int:\n",
    "                    index += 1\n",
    "                else:\n",
    "                    used.update(range(index, index+i))\n",
    "                    term_list.append([index, term, frame['CUI']])\n",
    "                    index += i\n",
    "            else:\n",
    "                index += 1\n",
    "    \n",
    "    # Append any non-matched words to the term list\n",
    "    index = 0\n",
    "    for word in text:\n",
    "        if not index in used:\n",
    "            term_list.append([index, word])\n",
    "        index += 1\n",
    "\n",
    "    # Sort the term list according to the order of the terms in the original text\n",
    "    term_list = sorted(term_list, key=lambda x: x[0])\n",
    "    \n",
    "    return term_list\n",
    "\n",
    "# Run a test query\n",
    "test_text = ' On the other hand, the main cause of death in patients with tracheostomy invasive ventilation was respiratory infection, which was noted in 26 of 82, while other causes varied. '\n",
    "start_time = time.time()\n",
    "\n",
    "term_list = text_to_CUIs(test_text)\n",
    "\n",
    "print(\"Runtime:\", (time.time() - start_time), \"seconds\")\n",
    "\n",
    "print(test_text)\n",
    "# print([x[2] if len(x) == 3 else x[1] for x in term_list])\n",
    "outlist = []\n",
    "for word in term_list:\n",
    "    if len(word) == 3:\n",
    "        outlist.append('('+word[1]+' '+word[2]+')')\n",
    "    else:\n",
    "        outlist.append(word[1])\n",
    "print(' '.join(outlist))"
   ]
  },
  {
   "cell_type": "code",
   "execution_count": 292,
   "id": "inner-finish",
   "metadata": {},
   "outputs": [
    {
     "data": {
      "text/html": [
       "<div>\n",
       "<style scoped>\n",
       "    .dataframe tbody tr th:only-of-type {\n",
       "        vertical-align: middle;\n",
       "    }\n",
       "\n",
       "    .dataframe tbody tr th {\n",
       "        vertical-align: top;\n",
       "    }\n",
       "\n",
       "    .dataframe thead th {\n",
       "        text-align: right;\n",
       "    }\n",
       "</style>\n",
       "<table border=\"1\" class=\"dataframe\">\n",
       "  <thead>\n",
       "    <tr style=\"text-align: right;\">\n",
       "      <th></th>\n",
       "      <th>STR</th>\n",
       "      <th>CUI</th>\n",
       "    </tr>\n",
       "  </thead>\n",
       "  <tbody>\n",
       "    <tr>\n",
       "      <th>0</th>\n",
       "      <td>\"\" w/o Surgery Capability</td>\n",
       "      <td>C1548830</td>\n",
       "    </tr>\n",
       "    <tr>\n",
       "      <th>1</th>\n",
       "      <td>Debulking  (résection) de tumeur</td>\n",
       "      <td>C0439805</td>\n",
       "    </tr>\n",
       "    <tr>\n",
       "      <th>2</th>\n",
       "      <td>Wet prep  positif</td>\n",
       "      <td>C0861028</td>\n",
       "    </tr>\n",
       "    <tr>\n",
       "      <th>3</th>\n",
       "      <td>!Orthotrichum mandonii</td>\n",
       "      <td>C5257799</td>\n",
       "    </tr>\n",
       "    <tr>\n",
       "      <th>4</th>\n",
       "      <td>!Orthotrichum mandonii Schimp. ex Hampe, 1865</td>\n",
       "      <td>C5257799</td>\n",
       "    </tr>\n",
       "    <tr>\n",
       "      <th>...</th>\n",
       "      <td>...</td>\n",
       "      <td>...</td>\n",
       "    </tr>\n",
       "    <tr>\n",
       "      <th>13058669</th>\n",
       "      <td>ﾜﾝﾌｶｲｶﾝ</td>\n",
       "      <td>C0877610</td>\n",
       "    </tr>\n",
       "    <tr>\n",
       "      <th>13058670</th>\n",
       "      <td>ﾜﾝﾍﾝｹｲ</td>\n",
       "      <td>C0919717</td>\n",
       "    </tr>\n",
       "    <tr>\n",
       "      <th>13058671</th>\n",
       "      <td>ﾜﾝﾍﾝｹｲNOS</td>\n",
       "      <td>C0919717</td>\n",
       "    </tr>\n",
       "    <tr>\n",
       "      <th>13058672</th>\n",
       "      <td>ﾜﾝﾎｳｿｳｴﾝ</td>\n",
       "      <td>C0562422</td>\n",
       "    </tr>\n",
       "    <tr>\n",
       "      <th>13058673</th>\n",
       "      <td>ﾜﾝﾚｯｼｮｳ</td>\n",
       "      <td>C0432974</td>\n",
       "    </tr>\n",
       "  </tbody>\n",
       "</table>\n",
       "<p>13040268 rows × 2 columns</p>\n",
       "</div>"
      ],
      "text/plain": [
       "                                                    STR       CUI\n",
       "0                             \"\" w/o Surgery Capability  C1548830\n",
       "1                      Debulking  (résection) de tumeur  C0439805\n",
       "2                                     Wet prep  positif  C0861028\n",
       "3                                !Orthotrichum mandonii  C5257799\n",
       "4         !Orthotrichum mandonii Schimp. ex Hampe, 1865  C5257799\n",
       "...                                                 ...       ...\n",
       "13058669                                        ﾜﾝﾌｶｲｶﾝ  C0877610\n",
       "13058670                                         ﾜﾝﾍﾝｹｲ  C0919717\n",
       "13058671                                      ﾜﾝﾍﾝｹｲNOS  C0919717\n",
       "13058672                                       ﾜﾝﾎｳｿｳｴﾝ  C0562422\n",
       "13058673                                        ﾜﾝﾚｯｼｮｳ  C0432974\n",
       "\n",
       "[13040268 rows x 2 columns]"
      ]
     },
     "execution_count": 292,
     "metadata": {},
     "output_type": "execute_result"
    }
   ],
   "source": [
    "str_to_CUI[~str_to_CUI['STR'].str.contains('cause')]"
   ]
  },
  {
   "cell_type": "code",
   "execution_count": null,
   "id": "empty-spokesman",
   "metadata": {},
   "outputs": [],
   "source": []
  },
  {
   "cell_type": "code",
   "execution_count": 254,
   "id": "african-monaco",
   "metadata": {},
   "outputs": [],
   "source": [
    "\n",
    "# remove adjacent duplicates\n",
    "# generalize process to define a function that can be used to convert any string into an ordered list of CUIs\n",
    "# systematically identify subject and object of cause\n",
    "# write out to graph database"
   ]
  },
  {
   "cell_type": "code",
   "execution_count": 113,
   "id": "threatened-mediterranean",
   "metadata": {},
   "outputs": [
    {
     "data": {
      "text/plain": [
       "{0, 1, 2, 3}"
      ]
     },
     "execution_count": 113,
     "metadata": {},
     "output_type": "execute_result"
    }
   ],
   "source": [
    "foo = set(range(0, 4))\n",
    "foo\n",
    "# set([0, 1, 2, 3])\n",
    "# >>> foo.update(range(2, 6))\n",
    "# >>> foo\n",
    "# set([0, 1, 2, 3, 4, 5])"
   ]
  },
  {
   "cell_type": "markdown",
   "id": "toxic-defense",
   "metadata": {},
   "source": [
    "### Assigning directionality to the :CAUSES relationship\n",
    "\n",
    "#### With pattern noun1-verb-noun2 (e.g. this causes that):\n",
    "\n",
    "(noun1) - [:CAUSES] - > (noun2)\n",
    "- cause of\n",
    "- causes\n",
    "- results in\n",
    "\n",
    "(mulitple noun1)  - [:CAUSES] - > (noun2)\n",
    "- cause\n",
    "- causes of\n",
    "- result in\n",
    "\n",
    "(noun1) < - [:CAUSES] - (noun2)\n",
    "- caused by\n",
    "- due to\n",
    "- because of\n",
    "\n",
    "With pattern verb-noun1-noun2\n",
    "\n",
    "findall, and include them if they are adjacent to one another and adjacent to the causality verb"
   ]
  },
  {
   "cell_type": "markdown",
   "id": "sublime-alaska",
   "metadata": {},
   "source": [
    "### Assigning subject and object\n",
    "(capture_group_1)regex_pattern(capture_group_2)  \n",
    "find CUIs in capture groups and decide which CUIs to assign as subject and object:  \n",
    "- filter on certain semantic types like nouns\n",
    "- Maybe use last CUI in capture_group_1 and first CUI in capture_group_2? Will likely have to adjust this for each variation of the sentence structure for a causal statement"
   ]
  },
  {
   "cell_type": "markdown",
   "id": "absent-deviation",
   "metadata": {},
   "source": [
    "## Relationship properties\n",
    "- python-formatted list of lists of PMIDs for every level of evidence\n",
    "- python-formatted list of lists of the count of PMIDs for every level of evidence\n",
    "\n",
    "Levels of evidence ([Source](https://guides.library.stonybrook.edu/evidence-based-medicine/levels_of_evidence))  \n",
    "\n",
    "|Level|Description|  \n",
    "|---|---|  \n",
    "|1|Evidence from a systematic review of all relevant randomized controlled trials.|  \n",
    "|2|Evidence from a meta-analysis of all relevant randomized controlled trials.|  \n",
    "|3|Evidence from evidence summaries developed from systematic reviews|  \n",
    "|4|Evidence from guidelines developed from systematic reviews|  \n",
    "|5|Evidence from meta-syntheses of a group of descriptive or qualitative studies|  \n",
    "|6|Evidence from evidence summaries of individual studies|  \n",
    "|7|Evidence from one properly designed randomized controlled trial|  \n",
    "|8|Evidence from nonrandomized controlled clinical trials, nonrandomized clinical trials, cohort studies, case series, case reports, and individual qualitative studies.|  \n",
    "|9|Evidence from opinion of authorities and/or reports of expert committee|  \n",
    "|10|Everything else|  "
   ]
  },
  {
   "cell_type": "code",
   "execution_count": 5,
   "id": "owned-agenda",
   "metadata": {},
   "outputs": [],
   "source": [
    "# Get a list of all publication types listed under the Pubmed advanced filter \"Publication Types\" by clicking the Show Index button. \n",
    "# Source: https://pubmed.ncbi.nlm.nih.gov/advanced/\n",
    "all_pub_types = [\"adaptive clinical trial\", \"biography\", \"address\", \"autobiography\", \"bibliography\", \"book illustrations\", \"case reports\", \"clinical study\", \"classical article\", \"clinical conference\", \"clinical trial\", \"clinical trial, phase i\", \"clinical trial protocol\", \"clinical trial, phase ii\", \"clinical trial, phase iii\", \"clinical trial, phase iv\", \"clinical trial, veterinary\", \"collected work\", \"collected works\", \"comment\", \"comparative study\", \"congress\", \"consensus development conference\", \"consensus development conference, nih\", \"controlled clinical trial\", \"corrected and republished article\", \"dataset\", \"dictionary\", \"directory\", \"duplicate publication\", \"editorial\", \"electronic supplementary materials\", \"english abstract\", \"ephemera\", \"equivalence trial\", \"evaluation studies\", \"evaluation study\", \"expression of concern\", \"festschrift\", \"government publication\", \"guideline\", \"historical article\", \"interactive tutorial\", \"interview\", \"introductory journal article\", \"journal article\", \"lecture\", \"legal case\", \"legislation\", \"letter\", \"manuscript\", \"meta analysis\", \"multicenter study\", \"news\", \"newspaper article\", \"observational study\", \"observational study, veterinary\", \"overall\", \"patient education handout\", \"periodical index\", \"personal narrative\", \"pictorial work\", \"popular work\", \"portrait\", \"practice guideline\", \"pragmatic clinical trial\", \"preprint\", \"publication components\", \"publication formats\", \"published erratum\", \"randomized controlled trial\", \"randomized controlled trial, veterinary\", \"research support, american recovery and reinvestment act\", \"research support, n i h , extramural\", \"research support, n i h , intramural\", \"research support, non u s gov t\", \"research support, u s gov t, non p h s\", \"research support, u s gov t, p h s\", \"research support, u s government\", \"retracted publication\", \"retraction of publication\", \"review\", \"scientific integrity review\", \"study characteristics\", \"support of research\", \"systematic review\", \"technical report\", \"twin study\", \"validation study\", \"video audio media\", \"webcast\"]"
   ]
  },
  {
   "cell_type": "code",
   "execution_count": 7,
   "id": "hazardous-massage",
   "metadata": {},
   "outputs": [
    {
     "data": {
      "text/plain": [
       "dict_keys([1, 2, 3, 4, 5, 6, 7, 8, 9, 'retracted'])"
      ]
     },
     "execution_count": 7,
     "metadata": {},
     "output_type": "execute_result"
    }
   ],
   "source": [
    "# Sort publication types into the relevant evidence level 1-9. If a publication type doesn't clearly fit into one of these evidence\n",
    "# levels, omit it from the evidence_level_pubtypes dictionary\n",
    "evidence_level_pubtypes = {}\n",
    "evidence_level_pubtypes[1] = ['systematic review']\n",
    "evidence_level_pubtypes[2] = ['meta analysis']\n",
    "evidence_level_pubtypes[3] = []\n",
    "evidence_level_pubtypes[4] = ['practice guideline']\n",
    "evidence_level_pubtypes[5] = []\n",
    "evidence_level_pubtypes[6] = []\n",
    "evidence_level_pubtypes[7] = ['randomized controlled trial']\n",
    "evidence_level_pubtypes[8] = ['adaptive clinical trial','case reports','clinical study', 'clinical trial','clinical trial, phase i','clinical trial protocol','clinical trial, phase ii','clinical trial, phase iii','clinical trial, phase iv','comparative study','controlled clinical trial','equivalence trial', 'multicenter study','observational study','pragmatic clinical trial']\n",
    "evidence_level_pubtypes[9] = ['clinical conference','congress','consensus development conference','consensus development conference, nih','government publication','guideline']\n",
    "evidence_level_pubtypes[\"retracted\"] = ['retracted publication','retraction of publication']\n",
    "\n",
    "evidence_level_pubtypes.keys()"
   ]
  },
  {
   "cell_type": "code",
   "execution_count": null,
   "id": "employed-shock",
   "metadata": {},
   "outputs": [],
   "source": [
    "# Define a function that takes a publication type and returns the level of evidence for that publication type\n"
   ]
  },
  {
   "cell_type": "markdown",
   "id": "acceptable-albany",
   "metadata": {},
   "source": [
    "Publication types not used in the evidence_level_pubtypes dictionary:\n",
    "\n",
    " 'biography',\n",
    " 'address',\n",
    " 'autobiography',\n",
    " 'bibliography',\n",
    " 'book illustrations',\n",
    " \n",
    " 'classical article',\n",
    " \n",
    " 'clinical trial, veterinary',\n",
    " 'collected work',\n",
    " 'collected works',\n",
    " 'comment',\n",
    "\n",
    " 'corrected and republished article',\n",
    " 'dataset',\n",
    " 'dictionary',\n",
    " 'directory',\n",
    " 'duplicate publication',\n",
    " 'editorial',\n",
    " 'electronic supplementary materials',\n",
    " 'english abstract',\n",
    " 'ephemera',\n",
    " \n",
    " 'evaluation studies',\n",
    " 'evaluation study',\n",
    " 'expression of concern',\n",
    " 'festschrift',\n",
    " \n",
    " \n",
    " 'historical article',\n",
    " 'interactive tutorial',\n",
    " 'interview',\n",
    " 'introductory journal article',\n",
    " 'journal article',\n",
    " 'lecture',\n",
    " 'legal case',\n",
    " 'legislation',\n",
    " 'letter',\n",
    " 'manuscript',\n",
    "\n",
    "\n",
    " 'news',\n",
    " 'newspaper article',\n",
    " \n",
    " 'observational study, veterinary',\n",
    " 'overall',\n",
    " 'patient education handout',\n",
    " 'periodical index',\n",
    " 'personal narrative',\n",
    " 'pictorial work',\n",
    " 'popular work',\n",
    " 'portrait',\n",
    " \n",
    " \n",
    " 'preprint',\n",
    " 'publication components',\n",
    " 'publication formats',\n",
    " 'published erratum',\n",
    " \n",
    " 'randomized controlled trial, veterinary',\n",
    " 'research support, american recovery and reinvestment act',\n",
    " 'research support, n i h , extramural',\n",
    " 'research support, n i h , intramural',\n",
    " 'research support, non u s gov t',\n",
    " 'research support, u s gov t, non p h s',\n",
    " 'research support, u s gov t, p h s',\n",
    " 'research support, u s government',\n",
    "\n",
    " 'review',\n",
    " 'scientific integrity review',\n",
    " 'study characteristics',\n",
    " 'support of research',\n",
    " \n",
    " 'technical report',\n",
    " 'twin study',\n",
    " 'validation study',\n",
    " 'video audio media',\n",
    " 'webcast']"
   ]
  }
 ],
 "metadata": {
  "kernelspec": {
   "display_name": "Python 3",
   "language": "python",
   "name": "python3"
  },
  "language_info": {
   "codemirror_mode": {
    "name": "ipython",
    "version": 3
   },
   "file_extension": ".py",
   "mimetype": "text/x-python",
   "name": "python",
   "nbconvert_exporter": "python",
   "pygments_lexer": "ipython3",
   "version": "3.9.4"
  }
 },
 "nbformat": 4,
 "nbformat_minor": 5
}
