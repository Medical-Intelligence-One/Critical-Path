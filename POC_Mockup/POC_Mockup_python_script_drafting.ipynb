{
 "cells": [
  {
   "cell_type": "markdown",
   "id": "603d49da-151d-4a92-8f08-8e58abff1b78",
   "metadata": {},
   "source": [
    "# Mockup Version 1\n",
    "\n",
    "- Mock-up the workflow from MIS global summit in an environment like EvidenceCare's Epic App. Due January 1.\n",
    "    - ☑️ List content for our app (Due by Nov 23) TJM\n",
    "    - ☑️ Define the workflow between user, website, and service (Due by Nov 23) TJM & NS workshop session\n",
    "    - Define interface between UI and service (Due by Nov 30) TJM & NS workshop session\n",
    "    - Make a webpage that looks like an Epic screen (Due by Dec 7) TJM\n",
    "    - Flask configuration (due by Dec 1) TJM (Nikesh's static IP: 122:169:102:165) - in router, \n",
    "    - Port configuration (due by Dec 1) TJM & NS\n",
    "    - Write & test the code (Due by Dec 23) TJM & NS\n",
    "    - Provide instructions, documentation, supporting information to make it (Due by Dec 23) BED"
   ]
  },
  {
   "cell_type": "markdown",
   "id": "5e6e7054-a900-408b-bc0d-59c75444cd2a",
   "metadata": {},
   "source": [
    "Define and test functions in jupyter notebook\n",
    "- ☑️ delete UMLS concepts from database\n",
    "- ☑️ re-import UMLS concepts into database using the improved data model\n",
    "- ☑️ get a CSV of common problems (at least 400 instances each), with the corresponding CUI  \n",
    "- modify existing functions for the new data model\n",
    "    - ☑️ comorbidities_of(prob_list)\n",
    "    - prob_assoc_abnl_lab(cui_prob_list)\n",
    "    - Rx_assoc_with_prob_CUI(prob_CUI)\n",
    "- Save functions to separate python scripts\n",
    "- Send Nikesh the comorbidities_of_CUI(cui_prob_list) function script, IP, database login info\n",
    "- Write a dummy function that returns assessment and plan in JSON format"
   ]
  },
  {
   "cell_type": "code",
   "execution_count": 115,
   "id": "df7ba2c1-5fa2-40a1-af9c-c17ab614cfb8",
   "metadata": {},
   "outputs": [],
   "source": [
    "import pandas as pd\n",
    "import time"
   ]
  },
  {
   "cell_type": "code",
   "execution_count": 118,
   "id": "0b4cce4c-b692-461a-9c6c-52de423ebdfe",
   "metadata": {},
   "outputs": [],
   "source": [
    "# import getpass\n",
    "# password = getpass.getpass(\"\\nPlease enter the Neo4j database password to continue \\n\")\n",
    "\n",
    "from neo4j import GraphDatabase\n",
    "driver=GraphDatabase.driver(uri=\"bolt://localhost:7687\", auth=('neo4j','NikeshIsCool'))\n",
    "session=driver.session()"
   ]
  },
  {
   "cell_type": "code",
   "execution_count": 9,
   "id": "e70e22dc-bdfa-4d3b-b37e-602cbb3dbc96",
   "metadata": {},
   "outputs": [],
   "source": [
    "# get a CSV of all problems in the database that have enough data to potentially return robust results\n",
    "query = '''\n",
    "MATCH (p:Problem)-[:INSTANCE_OF]->(c:Concept)\n",
    "WITH c.cui AS CUIs, count(p) as instances\n",
    "WHERE instances > 400\n",
    "MATCH (c2:Concept)\n",
    "WHERE c2.cui_pref_term IS NOT NULL AND c2.cui IN CUIs\n",
    "RETURN c2.term as problem, c2.cui as CUI'''\n",
    "data = session.run(query)\n",
    "\n",
    "# Convert the neo4j object into a dataframe\n",
    "common_problems_df = pd.DataFrame([dict(record) for record in data])"
   ]
  },
  {
   "cell_type": "code",
   "execution_count": 55,
   "id": "b22b925d-5588-4f43-b4c4-4c6a651683d9",
   "metadata": {},
   "outputs": [
    {
     "ename": "NameError",
     "evalue": "name 'common_problems_df' is not defined",
     "output_type": "error",
     "traceback": [
      "\u001b[0;31m---------------------------------------------------------------------------\u001b[0m",
      "\u001b[0;31mNameError\u001b[0m                                 Traceback (most recent call last)",
      "\u001b[0;32m<ipython-input-55-c25ff5a46f80>\u001b[0m in \u001b[0;36m<module>\u001b[0;34m\u001b[0m\n\u001b[0;32m----> 1\u001b[0;31m \u001b[0mcommon_problems_df\u001b[0m\u001b[0;34m.\u001b[0m\u001b[0msort_values\u001b[0m\u001b[0;34m(\u001b[0m\u001b[0mby\u001b[0m\u001b[0;34m=\u001b[0m\u001b[0;34m'problem'\u001b[0m\u001b[0;34m,\u001b[0m \u001b[0minplace\u001b[0m\u001b[0;34m=\u001b[0m\u001b[0;32mTrue\u001b[0m\u001b[0;34m)\u001b[0m\u001b[0;34m\u001b[0m\u001b[0;34m\u001b[0m\u001b[0m\n\u001b[0m\u001b[1;32m      2\u001b[0m \u001b[0mcommon_problems_df\u001b[0m\u001b[0;34m.\u001b[0m\u001b[0mhead\u001b[0m\u001b[0;34m(\u001b[0m\u001b[0;36m20\u001b[0m\u001b[0;34m)\u001b[0m\u001b[0;34m\u001b[0m\u001b[0;34m\u001b[0m\u001b[0m\n",
      "\u001b[0;31mNameError\u001b[0m: name 'common_problems_df' is not defined"
     ]
    }
   ],
   "source": [
    "common_problems_df.sort_values(by='problem', inplace=True)\n",
    "common_problems_df"
   ]
  },
  {
   "cell_type": "code",
   "execution_count": 14,
   "id": "84225b8d-d07b-42c4-a47f-6e36660b4517",
   "metadata": {},
   "outputs": [],
   "source": [
    "# Write out to CSV\n",
    "common_problems_df.to_csv('common_problems.csv', index=False, encoding='utf-8')"
   ]
  },
  {
   "cell_type": "markdown",
   "id": "216368ad-b8d5-415c-b23a-91bf039df33f",
   "metadata": {},
   "source": [
    "## Modify existing functions for the new data model\n",
    "### Input a list of CUIs for known problems, output possible additional problems with their CUIs and odds ratios in a dataframe"
   ]
  },
  {
   "cell_type": "code",
   "execution_count": 113,
   "id": "e5c1dd0d-ddcd-49dd-a16f-d10b70478e62",
   "metadata": {},
   "outputs": [],
   "source": [
    "def comorbidities_of_CUI(cui_prob_list):\n",
    "    \n",
    "    query = '''\n",
    "    MATCH (prob1:Problem)<-[:HAD_PROBLEM]-(pt:Patients)\n",
    "    WHERE prob1.cui in {cui_prob_list}\n",
    "    WITH distinct(pt) AS patients\n",
    "    MATCH (patients)-[:HAD_PROBLEM]->(prob2:Problem)\n",
    "    WITH prob2.cui AS CUIs, count(prob2) AS Number\n",
    "    MATCH (c:Concept)\n",
    "    WHERE c.cui IN CUIs AND c.cui_pref_term IS NOT NULL \n",
    "    RETURN c.term as Potential_Problem, c.cui AS CUI, Number\n",
    "    ORDER BY Number DESC\n",
    "    '''.format(cui_prob_list=cui_prob_list)\n",
    "    comorbidities = session.run(query)\n",
    "    comorbidities = pd.DataFrame([dict(record) for record in comorbidities])\n",
    "    \n",
    "    query = '''\n",
    "    MATCH (excluded:Problem)\n",
    "    WHERE excluded.cui in {cui_prob_list}\n",
    "    WITH collect(excluded) as excluded\n",
    "    MATCH (pt:Patients)-[:HAD_PROBLEM]->(prob:Problem)\n",
    "    WITH excluded, pt, collect(prob) as problems\n",
    "    WHERE NONE (prob in problems where prob in excluded)\n",
    "    MATCH (pt)-[:HAD_PROBLEM]-(prob2:Problem)\n",
    "    WITH prob2.cui AS CUIs, count(prob2) AS Number\n",
    "    MATCH (c:Concept)\n",
    "    WHERE c.cui IN CUIs AND c.cui_pref_term IS NOT NULL \n",
    "    RETURN c.term as Potential_Problem, c.cui AS CUI, Number\n",
    "    ORDER BY Number DESC\n",
    "    '''.format(cui_prob_list=cui_prob_list)\n",
    "    gen_problems = session.run(query)\n",
    "    gen_problems = pd.DataFrame([dict(record) for record in gen_problems])\n",
    "    \n",
    "    gen_pop_total = sum(gen_problems['Number'])\n",
    "    gen_problems['Gen_pop_proportion'] = gen_problems['Number']/gen_pop_total\n",
    "    \n",
    "    gen_problems = gen_problems[gen_problems['Number'] > 25]\n",
    "    \n",
    "    comorb_total = sum(comorbidities['Number'])\n",
    "    comorbidities['Comorbidities_proportion'] = comorbidities['Number']/comorb_total\n",
    "    \n",
    "    comorbidities = comorbidities[comorbidities['Number'] > 75/len(cui_prob_list)]\n",
    "    \n",
    "    # Merge the \"Gen_pop_proportion\" column from gen_problems into comorbidities\n",
    "    comorbidities = pd.merge(comorbidities, gen_problems, on=['CUI', 'Potential_Problem'])\n",
    "    \n",
    "    comorbidities.head()\n",
    "    \n",
    "    comorbidities['Odds_Ratio'] = (comorbidities['Comorbidities_proportion']/comorbidities['Gen_pop_proportion'])\n",
    "    comorbidities.sort_values(by='Odds_Ratio', ascending=False, inplace=True)\n",
    "    \n",
    "    return comorbidities.loc[:,['CUI','Potential_Problem', 'Odds_Ratio']].head(10)\n",
    "#     return comorbidities.head(10)"
   ]
  },
  {
   "cell_type": "code",
   "execution_count": 120,
   "id": "49fabae8-92fa-47d3-b4b6-edbf8c2a5342",
   "metadata": {
    "tags": []
   },
   "outputs": [
    {
     "name": "stdout",
     "output_type": "stream",
     "text": [
      "Total runtime: 0.7275011539459229 seconds\n"
     ]
    },
    {
     "data": {
      "text/html": [
       "<div>\n",
       "<style scoped>\n",
       "    .dataframe tbody tr th:only-of-type {\n",
       "        vertical-align: middle;\n",
       "    }\n",
       "\n",
       "    .dataframe tbody tr th {\n",
       "        vertical-align: top;\n",
       "    }\n",
       "\n",
       "    .dataframe thead th {\n",
       "        text-align: right;\n",
       "    }\n",
       "</style>\n",
       "<table border=\"1\" class=\"dataframe\">\n",
       "  <thead>\n",
       "    <tr style=\"text-align: right;\">\n",
       "      <th></th>\n",
       "      <th>CUI</th>\n",
       "      <th>Potential_Problem</th>\n",
       "      <th>Odds_Ratio</th>\n",
       "    </tr>\n",
       "  </thead>\n",
       "  <tbody>\n",
       "    <tr>\n",
       "      <th>5</th>\n",
       "      <td>C0080179</td>\n",
       "      <td>Spinal Fractures</td>\n",
       "      <td>33.967289</td>\n",
       "    </tr>\n",
       "    <tr>\n",
       "      <th>58</th>\n",
       "      <td>C0001430</td>\n",
       "      <td>Adenoma</td>\n",
       "      <td>16.911680</td>\n",
       "    </tr>\n",
       "    <tr>\n",
       "      <th>72</th>\n",
       "      <td>C0085119</td>\n",
       "      <td>Foot Ulcer</td>\n",
       "      <td>15.174249</td>\n",
       "    </tr>\n",
       "    <tr>\n",
       "      <th>68</th>\n",
       "      <td>C0036690</td>\n",
       "      <td>Septicemia</td>\n",
       "      <td>14.704117</td>\n",
       "    </tr>\n",
       "    <tr>\n",
       "      <th>18</th>\n",
       "      <td>C0162297</td>\n",
       "      <td>Respiratory arrest</td>\n",
       "      <td>14.635917</td>\n",
       "    </tr>\n",
       "    <tr>\n",
       "      <th>10</th>\n",
       "      <td>C0023891</td>\n",
       "      <td>Liver Cirrhosis, Alcoholic</td>\n",
       "      <td>14.437897</td>\n",
       "    </tr>\n",
       "    <tr>\n",
       "      <th>6</th>\n",
       "      <td>C0236663</td>\n",
       "      <td>Alcohol withdrawal syndrome</td>\n",
       "      <td>10.507838</td>\n",
       "    </tr>\n",
       "    <tr>\n",
       "      <th>46</th>\n",
       "      <td>C0031117</td>\n",
       "      <td>Peripheral Neuropathy</td>\n",
       "      <td>10.254955</td>\n",
       "    </tr>\n",
       "    <tr>\n",
       "      <th>2</th>\n",
       "      <td>C0521614</td>\n",
       "      <td>Gallstone pancreatitis</td>\n",
       "      <td>10.007094</td>\n",
       "    </tr>\n",
       "    <tr>\n",
       "      <th>13</th>\n",
       "      <td>C0019187</td>\n",
       "      <td>Hepatitis, Alcoholic</td>\n",
       "      <td>9.941156</td>\n",
       "    </tr>\n",
       "  </tbody>\n",
       "</table>\n",
       "</div>"
      ],
      "text/plain": [
       "         CUI            Potential_Problem  Odds_Ratio\n",
       "5   C0080179             Spinal Fractures   33.967289\n",
       "58  C0001430                      Adenoma   16.911680\n",
       "72  C0085119                   Foot Ulcer   15.174249\n",
       "68  C0036690                   Septicemia   14.704117\n",
       "18  C0162297           Respiratory arrest   14.635917\n",
       "10  C0023891   Liver Cirrhosis, Alcoholic   14.437897\n",
       "6   C0236663  Alcohol withdrawal syndrome   10.507838\n",
       "46  C0031117        Peripheral Neuropathy   10.254955\n",
       "2   C0521614       Gallstone pancreatitis   10.007094\n",
       "13  C0019187         Hepatitis, Alcoholic    9.941156"
      ]
     },
     "execution_count": 120,
     "metadata": {},
     "output_type": "execute_result"
    }
   ],
   "source": [
    "# Test the function\n",
    "start_time = time.time()\n",
    "\n",
    "cui_prob_list = ['C1565489', 'C0085762']\n",
    "result_df = comorbidities_of_CUI(cui_prob_list)\n",
    "\n",
    "print(\"Total runtime:\", time.time() - start_time, \"seconds\")\n",
    "result_df"
   ]
  },
  {
   "cell_type": "markdown",
   "id": "bef509fe-94f1-417f-8ff9-a696cb4afb8a",
   "metadata": {},
   "source": [
    "### Input known problem(s) in a list, output possible additional problems with their odds ratios in a dataframe"
   ]
  }
 ],
 "metadata": {
  "kernelspec": {
   "display_name": "Python 3",
   "language": "python",
   "name": "python3"
  },
  "language_info": {
   "codemirror_mode": {
    "name": "ipython",
    "version": 3
   },
   "file_extension": ".py",
   "mimetype": "text/x-python",
   "name": "python",
   "nbconvert_exporter": "python",
   "pygments_lexer": "ipython3",
   "version": "3.9.4"
  }
 },
 "nbformat": 4,
 "nbformat_minor": 5
}
