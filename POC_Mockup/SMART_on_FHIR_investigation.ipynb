{
 "cells": [
  {
   "cell_type": "markdown",
   "id": "7c71d7be-9e8a-4cf3-a4f9-0cc163192c25",
   "metadata": {},
   "source": [
    "# SMART on FHIR"
   ]
  },
  {
   "cell_type": "markdown",
   "id": "070c1cb1-8f13-4a07-8033-d85419308db9",
   "metadata": {},
   "source": [
    "General Resources:  \n",
    "SMART on FHIR tools, sandboxes, training, etc: https://docs.smarthealthit.org/  \n",
    "FHIR API tester & U.S. core data in FHIR format https://inferno.healthit.gov/inferno  \n",
    "Health IT Developer Certification Criteria and registry of certified developers: https://chpl.healthit.gov/#/listing/10591\n",
    "Cures Act info: https://www.healthit.gov/curesrule/\n",
    "Policies and technological standards: https://www.cms.gov/Regulations-and-Guidance/Guidance/Interoperability/index  \n",
    "Epic ONC certification details and cost disclosures: https://www.epic.com/mu\n",
    "\n",
    "API providers for FHIR:\n",
    "- [MuleSoft](https://www.mulesoft.com/exchange/68ef9520-24e9-4cf2-b2f5-620025690913/catalyst-accelerator-for-healthcare/). Use pre-built APIs for Epic, Cerner, and others. Maybe faster to get set up and running. \n",
    "- [Swagger](https://swagger.io/). Open source DIY API development platform.\n",
    "- [CyFHIR](https://github.com/Optum/CyFHIR). Write FHIR-formattted data directly to graph and read cypher results back into FHIR.\n",
    "\n",
    "Potential EHRs for demo:\n",
    "- [OpenMRS](https://wiki.openmrs.org/display/projects/OpenMRS+HL7+FHIR+Solutions)\n",
    "- Cerner's SMART on FHIR tutorial/sandbox: https://engineering.cerner.com/smart-on-fhir-tutorial/#introduction\n",
    "- Epic's SMART on FHIR sandbox and documentation: https://fhir.epic.com/"
   ]
  }
 ],
 "metadata": {
  "kernelspec": {
   "display_name": "Python 3",
   "language": "python",
   "name": "python3"
  },
  "language_info": {
   "codemirror_mode": {
    "name": "ipython",
    "version": 3
   },
   "file_extension": ".py",
   "mimetype": "text/x-python",
   "name": "python",
   "nbconvert_exporter": "python",
   "pygments_lexer": "ipython3",
   "version": "3.9.4"
  }
 },
 "nbformat": 4,
 "nbformat_minor": 5
}
